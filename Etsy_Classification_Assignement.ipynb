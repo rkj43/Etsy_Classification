{
  "cells": [
    {
      "cell_type": "markdown",
      "metadata": {
        "id": "x-FI6VANcFtC"
      },
      "source": [
        "# **CA684 Machine Learning Assignment**"
      ]
    },
    {
      "cell_type": "markdown",
      "source": [
        ">[CA684 Machine Learning Assignment](#scrollTo=x-FI6VANcFtC)\n",
        "\n",
        ">[Introduction](#scrollTo=X4pm68VEBVzw)\n",
        "\n",
        ">[References used :](#scrollTo=_tFQo-bXC1gL)\n",
        "\n",
        ">[Import packages](#scrollTo=Lm8xWe8JvoNv)\n",
        "\n",
        ">[Reading Data](#scrollTo=ntlbSBkcv81p)\n",
        "\n",
        ">[Basic EDA](#scrollTo=hPmojeEDzk7X)\n",
        "\n",
        ">[Top Category With Bert](#scrollTo=n1kpcRgKwoG-)\n",
        "\n",
        ">>[Data Preparing and preprocessing](#scrollTo=g3MXInkcP9XZ)\n",
        "\n",
        ">>[Model prep and training](#scrollTo=p_RpR8pqVTEt)\n",
        "\n",
        ">>[Evaluation and Results](#scrollTo=mMy8ow3AAzq1)\n",
        "\n",
        ">[Color With Bert](#scrollTo=CsyPu1SDOnM7)\n",
        "\n",
        ">>[Data Preparing and preprocessing](#scrollTo=xSxugDrfOnM8)\n",
        "\n",
        ">>[Model prep and training](#scrollTo=Tn9I2ew5OnM9)\n",
        "\n",
        ">>[Evaluation and Results](#scrollTo=9oMtbrSCBP0D)\n",
        "\n",
        ">[Bottom Category With Bert](#scrollTo=JlnQkKfodwNj)\n",
        "\n",
        ">>[Data Preparing and preprocessing](#scrollTo=EZvJmzPzdwNk)\n",
        "\n",
        ">>[Model prep and training](#scrollTo=Gm78L05-dwNw)\n",
        "\n",
        ">>[Evaluation and Results](#scrollTo=gsUtb1pPBBXU)\n",
        "\n",
        ">[Bottom Category With Random Forest](#scrollTo=pDzxCnW1dwN8)\n",
        "\n",
        ">>[Preprocessing](#scrollTo=0nD7RFd6ue5c)\n",
        "\n",
        ">>[Training](#scrollTo=9xE3JoXvCpc7)\n",
        "\n",
        ">>[Results](#scrollTo=OQcuTiZMwWGC)\n",
        "\n",
        ">[Top Category With Random Forest](#scrollTo=xks2PRs4wcNS)\n",
        "\n",
        ">>[Preprocessing](#scrollTo=SZi3gYeIwcNY)\n",
        "\n",
        ">>[Training](#scrollTo=TMSB0Cx_wcNe)\n",
        "\n",
        ">>[Results](#scrollTo=z6zjvkWIwcNh)\n",
        "\n",
        ">[Color With Random Forest](#scrollTo=_2Tz_KLyzH-l)\n",
        "\n",
        ">>[Preprocessing](#scrollTo=WukpKntUzH-n)\n",
        "\n",
        ">>[Training](#scrollTo=dAj8281-zH-s)\n",
        "\n",
        ">>[Results](#scrollTo=mnvOJEd3zH-u)\n",
        "\n",
        ">[Submission](#scrollTo=riQrC1c428sp)\n",
        "\n",
        ">[What can I do to improve this?](#scrollTo=Gz_gC8ACIsZ-)\n",
        "\n"
      ],
      "metadata": {
        "colab_type": "toc",
        "id": "0dTz1ZLPAjTc"
      }
    },
    {
      "cell_type": "markdown",
      "source": [
        "# Introduction"
      ],
      "metadata": {
        "id": "X4pm68VEBVzw"
      }
    },
    {
      "cell_type": "markdown",
      "source": [
        "Hello and welcome to my notebook. You can see the contents of the notebook just above this.\n",
        "The main aim of this notebook is to use the data provided by Etsy for multiclass classfication. I have initially tried several different methods but I am only showcases random forest and multimodal learning with Bert in this notebook.\n",
        "I have referred several websites including stackoverflow, articles, papers and even github repo's in my attempt to compelete this assignemnt.\n",
        "I have made sure to include all the references in this notebook and in my report.\n",
        "\n",
        "\n",
        "To solve this problem, I have put myself in the perspective of the transformer model and asked, \"***Which values from the dataset can be used to make predictions for each of the columns?***\"\n",
        "\n",
        "\n",
        "\n",
        "Disclaimer: My python skills are not the greatest...(yet)\n",
        "So I have a lot of repeated code but I hope the indexing above helps you nagivate easily.\n",
        "\n",
        "## **This version of the project is intended for public viewing. To adhere to the NDA agreement with Etsy, certain elements may have been removed or omitted**"
      ],
      "metadata": {
        "id": "dAz1XN3zBXi0"
      }
    },
    {
      "cell_type": "markdown",
      "source": [
        "#  Credits\n",
        "\n",
        "\n",
        "\n"
      ],
      "metadata": {
        "id": "_tFQo-bXC1gL"
      }
    },
    {
      "cell_type": "markdown",
      "source": [
        "\n",
        "\n",
        "*   I have referred to the GitHub repository at https://github.com/georgian-io/Multimodal-Toolkit **This is the github which contains the multimodal package based on the research paper available at https://aclanthology.org/2021.maiworkshop-1.10.pdf.**\n",
        "* The documentation for the above was also really helpful to understand what was going on. https://multimodal-toolkit.readthedocs.io/en/latest/index.html\n",
        "*   This notebook also refers the [example](https://colab.research.google.com/github/huggingface/blog/blob/master/notebooks/trainer/01_text_classification.ipynb#scrollTo=bwl3I_VGAZXb) from HuggingFace for text classificaion on the GLUE dataset.\n",
        "* Apart from these I have of course used/referred snippets of code from websites like https://scikit-learn.org and https://stackoverflow.com/. I have tried to give credits where ever I have used them in this notebook\n",
        "\n"
      ],
      "metadata": {
        "id": "myHMp1kJC4fO"
      }
    },
    {
      "cell_type": "markdown",
      "metadata": {
        "id": "Lm8xWe8JvoNv"
      },
      "source": [
        "<a id=\"1\"></a> <br>\n",
        "# Import packages"
      ]
    },
    {
      "cell_type": "code",
      "execution_count": null,
      "metadata": {
        "colab": {
          "base_uri": "https://localhost:8080/"
        },
        "id": "b0DwzlnDDc92",
        "outputId": "40e79e37-cccc-4bd5-82c6-e8eabc2f7eca"
      },
      "outputs": [
        {
          "output_type": "stream",
          "name": "stdout",
          "text": [
            "Looking in indexes: https://pypi.org/simple, https://us-python.pkg.dev/colab-wheels/public/simple/\n",
            "Requirement already satisfied: multimodal-transformers in /usr/local/lib/python3.9/dist-packages (0.2a0)\n",
            "Requirement already satisfied: pytest~=7.2.2 in /usr/local/lib/python3.9/dist-packages (from multimodal-transformers) (7.2.2)\n",
            "Requirement already satisfied: tqdm~=4.64.1 in /usr/local/lib/python3.9/dist-packages (from multimodal-transformers) (4.64.1)\n",
            "Requirement already satisfied: scikit-learn~=1.0.2 in /usr/local/lib/python3.9/dist-packages (from multimodal-transformers) (1.0.2)\n",
            "Requirement already satisfied: scipy~=1.7.3 in /usr/local/lib/python3.9/dist-packages (from multimodal-transformers) (1.7.3)\n",
            "Collecting pandas~=1.3.5\n",
            "  Using cached pandas-1.3.5-cp39-cp39-manylinux_2_17_x86_64.manylinux2014_x86_64.whl (11.5 MB)\n",
            "Requirement already satisfied: torch>=1.13.1 in /usr/local/lib/python3.9/dist-packages (from multimodal-transformers) (2.0.0+cu118)\n",
            "Requirement already satisfied: sacremoses~=0.0.53 in /usr/local/lib/python3.9/dist-packages (from multimodal-transformers) (0.0.53)\n",
            "Requirement already satisfied: transformers>=4.26.1 in /usr/local/lib/python3.9/dist-packages (from multimodal-transformers) (4.28.1)\n",
            "Requirement already satisfied: networkx~=2.6.3 in /usr/local/lib/python3.9/dist-packages (from multimodal-transformers) (2.6.3)\n",
            "Collecting numpy~=1.21.6\n",
            "  Using cached numpy-1.21.6-cp39-cp39-manylinux_2_12_x86_64.manylinux2010_x86_64.whl (15.7 MB)\n",
            "Requirement already satisfied: python-dateutil>=2.7.3 in /usr/local/lib/python3.9/dist-packages (from pandas~=1.3.5->multimodal-transformers) (2.8.2)\n",
            "Requirement already satisfied: pytz>=2017.3 in /usr/local/lib/python3.9/dist-packages (from pandas~=1.3.5->multimodal-transformers) (2023.3)\n",
            "Requirement already satisfied: exceptiongroup>=1.0.0rc8 in /usr/local/lib/python3.9/dist-packages (from pytest~=7.2.2->multimodal-transformers) (1.1.1)\n",
            "Requirement already satisfied: pluggy<2.0,>=0.12 in /usr/local/lib/python3.9/dist-packages (from pytest~=7.2.2->multimodal-transformers) (1.0.0)\n",
            "Requirement already satisfied: iniconfig in /usr/local/lib/python3.9/dist-packages (from pytest~=7.2.2->multimodal-transformers) (2.0.0)\n",
            "Requirement already satisfied: packaging in /usr/local/lib/python3.9/dist-packages (from pytest~=7.2.2->multimodal-transformers) (23.0)\n",
            "Requirement already satisfied: tomli>=1.0.0 in /usr/local/lib/python3.9/dist-packages (from pytest~=7.2.2->multimodal-transformers) (2.0.1)\n",
            "Requirement already satisfied: attrs>=19.2.0 in /usr/local/lib/python3.9/dist-packages (from pytest~=7.2.2->multimodal-transformers) (22.2.0)\n",
            "Requirement already satisfied: six in /usr/local/lib/python3.9/dist-packages (from sacremoses~=0.0.53->multimodal-transformers) (1.16.0)\n",
            "Requirement already satisfied: regex in /usr/local/lib/python3.9/dist-packages (from sacremoses~=0.0.53->multimodal-transformers) (2022.10.31)\n",
            "Requirement already satisfied: click in /usr/local/lib/python3.9/dist-packages (from sacremoses~=0.0.53->multimodal-transformers) (8.1.3)\n",
            "Requirement already satisfied: joblib in /usr/local/lib/python3.9/dist-packages (from sacremoses~=0.0.53->multimodal-transformers) (1.2.0)\n",
            "Requirement already satisfied: threadpoolctl>=2.0.0 in /usr/local/lib/python3.9/dist-packages (from scikit-learn~=1.0.2->multimodal-transformers) (3.1.0)\n",
            "Requirement already satisfied: sympy in /usr/local/lib/python3.9/dist-packages (from torch>=1.13.1->multimodal-transformers) (1.11.1)\n",
            "Requirement already satisfied: triton==2.0.0 in /usr/local/lib/python3.9/dist-packages (from torch>=1.13.1->multimodal-transformers) (2.0.0)\n",
            "Requirement already satisfied: filelock in /usr/local/lib/python3.9/dist-packages (from torch>=1.13.1->multimodal-transformers) (3.11.0)\n",
            "Requirement already satisfied: typing-extensions in /usr/local/lib/python3.9/dist-packages (from torch>=1.13.1->multimodal-transformers) (4.5.0)\n",
            "Requirement already satisfied: jinja2 in /usr/local/lib/python3.9/dist-packages (from torch>=1.13.1->multimodal-transformers) (3.1.2)\n",
            "Requirement already satisfied: cmake in /usr/local/lib/python3.9/dist-packages (from triton==2.0.0->torch>=1.13.1->multimodal-transformers) (3.25.2)\n",
            "Requirement already satisfied: lit in /usr/local/lib/python3.9/dist-packages (from triton==2.0.0->torch>=1.13.1->multimodal-transformers) (16.0.1)\n",
            "Requirement already satisfied: tokenizers!=0.11.3,<0.14,>=0.11.1 in /usr/local/lib/python3.9/dist-packages (from transformers>=4.26.1->multimodal-transformers) (0.13.3)\n",
            "Requirement already satisfied: huggingface-hub<1.0,>=0.11.0 in /usr/local/lib/python3.9/dist-packages (from transformers>=4.26.1->multimodal-transformers) (0.13.4)\n",
            "Requirement already satisfied: pyyaml>=5.1 in /usr/local/lib/python3.9/dist-packages (from transformers>=4.26.1->multimodal-transformers) (6.0)\n",
            "Requirement already satisfied: requests in /usr/local/lib/python3.9/dist-packages (from transformers>=4.26.1->multimodal-transformers) (2.27.1)\n",
            "Requirement already satisfied: MarkupSafe>=2.0 in /usr/local/lib/python3.9/dist-packages (from jinja2->torch>=1.13.1->multimodal-transformers) (2.1.2)\n",
            "Requirement already satisfied: idna<4,>=2.5 in /usr/local/lib/python3.9/dist-packages (from requests->transformers>=4.26.1->multimodal-transformers) (3.4)\n",
            "Requirement already satisfied: urllib3<1.27,>=1.21.1 in /usr/local/lib/python3.9/dist-packages (from requests->transformers>=4.26.1->multimodal-transformers) (1.26.15)\n",
            "Requirement already satisfied: certifi>=2017.4.17 in /usr/local/lib/python3.9/dist-packages (from requests->transformers>=4.26.1->multimodal-transformers) (2022.12.7)\n",
            "Requirement already satisfied: charset-normalizer~=2.0.0 in /usr/local/lib/python3.9/dist-packages (from requests->transformers>=4.26.1->multimodal-transformers) (2.0.12)\n",
            "Requirement already satisfied: mpmath>=0.19 in /usr/local/lib/python3.9/dist-packages (from sympy->torch>=1.13.1->multimodal-transformers) (1.3.0)\n",
            "Installing collected packages: numpy, pandas\n",
            "  Attempting uninstall: numpy\n",
            "    Found existing installation: numpy 1.24.2\n",
            "    Uninstalling numpy-1.24.2:\n",
            "      Successfully uninstalled numpy-1.24.2\n",
            "  Attempting uninstall: pandas\n",
            "    Found existing installation: pandas 2.0.0\n",
            "    Uninstalling pandas-2.0.0:\n",
            "      Successfully uninstalled pandas-2.0.0\n",
            "\u001b[31mERROR: pip's dependency resolver does not currently take into account all the packages that are installed. This behaviour is the source of the following dependency conflicts.\n",
            "tensorflow 2.12.0 requires numpy<1.24,>=1.22, but you have numpy 1.21.6 which is incompatible.\n",
            "google-colab 1.0.0 requires pandas~=1.5.3, but you have pandas 1.3.5 which is incompatible.\n",
            "arviz 0.15.1 requires scipy>=1.8.0, but you have scipy 1.7.3 which is incompatible.\u001b[0m\u001b[31m\n",
            "\u001b[0mSuccessfully installed numpy-1.21.6 pandas-1.3.5\n"
          ]
        }
      ],
      "source": [
        "!pip install multimodal-transformers\n",
        "\n"
      ]
    },
    {
      "cell_type": "code",
      "execution_count": null,
      "metadata": {
        "colab": {
          "base_uri": "https://localhost:8080/"
        },
        "id": "M9bQTTjPDgOE",
        "outputId": "db55dedd-14e8-4df8-b469-4a306f66dcc3"
      },
      "outputs": [
        {
          "output_type": "stream",
          "name": "stdout",
          "text": [
            "Looking in indexes: https://pypi.org/simple, https://us-python.pkg.dev/colab-wheels/public/simple/\n",
            "Collecting pandas\n",
            "  Using cached pandas-2.0.0-cp39-cp39-manylinux_2_17_x86_64.manylinux2014_x86_64.whl (12.4 MB)\n",
            "Collecting pytz>=2020.1\n",
            "  Using cached pytz-2023.3-py2.py3-none-any.whl (502 kB)\n",
            "Collecting numpy>=1.20.3\n",
            "  Using cached numpy-1.24.2-cp39-cp39-manylinux_2_17_x86_64.manylinux2014_x86_64.whl (17.3 MB)\n",
            "Collecting tzdata>=2022.1\n",
            "  Using cached tzdata-2023.3-py2.py3-none-any.whl (341 kB)\n",
            "Collecting python-dateutil>=2.8.2\n",
            "  Using cached python_dateutil-2.8.2-py2.py3-none-any.whl (247 kB)\n",
            "Collecting six>=1.5\n",
            "  Using cached six-1.16.0-py2.py3-none-any.whl (11 kB)\n",
            "Installing collected packages: pytz, tzdata, six, numpy, python-dateutil, pandas\n",
            "  Attempting uninstall: pytz\n",
            "    Found existing installation: pytz 2023.3\n",
            "    Uninstalling pytz-2023.3:\n",
            "      Successfully uninstalled pytz-2023.3\n",
            "  Attempting uninstall: tzdata\n",
            "    Found existing installation: tzdata 2023.3\n",
            "    Uninstalling tzdata-2023.3:\n",
            "      Successfully uninstalled tzdata-2023.3\n",
            "  Attempting uninstall: six\n",
            "    Found existing installation: six 1.16.0\n",
            "    Uninstalling six-1.16.0:\n",
            "      Successfully uninstalled six-1.16.0\n",
            "  Attempting uninstall: numpy\n",
            "    Found existing installation: numpy 1.21.6\n",
            "    Uninstalling numpy-1.21.6:\n",
            "      Successfully uninstalled numpy-1.21.6\n",
            "  Attempting uninstall: python-dateutil\n",
            "    Found existing installation: python-dateutil 2.8.2\n",
            "    Uninstalling python-dateutil-2.8.2:\n",
            "      Successfully uninstalled python-dateutil-2.8.2\n",
            "  Attempting uninstall: pandas\n",
            "    Found existing installation: pandas 1.3.5\n",
            "    Uninstalling pandas-1.3.5:\n",
            "      Successfully uninstalled pandas-1.3.5\n",
            "\u001b[31mERROR: pip's dependency resolver does not currently take into account all the packages that are installed. This behaviour is the source of the following dependency conflicts.\n",
            "tensorflow 2.12.0 requires numpy<1.24,>=1.22, but you have numpy 1.24.2 which is incompatible.\n",
            "scipy 1.7.3 requires numpy<1.23.0,>=1.16.5, but you have numpy 1.24.2 which is incompatible.\n",
            "numba 0.56.4 requires numpy<1.24,>=1.18, but you have numpy 1.24.2 which is incompatible.\n",
            "multimodal-transformers 0.2a0 requires numpy~=1.21.6, but you have numpy 1.24.2 which is incompatible.\n",
            "multimodal-transformers 0.2a0 requires pandas~=1.3.5, but you have pandas 2.0.0 which is incompatible.\n",
            "google-colab 1.0.0 requires pandas~=1.5.3, but you have pandas 2.0.0 which is incompatible.\n",
            "arviz 0.15.1 requires scipy>=1.8.0, but you have scipy 1.7.3 which is incompatible.\u001b[0m\u001b[31m\n",
            "\u001b[0mSuccessfully installed numpy-1.24.2 pandas-2.0.0 python-dateutil-2.8.2 pytz-2023.3 six-1.16.0 tzdata-2023.3\n"
          ]
        }
      ],
      "source": [
        "pip install --force-reinstall pandas"
      ]
    },
    {
      "cell_type": "code",
      "execution_count": null,
      "metadata": {
        "colab": {
          "base_uri": "https://localhost:8080/"
        },
        "id": "q1SgCYqHDhcz",
        "outputId": "8a92326a-6e61-4990-9e2b-4fd90024425f"
      },
      "outputs": [
        {
          "output_type": "stream",
          "name": "stderr",
          "text": [
            "/usr/local/lib/python3.9/dist-packages/scipy/__init__.py:146: UserWarning: A NumPy version >=1.16.5 and <1.23.0 is required for this version of SciPy (detected version 1.24.2\n",
            "  warnings.warn(f\"A NumPy version >={np_minversion} and <{np_maxversion}\"\n"
          ]
        }
      ],
      "source": [
        "from dataclasses import dataclass, field\n",
        "import json\n",
        "import logging\n",
        "import os\n",
        "from typing import Optional\n",
        "\n",
        "import numpy as np\n",
        "import pandas as pd\n",
        "from transformers import (\n",
        "    AutoTokenizer,\n",
        "    AutoConfig,\n",
        "    Trainer,\n",
        "    EvalPrediction,\n",
        "    set_seed\n",
        ")\n",
        "from transformers.training_args import TrainingArguments\n",
        "\n",
        "from multimodal_transformers.data import load_data_from_folder\n",
        "from multimodal_transformers.model import TabularConfig\n",
        "from multimodal_transformers.model import AutoModelWithTabular\n",
        "\n",
        "logging.basicConfig(level=logging.INFO)\n",
        "os.environ['COMET_MODE'] = 'DISABLED'\n"
      ]
    },
    {
      "cell_type": "markdown",
      "metadata": {
        "id": "kpZWEY-x50vk"
      },
      "source": [
        "Around 30% of the time, transformers import fails but this is fixed by simply restarting kernal."
      ]
    },
    {
      "cell_type": "code",
      "execution_count": null,
      "metadata": {
        "id": "E0VmskUYF5l-"
      },
      "outputs": [],
      "source": [
        "import matplotlib.pyplot as plt\n",
        "import matplotlib.image as mpimg\n",
        "from sklearn.model_selection import train_test_split\n",
        "from PIL import Image\n"
      ]
    },
    {
      "cell_type": "markdown",
      "metadata": {
        "id": "ntlbSBkcv81p"
      },
      "source": [
        "<a id=\"2\"></a> <br>\n",
        "# Reading Data"
      ]
    },
    {
      "cell_type": "code",
      "execution_count": null,
      "metadata": {
        "id": "dO-_3d114FFe"
      },
      "outputs": [],
      "source": [
        "def get_parquet_data(folder):\n",
        "    \"\"\" Read parquet data from mutiple files \"\"\"\n",
        "\n",
        "\n",
        "    dataframes = [\n",
        "        pd.read_parquet(os.path.join(folder, filename))\n",
        "        for filename in list(os.listdir(folder))\n",
        "    ]\n",
        "\n",
        "    return pd.concat(dataframes)"
      ]
    },
    {
      "cell_type": "code",
      "execution_count": null,
      "metadata": {
        "colab": {
          "base_uri": "https://localhost:8080/"
        },
        "id": "n0Buc8Em4EOd",
        "outputId": "fbe7d045-eba7-4a89-cf2a-ff631db1d8a1"
      },
      "outputs": [
        {
          "output_type": "stream",
          "name": "stdout",
          "text": [
            "Drive already mounted at /content/gdrive; to attempt to forcibly remount, call drive.mount(\"/content/gdrive\", force_remount=True).\n"
          ]
        }
      ],
      "source": [
        "from google.colab import drive\n",
        "\n",
        "drive.mount('/content/gdrive')"
      ]
    },
    {
      "cell_type": "code",
      "execution_count": null,
      "metadata": {
        "id": "ZnfH96DnDm55"
      },
      "outputs": [],
      "source": [
        "data_train = get_parquet_data('/content/gdrive/MyDrive/parquet/train')\n",
        "data_test = get_parquet_data('/content/gdrive/MyDrive/parquet/test')"
      ]
    },
    {
      "cell_type": "markdown",
      "source": [
        "<a id=\"2\"></a> <br>\n",
        "# Basic EDA"
      ],
      "metadata": {
        "id": "hPmojeEDzk7X"
      }
    },
    {
      "cell_type": "code",
      "execution_count": null,
      "metadata": {
        "id": "CWf3aix3FYYe"
      },
      "outputs": [],
      "source": [
        "f\"Number of rows in train: {len(data_train):,}\"\n",
        "f\"Number of unique products in train: {len(data_train['product_id'].unique()):,}\"\n",
        "f\"Number of columns in train: {len(data_train.columns):,}\"\n",
        "list(data_train.columns)"
      ]
    },
    {
      "cell_type": "code",
      "execution_count": null,
      "metadata": {
        "colab": {
          "base_uri": "https://localhost:8080/"
        },
        "id": "cDILk2zkQpTp",
        "outputId": "9d19d86c-eab9-4c6f-e0a6-395d104db130"
      },
      "outputs": [
        {
          "output_type": "execute_result",
          "data": {
            "text/plain": [
              "color_id\n",
              "1     32537\n",
              "17    31194\n",
              "2     26972\n",
              "4     22891\n",
              "9     15675\n",
              "11    15499\n",
              "14    15243\n",
              "16    14892\n",
              "0     12664\n",
              "7     10728\n",
              "19     9920\n",
              "18     7406\n",
              "12     6639\n",
              "5      6337\n",
              "10     5346\n",
              "13     5226\n",
              "3      2922\n",
              "6      2237\n",
              "15     1156\n",
              "8         1\n",
              "Name: count, dtype: int64"
            ]
          },
          "metadata": {},
          "execution_count": 10
        }
      ],
      "source": [
        "data_train['color_id'].value_counts()"
      ]
    },
    {
      "cell_type": "code",
      "execution_count": null,
      "metadata": {
        "colab": {
          "base_uri": "https://localhost:8080/"
        },
        "id": "9JrZcOoyGAX7",
        "outputId": "2f6cdadf-3726-4a13-a975-4a5b588a5a77"
      },
      "outputs": [
        {
          "output_type": "execute_result",
          "data": {
            "text/plain": [
              "color_text\n",
              "black        32537\n",
              "white        31194\n",
              "blue         26972\n",
              "brown        22891\n",
              "green        15675\n",
              "pink         15499\n",
              "red          15243\n",
              "silver       14892\n",
              "beige        12664\n",
              "gold         10728\n",
              "other         9920\n",
              "yellow        7406\n",
              "purple        6639\n",
              "clear         6337\n",
              "orange        5346\n",
              "rainbow       5226\n",
              "bronze        2922\n",
              "copper        2237\n",
              "rose gold     1156\n",
              "grey             1\n",
              "Name: count, dtype: int64"
            ]
          },
          "metadata": {},
          "execution_count": 11
        }
      ],
      "source": [
        "data_train['color_text'].value_counts()\n"
      ]
    },
    {
      "cell_type": "markdown",
      "metadata": {
        "id": "lBaQNUeYGJJ5"
      },
      "source": []
    },
    {
      "cell_type": "code",
      "execution_count": null,
      "metadata": {
        "id": "yPoJiMV9MAD3"
      },
      "outputs": [],
      "source": [
        "pd.value_counts(data_train['top_category_text'], sort=True, ascending=False)"
      ]
    },
    {
      "cell_type": "code",
      "execution_count": null,
      "metadata": {
        "colab": {
          "base_uri": "https://localhost:8080/"
        },
        "id": "cMa8E9BdMEH_",
        "outputId": "ef96bd6f-b776-4511-cfb1-8c8fb5ab9dd5"
      },
      "outputs": [
        {
          "data": {
            "text/plain": [
              "top_category_id\n",
              "8     53200\n",
              "6     42348\n",
              "5     32028\n",
              "13    14427\n",
              "0     12610\n",
              "3     12426\n",
              "10    10811\n",
              "12    10355\n",
              "14    10333\n",
              "9      9457\n",
              "1      8741\n",
              "7      8177\n",
              "4      7378\n",
              "2      6645\n",
              "11     6549\n",
              "Name: count, dtype: int64"
            ]
          },
          "execution_count": 14,
          "metadata": {},
          "output_type": "execute_result"
        }
      ],
      "source": [
        "pd.value_counts(data_train['top_category_id'], sort=True, ascending=False)"
      ]
    },
    {
      "cell_type": "code",
      "execution_count": null,
      "metadata": {
        "id": "4HsIRJY9MHda"
      },
      "outputs": [],
      "source": [
        "figsize = (15, 6)\n",
        "column = 'top_category_text'\n",
        "x_limit = 60000\n",
        "x_step = 10000\n",
        "color = 'darkcyan'\n",
        "\n",
        "figure, ax = plt.subplots(figsize=figsize)\n",
        "pd.value_counts(\n",
        "    data_train[column],\n",
        "    sort=True, ascending=False).plot.barh(color=color)\n",
        "plt.title(f\"Number of Products per Category\")\n",
        "xlabels = [f'{x // 1000:,}K' for x in range(0, x_limit, x_step)]\n",
        "plt.xticks(range(0, x_limit, x_step), xlabels)\n",
        "plt.xlabel('Number of products')\n",
        "plt.setp(ax.get_xticklabels()[0], visible=False)\n",
        "plt.show()"
      ]
    },
    {
      "cell_type": "code",
      "execution_count": null,
      "metadata": {
        "colab": {
          "base_uri": "https://localhost:8080/",
          "height": 35
        },
        "id": "MSKUwhTFMJlc",
        "outputId": "bb977d2a-5a1b-410e-ef87-c8250ed4207c"
      },
      "outputs": [
        {
          "data": {
            "application/vnd.google.colaboratory.intrinsic+json": {
              "type": "string"
            },
            "text/plain": [
              "'Number of bottom categories in train: 2,782'"
            ]
          },
          "execution_count": 16,
          "metadata": {},
          "output_type": "execute_result"
        }
      ],
      "source": [
        "f\"Number of bottom categories in train: {len(data_train['bottom_category_text'].unique()):,}\""
      ]
    },
    {
      "cell_type": "code",
      "execution_count": null,
      "metadata": {
        "colab": {
          "base_uri": "https://localhost:8080/"
        },
        "id": "mZ-RAeDdMMfF",
        "outputId": "884b028d-0fef-45f6-b879-94b2a9898806"
      },
      "outputs": [
        {
          "data": {
            "text/plain": [
              "bottom_category_id\n",
              "511      98\n",
              "2203     98\n",
              "6064     98\n",
              "1652     97\n",
              "6267     97\n",
              "         ..\n",
              "6807     44\n",
              "1481     43\n",
              "6546     42\n",
              "2342     42\n",
              "11158    41\n",
              "Name: count, Length: 2782, dtype: int64"
            ]
          },
          "execution_count": 17,
          "metadata": {},
          "output_type": "execute_result"
        }
      ],
      "source": [
        "pd.value_counts(data_train['bottom_category_id'], sort=True, ascending=False)"
      ]
    },
    {
      "cell_type": "markdown",
      "metadata": {
        "id": "lTyyf7eNMS_i"
      },
      "source": [
        "I will be using three different model for the three labels that need to be predicted. We will start with top category, color and then finally bottom category"
      ]
    },
    {
      "cell_type": "code",
      "execution_count": null,
      "metadata": {
        "id": "e6jsv53QzqLO"
      },
      "outputs": [],
      "source": []
    },
    {
      "cell_type": "markdown",
      "metadata": {
        "id": "n1kpcRgKwoG-"
      },
      "source": [
        "#Top Category With Bert"
      ]
    },
    {
      "cell_type": "markdown",
      "metadata": {
        "id": "g3MXInkcP9XZ"
      },
      "source": [
        "## Data Preparing and preprocessing\n",
        "\n",
        "There isnt much preprocessing and prepping other than just cleaning and arranging the data because of several errors that I faced during my several trial runs."
      ]
    },
    {
      "cell_type": "markdown",
      "metadata": {
        "id": "X1WYnY8qxtWj"
      },
      "source": []
    },
    {
      "cell_type": "markdown",
      "metadata": {
        "id": "B6JIo1hVS2Hs"
      },
      "source": [
        "While doing my testing and inital trial, I Used a subset of the data. This helped me run multiple ideas on free colab and get faster results. Of course the accuracy and F1 scores were bad but at least I got an idea that helped me sort out what to do with the whole dataset. The codes below are commented because I didnt use them while running the entire dataset. They were used for my inital trials."
      ]
    },
    {
      "cell_type": "code",
      "execution_count": null,
      "metadata": {
        "id": "rP2blosWTN_e"
      },
      "outputs": [],
      "source": [
        "# import random\n",
        "# data_train = data_train.sample(n=20000,random_state=3)"
      ]
    },
    {
      "cell_type": "code",
      "execution_count": null,
      "metadata": {
        "id": "gYEynL3XTh3D"
      },
      "outputs": [],
      "source": [
        "# data_test = data_test.sample(n=2000,random_state=3)"
      ]
    },
    {
      "cell_type": "markdown",
      "metadata": {
        "id": "DND_b0gDTkh7"
      },
      "source": [
        "The below code is for splitting the train dataset into training and validation.\n",
        "For this first model we are going to predict 'top_category_id'"
      ]
    },
    {
      "cell_type": "code",
      "execution_count": null,
      "metadata": {
        "id": "Cwmc1JrDTiuQ"
      },
      "outputs": [],
      "source": [
        "from sklearn.model_selection import train_test_split\n",
        "\n",
        "df_training, data_val = train_test_split(\n",
        "    data_train,\n",
        "    test_size=0.1,\n",
        "    stratify=data_train['top_category_id'],\n",
        "    random_state=42)"
      ]
    },
    {
      "cell_type": "markdown",
      "metadata": {
        "id": "Ko21rC0ZVGx_"
      },
      "source": [
        "The codes below are for fixing some indexes and ensuring there are no duplicate indexes because that messes up when inputing into the model.\n",
        "I faced these errors and fixed them by debugging and referring stackoverflow"
      ]
    },
    {
      "cell_type": "code",
      "execution_count": null,
      "metadata": {
        "id": "iowfx29cVAhw"
      },
      "outputs": [],
      "source": [
        "df_training.reset_index(drop=True, inplace=True)\n",
        "data_test.reset_index(drop=True, inplace=True)\n",
        "data_val.reset_index(drop=True, inplace=True)"
      ]
    },
    {
      "cell_type": "code",
      "execution_count": null,
      "metadata": {
        "id": "3zYxQSXLVCPC"
      },
      "outputs": [],
      "source": [
        "df_training[\"Unnamed: 0\"] = list(range(df_training.shape[0]))\n",
        "data_val[\"Unnamed: 0\"] = list(range(df_training.shape[0], df_training.shape[0] + data_val.shape[0]))\n",
        "data_test[\"Unnamed: 0\"] = list(range(df_training.shape[0] + data_val.shape[0], df_training.shape[0] + data_val.shape[0] + data_test.shape[0]))"
      ]
    },
    {
      "cell_type": "markdown",
      "metadata": {
        "id": "5grzWTyKVcDj"
      },
      "source": [
        "Storing as csv for the dataloader"
      ]
    },
    {
      "cell_type": "code",
      "execution_count": null,
      "metadata": {
        "id": "JYTm2uQFVD-2"
      },
      "outputs": [],
      "source": [
        "df_training.to_csv('train.csv',index=False)\n",
        "data_test.to_csv('test.csv',index=False)\n",
        "data_val.to_csv('val.csv',index=False)"
      ]
    },
    {
      "cell_type": "markdown",
      "metadata": {
        "id": "p_RpR8pqVTEt"
      },
      "source": [
        "## Model prep and training\n",
        "We use Data Classes to hold each of our arguments for the model, data, and training."
      ]
    },
    {
      "cell_type": "code",
      "execution_count": null,
      "metadata": {
        "id": "cofIM4iTvw7b"
      },
      "outputs": [],
      "source": [
        "@dataclass\n",
        "class ModelArguments:\n",
        "  \"\"\"\n",
        "  Arguments pertaining to which model/config/tokenizer we are going to fine-tune from.\n",
        "  \"\"\"\n",
        "\n",
        "  model_name_or_path: str = field(\n",
        "      metadata={\"help\": \"Path to pretrained model or model identifier from huggingface.co/models\"}\n",
        "  )\n",
        "  config_name: Optional[str] = field(\n",
        "      default=None, metadata={\"help\": \"Pretrained config name or path if not the same as model_name\"}\n",
        "  )\n",
        "  tokenizer_name: Optional[str] = field(\n",
        "      default=None, metadata={\"help\": \"Pretrained tokenizer name or path if not the same as model_name\"}\n",
        "  )\n",
        "  cache_dir: Optional[str] = field(\n",
        "      default=None, metadata={\"help\": \"Where do you want to store the pretrained models downloaded from s3\"}\n",
        "  )\n",
        "\n",
        "\n",
        "@dataclass\n",
        "class MultimodalDataTrainingArguments:\n",
        "  \"\"\"\n",
        "  Arguments pertaining to how we combine tabular features\n",
        "  Using `HfArgumentParser` we can turn this class\n",
        "  into argparse arguments to be able to specify them on\n",
        "  the command line.\n",
        "  \"\"\"\n",
        "\n",
        "  data_path: str = field(metadata={\n",
        "                            'help': 'the path to the csv file containing the dataset'\n",
        "                        })\n",
        "  column_info_path: str = field(\n",
        "      default=None,\n",
        "      metadata={\n",
        "          'help': 'the path to the json file detailing which columns are text, categorical, numerical, and the label'\n",
        "  })\n",
        "\n",
        "  column_info: dict = field(\n",
        "      default=None,\n",
        "      metadata={\n",
        "          'help': 'a dict referencing the text, categorical, numerical, and label columns'\n",
        "                  'its keys are text_cols, num_cols, cat_cols, and label_col'\n",
        "  })\n",
        "\n",
        "  categorical_encode_type: str = field(default='ohe',\n",
        "                                        metadata={\n",
        "                                            'help': 'sklearn encoder to use for categorical data',\n",
        "                                            'choices': ['ohe', 'binary', 'label', 'none']\n",
        "                                        })\n",
        "  numerical_transformer_method: str = field(default='yeo_johnson',\n",
        "                                            metadata={\n",
        "                                                'help': 'sklearn numerical transformer to preprocess numerical data',\n",
        "                                                'choices': ['yeo_johnson', 'box_cox', 'quantile_normal', 'none']\n",
        "                                            })\n",
        "  task: str = field(default=\"classification\",\n",
        "                    metadata={\n",
        "                        \"help\": \"The downstream training task\",\n",
        "                        \"choices\": [\"classification\", \"regression\"]\n",
        "                    })\n",
        "\n",
        "  mlp_division: int = field(default=4,\n",
        "                            metadata={\n",
        "                                'help': 'the ratio of the number of '\n",
        "                                        'hidden dims in a current layer to the next MLP layer'\n",
        "                            })\n",
        "  combine_feat_method: str = field(default='individual_mlps_on_cat_and_numerical_feats_then_concat',\n",
        "                                    metadata={\n",
        "                                        'help': 'method to combine categorical and numerical features, '\n",
        "                                                'see README for all the method'\n",
        "                                    })\n",
        "  mlp_dropout: float = field(default=0.1,\n",
        "                              metadata={\n",
        "                                'help': 'dropout ratio used for MLP layers'\n",
        "                              })\n",
        "  numerical_bn: bool = field(default=True,\n",
        "                              metadata={\n",
        "                                  'help': 'whether to use batchnorm on numerical features'\n",
        "                              })\n",
        "  use_simple_classifier: str = field(default=True,\n",
        "                                      metadata={\n",
        "                                          'help': 'whether to use single layer or MLP as final classifier'\n",
        "                                      })\n",
        "  mlp_act: str = field(default='relu',\n",
        "                        metadata={\n",
        "                            'help': 'the activation function to use for finetuning layers',\n",
        "                            'choices': ['relu', 'prelu', 'sigmoid', 'tanh', 'linear']\n",
        "                        })\n",
        "  gating_beta: float = field(default=0.2,\n",
        "                              metadata={\n",
        "                                  'help': \"the beta hyperparameters used for gating tabular data \"\n",
        "                                          \"see https://www.aclweb.org/anthology/2020.acl-main.214.pdf\"\n",
        "                              })\n",
        "\n",
        "  def __post_init__(self):\n",
        "      assert self.column_info != self.column_info_path\n",
        "      if self.column_info is None and self.column_info_path:\n",
        "          with open(self.column_info_path, 'r') as f:\n",
        "              self.column_info = json.load(f)"
      ]
    },
    {
      "cell_type": "markdown",
      "source": [
        "For model we can specify any supported HuggingFace model classes (see README for more details) as well as any AutoModel that are from the supported model classes. For this assignment I am using **BERT** For the data specifications, we need to specify a dictionary that specifies which columns are the `text` columns, `numerical feature` columns, `categorical feature` column, and the `label` column. If we are doing classification, we can also specify what each of the labels means in the label column through the `label list`. We can also specifiy these columns using a path to a json file with the argument `column_info_path` to `MultimodalDataTrainingArguments`."
      ],
      "metadata": {
        "id": "gk6JQyk1FWl4"
      }
    },
    {
      "cell_type": "code",
      "execution_count": null,
      "metadata": {
        "id": "d666AT2hVS8V"
      },
      "outputs": [],
      "source": [
        "text_cols = ['title', 'description', 'tags'] # these are the columns that I am using to predict top_category_id\n",
        "cat_cols = ['type'] #tabular\n",
        "numerical_cols = []\n",
        "\n",
        "column_info_dict = {\n",
        "    'text_cols': text_cols,\n",
        "    'num_cols': numerical_cols,\n",
        "    'cat_cols': cat_cols,\n",
        "    'label_col': 'top_category_id', # what i need to predict\n",
        "    'label_list': data_train['top_category_id'].unique() #the different labels that the product can fall into aka the classes\n",
        "}\n",
        "\n",
        "\n",
        "model_args = ModelArguments(\n",
        "    model_name_or_path='bert-base-uncased'\n",
        ")\n",
        "\n",
        "data_args = MultimodalDataTrainingArguments(\n",
        "    data_path='.',\n",
        "    combine_feat_method='gating_on_cat_and_num_feats_then_sum', #?\n",
        "    column_info=column_info_dict,\n",
        "    task='classification',\n",
        "\n",
        ")\n",
        "\n",
        "training_args = TrainingArguments(\n",
        "    output_dir=\"./logs/model_name\",\n",
        "    logging_dir=\"./logs/runs\",\n",
        "    overwrite_output_dir=True,\n",
        "    do_train=True,\n",
        "    do_eval=True,\n",
        "    per_device_train_batch_size=32,\n",
        "    num_train_epochs=1,\n",
        "    evaluation_strategy='steps',\n",
        "    eval_steps=300,\n",
        "    logging_steps=300\n",
        ")\n",
        "\n",
        "set_seed(training_args.seed)"
      ]
    },
    {
      "cell_type": "markdown",
      "source": [
        "***HuggingFace tokenizer***"
      ],
      "metadata": {
        "id": "Bm8MNYYnFqh-"
      }
    },
    {
      "cell_type": "code",
      "execution_count": null,
      "metadata": {
        "colab": {
          "base_uri": "https://localhost:8080/",
          "height": 218,
          "referenced_widgets": [
            "a3604eaf4aaa4966b6801a37d890bacf",
            "0286bd7e09f44d99a8f50bc2deab4305",
            "5e82aeb0b8f84d30a4c12507611fa144",
            "d78532c19b4f4b1eb0ac45f0f9228b29",
            "726d097590034033a2393baff85c4929",
            "19238a5db4784acbae775a911dada56c",
            "ba01950f88814d788ea6bab5fadc3d70",
            "46ef353d54a94fa9bf3892dcd9d81ff8",
            "6b4411ba441c4db09d66a92fffa47262",
            "103ce6ed46d64c3eb0dce6b652d7cbff",
            "cbe55ae052444a63aca1c940df3a63f8",
            "349624d39713473a95c08d40f9e8d0d1",
            "77d6d02021cb44c0901dfcd26e71981d",
            "25dbf488ddcb4a6f892bede298f5ca0a",
            "381466bf8e434cf58dce03bbbe75c433",
            "b4426690dfdd415b894c0216e94ba1b0",
            "94aef4a696b640e7814c4feaca563146",
            "6a94f3791ea942c1b0ebfa6f7ab2362b",
            "f58818eaddf048a6a1cee772d63b4730",
            "81970fa0189f4cf5bab0d83e4bd6b88a",
            "e0a0706d95f142cb8a1206c245bed7c0",
            "b9efee7b3c07410a8f3c170840439d0f",
            "c2802469f0b140c8ace09ddfea50a0f3",
            "202e052fb67e4e2fadc2e79d3d10ee83",
            "d06d673912ba42a19fb755a434d37750",
            "2d58ac5437e042438800ddece26c985d",
            "535b0971305e44a9afe579cc7d7cc81d",
            "d22e0edfd7ed4e93991ac2c631ccefa8",
            "9cc1f3ea81b84adca3f7fd1e909dc5c9",
            "7b0166b786c749369f44384783fe52c2",
            "0f2aba414ca9458b8dc3b8ed92edb14d",
            "09b9a885f11c4e4aacc4c6b9eb83eff9",
            "61b62b3cf76e4a238ed0cbc5821bca0d",
            "ad4fb0fcde1048439e1b3fb0267c734d",
            "df321d6052af42b7825af8182b386044",
            "4dc4692be5ec4455b2bcfc7a89ec52c8",
            "c8a0d20a2fa24b99b4d4dc9bfe2455e0",
            "fa1773cef8314eaaaf0691341e2c4ee9",
            "8a7b66b303834eb598e1dc9902305fcc",
            "a5384a36204a4aa39f904e88df2d9a35",
            "dc18c90a04c042d5960c08889402e404",
            "a65263d1053447d19c1a40269b550df4",
            "ab3d6bc0262f4849bfd5b8ccd8a6aa4c",
            "0252f4eb03f74e24ba15d2ab509a5ea3"
          ]
        },
        "id": "Sb-lG3kQVZUW",
        "outputId": "1ff0ed06-1dff-4692-9d6e-bddabc320860"
      },
      "outputs": [
        {
          "output_type": "stream",
          "name": "stdout",
          "text": [
            "Specified tokenizer:  bert-base-uncased\n"
          ]
        },
        {
          "output_type": "display_data",
          "data": {
            "text/plain": [
              "Downloading (…)okenizer_config.json:   0%|          | 0.00/28.0 [00:00<?, ?B/s]"
            ],
            "application/vnd.jupyter.widget-view+json": {
              "version_major": 2,
              "version_minor": 0,
              "model_id": "a3604eaf4aaa4966b6801a37d890bacf"
            }
          },
          "metadata": {}
        },
        {
          "output_type": "display_data",
          "data": {
            "text/plain": [
              "Downloading (…)lve/main/config.json:   0%|          | 0.00/570 [00:00<?, ?B/s]"
            ],
            "application/vnd.jupyter.widget-view+json": {
              "version_major": 2,
              "version_minor": 0,
              "model_id": "349624d39713473a95c08d40f9e8d0d1"
            }
          },
          "metadata": {}
        },
        {
          "output_type": "display_data",
          "data": {
            "text/plain": [
              "Downloading (…)solve/main/vocab.txt:   0%|          | 0.00/232k [00:00<?, ?B/s]"
            ],
            "application/vnd.jupyter.widget-view+json": {
              "version_major": 2,
              "version_minor": 0,
              "model_id": "c2802469f0b140c8ace09ddfea50a0f3"
            }
          },
          "metadata": {}
        },
        {
          "output_type": "display_data",
          "data": {
            "text/plain": [
              "Downloading (…)/main/tokenizer.json:   0%|          | 0.00/466k [00:00<?, ?B/s]"
            ],
            "application/vnd.jupyter.widget-view+json": {
              "version_major": 2,
              "version_minor": 0,
              "model_id": "ad4fb0fcde1048439e1b3fb0267c734d"
            }
          },
          "metadata": {}
        }
      ],
      "source": [
        "tokenizer_path_or_name = model_args.tokenizer_name if model_args.tokenizer_name else model_args.model_name_or_path\n",
        "print('Specified tokenizer: ', tokenizer_path_or_name)\n",
        "tokenizer = AutoTokenizer.from_pretrained(\n",
        "    tokenizer_path_or_name,\n",
        "    cache_dir=model_args.cache_dir,\n",
        ")"
      ]
    },
    {
      "cell_type": "markdown",
      "source": [
        "The function `load_data_from_folder` expects a path to a folder that contains `train.csv`, `test.csv`, and/or `val.csv` containing the respective split datasets."
      ],
      "metadata": {
        "id": "llcZ4rTsFxAd"
      }
    },
    {
      "cell_type": "code",
      "execution_count": null,
      "metadata": {
        "id": "xR3gGtV5Va8K"
      },
      "outputs": [],
      "source": [
        "# Get Datasets\n",
        "train_dataset, val_dataset, test_dataset = load_data_from_folder(\n",
        "    data_args.data_path,\n",
        "    data_args.column_info['text_cols'],\n",
        "    tokenizer,\n",
        "    label_col=data_args.column_info['label_col'],\n",
        "    label_list=data_args.column_info['label_list'],\n",
        "    categorical_cols=data_args.column_info['cat_cols'],\n",
        "    numerical_cols=data_args.column_info['num_cols'],\n",
        "    sep_text_token_str=tokenizer.sep_token,\n",
        "    numerical_transformer_method = 'none'\n",
        ")"
      ]
    },
    {
      "cell_type": "code",
      "execution_count": null,
      "metadata": {
        "colab": {
          "base_uri": "https://localhost:8080/"
        },
        "id": "uOE37unrWAjW",
        "outputId": "cbafbb2a-1323-4a54-d14d-9bac984f946c"
      },
      "outputs": [
        {
          "output_type": "execute_result",
          "data": {
            "text/plain": [
              "15"
            ]
          },
          "metadata": {},
          "execution_count": 20
        }
      ],
      "source": [
        "num_labels = len(np.unique(train_dataset.labels))\n",
        "num_labels"
      ]
    },
    {
      "cell_type": "code",
      "execution_count": null,
      "metadata": {
        "id": "rzbMDKVQWFZ4"
      },
      "outputs": [],
      "source": [
        "config = AutoConfig.from_pretrained(\n",
        "        model_args.config_name if model_args.config_name else model_args.model_name_or_path,\n",
        "        cache_dir=model_args.cache_dir,\n",
        "    )\n",
        "tabular_config = TabularConfig(num_labels=num_labels,\n",
        "                               cat_feat_dim=train_dataset.cat_feats.shape[1],\n",
        "                               numerical_feat_dim=0,\n",
        "                               **vars(data_args))\n",
        "config.tabular_config = tabular_config"
      ]
    },
    {
      "cell_type": "code",
      "execution_count": null,
      "metadata": {
        "colab": {
          "base_uri": "https://localhost:8080/"
        },
        "id": "J5WRK1_6WGnn",
        "outputId": "b04139d9-b397-4805-f571-8d09865b4257"
      },
      "outputs": [
        {
          "output_type": "execute_result",
          "data": {
            "text/plain": [
              "True"
            ]
          },
          "metadata": {},
          "execution_count": 22
        }
      ],
      "source": [
        "import torch\n",
        "torch.cuda.is_available()"
      ]
    },
    {
      "cell_type": "markdown",
      "metadata": {
        "id": "Xi7fqcObWIxk"
      },
      "source": [
        "The below code is to make sure we use the GPU, Although I am not entirely sure if it needs to be there if you are running on colab. If you are using jupiter notebook then definitely yes but make sure CUDA and CNN are also installed."
      ]
    },
    {
      "cell_type": "code",
      "execution_count": null,
      "metadata": {
        "colab": {
          "base_uri": "https://localhost:8080/"
        },
        "id": "mO_gD0WsWIOa",
        "outputId": "48729a69-e355-4711-92ca-bd20c55a9aca"
      },
      "outputs": [
        {
          "output_type": "stream",
          "name": "stdout",
          "text": [
            "cuda:0\n"
          ]
        }
      ],
      "source": [
        "device = torch.device(\"cuda:0\" if torch.cuda.is_available() else \"cpu\")\n",
        "print(device)\n"
      ]
    },
    {
      "cell_type": "code",
      "execution_count": null,
      "metadata": {
        "colab": {
          "base_uri": "https://localhost:8080/",
          "height": 156,
          "referenced_widgets": [
            "e22f2b23dd21414988a145a12ac8bce7",
            "16d334e7d7194c1f85b86fdf6d52330b",
            "96297f0b2bcb4db1b2b6b41a94efd50b",
            "f66bb9ddee5c4732ba4cbb69bdbebaf5",
            "d454a1a1ea5c47578dc69fd8ea63370a",
            "ebbd672c49f34cc194153d8ab2bb5d1f",
            "2385b089702249f8bffd1aa38f65011f",
            "05194eda1a43477c95bc96abbaf1772d",
            "99026f8e71e5489cb3905a028403c1b7",
            "ffac1df949de4e099d40cfb381859138",
            "962849fe6a11450aba616d5b9253f9a6"
          ]
        },
        "id": "uKo7gufoWYDU",
        "outputId": "e4355f4a-bfe5-48e6-e427-72d0ba95c855"
      },
      "outputs": [
        {
          "output_type": "display_data",
          "data": {
            "text/plain": [
              "Downloading pytorch_model.bin:   0%|          | 0.00/440M [00:00<?, ?B/s]"
            ],
            "application/vnd.jupyter.widget-view+json": {
              "version_major": 2,
              "version_minor": 0,
              "model_id": "e22f2b23dd21414988a145a12ac8bce7"
            }
          },
          "metadata": {}
        },
        {
          "output_type": "stream",
          "name": "stderr",
          "text": [
            "Some weights of the model checkpoint at bert-base-uncased were not used when initializing BertWithTabular: ['cls.predictions.transform.dense.weight', 'cls.seq_relationship.bias', 'cls.predictions.decoder.weight', 'cls.seq_relationship.weight', 'cls.predictions.transform.LayerNorm.bias', 'cls.predictions.transform.dense.bias', 'cls.predictions.transform.LayerNorm.weight', 'cls.predictions.bias']\n",
            "- This IS expected if you are initializing BertWithTabular from the checkpoint of a model trained on another task or with another architecture (e.g. initializing a BertForSequenceClassification model from a BertForPreTraining model).\n",
            "- This IS NOT expected if you are initializing BertWithTabular from the checkpoint of a model that you expect to be exactly identical (initializing a BertForSequenceClassification model from a BertForSequenceClassification model).\n",
            "Some weights of BertWithTabular were not initialized from the model checkpoint at bert-base-uncased and are newly initialized: ['tabular_combiner.g_cat_layer.bias', 'classifier.weight', 'tabular_combiner.layer_norm.weight', 'tabular_combiner.h_bias', 'tabular_combiner.h_cat_layer.weight', 'tabular_classifier.weight', 'tabular_combiner.g_cat_layer.weight', 'tabular_classifier.bias', 'tabular_combiner.layer_norm.bias', 'classifier.bias']\n",
            "You should probably TRAIN this model on a down-stream task to be able to use it for predictions and inference.\n"
          ]
        }
      ],
      "source": [
        "model = AutoModelWithTabular.from_pretrained(\n",
        "        model_args.config_name if model_args.config_name else model_args.model_name_or_path,\n",
        "        config=config,\n",
        "        cache_dir=model_args.cache_dir\n",
        "    ).to(device)"
      ]
    },
    {
      "cell_type": "code",
      "execution_count": null,
      "metadata": {
        "id": "fx1DA532WZiX"
      },
      "outputs": [],
      "source": [
        "import numpy as np\n",
        "from scipy.special import softmax\n",
        "from sklearn.metrics import (\n",
        "    auc,\n",
        "    precision_recall_curve,\n",
        "    roc_auc_score,\n",
        "    f1_score,\n",
        "    confusion_matrix,\n",
        "    matthews_corrcoef,\n",
        ")\n",
        "\n",
        "def calc_classification_metrics(p: EvalPrediction):\n",
        "  predictions = p.predictions[0]\n",
        "  pred_labels = np.argmax(predictions, axis=1)\n",
        "  pred_scores = softmax(predictions, axis=1)[:, 1]\n",
        "  labels = p.label_ids\n",
        "  if len(np.unique(labels)) == 2:  # binary classification\n",
        "      roc_auc_pred_score = roc_auc_score(labels, pred_scores)\n",
        "      precisions, recalls, thresholds = precision_recall_curve(labels,\n",
        "                                                                pred_scores)\n",
        "      fscore = (2 * precisions * recalls) / (precisions + recalls)\n",
        "      fscore[np.isnan(fscore)] = 0\n",
        "      ix = np.argmax(fscore)\n",
        "      threshold = thresholds[ix].item()\n",
        "      pr_auc = auc(recalls, precisions)\n",
        "      tn, fp, fn, tp = confusion_matrix(labels, pred_labels, labels=[0, 1]).ravel()\n",
        "      result = {'roc_auc': roc_auc_pred_score,\n",
        "                'threshold': threshold,\n",
        "                'pr_auc': pr_auc,\n",
        "                'recall': recalls[ix].item(),\n",
        "                'precision': precisions[ix].item(), 'f1': fscore[ix].item(),\n",
        "                'tn': tn.item(), 'fp': fp.item(), 'fn': fn.item(), 'tp': tp.item()\n",
        "                }\n",
        "  else:\n",
        "      acc = (pred_labels == labels).mean()\n",
        "      f1 = f1_score(y_true=labels, y_pred=pred_labels,average='micro')\n",
        "      result = {\n",
        "          \"acc\": acc,\n",
        "          \"f1\": f1,\n",
        "          \"acc_and_f1\": (acc + f1) / 2,\n",
        "          \"mcc\": matthews_corrcoef(labels, pred_labels)\n",
        "      }\n",
        "\n",
        "  return result"
      ]
    },
    {
      "cell_type": "code",
      "execution_count": null,
      "metadata": {
        "id": "hSkISPUhWbIG"
      },
      "outputs": [],
      "source": [
        "trainer = Trainer(\n",
        "    model=model,\n",
        "    args=training_args,\n",
        "    train_dataset=train_dataset,\n",
        "    eval_dataset=val_dataset,\n",
        "    compute_metrics=calc_classification_metrics,\n",
        ")"
      ]
    },
    {
      "cell_type": "code",
      "execution_count": null,
      "metadata": {
        "colab": {
          "base_uri": "https://localhost:8080/",
          "height": 1000
        },
        "id": "gHXck7kCWcH3",
        "outputId": "2d064ccd-4a31-4cb6-a550-0fb706d823dc"
      },
      "outputs": [
        {
          "name": "stderr",
          "output_type": "stream",
          "text": [
            "/usr/local/lib/python3.9/dist-packages/transformers/optimization.py:391: FutureWarning: This implementation of AdamW is deprecated and will be removed in a future version. Use the PyTorch implementation torch.optim.AdamW instead, or set `no_deprecation_warning=True` to disable this warning\n",
            "  warnings.warn(\n"
          ]
        },
        {
          "data": {
            "text/html": [
              "\n",
              "    <div>\n",
              "      \n",
              "      <progress value='2251' max='6905' style='width:300px; height:20px; vertical-align: middle;'></progress>\n",
              "      [2251/6905 48:45 < 1:40:54, 0.77 it/s, Epoch 0.33/1]\n",
              "    </div>\n",
              "    <table border=\"1\" class=\"dataframe\">\n",
              "  <thead>\n",
              " <tr style=\"text-align: left;\">\n",
              "      <th>Step</th>\n",
              "      <th>Training Loss</th>\n",
              "      <th>Validation Loss</th>\n",
              "      <th>Acc</th>\n",
              "      <th>F1</th>\n",
              "      <th>Acc And F1</th>\n",
              "      <th>Mcc</th>\n",
              "    </tr>\n",
              "  </thead>\n",
              "  <tbody>\n",
              "    <tr>\n",
              "      <td>300</td>\n",
              "      <td>1.253000</td>\n",
              "      <td>0.786342</td>\n",
              "      <td>0.771966</td>\n",
              "      <td>0.771966</td>\n",
              "      <td>0.771966</td>\n",
              "      <td>0.742313</td>\n",
              "    </tr>\n",
              "    <tr>\n",
              "      <td>600</td>\n",
              "      <td>0.745500</td>\n",
              "      <td>0.688742</td>\n",
              "      <td>0.799788</td>\n",
              "      <td>0.799788</td>\n",
              "      <td>0.799788</td>\n",
              "      <td>0.773448</td>\n",
              "    </tr>\n",
              "    <tr>\n",
              "      <td>900</td>\n",
              "      <td>0.640400</td>\n",
              "      <td>0.633058</td>\n",
              "      <td>0.818730</td>\n",
              "      <td>0.818730</td>\n",
              "      <td>0.818730</td>\n",
              "      <td>0.796244</td>\n",
              "    </tr>\n",
              "    <tr>\n",
              "      <td>1200</td>\n",
              "      <td>0.598200</td>\n",
              "      <td>0.583044</td>\n",
              "      <td>0.828099</td>\n",
              "      <td>0.828099</td>\n",
              "      <td>0.828099</td>\n",
              "      <td>0.806213</td>\n",
              "    </tr>\n",
              "    <tr>\n",
              "      <td>1500</td>\n",
              "      <td>0.570100</td>\n",
              "      <td>0.562977</td>\n",
              "      <td>0.835513</td>\n",
              "      <td>0.835513</td>\n",
              "      <td>0.835513</td>\n",
              "      <td>0.814211</td>\n",
              "    </tr>\n",
              "    <tr>\n",
              "      <td>1800</td>\n",
              "      <td>0.557500</td>\n",
              "      <td>0.527718</td>\n",
              "      <td>0.844108</td>\n",
              "      <td>0.844108</td>\n",
              "      <td>0.844108</td>\n",
              "      <td>0.823689</td>\n",
              "    </tr>\n",
              "    <tr>\n",
              "      <td>2100</td>\n",
              "      <td>0.524100</td>\n",
              "      <td>0.525939</td>\n",
              "      <td>0.843904</td>\n",
              "      <td>0.843904</td>\n",
              "      <td>0.843904</td>\n",
              "      <td>0.823560</td>\n",
              "    </tr>\n",
              "  </tbody>\n",
              "</table><p>"
            ],
            "text/plain": [
              "<IPython.core.display.HTML object>"
            ]
          },
          "metadata": {},
          "output_type": "display_data"
        },
        {
          "data": {
            "text/html": [
              "\n",
              "    <div>\n",
              "      \n",
              "      <progress value='6905' max='6905' style='width:300px; height:20px; vertical-align: middle;'></progress>\n",
              "      [6905/6905 2:34:38, Epoch 1/1]\n",
              "    </div>\n",
              "    <table border=\"1\" class=\"dataframe\">\n",
              "  <thead>\n",
              " <tr style=\"text-align: left;\">\n",
              "      <th>Step</th>\n",
              "      <th>Training Loss</th>\n",
              "      <th>Validation Loss</th>\n",
              "      <th>Acc</th>\n",
              "      <th>F1</th>\n",
              "      <th>Acc And F1</th>\n",
              "      <th>Mcc</th>\n",
              "    </tr>\n",
              "  </thead>\n",
              "  <tbody>\n",
              "    <tr>\n",
              "      <td>300</td>\n",
              "      <td>1.253000</td>\n",
              "      <td>0.786342</td>\n",
              "      <td>0.771966</td>\n",
              "      <td>0.771966</td>\n",
              "      <td>0.771966</td>\n",
              "      <td>0.742313</td>\n",
              "    </tr>\n",
              "    <tr>\n",
              "      <td>600</td>\n",
              "      <td>0.745500</td>\n",
              "      <td>0.688742</td>\n",
              "      <td>0.799788</td>\n",
              "      <td>0.799788</td>\n",
              "      <td>0.799788</td>\n",
              "      <td>0.773448</td>\n",
              "    </tr>\n",
              "    <tr>\n",
              "      <td>900</td>\n",
              "      <td>0.640400</td>\n",
              "      <td>0.633058</td>\n",
              "      <td>0.818730</td>\n",
              "      <td>0.818730</td>\n",
              "      <td>0.818730</td>\n",
              "      <td>0.796244</td>\n",
              "    </tr>\n",
              "    <tr>\n",
              "      <td>1200</td>\n",
              "      <td>0.598200</td>\n",
              "      <td>0.583044</td>\n",
              "      <td>0.828099</td>\n",
              "      <td>0.828099</td>\n",
              "      <td>0.828099</td>\n",
              "      <td>0.806213</td>\n",
              "    </tr>\n",
              "    <tr>\n",
              "      <td>1500</td>\n",
              "      <td>0.570100</td>\n",
              "      <td>0.562977</td>\n",
              "      <td>0.835513</td>\n",
              "      <td>0.835513</td>\n",
              "      <td>0.835513</td>\n",
              "      <td>0.814211</td>\n",
              "    </tr>\n",
              "    <tr>\n",
              "      <td>1800</td>\n",
              "      <td>0.557500</td>\n",
              "      <td>0.527718</td>\n",
              "      <td>0.844108</td>\n",
              "      <td>0.844108</td>\n",
              "      <td>0.844108</td>\n",
              "      <td>0.823689</td>\n",
              "    </tr>\n",
              "    <tr>\n",
              "      <td>2100</td>\n",
              "      <td>0.524100</td>\n",
              "      <td>0.525939</td>\n",
              "      <td>0.843904</td>\n",
              "      <td>0.843904</td>\n",
              "      <td>0.843904</td>\n",
              "      <td>0.823560</td>\n",
              "    </tr>\n",
              "    <tr>\n",
              "      <td>2400</td>\n",
              "      <td>0.519500</td>\n",
              "      <td>0.500283</td>\n",
              "      <td>0.852906</td>\n",
              "      <td>0.852906</td>\n",
              "      <td>0.852906</td>\n",
              "      <td>0.833437</td>\n",
              "    </tr>\n",
              "    <tr>\n",
              "      <td>2700</td>\n",
              "      <td>0.492300</td>\n",
              "      <td>0.484146</td>\n",
              "      <td>0.855880</td>\n",
              "      <td>0.855880</td>\n",
              "      <td>0.855880</td>\n",
              "      <td>0.837579</td>\n",
              "    </tr>\n",
              "    <tr>\n",
              "      <td>3000</td>\n",
              "      <td>0.453800</td>\n",
              "      <td>0.477517</td>\n",
              "      <td>0.855962</td>\n",
              "      <td>0.855962</td>\n",
              "      <td>0.855962</td>\n",
              "      <td>0.837510</td>\n",
              "    </tr>\n",
              "    <tr>\n",
              "      <td>3300</td>\n",
              "      <td>0.471500</td>\n",
              "      <td>0.458936</td>\n",
              "      <td>0.863375</td>\n",
              "      <td>0.863375</td>\n",
              "      <td>0.863375</td>\n",
              "      <td>0.845527</td>\n",
              "    </tr>\n",
              "    <tr>\n",
              "      <td>3600</td>\n",
              "      <td>0.465300</td>\n",
              "      <td>0.450403</td>\n",
              "      <td>0.863090</td>\n",
              "      <td>0.863090</td>\n",
              "      <td>0.863090</td>\n",
              "      <td>0.845353</td>\n",
              "    </tr>\n",
              "    <tr>\n",
              "      <td>3900</td>\n",
              "      <td>0.432400</td>\n",
              "      <td>0.445577</td>\n",
              "      <td>0.867164</td>\n",
              "      <td>0.867164</td>\n",
              "      <td>0.867164</td>\n",
              "      <td>0.850122</td>\n",
              "    </tr>\n",
              "    <tr>\n",
              "      <td>4200</td>\n",
              "      <td>0.421500</td>\n",
              "      <td>0.434758</td>\n",
              "      <td>0.870952</td>\n",
              "      <td>0.870952</td>\n",
              "      <td>0.870952</td>\n",
              "      <td>0.854187</td>\n",
              "    </tr>\n",
              "    <tr>\n",
              "      <td>4500</td>\n",
              "      <td>0.434000</td>\n",
              "      <td>0.418466</td>\n",
              "      <td>0.876044</td>\n",
              "      <td>0.876044</td>\n",
              "      <td>0.876044</td>\n",
              "      <td>0.859872</td>\n",
              "    </tr>\n",
              "    <tr>\n",
              "      <td>4800</td>\n",
              "      <td>0.428600</td>\n",
              "      <td>0.417064</td>\n",
              "      <td>0.876410</td>\n",
              "      <td>0.876410</td>\n",
              "      <td>0.876410</td>\n",
              "      <td>0.860367</td>\n",
              "    </tr>\n",
              "    <tr>\n",
              "      <td>5100</td>\n",
              "      <td>0.400900</td>\n",
              "      <td>0.404290</td>\n",
              "      <td>0.878651</td>\n",
              "      <td>0.878651</td>\n",
              "      <td>0.878651</td>\n",
              "      <td>0.862873</td>\n",
              "    </tr>\n",
              "    <tr>\n",
              "      <td>5400</td>\n",
              "      <td>0.401800</td>\n",
              "      <td>0.405645</td>\n",
              "      <td>0.879588</td>\n",
              "      <td>0.879588</td>\n",
              "      <td>0.879588</td>\n",
              "      <td>0.864064</td>\n",
              "    </tr>\n",
              "    <tr>\n",
              "      <td>5700</td>\n",
              "      <td>0.405300</td>\n",
              "      <td>0.391870</td>\n",
              "      <td>0.880647</td>\n",
              "      <td>0.880647</td>\n",
              "      <td>0.880647</td>\n",
              "      <td>0.865161</td>\n",
              "    </tr>\n",
              "    <tr>\n",
              "      <td>6000</td>\n",
              "      <td>0.390100</td>\n",
              "      <td>0.386994</td>\n",
              "      <td>0.884069</td>\n",
              "      <td>0.884069</td>\n",
              "      <td>0.884069</td>\n",
              "      <td>0.869073</td>\n",
              "    </tr>\n",
              "    <tr>\n",
              "      <td>6300</td>\n",
              "      <td>0.385900</td>\n",
              "      <td>0.385130</td>\n",
              "      <td>0.884272</td>\n",
              "      <td>0.884272</td>\n",
              "      <td>0.884272</td>\n",
              "      <td>0.869322</td>\n",
              "    </tr>\n",
              "    <tr>\n",
              "      <td>6600</td>\n",
              "      <td>0.377300</td>\n",
              "      <td>0.380813</td>\n",
              "      <td>0.884639</td>\n",
              "      <td>0.884639</td>\n",
              "      <td>0.884639</td>\n",
              "      <td>0.869714</td>\n",
              "    </tr>\n",
              "    <tr>\n",
              "      <td>6900</td>\n",
              "      <td>0.373500</td>\n",
              "      <td>0.378903</td>\n",
              "      <td>0.885291</td>\n",
              "      <td>0.885291</td>\n",
              "      <td>0.885291</td>\n",
              "      <td>0.870432</td>\n",
              "    </tr>\n",
              "  </tbody>\n",
              "</table><p>"
            ],
            "text/plain": [
              "<IPython.core.display.HTML object>"
            ]
          },
          "metadata": {},
          "output_type": "display_data"
        },
        {
          "name": "stdout",
          "output_type": "stream",
          "text": [
            "CPU times: user 2h 34min 36s, sys: 33.3 s, total: 2h 35min 9s\n",
            "Wall time: 2h 34min 42s\n"
          ]
        },
        {
          "data": {
            "text/plain": [
              "TrainOutput(global_step=6905, training_loss=0.5104286144126765, metrics={'train_runtime': 9282.3974, 'train_samples_per_second': 23.802, 'train_steps_per_second': 0.744, 'total_flos': 5.854406827064525e+16, 'train_loss': 0.5104286144126765, 'epoch': 1.0})"
            ]
          },
          "execution_count": 36,
          "metadata": {},
          "output_type": "execute_result"
        }
      ],
      "source": [
        "%%time\n",
        "trainer.train()"
      ]
    },
    {
      "cell_type": "code",
      "execution_count": null,
      "metadata": {
        "id": "lx_PAjSnWfjx"
      },
      "outputs": [],
      "source": [
        "trainer.save_model(\"./topcategorymodel\")"
      ]
    },
    {
      "cell_type": "markdown",
      "source": [
        "## Evaluation and Results"
      ],
      "metadata": {
        "id": "mMy8ow3AAzq1"
      }
    },
    {
      "cell_type": "code",
      "execution_count": null,
      "metadata": {
        "colab": {
          "base_uri": "https://localhost:8080/",
          "height": 17
        },
        "id": "NZNOtG6fWlJX",
        "outputId": "8a92a7ae-9acc-4ca2-b175-f08c58d9780a"
      },
      "outputs": [
        {
          "data": {
            "text/html": [],
            "text/plain": [
              "<IPython.core.display.HTML object>"
            ]
          },
          "metadata": {},
          "output_type": "display_data"
        }
      ],
      "source": [
        "val_predictions = trainer.predict(val_dataset)"
      ]
    },
    {
      "cell_type": "code",
      "execution_count": null,
      "metadata": {
        "colab": {
          "background_save": true
        },
        "id": "w1MjZRV-WmyF"
      },
      "outputs": [],
      "source": [
        "from sklearn.metrics import classification_report"
      ]
    },
    {
      "cell_type": "markdown",
      "metadata": {
        "id": "aabaknMLN51r"
      },
      "source": [
        "Lets check our F1 score on the validation dataset"
      ]
    },
    {
      "cell_type": "code",
      "execution_count": null,
      "metadata": {
        "colab": {
          "background_save": true
        },
        "id": "bQ-Yx1yJWoNd",
        "outputId": "cccfb20e-3e63-431f-fe50-0f674ae0fa20"
      },
      "outputs": [
        {
          "name": "stdout",
          "output_type": "stream",
          "text": [
            "              precision    recall  f1-score   support\n",
            "\n",
            "           0       0.83      0.83      0.83      1261\n",
            "           1       0.76      0.70      0.73       874\n",
            "           2       0.85      0.88      0.87       664\n",
            "           3       0.89      0.90      0.90      1243\n",
            "           4       0.91      0.91      0.91       738\n",
            "           5       0.93      0.97      0.95      3203\n",
            "           6       0.90      0.89      0.89      4235\n",
            "           7       0.89      0.91      0.90       818\n",
            "           8       0.89      0.92      0.90      5320\n",
            "           9       0.87      0.90      0.89       946\n",
            "          10       0.82      0.85      0.84      1081\n",
            "          11       0.95      0.92      0.94       655\n",
            "          12       0.95      0.96      0.96      1035\n",
            "          13       0.89      0.86      0.88      1443\n",
            "          14       0.75      0.58      0.66      1033\n",
            "\n",
            "    accuracy                           0.89     24549\n",
            "   macro avg       0.87      0.87      0.87     24549\n",
            "weighted avg       0.88      0.89      0.88     24549\n",
            "\n"
          ]
        }
      ],
      "source": [
        "print(classification_report(data_val['top_category_id'],val_predictions.predictions[0].argmax(axis=1)))"
      ]
    },
    {
      "cell_type": "code",
      "execution_count": null,
      "metadata": {
        "colab": {
          "base_uri": "https://localhost:8080/"
        },
        "id": "rsvjHtD7P93o",
        "outputId": "5268314d-99f0-42ec-c1dc-7dfdb39e4f1f"
      },
      "outputs": [
        {
          "name": "stdout",
          "output_type": "stream",
          "text": [
            "'./topcategorymodel' -> '/content/gdrive/MyDrive/etsy_trained_models/topcategorymodel'\n",
            "'./topcategorymodel/config.json' -> '/content/gdrive/MyDrive/etsy_trained_models/topcategorymodel/config.json'\n",
            "'./topcategorymodel/pytorch_model.bin' -> '/content/gdrive/MyDrive/etsy_trained_models/topcategorymodel/pytorch_model.bin'\n",
            "'./topcategorymodel/training_args.bin' -> '/content/gdrive/MyDrive/etsy_trained_models/topcategorymodel/training_args.bin'\n"
          ]
        }
      ],
      "source": [
        "%cp -av ./topcategorymodel /content/gdrive/MyDrive/etsy_trained_models/\n",
        "#code to move the model to google drive so that I dont lose it when i restart runtime"
      ]
    },
    {
      "cell_type": "code",
      "execution_count": null,
      "metadata": {
        "colab": {
          "base_uri": "https://localhost:8080/",
          "height": 398
        },
        "id": "kde-TM3Bc4NO",
        "outputId": "9bca65f2-cd3a-4ae5-938a-e62409b143b6"
      },
      "outputs": [
        {
          "ename": "RuntimeError",
          "evalue": "ignored",
          "output_type": "error",
          "traceback": [
            "\u001b[0;31m---------------------------------------------------------------------------\u001b[0m",
            "\u001b[0;31mRuntimeError\u001b[0m                              Traceback (most recent call last)",
            "\u001b[0;32m<ipython-input-42-d64dbb758207>\u001b[0m in \u001b[0;36m<cell line: 1>\u001b[0;34m()\u001b[0m\n\u001b[0;32m----> 1\u001b[0;31m \u001b[0mtest_predictions\u001b[0m \u001b[0;34m=\u001b[0m \u001b[0mtrainer\u001b[0m\u001b[0;34m.\u001b[0m\u001b[0mpredict\u001b[0m\u001b[0;34m(\u001b[0m\u001b[0mtest_dataset\u001b[0m\u001b[0;34m)\u001b[0m\u001b[0;34m\u001b[0m\u001b[0;34m\u001b[0m\u001b[0m\n\u001b[0m",
            "\u001b[0;32m/usr/local/lib/python3.9/dist-packages/transformers/trainer.py\u001b[0m in \u001b[0;36mpredict\u001b[0;34m(self, test_dataset, ignore_keys, metric_key_prefix)\u001b[0m\n\u001b[1;32m   3067\u001b[0m \u001b[0;34m\u001b[0m\u001b[0m\n\u001b[1;32m   3068\u001b[0m         \u001b[0meval_loop\u001b[0m \u001b[0;34m=\u001b[0m \u001b[0mself\u001b[0m\u001b[0;34m.\u001b[0m\u001b[0mprediction_loop\u001b[0m \u001b[0;32mif\u001b[0m \u001b[0mself\u001b[0m\u001b[0;34m.\u001b[0m\u001b[0margs\u001b[0m\u001b[0;34m.\u001b[0m\u001b[0muse_legacy_prediction_loop\u001b[0m \u001b[0;32melse\u001b[0m \u001b[0mself\u001b[0m\u001b[0;34m.\u001b[0m\u001b[0mevaluation_loop\u001b[0m\u001b[0;34m\u001b[0m\u001b[0;34m\u001b[0m\u001b[0m\n\u001b[0;32m-> 3069\u001b[0;31m         output = eval_loop(\n\u001b[0m\u001b[1;32m   3070\u001b[0m             \u001b[0mtest_dataloader\u001b[0m\u001b[0;34m,\u001b[0m \u001b[0mdescription\u001b[0m\u001b[0;34m=\u001b[0m\u001b[0;34m\"Prediction\"\u001b[0m\u001b[0;34m,\u001b[0m \u001b[0mignore_keys\u001b[0m\u001b[0;34m=\u001b[0m\u001b[0mignore_keys\u001b[0m\u001b[0;34m,\u001b[0m \u001b[0mmetric_key_prefix\u001b[0m\u001b[0;34m=\u001b[0m\u001b[0mmetric_key_prefix\u001b[0m\u001b[0;34m\u001b[0m\u001b[0;34m\u001b[0m\u001b[0m\n\u001b[1;32m   3071\u001b[0m         )\n",
            "\u001b[0;32m/usr/local/lib/python3.9/dist-packages/transformers/trainer.py\u001b[0m in \u001b[0;36mevaluation_loop\u001b[0;34m(self, dataloader, description, prediction_loss_only, ignore_keys, metric_key_prefix)\u001b[0m\n\u001b[1;32m   3195\u001b[0m                 )\n\u001b[1;32m   3196\u001b[0m             \u001b[0;32mif\u001b[0m \u001b[0mlogits\u001b[0m \u001b[0;32mis\u001b[0m \u001b[0;32mnot\u001b[0m \u001b[0;32mNone\u001b[0m\u001b[0;34m:\u001b[0m\u001b[0;34m\u001b[0m\u001b[0;34m\u001b[0m\u001b[0m\n\u001b[0;32m-> 3197\u001b[0;31m                 \u001b[0mlogits\u001b[0m \u001b[0;34m=\u001b[0m \u001b[0mself\u001b[0m\u001b[0;34m.\u001b[0m\u001b[0m_pad_across_processes\u001b[0m\u001b[0;34m(\u001b[0m\u001b[0mlogits\u001b[0m\u001b[0;34m)\u001b[0m\u001b[0;34m\u001b[0m\u001b[0;34m\u001b[0m\u001b[0m\n\u001b[0m\u001b[1;32m   3198\u001b[0m                 \u001b[0mlogits\u001b[0m \u001b[0;34m=\u001b[0m \u001b[0mself\u001b[0m\u001b[0;34m.\u001b[0m\u001b[0m_nested_gather\u001b[0m\u001b[0;34m(\u001b[0m\u001b[0mlogits\u001b[0m\u001b[0;34m)\u001b[0m\u001b[0;34m\u001b[0m\u001b[0;34m\u001b[0m\u001b[0m\n\u001b[1;32m   3199\u001b[0m                 \u001b[0;32mif\u001b[0m \u001b[0mself\u001b[0m\u001b[0;34m.\u001b[0m\u001b[0mpreprocess_logits_for_metrics\u001b[0m \u001b[0;32mis\u001b[0m \u001b[0;32mnot\u001b[0m \u001b[0;32mNone\u001b[0m\u001b[0;34m:\u001b[0m\u001b[0;34m\u001b[0m\u001b[0;34m\u001b[0m\u001b[0m\n",
            "\u001b[0;32m/usr/local/lib/python3.9/dist-packages/transformers/trainer.py\u001b[0m in \u001b[0;36m_pad_across_processes\u001b[0;34m(self, tensor, pad_index)\u001b[0m\n\u001b[1;32m   3322\u001b[0m         \"\"\"\n\u001b[1;32m   3323\u001b[0m         \u001b[0;32mif\u001b[0m \u001b[0misinstance\u001b[0m\u001b[0;34m(\u001b[0m\u001b[0mtensor\u001b[0m\u001b[0;34m,\u001b[0m \u001b[0;34m(\u001b[0m\u001b[0mlist\u001b[0m\u001b[0;34m,\u001b[0m \u001b[0mtuple\u001b[0m\u001b[0;34m)\u001b[0m\u001b[0;34m)\u001b[0m\u001b[0;34m:\u001b[0m\u001b[0;34m\u001b[0m\u001b[0;34m\u001b[0m\u001b[0m\n\u001b[0;32m-> 3324\u001b[0;31m             \u001b[0;32mreturn\u001b[0m \u001b[0mtype\u001b[0m\u001b[0;34m(\u001b[0m\u001b[0mtensor\u001b[0m\u001b[0;34m)\u001b[0m\u001b[0;34m(\u001b[0m\u001b[0mself\u001b[0m\u001b[0;34m.\u001b[0m\u001b[0m_pad_across_processes\u001b[0m\u001b[0;34m(\u001b[0m\u001b[0mt\u001b[0m\u001b[0;34m,\u001b[0m \u001b[0mpad_index\u001b[0m\u001b[0;34m=\u001b[0m\u001b[0mpad_index\u001b[0m\u001b[0;34m)\u001b[0m \u001b[0;32mfor\u001b[0m \u001b[0mt\u001b[0m \u001b[0;32min\u001b[0m \u001b[0mtensor\u001b[0m\u001b[0;34m)\u001b[0m\u001b[0;34m\u001b[0m\u001b[0;34m\u001b[0m\u001b[0m\n\u001b[0m\u001b[1;32m   3325\u001b[0m         \u001b[0;32melif\u001b[0m \u001b[0misinstance\u001b[0m\u001b[0;34m(\u001b[0m\u001b[0mtensor\u001b[0m\u001b[0;34m,\u001b[0m \u001b[0mdict\u001b[0m\u001b[0;34m)\u001b[0m\u001b[0;34m:\u001b[0m\u001b[0;34m\u001b[0m\u001b[0;34m\u001b[0m\u001b[0m\n\u001b[1;32m   3326\u001b[0m             \u001b[0;32mreturn\u001b[0m \u001b[0mtype\u001b[0m\u001b[0;34m(\u001b[0m\u001b[0mtensor\u001b[0m\u001b[0;34m)\u001b[0m\u001b[0;34m(\u001b[0m\u001b[0;34m{\u001b[0m\u001b[0mk\u001b[0m\u001b[0;34m:\u001b[0m \u001b[0mself\u001b[0m\u001b[0;34m.\u001b[0m\u001b[0m_pad_across_processes\u001b[0m\u001b[0;34m(\u001b[0m\u001b[0mv\u001b[0m\u001b[0;34m,\u001b[0m \u001b[0mpad_index\u001b[0m\u001b[0;34m=\u001b[0m\u001b[0mpad_index\u001b[0m\u001b[0;34m)\u001b[0m \u001b[0;32mfor\u001b[0m \u001b[0mk\u001b[0m\u001b[0;34m,\u001b[0m \u001b[0mv\u001b[0m \u001b[0;32min\u001b[0m \u001b[0mtensor\u001b[0m\u001b[0;34m.\u001b[0m\u001b[0mitems\u001b[0m\u001b[0;34m(\u001b[0m\u001b[0;34m)\u001b[0m\u001b[0;34m}\u001b[0m\u001b[0;34m)\u001b[0m\u001b[0;34m\u001b[0m\u001b[0;34m\u001b[0m\u001b[0m\n",
            "\u001b[0;32m/usr/local/lib/python3.9/dist-packages/transformers/trainer.py\u001b[0m in \u001b[0;36m<genexpr>\u001b[0;34m(.0)\u001b[0m\n\u001b[1;32m   3322\u001b[0m         \"\"\"\n\u001b[1;32m   3323\u001b[0m         \u001b[0;32mif\u001b[0m \u001b[0misinstance\u001b[0m\u001b[0;34m(\u001b[0m\u001b[0mtensor\u001b[0m\u001b[0;34m,\u001b[0m \u001b[0;34m(\u001b[0m\u001b[0mlist\u001b[0m\u001b[0;34m,\u001b[0m \u001b[0mtuple\u001b[0m\u001b[0;34m)\u001b[0m\u001b[0;34m)\u001b[0m\u001b[0;34m:\u001b[0m\u001b[0;34m\u001b[0m\u001b[0;34m\u001b[0m\u001b[0m\n\u001b[0;32m-> 3324\u001b[0;31m             \u001b[0;32mreturn\u001b[0m \u001b[0mtype\u001b[0m\u001b[0;34m(\u001b[0m\u001b[0mtensor\u001b[0m\u001b[0;34m)\u001b[0m\u001b[0;34m(\u001b[0m\u001b[0mself\u001b[0m\u001b[0;34m.\u001b[0m\u001b[0m_pad_across_processes\u001b[0m\u001b[0;34m(\u001b[0m\u001b[0mt\u001b[0m\u001b[0;34m,\u001b[0m \u001b[0mpad_index\u001b[0m\u001b[0;34m=\u001b[0m\u001b[0mpad_index\u001b[0m\u001b[0;34m)\u001b[0m \u001b[0;32mfor\u001b[0m \u001b[0mt\u001b[0m \u001b[0;32min\u001b[0m \u001b[0mtensor\u001b[0m\u001b[0;34m)\u001b[0m\u001b[0;34m\u001b[0m\u001b[0;34m\u001b[0m\u001b[0m\n\u001b[0m\u001b[1;32m   3325\u001b[0m         \u001b[0;32melif\u001b[0m \u001b[0misinstance\u001b[0m\u001b[0;34m(\u001b[0m\u001b[0mtensor\u001b[0m\u001b[0;34m,\u001b[0m \u001b[0mdict\u001b[0m\u001b[0;34m)\u001b[0m\u001b[0;34m:\u001b[0m\u001b[0;34m\u001b[0m\u001b[0;34m\u001b[0m\u001b[0m\n\u001b[1;32m   3326\u001b[0m             \u001b[0;32mreturn\u001b[0m \u001b[0mtype\u001b[0m\u001b[0;34m(\u001b[0m\u001b[0mtensor\u001b[0m\u001b[0;34m)\u001b[0m\u001b[0;34m(\u001b[0m\u001b[0;34m{\u001b[0m\u001b[0mk\u001b[0m\u001b[0;34m:\u001b[0m \u001b[0mself\u001b[0m\u001b[0;34m.\u001b[0m\u001b[0m_pad_across_processes\u001b[0m\u001b[0;34m(\u001b[0m\u001b[0mv\u001b[0m\u001b[0;34m,\u001b[0m \u001b[0mpad_index\u001b[0m\u001b[0;34m=\u001b[0m\u001b[0mpad_index\u001b[0m\u001b[0;34m)\u001b[0m \u001b[0;32mfor\u001b[0m \u001b[0mk\u001b[0m\u001b[0;34m,\u001b[0m \u001b[0mv\u001b[0m \u001b[0;32min\u001b[0m \u001b[0mtensor\u001b[0m\u001b[0;34m.\u001b[0m\u001b[0mitems\u001b[0m\u001b[0;34m(\u001b[0m\u001b[0;34m)\u001b[0m\u001b[0;34m}\u001b[0m\u001b[0;34m)\u001b[0m\u001b[0;34m\u001b[0m\u001b[0;34m\u001b[0m\u001b[0m\n",
            "\u001b[0;32m/usr/local/lib/python3.9/dist-packages/transformers/trainer.py\u001b[0m in \u001b[0;36m_pad_across_processes\u001b[0;34m(self, tensor, pad_index)\u001b[0m\n\u001b[1;32m   3333\u001b[0m             \u001b[0;32mreturn\u001b[0m \u001b[0mtensor\u001b[0m\u001b[0;34m\u001b[0m\u001b[0;34m\u001b[0m\u001b[0m\n\u001b[1;32m   3334\u001b[0m         \u001b[0;31m# Gather all sizes\u001b[0m\u001b[0;34m\u001b[0m\u001b[0;34m\u001b[0m\u001b[0m\n\u001b[0;32m-> 3335\u001b[0;31m         \u001b[0msize\u001b[0m \u001b[0;34m=\u001b[0m \u001b[0mtorch\u001b[0m\u001b[0;34m.\u001b[0m\u001b[0mtensor\u001b[0m\u001b[0;34m(\u001b[0m\u001b[0mtensor\u001b[0m\u001b[0;34m.\u001b[0m\u001b[0mshape\u001b[0m\u001b[0;34m,\u001b[0m \u001b[0mdevice\u001b[0m\u001b[0;34m=\u001b[0m\u001b[0mtensor\u001b[0m\u001b[0;34m.\u001b[0m\u001b[0mdevice\u001b[0m\u001b[0;34m)\u001b[0m\u001b[0;34m[\u001b[0m\u001b[0;32mNone\u001b[0m\u001b[0;34m]\u001b[0m\u001b[0;34m\u001b[0m\u001b[0;34m\u001b[0m\u001b[0m\n\u001b[0m\u001b[1;32m   3336\u001b[0m         \u001b[0msizes\u001b[0m \u001b[0;34m=\u001b[0m \u001b[0mself\u001b[0m\u001b[0;34m.\u001b[0m\u001b[0m_nested_gather\u001b[0m\u001b[0;34m(\u001b[0m\u001b[0msize\u001b[0m\u001b[0;34m)\u001b[0m\u001b[0;34m.\u001b[0m\u001b[0mcpu\u001b[0m\u001b[0;34m(\u001b[0m\u001b[0;34m)\u001b[0m\u001b[0;34m\u001b[0m\u001b[0;34m\u001b[0m\u001b[0m\n\u001b[1;32m   3337\u001b[0m \u001b[0;34m\u001b[0m\u001b[0m\n",
            "\u001b[0;31mRuntimeError\u001b[0m: CUDA error: device-side assert triggered\nCUDA kernel errors might be asynchronously reported at some other API call, so the stacktrace below might be incorrect.\nFor debugging consider passing CUDA_LAUNCH_BLOCKING=1.\nCompile with `TORCH_USE_CUDA_DSA` to enable device-side assertions.\n"
          ]
        }
      ],
      "source": [
        "test_predictions = trainer.predict(test_dataset)"
      ]
    },
    {
      "cell_type": "markdown",
      "metadata": {
        "id": "RnhZSJTYfDgq"
      },
      "source": [
        "Below code is to load model from local(or drive)\n",
        "\n",
        "\n",
        "\n"
      ]
    },
    {
      "cell_type": "markdown",
      "metadata": {
        "id": "D_mVzSuxMsQR"
      },
      "source": [
        "Most of the time I run out of memmory or my runtime crashes or CUDA gets blocked when I get to my test predictions. In that case I save the model and simply load it again and run the test predictions."
      ]
    },
    {
      "cell_type": "code",
      "execution_count": null,
      "metadata": {
        "colab": {
          "base_uri": "https://localhost:8080/"
        },
        "id": "tT-Pvv_T-Bwg",
        "outputId": "408a5874-86b0-4b5f-98ae-8dc074bed1bb"
      },
      "outputs": [
        {
          "output_type": "execute_result",
          "data": {
            "text/plain": [
              "BertWithTabular(\n",
              "  (bert): BertModel(\n",
              "    (embeddings): BertEmbeddings(\n",
              "      (word_embeddings): Embedding(30522, 768, padding_idx=0)\n",
              "      (position_embeddings): Embedding(512, 768)\n",
              "      (token_type_embeddings): Embedding(2, 768)\n",
              "      (LayerNorm): LayerNorm((768,), eps=1e-12, elementwise_affine=True)\n",
              "      (dropout): Dropout(p=0.1, inplace=False)\n",
              "    )\n",
              "    (encoder): BertEncoder(\n",
              "      (layer): ModuleList(\n",
              "        (0-11): 12 x BertLayer(\n",
              "          (attention): BertAttention(\n",
              "            (self): BertSelfAttention(\n",
              "              (query): Linear(in_features=768, out_features=768, bias=True)\n",
              "              (key): Linear(in_features=768, out_features=768, bias=True)\n",
              "              (value): Linear(in_features=768, out_features=768, bias=True)\n",
              "              (dropout): Dropout(p=0.1, inplace=False)\n",
              "            )\n",
              "            (output): BertSelfOutput(\n",
              "              (dense): Linear(in_features=768, out_features=768, bias=True)\n",
              "              (LayerNorm): LayerNorm((768,), eps=1e-12, elementwise_affine=True)\n",
              "              (dropout): Dropout(p=0.1, inplace=False)\n",
              "            )\n",
              "          )\n",
              "          (intermediate): BertIntermediate(\n",
              "            (dense): Linear(in_features=768, out_features=3072, bias=True)\n",
              "            (intermediate_act_fn): GELUActivation()\n",
              "          )\n",
              "          (output): BertOutput(\n",
              "            (dense): Linear(in_features=3072, out_features=768, bias=True)\n",
              "            (LayerNorm): LayerNorm((768,), eps=1e-12, elementwise_affine=True)\n",
              "            (dropout): Dropout(p=0.1, inplace=False)\n",
              "          )\n",
              "        )\n",
              "      )\n",
              "    )\n",
              "    (pooler): BertPooler(\n",
              "      (dense): Linear(in_features=768, out_features=768, bias=True)\n",
              "      (activation): Tanh()\n",
              "    )\n",
              "  )\n",
              "  (dropout): Dropout(p=0.1, inplace=False)\n",
              "  (classifier): Linear(in_features=768, out_features=2, bias=True)\n",
              "  (tabular_combiner): TabularFeatCombiner(\n",
              "    (act_func): ReLU()\n",
              "    (g_cat_layer): Linear(in_features=771, out_features=768, bias=True)\n",
              "    (dropout_cat): Dropout(p=0.1, inplace=False)\n",
              "    (h_cat_layer): Linear(in_features=3, out_features=768, bias=False)\n",
              "    (layer_norm): LayerNorm((768,), eps=1e-05, elementwise_affine=True)\n",
              "  )\n",
              "  (tabular_classifier): Linear(in_features=768, out_features=15, bias=True)\n",
              ")"
            ]
          },
          "metadata": {},
          "execution_count": 27
        }
      ],
      "source": [
        "model = AutoModelWithTabular.from_pretrained(\"/content/gdrive/MyDrive/etsy_trained_models/topcategorymodel/\")\n",
        "model.to(device)\n",
        "model.eval()"
      ]
    },
    {
      "cell_type": "code",
      "execution_count": null,
      "metadata": {
        "colab": {
          "base_uri": "https://localhost:8080/"
        },
        "id": "CGy8EzBY8Lvd",
        "outputId": "d60ea188-1f14-4a45-e37a-403701df60ec"
      },
      "outputs": [
        {
          "data": {
            "text/plain": [
              "<multimodal_transformers.data.tabular_torch_dataset.TorchTabularTextDataset at 0x7f4a7c677f40>"
            ]
          },
          "execution_count": 31,
          "metadata": {},
          "output_type": "execute_result"
        }
      ],
      "source": [
        "val_dataset"
      ]
    },
    {
      "cell_type": "code",
      "execution_count": null,
      "metadata": {
        "colab": {
          "base_uri": "https://localhost:8080/"
        },
        "id": "7eDL2dBL8EeA",
        "outputId": "bfa8ca2f-8b64-4f1e-973e-6a552d23c2b3"
      },
      "outputs": [
        {
          "data": {
            "text/plain": [
              "<multimodal_transformers.data.tabular_torch_dataset.TorchTabularTextDataset at 0x7f4a756f0310>"
            ]
          },
          "execution_count": 32,
          "metadata": {},
          "output_type": "execute_result"
        }
      ],
      "source": [
        "test_dataset"
      ]
    },
    {
      "cell_type": "code",
      "execution_count": null,
      "metadata": {
        "id": "BuNAM1s6-mpE"
      },
      "outputs": [],
      "source": [
        "test_dataloader = torch.utils.data.DataLoader(test_dataset, batch_size=32)\n",
        "test_predictions = []\n",
        "with torch.no_grad():\n",
        "    for batch in test_dataloader:\n",
        "        # Move the input data to the device where the model is located\n",
        "        input_ids = batch['input_ids'].to(device)\n",
        "        attention_mask = batch['attention_mask'].to(device)\n",
        "        cat_feats = batch['cat_feats'].to(device)\n",
        "\n",
        "        # Make predictions using the model\n",
        "        outputs = model(input_ids, attention_mask, cat_feats=cat_feats)[1]\n",
        "\n",
        "        # Convert the model outputs to a numpy array\n",
        "        numpy_outputs = outputs.argmax(axis=1).cpu().numpy().tolist()\n",
        "\n",
        "        # Add the predictions to the list of predictions\n",
        "        test_predictions.extend(numpy_outputs)"
      ]
    },
    {
      "cell_type": "markdown",
      "metadata": {
        "id": "6mZGh423by0y"
      },
      "source": [
        "Storing the results"
      ]
    },
    {
      "cell_type": "code",
      "source": [
        "data_test['top_category_id'] = test_predictions"
      ],
      "metadata": {
        "id": "tiuLIYDqGvaX"
      },
      "execution_count": null,
      "outputs": []
    },
    {
      "cell_type": "markdown",
      "source": [
        "Saving the predictions and product_id to predictions.csv\n",
        "I will add the predictions for each model into this csv and then covert it to parquet for final submission"
      ],
      "metadata": {
        "id": "hsNzLu-SVZLG"
      }
    },
    {
      "cell_type": "markdown",
      "source": [],
      "metadata": {
        "id": "15AZw6HMVeF8"
      }
    },
    {
      "cell_type": "code",
      "source": [
        "data_test[['product_id','top_category_id']].to_csv('/content/gdrive/MyDrive/prediction.csv')"
      ],
      "metadata": {
        "id": "01j35lxcMJfe"
      },
      "execution_count": null,
      "outputs": []
    },
    {
      "cell_type": "markdown",
      "metadata": {
        "id": "CsyPu1SDOnM7"
      },
      "source": [
        "# Color With Bert"
      ]
    },
    {
      "cell_type": "markdown",
      "metadata": {
        "id": "xSxugDrfOnM8"
      },
      "source": [
        "## Data Preparing and preprocessing\n",
        "\n",
        "There isnt much preprocessing and prepping other than just cleaning and arranging the data because of several errors that I faced during my several trial runs."
      ]
    },
    {
      "cell_type": "code",
      "execution_count": null,
      "metadata": {
        "colab": {
          "base_uri": "https://localhost:8080/"
        },
        "id": "A9fCrtSgR2Kz",
        "outputId": "c93c4220-7091-4c52-f9c4-249c9eaf4bfc"
      },
      "outputs": [
        {
          "output_type": "execute_result",
          "data": {
            "text/plain": [
              "color_text\n",
              "black        32537\n",
              "white        31194\n",
              "blue         26972\n",
              "brown        22891\n",
              "green        15675\n",
              "pink         15499\n",
              "red          15243\n",
              "silver       14892\n",
              "beige        12664\n",
              "gold         10728\n",
              "other         9920\n",
              "yellow        7406\n",
              "purple        6639\n",
              "clear         6337\n",
              "orange        5346\n",
              "rainbow       5226\n",
              "bronze        2922\n",
              "copper        2237\n",
              "rose gold     1156\n",
              "grey             1\n",
              "Name: count, dtype: int64"
            ]
          },
          "metadata": {},
          "execution_count": 13
        }
      ],
      "source": [
        "data_train['color_text'].value_counts()\n"
      ]
    },
    {
      "cell_type": "markdown",
      "metadata": {
        "id": "90Zec87cR_ng"
      },
      "source": [
        "There is only one row for Grey. It will be impossible to train this when we split training and validation grey will be there only in one of them... For this reason I am dropping grey."
      ]
    },
    {
      "cell_type": "code",
      "execution_count": null,
      "metadata": {
        "id": "TU0awHd1Rp8k"
      },
      "outputs": [],
      "source": [
        "data_train = data_train[data_train['color_id'] != 8]"
      ]
    },
    {
      "cell_type": "code",
      "execution_count": null,
      "metadata": {
        "id": "2MP8qkzFQPAz"
      },
      "outputs": [],
      "source": [
        "color_trainingID, _ = pd.factorize(data_train['color_text'])"
      ]
    },
    {
      "cell_type": "markdown",
      "metadata": {
        "id": "8BMhYi1VShgY"
      },
      "source": [
        "This model of bert that I use needs continous variables so I am making my own mapping. I could use color_id but we just deleted grey which would make it not continous."
      ]
    },
    {
      "cell_type": "code",
      "execution_count": null,
      "metadata": {
        "id": "xIJvV3bUQQqp"
      },
      "outputs": [],
      "source": [
        "data_train['color_trainingID'] = color_trainingID"
      ]
    },
    {
      "cell_type": "code",
      "execution_count": null,
      "metadata": {
        "colab": {
          "base_uri": "https://localhost:8080/"
        },
        "id": "jhG8WCVSQWpr",
        "outputId": "99cd0e7b-a2b6-4158-a7f2-943f7088ffac"
      },
      "outputs": [
        {
          "output_type": "execute_result",
          "data": {
            "text/plain": [
              "color_trainingID\n",
              "1     32537\n",
              "7     31194\n",
              "2     26972\n",
              "3     22891\n",
              "5     15675\n",
              "11    15499\n",
              "6     15243\n",
              "9     14892\n",
              "13    12664\n",
              "12    10728\n",
              "14     9920\n",
              "4      7406\n",
              "0      6639\n",
              "8      6337\n",
              "10     5346\n",
              "16     5226\n",
              "18     2922\n",
              "15     2237\n",
              "17     1156\n",
              "Name: count, dtype: int64"
            ]
          },
          "metadata": {},
          "execution_count": 18
        }
      ],
      "source": [
        "data_train['color_trainingID'].value_counts()\n"
      ]
    },
    {
      "cell_type": "markdown",
      "metadata": {
        "id": "H-tKkw_UOnM8"
      },
      "source": []
    },
    {
      "cell_type": "markdown",
      "metadata": {
        "id": "ZSWatSXoOnM8"
      },
      "source": [
        "While doing my testing and inital trial, I Used a subset of the data. This helped me run multiple ideas on free colab and get faster results. Of course the accuracy and F1 scores were bad but at least I got an idea that helped me sort out what to do with the whole dataset. The codes below are commented because I didnt use them while running the entire dataset. They were used for my inital trials."
      ]
    },
    {
      "cell_type": "code",
      "execution_count": null,
      "metadata": {
        "id": "AdUTFhwnOnM8"
      },
      "outputs": [],
      "source": [
        "# import random\n",
        "# data_train = data_train.sample(n=20000,random_state=3)"
      ]
    },
    {
      "cell_type": "code",
      "execution_count": null,
      "metadata": {
        "id": "VZ-KgPeAOnM8"
      },
      "outputs": [],
      "source": [
        "# data_test = data_test.sample(n=2000,random_state=3)"
      ]
    },
    {
      "cell_type": "markdown",
      "metadata": {
        "id": "-8QL-dIvOnM8"
      },
      "source": [
        "The below code is for splitting the train dataset into training and validation.\n",
        "For this  model we are going to predict 'color_trainingID' ( later we will map it to color_id)"
      ]
    },
    {
      "cell_type": "code",
      "execution_count": null,
      "metadata": {
        "id": "A9YyRUUIOnM8"
      },
      "outputs": [],
      "source": [
        "from sklearn.model_selection import train_test_split\n",
        "\n",
        "df_training, data_val = train_test_split(\n",
        "    data_train,\n",
        "    test_size=0.1,\n",
        "    stratify=data_train['color_trainingID'],\n",
        "    random_state=42)"
      ]
    },
    {
      "cell_type": "markdown",
      "metadata": {
        "id": "dyBy-0TAOnM8"
      },
      "source": [
        "The codes below are for fixing some indexes and ensuring there are no duplicate indexes because that messes up when inputing into the model.\n",
        "I faced these errors and fixed them by debugging and referring stackoverflow"
      ]
    },
    {
      "cell_type": "code",
      "execution_count": null,
      "metadata": {
        "id": "b6l6rzOCOnM8"
      },
      "outputs": [],
      "source": [
        "df_training.reset_index(drop=True, inplace=True)\n",
        "data_test.reset_index(drop=True, inplace=True)\n",
        "data_val.reset_index(drop=True, inplace=True)"
      ]
    },
    {
      "cell_type": "code",
      "execution_count": null,
      "metadata": {
        "id": "266rQlVKOnM9"
      },
      "outputs": [],
      "source": [
        "df_training[\"Unnamed: 0\"] = list(range(df_training.shape[0]))\n",
        "data_val[\"Unnamed: 0\"] = list(range(df_training.shape[0], df_training.shape[0] + data_val.shape[0]))\n",
        "data_test[\"Unnamed: 0\"] = list(range(df_training.shape[0] + data_val.shape[0], df_training.shape[0] + data_val.shape[0] + data_test.shape[0]))"
      ]
    },
    {
      "cell_type": "markdown",
      "metadata": {
        "id": "xBInYgjwOnM9"
      },
      "source": [
        "Storing it as csv because the dataset loader function takes csv"
      ]
    },
    {
      "cell_type": "code",
      "execution_count": null,
      "metadata": {
        "id": "9uV87UwFOnM9"
      },
      "outputs": [],
      "source": [
        "df_training.to_csv('train.csv',index=False)\n",
        "data_test.to_csv('test.csv',index=False)\n",
        "data_val.to_csv('val.csv',index=False)"
      ]
    },
    {
      "cell_type": "markdown",
      "metadata": {
        "id": "Tn9I2ew5OnM9"
      },
      "source": [
        "## Model prep and training"
      ]
    },
    {
      "cell_type": "code",
      "execution_count": null,
      "metadata": {
        "id": "qq3SdLTNOnM9"
      },
      "outputs": [],
      "source": [
        "@dataclass\n",
        "class ModelArguments:\n",
        "  \"\"\"\n",
        "  Arguments pertaining to which model/config/tokenizer we are going to fine-tune from.\n",
        "  \"\"\"\n",
        "\n",
        "  model_name_or_path: str = field(\n",
        "      metadata={\"help\": \"Path to pretrained model or model identifier from huggingface.co/models\"}\n",
        "  )\n",
        "  config_name: Optional[str] = field(\n",
        "      default=None, metadata={\"help\": \"Pretrained config name or path if not the same as model_name\"}\n",
        "  )\n",
        "  tokenizer_name: Optional[str] = field(\n",
        "      default=None, metadata={\"help\": \"Pretrained tokenizer name or path if not the same as model_name\"}\n",
        "  )\n",
        "  cache_dir: Optional[str] = field(\n",
        "      default=None, metadata={\"help\": \"Where do you want to store the pretrained models downloaded from s3\"}\n",
        "  )\n",
        "\n",
        "\n",
        "@dataclass\n",
        "class MultimodalDataTrainingArguments:\n",
        "  \"\"\"\n",
        "  Arguments pertaining to how we combine tabular features\n",
        "  Using `HfArgumentParser` we can turn this class\n",
        "  into argparse arguments to be able to specify them on\n",
        "  the command line.\n",
        "  \"\"\"\n",
        "\n",
        "  data_path: str = field(metadata={\n",
        "                            'help': 'the path to the csv file containing the dataset'\n",
        "                        })\n",
        "  column_info_path: str = field(\n",
        "      default=None,\n",
        "      metadata={\n",
        "          'help': 'the path to the json file detailing which columns are text, categorical, numerical, and the label'\n",
        "  })\n",
        "\n",
        "  column_info: dict = field(\n",
        "      default=None,\n",
        "      metadata={\n",
        "          'help': 'a dict referencing the text, categorical, numerical, and label columns'\n",
        "                  'its keys are text_cols, num_cols, cat_cols, and label_col'\n",
        "  })\n",
        "\n",
        "  categorical_encode_type: str = field(default='ohe',\n",
        "                                        metadata={\n",
        "                                            'help': 'sklearn encoder to use for categorical data',\n",
        "                                            'choices': ['ohe', 'binary', 'label', 'none']\n",
        "                                        })\n",
        "  numerical_transformer_method: str = field(default='yeo_johnson',\n",
        "                                            metadata={\n",
        "                                                'help': 'sklearn numerical transformer to preprocess numerical data',\n",
        "                                                'choices': ['yeo_johnson', 'box_cox', 'quantile_normal', 'none']\n",
        "                                            })\n",
        "  task: str = field(default=\"classification\",\n",
        "                    metadata={\n",
        "                        \"help\": \"The downstream training task\",\n",
        "                        \"choices\": [\"classification\", \"regression\"]\n",
        "                    })\n",
        "\n",
        "  mlp_division: int = field(default=4,\n",
        "                            metadata={\n",
        "                                'help': 'the ratio of the number of '\n",
        "                                        'hidden dims in a current layer to the next MLP layer'\n",
        "                            })\n",
        "  combine_feat_method: str = field(default='individual_mlps_on_cat_and_numerical_feats_then_concat',\n",
        "                                    metadata={\n",
        "                                        'help': 'method to combine categorical and numerical features, '\n",
        "                                                'see README for all the method'\n",
        "                                    })\n",
        "  mlp_dropout: float = field(default=0.1,\n",
        "                              metadata={\n",
        "                                'help': 'dropout ratio used for MLP layers'\n",
        "                              })\n",
        "  numerical_bn: bool = field(default=True,\n",
        "                              metadata={\n",
        "                                  'help': 'whether to use batchnorm on numerical features'\n",
        "                              })\n",
        "  use_simple_classifier: str = field(default=True,\n",
        "                                      metadata={\n",
        "                                          'help': 'whether to use single layer or MLP as final classifier'\n",
        "                                      })\n",
        "  mlp_act: str = field(default='relu',\n",
        "                        metadata={\n",
        "                            'help': 'the activation function to use for finetuning layers',\n",
        "                            'choices': ['relu', 'prelu', 'sigmoid', 'tanh', 'linear']\n",
        "                        })\n",
        "  gating_beta: float = field(default=0.2,\n",
        "                              metadata={\n",
        "                                  'help': \"the beta hyperparameters used for gating tabular data \"\n",
        "                                          \"see https://www.aclweb.org/anthology/2020.acl-main.214.pdf\"\n",
        "                              })\n",
        "\n",
        "  def __post_init__(self):\n",
        "      assert self.column_info != self.column_info_path\n",
        "      if self.column_info is None and self.column_info_path:\n",
        "          with open(self.column_info_path, 'r') as f:\n",
        "              self.column_info = json.load(f)"
      ]
    },
    {
      "cell_type": "code",
      "execution_count": null,
      "metadata": {
        "id": "aqmB23coOnM9"
      },
      "outputs": [],
      "source": [
        "text_cols = ['title', 'description', 'tags'] # these are the columns that I am using to predict top_category_id\n",
        "cat_cols = ['type']\n",
        "numerical_cols = []\n",
        "\n",
        "column_info_dict = {\n",
        "    'text_cols': text_cols,\n",
        "    'num_cols': numerical_cols,\n",
        "    'cat_cols': cat_cols,\n",
        "    'label_col': 'color_trainingID', # what i need to predict\n",
        "    'label_list': data_train['color_trainingID'].unique() #the different labels that the product can fall into aka the classes\n",
        "}\n",
        "\n",
        "\n",
        "model_args = ModelArguments(\n",
        "    model_name_or_path='bert-base-uncased'\n",
        ")\n",
        "\n",
        "data_args = MultimodalDataTrainingArguments(\n",
        "    data_path='.',\n",
        "    combine_feat_method='gating_on_cat_and_num_feats_then_sum', #?\n",
        "    column_info=column_info_dict,\n",
        "    task='classification',\n",
        "\n",
        ")\n",
        "\n",
        "training_args = TrainingArguments(\n",
        "    output_dir=\"./logs/model_name\",\n",
        "    logging_dir=\"./logs/runs\",\n",
        "    overwrite_output_dir=True,\n",
        "    do_train=True,\n",
        "    do_eval=True,\n",
        "    per_device_train_batch_size=32,\n",
        "    num_train_epochs=1,\n",
        "    evaluation_strategy='steps',\n",
        "    eval_steps=700,\n",
        "    logging_steps=700\n",
        ")\n",
        "\n",
        "set_seed(training_args.seed)"
      ]
    },
    {
      "cell_type": "code",
      "execution_count": null,
      "metadata": {
        "colab": {
          "base_uri": "https://localhost:8080/"
        },
        "id": "-UkH-RmEOnM9",
        "outputId": "3ae18ab9-cd3d-4ceb-e683-f597bb93ef51"
      },
      "outputs": [
        {
          "output_type": "stream",
          "name": "stdout",
          "text": [
            "Specified tokenizer:  bert-base-uncased\n"
          ]
        }
      ],
      "source": [
        "tokenizer_path_or_name = model_args.tokenizer_name if model_args.tokenizer_name else model_args.model_name_or_path\n",
        "print('Specified tokenizer: ', tokenizer_path_or_name)\n",
        "tokenizer = AutoTokenizer.from_pretrained(\n",
        "    tokenizer_path_or_name,\n",
        "    cache_dir=model_args.cache_dir,\n",
        ")"
      ]
    },
    {
      "cell_type": "code",
      "execution_count": null,
      "metadata": {
        "id": "vDbPDzVnOnM-"
      },
      "outputs": [],
      "source": [
        "# Get Datasets\n",
        "train_dataset, val_dataset, test_dataset = load_data_from_folder(\n",
        "    data_args.data_path,\n",
        "    data_args.column_info['text_cols'],\n",
        "    tokenizer,\n",
        "    label_col=data_args.column_info['label_col'],\n",
        "    label_list=data_args.column_info['label_list'],\n",
        "    categorical_cols=data_args.column_info['cat_cols'],\n",
        "    numerical_cols=data_args.column_info['num_cols'],\n",
        "    sep_text_token_str=tokenizer.sep_token,\n",
        "    numerical_transformer_method = 'none'\n",
        ")"
      ]
    },
    {
      "cell_type": "code",
      "execution_count": null,
      "metadata": {
        "colab": {
          "base_uri": "https://localhost:8080/"
        },
        "id": "jQQ06z5BOnM-",
        "outputId": "12e9d3b3-3a7c-48fe-8119-e585791c5c6b"
      },
      "outputs": [
        {
          "output_type": "execute_result",
          "data": {
            "text/plain": [
              "19"
            ]
          },
          "metadata": {},
          "execution_count": 29
        }
      ],
      "source": [
        "num_labels = len(np.unique(train_dataset.labels))\n",
        "num_labels"
      ]
    },
    {
      "cell_type": "code",
      "execution_count": null,
      "metadata": {
        "id": "ZydqqO23OnM-"
      },
      "outputs": [],
      "source": [
        "config = AutoConfig.from_pretrained(\n",
        "        model_args.config_name if model_args.config_name else model_args.model_name_or_path,\n",
        "        cache_dir=model_args.cache_dir,\n",
        "    )\n",
        "tabular_config = TabularConfig(num_labels=num_labels,\n",
        "                               cat_feat_dim=train_dataset.cat_feats.shape[1],\n",
        "                               numerical_feat_dim=0,\n",
        "                               **vars(data_args))\n",
        "config.tabular_config = tabular_config"
      ]
    },
    {
      "cell_type": "code",
      "execution_count": null,
      "metadata": {
        "colab": {
          "base_uri": "https://localhost:8080/"
        },
        "id": "_IkJzntfOnM-",
        "outputId": "0b976a21-53f1-484b-b8c7-4566024e1c4a"
      },
      "outputs": [
        {
          "output_type": "execute_result",
          "data": {
            "text/plain": [
              "True"
            ]
          },
          "metadata": {},
          "execution_count": 31
        }
      ],
      "source": [
        "import torch\n",
        "torch.cuda.is_available()"
      ]
    },
    {
      "cell_type": "markdown",
      "metadata": {
        "id": "DZuTVTEfOnM-"
      },
      "source": [
        "The below code is to make sure we use the GPU, Although I am not entirely sure if it needs to be there if you are running on colab. If you are using jupiter notebook then definitely yes but make sure CUDA and CNN are also installed."
      ]
    },
    {
      "cell_type": "code",
      "execution_count": null,
      "metadata": {
        "colab": {
          "base_uri": "https://localhost:8080/"
        },
        "id": "Q_GsNpvGOnM-",
        "outputId": "9869d6b3-beaf-42c8-95cf-ae63199922c7"
      },
      "outputs": [
        {
          "output_type": "stream",
          "name": "stdout",
          "text": [
            "cuda:0\n"
          ]
        }
      ],
      "source": [
        "device = torch.device(\"cuda:0\" if torch.cuda.is_available() else \"cpu\")\n",
        "print(device)\n"
      ]
    },
    {
      "cell_type": "code",
      "execution_count": null,
      "metadata": {
        "colab": {
          "base_uri": "https://localhost:8080/"
        },
        "id": "1Bdcb2IzOnM-",
        "outputId": "42205a60-f26a-4a8b-cee4-c98a848c9fc8"
      },
      "outputs": [
        {
          "output_type": "stream",
          "name": "stderr",
          "text": [
            "Some weights of the model checkpoint at bert-base-uncased were not used when initializing BertWithTabular: ['cls.predictions.transform.dense.bias', 'cls.predictions.transform.LayerNorm.weight', 'cls.predictions.transform.dense.weight', 'cls.seq_relationship.weight', 'cls.seq_relationship.bias', 'cls.predictions.transform.LayerNorm.bias', 'cls.predictions.decoder.weight', 'cls.predictions.bias']\n",
            "- This IS expected if you are initializing BertWithTabular from the checkpoint of a model trained on another task or with another architecture (e.g. initializing a BertForSequenceClassification model from a BertForPreTraining model).\n",
            "- This IS NOT expected if you are initializing BertWithTabular from the checkpoint of a model that you expect to be exactly identical (initializing a BertForSequenceClassification model from a BertForSequenceClassification model).\n",
            "Some weights of BertWithTabular were not initialized from the model checkpoint at bert-base-uncased and are newly initialized: ['tabular_classifier.bias', 'tabular_combiner.layer_norm.bias', 'classifier.bias', 'tabular_combiner.g_cat_layer.weight', 'tabular_combiner.h_bias', 'classifier.weight', 'tabular_combiner.layer_norm.weight', 'tabular_combiner.h_cat_layer.weight', 'tabular_classifier.weight', 'tabular_combiner.g_cat_layer.bias']\n",
            "You should probably TRAIN this model on a down-stream task to be able to use it for predictions and inference.\n"
          ]
        }
      ],
      "source": [
        "model = AutoModelWithTabular.from_pretrained(\n",
        "        model_args.config_name if model_args.config_name else model_args.model_name_or_path,\n",
        "        config=config,\n",
        "        cache_dir=model_args.cache_dir\n",
        "    ).to(device)"
      ]
    },
    {
      "cell_type": "code",
      "execution_count": null,
      "metadata": {
        "id": "om3VRGJoOnM-"
      },
      "outputs": [],
      "source": [
        "import numpy as np\n",
        "from scipy.special import softmax\n",
        "from sklearn.metrics import (\n",
        "    auc,\n",
        "    precision_recall_curve,\n",
        "    roc_auc_score,\n",
        "    f1_score,\n",
        "    confusion_matrix,\n",
        "    matthews_corrcoef,\n",
        ")\n",
        "\n",
        "def calc_classification_metrics(p: EvalPrediction):\n",
        "  predictions = p.predictions[0]\n",
        "  pred_labels = np.argmax(predictions, axis=1)\n",
        "  pred_scores = softmax(predictions, axis=1)[:, 1]\n",
        "  labels = p.label_ids\n",
        "  if len(np.unique(labels)) == 2:  # binary classification\n",
        "      roc_auc_pred_score = roc_auc_score(labels, pred_scores)\n",
        "      precisions, recalls, thresholds = precision_recall_curve(labels,\n",
        "                                                                pred_scores)\n",
        "      fscore = (2 * precisions * recalls) / (precisions + recalls)\n",
        "      fscore[np.isnan(fscore)] = 0\n",
        "      ix = np.argmax(fscore)\n",
        "      threshold = thresholds[ix].item()\n",
        "      pr_auc = auc(recalls, precisions)\n",
        "      tn, fp, fn, tp = confusion_matrix(labels, pred_labels, labels=[0, 1]).ravel()\n",
        "      result = {'roc_auc': roc_auc_pred_score,\n",
        "                'threshold': threshold,\n",
        "                'pr_auc': pr_auc,\n",
        "                'recall': recalls[ix].item(),\n",
        "                'precision': precisions[ix].item(), 'f1': fscore[ix].item(),\n",
        "                'tn': tn.item(), 'fp': fp.item(), 'fn': fn.item(), 'tp': tp.item()\n",
        "                }\n",
        "  else:\n",
        "      acc = (pred_labels == labels).mean()\n",
        "      f1 = f1_score(y_true=labels, y_pred=pred_labels,average='micro')\n",
        "      result = {\n",
        "          \"acc\": acc,\n",
        "          \"f1\": f1,\n",
        "          \"acc_and_f1\": (acc + f1) / 2,\n",
        "          \"mcc\": matthews_corrcoef(labels, pred_labels)\n",
        "      }\n",
        "\n",
        "  return result"
      ]
    },
    {
      "cell_type": "code",
      "execution_count": null,
      "metadata": {
        "id": "NIqBXM0uOnM_"
      },
      "outputs": [],
      "source": [
        "trainer = Trainer(\n",
        "    model=model,\n",
        "    args=training_args,\n",
        "    train_dataset=train_dataset,\n",
        "    eval_dataset=val_dataset,\n",
        "    compute_metrics=calc_classification_metrics,\n",
        ")"
      ]
    },
    {
      "cell_type": "code",
      "execution_count": null,
      "metadata": {
        "colab": {
          "base_uri": "https://localhost:8080/",
          "height": 499
        },
        "id": "v08S3pYSOnM_",
        "outputId": "c9084df9-ce6c-418a-d23d-ea32b1cf6158"
      },
      "outputs": [
        {
          "output_type": "stream",
          "name": "stderr",
          "text": [
            "/usr/local/lib/python3.9/dist-packages/transformers/optimization.py:391: FutureWarning: This implementation of AdamW is deprecated and will be removed in a future version. Use the PyTorch implementation torch.optim.AdamW instead, or set `no_deprecation_warning=True` to disable this warning\n",
            "  warnings.warn(\n"
          ]
        },
        {
          "output_type": "display_data",
          "data": {
            "text/plain": [
              "<IPython.core.display.HTML object>"
            ],
            "text/html": [
              "\n",
              "    <div>\n",
              "      \n",
              "      <progress value='6905' max='6905' style='width:300px; height:20px; vertical-align: middle;'></progress>\n",
              "      [6905/6905 1:49:26, Epoch 1/1]\n",
              "    </div>\n",
              "    <table border=\"1\" class=\"dataframe\">\n",
              "  <thead>\n",
              " <tr style=\"text-align: left;\">\n",
              "      <th>Step</th>\n",
              "      <th>Training Loss</th>\n",
              "      <th>Validation Loss</th>\n",
              "      <th>Acc</th>\n",
              "      <th>F1</th>\n",
              "      <th>Acc And F1</th>\n",
              "      <th>Mcc</th>\n",
              "    </tr>\n",
              "  </thead>\n",
              "  <tbody>\n",
              "    <tr>\n",
              "      <td>700</td>\n",
              "      <td>1.888200</td>\n",
              "      <td>1.586520</td>\n",
              "      <td>0.544095</td>\n",
              "      <td>0.544095</td>\n",
              "      <td>0.544095</td>\n",
              "      <td>0.501652</td>\n",
              "    </tr>\n",
              "    <tr>\n",
              "      <td>1400</td>\n",
              "      <td>1.567900</td>\n",
              "      <td>1.505739</td>\n",
              "      <td>0.562589</td>\n",
              "      <td>0.562589</td>\n",
              "      <td>0.562589</td>\n",
              "      <td>0.521685</td>\n",
              "    </tr>\n",
              "    <tr>\n",
              "      <td>2100</td>\n",
              "      <td>1.507200</td>\n",
              "      <td>1.460418</td>\n",
              "      <td>0.577213</td>\n",
              "      <td>0.577213</td>\n",
              "      <td>0.577213</td>\n",
              "      <td>0.538908</td>\n",
              "    </tr>\n",
              "    <tr>\n",
              "      <td>2800</td>\n",
              "      <td>1.447300</td>\n",
              "      <td>1.434754</td>\n",
              "      <td>0.578679</td>\n",
              "      <td>0.578679</td>\n",
              "      <td>0.578679</td>\n",
              "      <td>0.541190</td>\n",
              "    </tr>\n",
              "    <tr>\n",
              "      <td>3500</td>\n",
              "      <td>1.434800</td>\n",
              "      <td>1.415894</td>\n",
              "      <td>0.583568</td>\n",
              "      <td>0.583568</td>\n",
              "      <td>0.583568</td>\n",
              "      <td>0.546390</td>\n",
              "    </tr>\n",
              "    <tr>\n",
              "      <td>4200</td>\n",
              "      <td>1.415700</td>\n",
              "      <td>1.378145</td>\n",
              "      <td>0.591266</td>\n",
              "      <td>0.591266</td>\n",
              "      <td>0.591266</td>\n",
              "      <td>0.553954</td>\n",
              "    </tr>\n",
              "    <tr>\n",
              "      <td>4900</td>\n",
              "      <td>1.370900</td>\n",
              "      <td>1.362627</td>\n",
              "      <td>0.595340</td>\n",
              "      <td>0.595340</td>\n",
              "      <td>0.595340</td>\n",
              "      <td>0.558925</td>\n",
              "    </tr>\n",
              "    <tr>\n",
              "      <td>5600</td>\n",
              "      <td>1.352600</td>\n",
              "      <td>1.340845</td>\n",
              "      <td>0.600798</td>\n",
              "      <td>0.600798</td>\n",
              "      <td>0.600798</td>\n",
              "      <td>0.564505</td>\n",
              "    </tr>\n",
              "    <tr>\n",
              "      <td>6300</td>\n",
              "      <td>1.325600</td>\n",
              "      <td>1.333109</td>\n",
              "      <td>0.603446</td>\n",
              "      <td>0.603446</td>\n",
              "      <td>0.603446</td>\n",
              "      <td>0.567088</td>\n",
              "    </tr>\n",
              "  </tbody>\n",
              "</table><p>"
            ]
          },
          "metadata": {}
        },
        {
          "output_type": "stream",
          "name": "stdout",
          "text": [
            "CPU times: user 1h 49min 35s, sys: 27.6 s, total: 1h 50min 3s\n",
            "Wall time: 1h 49min 30s\n"
          ]
        },
        {
          "output_type": "execute_result",
          "data": {
            "text/plain": [
              "TrainOutput(global_step=6905, training_loss=1.4664747720175597, metrics={'train_runtime': 6570.1804, 'train_samples_per_second': 33.627, 'train_steps_per_second': 1.051, 'total_flos': 5.85458910077184e+16, 'train_loss': 1.4664747720175597, 'epoch': 1.0})"
            ]
          },
          "metadata": {},
          "execution_count": 37
        }
      ],
      "source": [
        "%%time\n",
        "trainer.train()"
      ]
    },
    {
      "cell_type": "code",
      "execution_count": null,
      "metadata": {
        "id": "OQCKTY2iOnM_"
      },
      "outputs": [],
      "source": [
        "trainer.save_model(\"./colormodel\")"
      ]
    },
    {
      "cell_type": "markdown",
      "source": [
        "## Evaluation and Results"
      ],
      "metadata": {
        "id": "9oMtbrSCBP0D"
      }
    },
    {
      "cell_type": "code",
      "execution_count": null,
      "metadata": {
        "id": "7E7xfe71OnM_",
        "colab": {
          "base_uri": "https://localhost:8080/",
          "height": 17
        },
        "outputId": "81117d10-8b16-4d1a-9735-5173fb9ca4ab"
      },
      "outputs": [
        {
          "output_type": "display_data",
          "data": {
            "text/plain": [
              "<IPython.core.display.HTML object>"
            ],
            "text/html": []
          },
          "metadata": {}
        }
      ],
      "source": [
        "val_predictions = trainer.predict(val_dataset)"
      ]
    },
    {
      "cell_type": "code",
      "execution_count": null,
      "metadata": {
        "id": "7eiYmQ47OnM_"
      },
      "outputs": [],
      "source": [
        "from sklearn.metrics import classification_report"
      ]
    },
    {
      "cell_type": "markdown",
      "metadata": {
        "id": "BsDFZrAtOnM_"
      },
      "source": []
    },
    {
      "cell_type": "code",
      "execution_count": null,
      "metadata": {
        "id": "K7ZQts2cOnM_",
        "colab": {
          "base_uri": "https://localhost:8080/"
        },
        "outputId": "6cb98985-3625-4027-9db8-f4db3b875df2"
      },
      "outputs": [
        {
          "output_type": "stream",
          "name": "stdout",
          "text": [
            "              precision    recall  f1-score   support\n",
            "\n",
            "           0       0.71      0.57      0.63       664\n",
            "           1       0.59      0.69      0.64      3254\n",
            "           2       0.57      0.68      0.62      2697\n",
            "           3       0.59      0.69      0.64      2289\n",
            "           4       0.66      0.48      0.56       741\n",
            "           5       0.68      0.58      0.63      1567\n",
            "           6       0.60      0.58      0.59      1524\n",
            "           7       0.53      0.59      0.56      3119\n",
            "           8       0.65      0.62      0.64       634\n",
            "           9       0.72      0.78      0.75      1489\n",
            "          10       0.66      0.50      0.57       535\n",
            "          11       0.65      0.59      0.62      1550\n",
            "          12       0.66      0.65      0.66      1073\n",
            "          13       0.52      0.35      0.42      1266\n",
            "          14       0.64      0.46      0.53       992\n",
            "          15       0.72      0.68      0.70       224\n",
            "          16       0.46      0.38      0.42       523\n",
            "          17       0.69      0.57      0.62       116\n",
            "          18       0.69      0.40      0.51       292\n",
            "\n",
            "    accuracy                           0.61     24549\n",
            "   macro avg       0.63      0.57      0.59     24549\n",
            "weighted avg       0.61      0.61      0.60     24549\n",
            "\n"
          ]
        }
      ],
      "source": [
        "print(classification_report(data_val['color_trainingID'],val_predictions.predictions[0].argmax(axis=1)))"
      ]
    },
    {
      "cell_type": "code",
      "source": [
        "test_predictions = trainer.predict(test_dataset) # here my test predictions is getting CUDA error\n",
        "#So I will save the model and use it again below."
      ],
      "metadata": {
        "colab": {
          "base_uri": "https://localhost:8080/",
          "height": 399
        },
        "id": "dawHZAokDGkX",
        "outputId": "057d0cb8-385c-4083-be93-84e1351a1d21"
      },
      "execution_count": null,
      "outputs": [
        {
          "output_type": "error",
          "ename": "RuntimeError",
          "evalue": "ignored",
          "traceback": [
            "\u001b[0;31m---------------------------------------------------------------------------\u001b[0m",
            "\u001b[0;31mRuntimeError\u001b[0m                              Traceback (most recent call last)",
            "\u001b[0;32m<ipython-input-43-87e2f5624ce2>\u001b[0m in \u001b[0;36m<cell line: 1>\u001b[0;34m()\u001b[0m\n\u001b[0;32m----> 1\u001b[0;31m \u001b[0mtest_predictions\u001b[0m \u001b[0;34m=\u001b[0m \u001b[0mtrainer\u001b[0m\u001b[0;34m.\u001b[0m\u001b[0mpredict\u001b[0m\u001b[0;34m(\u001b[0m\u001b[0mtest_dataset\u001b[0m\u001b[0;34m)\u001b[0m \u001b[0;31m# here my test predictions is getting CUDA error\u001b[0m\u001b[0;34m\u001b[0m\u001b[0;34m\u001b[0m\u001b[0m\n\u001b[0m",
            "\u001b[0;32m/usr/local/lib/python3.9/dist-packages/transformers/trainer.py\u001b[0m in \u001b[0;36mpredict\u001b[0;34m(self, test_dataset, ignore_keys, metric_key_prefix)\u001b[0m\n\u001b[1;32m   3067\u001b[0m \u001b[0;34m\u001b[0m\u001b[0m\n\u001b[1;32m   3068\u001b[0m         \u001b[0meval_loop\u001b[0m \u001b[0;34m=\u001b[0m \u001b[0mself\u001b[0m\u001b[0;34m.\u001b[0m\u001b[0mprediction_loop\u001b[0m \u001b[0;32mif\u001b[0m \u001b[0mself\u001b[0m\u001b[0;34m.\u001b[0m\u001b[0margs\u001b[0m\u001b[0;34m.\u001b[0m\u001b[0muse_legacy_prediction_loop\u001b[0m \u001b[0;32melse\u001b[0m \u001b[0mself\u001b[0m\u001b[0;34m.\u001b[0m\u001b[0mevaluation_loop\u001b[0m\u001b[0;34m\u001b[0m\u001b[0;34m\u001b[0m\u001b[0m\n\u001b[0;32m-> 3069\u001b[0;31m         output = eval_loop(\n\u001b[0m\u001b[1;32m   3070\u001b[0m             \u001b[0mtest_dataloader\u001b[0m\u001b[0;34m,\u001b[0m \u001b[0mdescription\u001b[0m\u001b[0;34m=\u001b[0m\u001b[0;34m\"Prediction\"\u001b[0m\u001b[0;34m,\u001b[0m \u001b[0mignore_keys\u001b[0m\u001b[0;34m=\u001b[0m\u001b[0mignore_keys\u001b[0m\u001b[0;34m,\u001b[0m \u001b[0mmetric_key_prefix\u001b[0m\u001b[0;34m=\u001b[0m\u001b[0mmetric_key_prefix\u001b[0m\u001b[0;34m\u001b[0m\u001b[0;34m\u001b[0m\u001b[0m\n\u001b[1;32m   3071\u001b[0m         )\n",
            "\u001b[0;32m/usr/local/lib/python3.9/dist-packages/transformers/trainer.py\u001b[0m in \u001b[0;36mevaluation_loop\u001b[0;34m(self, dataloader, description, prediction_loss_only, ignore_keys, metric_key_prefix)\u001b[0m\n\u001b[1;32m   3172\u001b[0m \u001b[0;34m\u001b[0m\u001b[0m\n\u001b[1;32m   3173\u001b[0m             \u001b[0;31m# Prediction step\u001b[0m\u001b[0;34m\u001b[0m\u001b[0;34m\u001b[0m\u001b[0m\n\u001b[0;32m-> 3174\u001b[0;31m             \u001b[0mloss\u001b[0m\u001b[0;34m,\u001b[0m \u001b[0mlogits\u001b[0m\u001b[0;34m,\u001b[0m \u001b[0mlabels\u001b[0m \u001b[0;34m=\u001b[0m \u001b[0mself\u001b[0m\u001b[0;34m.\u001b[0m\u001b[0mprediction_step\u001b[0m\u001b[0;34m(\u001b[0m\u001b[0mmodel\u001b[0m\u001b[0;34m,\u001b[0m \u001b[0minputs\u001b[0m\u001b[0;34m,\u001b[0m \u001b[0mprediction_loss_only\u001b[0m\u001b[0;34m,\u001b[0m \u001b[0mignore_keys\u001b[0m\u001b[0;34m=\u001b[0m\u001b[0mignore_keys\u001b[0m\u001b[0;34m)\u001b[0m\u001b[0;34m\u001b[0m\u001b[0;34m\u001b[0m\u001b[0m\n\u001b[0m\u001b[1;32m   3175\u001b[0m             \u001b[0minputs_decode\u001b[0m \u001b[0;34m=\u001b[0m \u001b[0mself\u001b[0m\u001b[0;34m.\u001b[0m\u001b[0m_prepare_input\u001b[0m\u001b[0;34m(\u001b[0m\u001b[0minputs\u001b[0m\u001b[0;34m[\u001b[0m\u001b[0;34m\"input_ids\"\u001b[0m\u001b[0;34m]\u001b[0m\u001b[0;34m)\u001b[0m \u001b[0;32mif\u001b[0m \u001b[0margs\u001b[0m\u001b[0;34m.\u001b[0m\u001b[0minclude_inputs_for_metrics\u001b[0m \u001b[0;32melse\u001b[0m \u001b[0;32mNone\u001b[0m\u001b[0;34m\u001b[0m\u001b[0;34m\u001b[0m\u001b[0m\n\u001b[1;32m   3176\u001b[0m \u001b[0;34m\u001b[0m\u001b[0m\n",
            "\u001b[0;32m/usr/local/lib/python3.9/dist-packages/transformers/trainer.py\u001b[0m in \u001b[0;36mprediction_step\u001b[0;34m(self, model, inputs, prediction_loss_only, ignore_keys)\u001b[0m\n\u001b[1;32m   3389\u001b[0m         \u001b[0mloss_without_labels\u001b[0m \u001b[0;34m=\u001b[0m \u001b[0;32mTrue\u001b[0m \u001b[0;32mif\u001b[0m \u001b[0mlen\u001b[0m\u001b[0;34m(\u001b[0m\u001b[0mself\u001b[0m\u001b[0;34m.\u001b[0m\u001b[0mlabel_names\u001b[0m\u001b[0;34m)\u001b[0m \u001b[0;34m==\u001b[0m \u001b[0;36m0\u001b[0m \u001b[0;32mand\u001b[0m \u001b[0mreturn_loss\u001b[0m \u001b[0;32melse\u001b[0m \u001b[0;32mFalse\u001b[0m\u001b[0;34m\u001b[0m\u001b[0;34m\u001b[0m\u001b[0m\n\u001b[1;32m   3390\u001b[0m \u001b[0;34m\u001b[0m\u001b[0m\n\u001b[0;32m-> 3391\u001b[0;31m         \u001b[0minputs\u001b[0m \u001b[0;34m=\u001b[0m \u001b[0mself\u001b[0m\u001b[0;34m.\u001b[0m\u001b[0m_prepare_inputs\u001b[0m\u001b[0;34m(\u001b[0m\u001b[0minputs\u001b[0m\u001b[0;34m)\u001b[0m\u001b[0;34m\u001b[0m\u001b[0;34m\u001b[0m\u001b[0m\n\u001b[0m\u001b[1;32m   3392\u001b[0m         \u001b[0;32mif\u001b[0m \u001b[0mignore_keys\u001b[0m \u001b[0;32mis\u001b[0m \u001b[0;32mNone\u001b[0m\u001b[0;34m:\u001b[0m\u001b[0;34m\u001b[0m\u001b[0;34m\u001b[0m\u001b[0m\n\u001b[1;32m   3393\u001b[0m             \u001b[0;32mif\u001b[0m \u001b[0mhasattr\u001b[0m\u001b[0;34m(\u001b[0m\u001b[0mself\u001b[0m\u001b[0;34m.\u001b[0m\u001b[0mmodel\u001b[0m\u001b[0;34m,\u001b[0m \u001b[0;34m\"config\"\u001b[0m\u001b[0;34m)\u001b[0m\u001b[0;34m:\u001b[0m\u001b[0;34m\u001b[0m\u001b[0;34m\u001b[0m\u001b[0m\n",
            "\u001b[0;32m/usr/local/lib/python3.9/dist-packages/transformers/trainer.py\u001b[0m in \u001b[0;36m_prepare_inputs\u001b[0;34m(self, inputs)\u001b[0m\n\u001b[1;32m   2635\u001b[0m         \u001b[0mhandling\u001b[0m \u001b[0mpotential\u001b[0m \u001b[0mstate\u001b[0m\u001b[0;34m.\u001b[0m\u001b[0;34m\u001b[0m\u001b[0;34m\u001b[0m\u001b[0m\n\u001b[1;32m   2636\u001b[0m         \"\"\"\n\u001b[0;32m-> 2637\u001b[0;31m         \u001b[0minputs\u001b[0m \u001b[0;34m=\u001b[0m \u001b[0mself\u001b[0m\u001b[0;34m.\u001b[0m\u001b[0m_prepare_input\u001b[0m\u001b[0;34m(\u001b[0m\u001b[0minputs\u001b[0m\u001b[0;34m)\u001b[0m\u001b[0;34m\u001b[0m\u001b[0;34m\u001b[0m\u001b[0m\n\u001b[0m\u001b[1;32m   2638\u001b[0m         \u001b[0;32mif\u001b[0m \u001b[0mlen\u001b[0m\u001b[0;34m(\u001b[0m\u001b[0minputs\u001b[0m\u001b[0;34m)\u001b[0m \u001b[0;34m==\u001b[0m \u001b[0;36m0\u001b[0m\u001b[0;34m:\u001b[0m\u001b[0;34m\u001b[0m\u001b[0;34m\u001b[0m\u001b[0m\n\u001b[1;32m   2639\u001b[0m             raise ValueError(\n",
            "\u001b[0;32m/usr/local/lib/python3.9/dist-packages/transformers/trainer.py\u001b[0m in \u001b[0;36m_prepare_input\u001b[0;34m(self, data)\u001b[0m\n\u001b[1;32m   2617\u001b[0m         \"\"\"\n\u001b[1;32m   2618\u001b[0m         \u001b[0;32mif\u001b[0m \u001b[0misinstance\u001b[0m\u001b[0;34m(\u001b[0m\u001b[0mdata\u001b[0m\u001b[0;34m,\u001b[0m \u001b[0mMapping\u001b[0m\u001b[0;34m)\u001b[0m\u001b[0;34m:\u001b[0m\u001b[0;34m\u001b[0m\u001b[0;34m\u001b[0m\u001b[0m\n\u001b[0;32m-> 2619\u001b[0;31m             \u001b[0;32mreturn\u001b[0m \u001b[0mtype\u001b[0m\u001b[0;34m(\u001b[0m\u001b[0mdata\u001b[0m\u001b[0;34m)\u001b[0m\u001b[0;34m(\u001b[0m\u001b[0;34m{\u001b[0m\u001b[0mk\u001b[0m\u001b[0;34m:\u001b[0m \u001b[0mself\u001b[0m\u001b[0;34m.\u001b[0m\u001b[0m_prepare_input\u001b[0m\u001b[0;34m(\u001b[0m\u001b[0mv\u001b[0m\u001b[0;34m)\u001b[0m \u001b[0;32mfor\u001b[0m \u001b[0mk\u001b[0m\u001b[0;34m,\u001b[0m \u001b[0mv\u001b[0m \u001b[0;32min\u001b[0m \u001b[0mdata\u001b[0m\u001b[0;34m.\u001b[0m\u001b[0mitems\u001b[0m\u001b[0;34m(\u001b[0m\u001b[0;34m)\u001b[0m\u001b[0;34m}\u001b[0m\u001b[0;34m)\u001b[0m\u001b[0;34m\u001b[0m\u001b[0;34m\u001b[0m\u001b[0m\n\u001b[0m\u001b[1;32m   2620\u001b[0m         \u001b[0;32melif\u001b[0m \u001b[0misinstance\u001b[0m\u001b[0;34m(\u001b[0m\u001b[0mdata\u001b[0m\u001b[0;34m,\u001b[0m \u001b[0;34m(\u001b[0m\u001b[0mtuple\u001b[0m\u001b[0;34m,\u001b[0m \u001b[0mlist\u001b[0m\u001b[0;34m)\u001b[0m\u001b[0;34m)\u001b[0m\u001b[0;34m:\u001b[0m\u001b[0;34m\u001b[0m\u001b[0;34m\u001b[0m\u001b[0m\n\u001b[1;32m   2621\u001b[0m             \u001b[0;32mreturn\u001b[0m \u001b[0mtype\u001b[0m\u001b[0;34m(\u001b[0m\u001b[0mdata\u001b[0m\u001b[0;34m)\u001b[0m\u001b[0;34m(\u001b[0m\u001b[0mself\u001b[0m\u001b[0;34m.\u001b[0m\u001b[0m_prepare_input\u001b[0m\u001b[0;34m(\u001b[0m\u001b[0mv\u001b[0m\u001b[0;34m)\u001b[0m \u001b[0;32mfor\u001b[0m \u001b[0mv\u001b[0m \u001b[0;32min\u001b[0m \u001b[0mdata\u001b[0m\u001b[0;34m)\u001b[0m\u001b[0;34m\u001b[0m\u001b[0;34m\u001b[0m\u001b[0m\n",
            "\u001b[0;32m/usr/local/lib/python3.9/dist-packages/transformers/trainer.py\u001b[0m in \u001b[0;36m<dictcomp>\u001b[0;34m(.0)\u001b[0m\n\u001b[1;32m   2617\u001b[0m         \"\"\"\n\u001b[1;32m   2618\u001b[0m         \u001b[0;32mif\u001b[0m \u001b[0misinstance\u001b[0m\u001b[0;34m(\u001b[0m\u001b[0mdata\u001b[0m\u001b[0;34m,\u001b[0m \u001b[0mMapping\u001b[0m\u001b[0;34m)\u001b[0m\u001b[0;34m:\u001b[0m\u001b[0;34m\u001b[0m\u001b[0;34m\u001b[0m\u001b[0m\n\u001b[0;32m-> 2619\u001b[0;31m             \u001b[0;32mreturn\u001b[0m \u001b[0mtype\u001b[0m\u001b[0;34m(\u001b[0m\u001b[0mdata\u001b[0m\u001b[0;34m)\u001b[0m\u001b[0;34m(\u001b[0m\u001b[0;34m{\u001b[0m\u001b[0mk\u001b[0m\u001b[0;34m:\u001b[0m \u001b[0mself\u001b[0m\u001b[0;34m.\u001b[0m\u001b[0m_prepare_input\u001b[0m\u001b[0;34m(\u001b[0m\u001b[0mv\u001b[0m\u001b[0;34m)\u001b[0m \u001b[0;32mfor\u001b[0m \u001b[0mk\u001b[0m\u001b[0;34m,\u001b[0m \u001b[0mv\u001b[0m \u001b[0;32min\u001b[0m \u001b[0mdata\u001b[0m\u001b[0;34m.\u001b[0m\u001b[0mitems\u001b[0m\u001b[0;34m(\u001b[0m\u001b[0;34m)\u001b[0m\u001b[0;34m}\u001b[0m\u001b[0;34m)\u001b[0m\u001b[0;34m\u001b[0m\u001b[0;34m\u001b[0m\u001b[0m\n\u001b[0m\u001b[1;32m   2620\u001b[0m         \u001b[0;32melif\u001b[0m \u001b[0misinstance\u001b[0m\u001b[0;34m(\u001b[0m\u001b[0mdata\u001b[0m\u001b[0;34m,\u001b[0m \u001b[0;34m(\u001b[0m\u001b[0mtuple\u001b[0m\u001b[0;34m,\u001b[0m \u001b[0mlist\u001b[0m\u001b[0;34m)\u001b[0m\u001b[0;34m)\u001b[0m\u001b[0;34m:\u001b[0m\u001b[0;34m\u001b[0m\u001b[0;34m\u001b[0m\u001b[0m\n\u001b[1;32m   2621\u001b[0m             \u001b[0;32mreturn\u001b[0m \u001b[0mtype\u001b[0m\u001b[0;34m(\u001b[0m\u001b[0mdata\u001b[0m\u001b[0;34m)\u001b[0m\u001b[0;34m(\u001b[0m\u001b[0mself\u001b[0m\u001b[0;34m.\u001b[0m\u001b[0m_prepare_input\u001b[0m\u001b[0;34m(\u001b[0m\u001b[0mv\u001b[0m\u001b[0;34m)\u001b[0m \u001b[0;32mfor\u001b[0m \u001b[0mv\u001b[0m \u001b[0;32min\u001b[0m \u001b[0mdata\u001b[0m\u001b[0;34m)\u001b[0m\u001b[0;34m\u001b[0m\u001b[0;34m\u001b[0m\u001b[0m\n",
            "\u001b[0;32m/usr/local/lib/python3.9/dist-packages/transformers/trainer.py\u001b[0m in \u001b[0;36m_prepare_input\u001b[0;34m(self, data)\u001b[0m\n\u001b[1;32m   2627\u001b[0m                 \u001b[0;31m# may need special handling to match the dtypes of the model\u001b[0m\u001b[0;34m\u001b[0m\u001b[0;34m\u001b[0m\u001b[0m\n\u001b[1;32m   2628\u001b[0m                 \u001b[0mkwargs\u001b[0m\u001b[0;34m.\u001b[0m\u001b[0mupdate\u001b[0m\u001b[0;34m(\u001b[0m\u001b[0;34m{\u001b[0m\u001b[0;34m\"dtype\"\u001b[0m\u001b[0;34m:\u001b[0m \u001b[0mself\u001b[0m\u001b[0;34m.\u001b[0m\u001b[0margs\u001b[0m\u001b[0;34m.\u001b[0m\u001b[0mhf_deepspeed_config\u001b[0m\u001b[0;34m.\u001b[0m\u001b[0mdtype\u001b[0m\u001b[0;34m(\u001b[0m\u001b[0;34m)\u001b[0m\u001b[0;34m}\u001b[0m\u001b[0;34m)\u001b[0m\u001b[0;34m\u001b[0m\u001b[0;34m\u001b[0m\u001b[0m\n\u001b[0;32m-> 2629\u001b[0;31m             \u001b[0;32mreturn\u001b[0m \u001b[0mdata\u001b[0m\u001b[0;34m.\u001b[0m\u001b[0mto\u001b[0m\u001b[0;34m(\u001b[0m\u001b[0;34m**\u001b[0m\u001b[0mkwargs\u001b[0m\u001b[0;34m)\u001b[0m\u001b[0;34m\u001b[0m\u001b[0;34m\u001b[0m\u001b[0m\n\u001b[0m\u001b[1;32m   2630\u001b[0m         \u001b[0;32mreturn\u001b[0m \u001b[0mdata\u001b[0m\u001b[0;34m\u001b[0m\u001b[0;34m\u001b[0m\u001b[0m\n\u001b[1;32m   2631\u001b[0m \u001b[0;34m\u001b[0m\u001b[0m\n",
            "\u001b[0;31mRuntimeError\u001b[0m: CUDA error: device-side assert triggered\nCUDA kernel errors might be asynchronously reported at some other API call, so the stacktrace below might be incorrect.\nFor debugging consider passing CUDA_LAUNCH_BLOCKING=1.\nCompile with `TORCH_USE_CUDA_DSA` to enable device-side assertions.\n"
          ]
        }
      ]
    },
    {
      "cell_type": "code",
      "execution_count": null,
      "metadata": {
        "id": "sgqsacF1OnM_",
        "colab": {
          "base_uri": "https://localhost:8080/"
        },
        "outputId": "672fd094-da62-464f-9b24-0754258f41a1"
      },
      "outputs": [
        {
          "output_type": "stream",
          "name": "stdout",
          "text": [
            "'./colormodel' -> '/content/gdrive/MyDrive/etsy_trained_models/colormodel'\n",
            "'./colormodel/config.json' -> '/content/gdrive/MyDrive/etsy_trained_models/colormodel/config.json'\n",
            "'./colormodel/pytorch_model.bin' -> '/content/gdrive/MyDrive/etsy_trained_models/colormodel/pytorch_model.bin'\n",
            "'./colormodel/training_args.bin' -> '/content/gdrive/MyDrive/etsy_trained_models/colormodel/training_args.bin'\n"
          ]
        }
      ],
      "source": [
        "%cp -av ./colormodel /content/gdrive/MyDrive/etsy_trained_models/\n",
        "#code to move the model to google drive so that I dont lose it when i restart runtime"
      ]
    },
    {
      "cell_type": "markdown",
      "metadata": {
        "id": "FeQH6q_LOnM_"
      },
      "source": [
        "Below code is to load model from local(or drive)\n",
        "\n",
        "\n",
        "\n"
      ]
    },
    {
      "cell_type": "markdown",
      "metadata": {
        "id": "Lr-9W3q8OnM_"
      },
      "source": [
        "Most of the time I run out of memmory or my runtime crashes or CUDA gets blocked when I get to my test predictions. In that case I save the model and simply load it again and run the test predictions."
      ]
    },
    {
      "cell_type": "code",
      "execution_count": null,
      "metadata": {
        "colab": {
          "base_uri": "https://localhost:8080/"
        },
        "id": "aMJlfJhnOnM_",
        "outputId": "c39a7774-b6e0-4aa6-bfa2-783fccdff2bf"
      },
      "outputs": [
        {
          "output_type": "execute_result",
          "data": {
            "text/plain": [
              "BertWithTabular(\n",
              "  (bert): BertModel(\n",
              "    (embeddings): BertEmbeddings(\n",
              "      (word_embeddings): Embedding(30522, 768, padding_idx=0)\n",
              "      (position_embeddings): Embedding(512, 768)\n",
              "      (token_type_embeddings): Embedding(2, 768)\n",
              "      (LayerNorm): LayerNorm((768,), eps=1e-12, elementwise_affine=True)\n",
              "      (dropout): Dropout(p=0.1, inplace=False)\n",
              "    )\n",
              "    (encoder): BertEncoder(\n",
              "      (layer): ModuleList(\n",
              "        (0-11): 12 x BertLayer(\n",
              "          (attention): BertAttention(\n",
              "            (self): BertSelfAttention(\n",
              "              (query): Linear(in_features=768, out_features=768, bias=True)\n",
              "              (key): Linear(in_features=768, out_features=768, bias=True)\n",
              "              (value): Linear(in_features=768, out_features=768, bias=True)\n",
              "              (dropout): Dropout(p=0.1, inplace=False)\n",
              "            )\n",
              "            (output): BertSelfOutput(\n",
              "              (dense): Linear(in_features=768, out_features=768, bias=True)\n",
              "              (LayerNorm): LayerNorm((768,), eps=1e-12, elementwise_affine=True)\n",
              "              (dropout): Dropout(p=0.1, inplace=False)\n",
              "            )\n",
              "          )\n",
              "          (intermediate): BertIntermediate(\n",
              "            (dense): Linear(in_features=768, out_features=3072, bias=True)\n",
              "            (intermediate_act_fn): GELUActivation()\n",
              "          )\n",
              "          (output): BertOutput(\n",
              "            (dense): Linear(in_features=3072, out_features=768, bias=True)\n",
              "            (LayerNorm): LayerNorm((768,), eps=1e-12, elementwise_affine=True)\n",
              "            (dropout): Dropout(p=0.1, inplace=False)\n",
              "          )\n",
              "        )\n",
              "      )\n",
              "    )\n",
              "    (pooler): BertPooler(\n",
              "      (dense): Linear(in_features=768, out_features=768, bias=True)\n",
              "      (activation): Tanh()\n",
              "    )\n",
              "  )\n",
              "  (dropout): Dropout(p=0.1, inplace=False)\n",
              "  (classifier): Linear(in_features=768, out_features=2, bias=True)\n",
              "  (tabular_combiner): TabularFeatCombiner(\n",
              "    (act_func): ReLU()\n",
              "    (g_cat_layer): Linear(in_features=771, out_features=768, bias=True)\n",
              "    (dropout_cat): Dropout(p=0.1, inplace=False)\n",
              "    (h_cat_layer): Linear(in_features=3, out_features=768, bias=False)\n",
              "    (layer_norm): LayerNorm((768,), eps=1e-05, elementwise_affine=True)\n",
              "  )\n",
              "  (tabular_classifier): Linear(in_features=768, out_features=19, bias=True)\n",
              ")"
            ]
          },
          "metadata": {},
          "execution_count": 36
        }
      ],
      "source": [
        "model = AutoModelWithTabular.from_pretrained(\"/content/gdrive/MyDrive/etsy_trained_models/colormodel/\")\n",
        "model.to(device)\n",
        "model.eval()"
      ]
    },
    {
      "cell_type": "code",
      "execution_count": null,
      "metadata": {
        "id": "aY48-01COnNA"
      },
      "outputs": [],
      "source": [
        "test_dataloader = torch.utils.data.DataLoader(test_dataset, batch_size=32)\n",
        "test_predictions = []\n",
        "with torch.no_grad():\n",
        "    for batch in test_dataloader:\n",
        "        # Move the input data to the device where the model is located\n",
        "        input_ids = batch['input_ids'].to(device)\n",
        "        attention_mask = batch['attention_mask'].to(device)\n",
        "        cat_feats = batch['cat_feats'].to(device)\n",
        "\n",
        "        # Make predictions using the model\n",
        "        outputs = model(input_ids, attention_mask, cat_feats=cat_feats)[1]\n",
        "\n",
        "        # Convert the model outputs to a numpy array\n",
        "        numpy_outputs = outputs.argmax(axis=1).cpu().numpy().tolist()\n",
        "\n",
        "        # Add the predictions to the list of predictions\n",
        "        test_predictions.extend(numpy_outputs)"
      ]
    },
    {
      "cell_type": "markdown",
      "metadata": {
        "id": "B6H9yjb6OnNA"
      },
      "source": [
        "Since I am using color_trainingID, I need to map the predictions to color_id"
      ]
    },
    {
      "cell_type": "code",
      "execution_count": null,
      "metadata": {
        "id": "O1oIGyRyOnNA"
      },
      "outputs": [],
      "source": [
        "map1 = set(data_train[['color_id','color_trainingID']].to_records(index=False).tolist())"
      ]
    },
    {
      "cell_type": "code",
      "execution_count": null,
      "metadata": {
        "id": "u2p_HEIqUAuV"
      },
      "outputs": [],
      "source": [
        "data_train.head(25)"
      ]
    },
    {
      "cell_type": "code",
      "execution_count": null,
      "metadata": {
        "id": "Kd7LAI8vOnNA"
      },
      "outputs": [],
      "source": [
        "mapping = {y:x for (x,y) in map1}"
      ]
    },
    {
      "cell_type": "code",
      "execution_count": null,
      "metadata": {
        "colab": {
          "base_uri": "https://localhost:8080/"
        },
        "id": "sTQy7J63OnNA",
        "outputId": "9a4460df-8dd7-4fab-cc9d-ee25d6f9b6df"
      },
      "outputs": [
        {
          "output_type": "execute_result",
          "data": {
            "text/plain": [
              "[10,\n",
              " 5,\n",
              " 5,\n",
              " 5,\n",
              " 6,\n",
              " 5,\n",
              " 5,\n",
              " 13,\n",
              " 8,\n",
              " 7,\n",
              " 13,\n",
              " 0,\n",
              " 7,\n",
              " 1,\n",
              " 0,\n",
              " 6,\n",
              " 7,\n",
              " 8,\n",
              " 8,\n",
              " 8,\n",
              " 8,\n",
              " 3,\n",
              " 8,\n",
              " 8,\n",
              " 8,\n",
              " 8,\n",
              " 8,\n",
              " 8,\n",
              " 8,\n",
              " 8,\n",
              " 8,\n",
              " 6,\n",
              " 7,\n",
              " 7,\n",
              " 1,\n",
              " 1,\n",
              " 1,\n",
              " 14,\n",
              " 7,\n",
              " 3,\n",
              " 7,\n",
              " 7,\n",
              " 2,\n",
              " 7,\n",
              " 2,\n",
              " 1,\n",
              " 8,\n",
              " 9,\n",
              " 7,\n",
              " 7,\n",
              " 15,\n",
              " 12,\n",
              " 5,\n",
              " 9,\n",
              " 7,\n",
              " 1,\n",
              " 1,\n",
              " 1,\n",
              " 1,\n",
              " 14,\n",
              " 3,\n",
              " 3,\n",
              " 6,\n",
              " 9,\n",
              " 9,\n",
              " 9,\n",
              " 10,\n",
              " 8,\n",
              " 8,\n",
              " 6,\n",
              " 16,\n",
              " 16,\n",
              " 6,\n",
              " 13,\n",
              " 16,\n",
              " 7,\n",
              " 7,\n",
              " 6,\n",
              " 7,\n",
              " 6,\n",
              " 3,\n",
              " 5,\n",
              " 7,\n",
              " 1,\n",
              " 1,\n",
              " 3,\n",
              " 6,\n",
              " 1,\n",
              " 2,\n",
              " 13,\n",
              " 1,\n",
              " 10,\n",
              " 2,\n",
              " 3,\n",
              " 5,\n",
              " 12,\n",
              " 3,\n",
              " 3,\n",
              " 7,\n",
              " 7,\n",
              " 2,\n",
              " 7,\n",
              " 13,\n",
              " 7,\n",
              " 3,\n",
              " 7,\n",
              " 11,\n",
              " 7,\n",
              " 13,\n",
              " 2,\n",
              " 7,\n",
              " 2,\n",
              " 7,\n",
              " 7,\n",
              " 7,\n",
              " 7,\n",
              " 3,\n",
              " 9,\n",
              " 2,\n",
              " 3,\n",
              " 9,\n",
              " 9,\n",
              " 7,\n",
              " 7,\n",
              " 3,\n",
              " 15,\n",
              " 7,\n",
              " 1,\n",
              " 7,\n",
              " 5,\n",
              " 9,\n",
              " 7,\n",
              " 2,\n",
              " 3,\n",
              " 5,\n",
              " 5,\n",
              " 5,\n",
              " 2,\n",
              " 5,\n",
              " 5,\n",
              " 3,\n",
              " 1,\n",
              " 1,\n",
              " 14,\n",
              " 1,\n",
              " 7,\n",
              " 6,\n",
              " 2,\n",
              " 1,\n",
              " 2,\n",
              " 14,\n",
              " 1,\n",
              " 3,\n",
              " 3,\n",
              " 3,\n",
              " 1,\n",
              " 1,\n",
              " 14,\n",
              " 3,\n",
              " 3,\n",
              " 3,\n",
              " 1,\n",
              " 3,\n",
              " 3,\n",
              " 1,\n",
              " 0,\n",
              " 3,\n",
              " 6,\n",
              " 1,\n",
              " 14,\n",
              " 1,\n",
              " 1,\n",
              " 7,\n",
              " 16,\n",
              " 16,\n",
              " 1,\n",
              " 1,\n",
              " 1,\n",
              " 3,\n",
              " 4,\n",
              " 13,\n",
              " 3,\n",
              " 13,\n",
              " 14,\n",
              " 13,\n",
              " 10,\n",
              " 12,\n",
              " 18,\n",
              " 6,\n",
              " 8,\n",
              " 11,\n",
              " 14,\n",
              " 7,\n",
              " 11,\n",
              " 7,\n",
              " 7,\n",
              " 11,\n",
              " 14,\n",
              " 9,\n",
              " 2,\n",
              " 18,\n",
              " 15,\n",
              " 14,\n",
              " 7,\n",
              " 12,\n",
              " 7,\n",
              " 7,\n",
              " 18,\n",
              " 8,\n",
              " 3,\n",
              " 3,\n",
              " 2,\n",
              " 17,\n",
              " 11,\n",
              " 2,\n",
              " 7,\n",
              " 7,\n",
              " 5,\n",
              " 1,\n",
              " 2,\n",
              " 2,\n",
              " 0,\n",
              " 11,\n",
              " 11,\n",
              " 3,\n",
              " 3,\n",
              " 14,\n",
              " 2,\n",
              " 14,\n",
              " 3,\n",
              " 14,\n",
              " 10,\n",
              " 3,\n",
              " 2,\n",
              " 2,\n",
              " 6,\n",
              " 14,\n",
              " 14,\n",
              " 5,\n",
              " 2,\n",
              " 16,\n",
              " 2,\n",
              " 14,\n",
              " 3,\n",
              " 3,\n",
              " 5,\n",
              " 3,\n",
              " 3,\n",
              " 1,\n",
              " 2,\n",
              " 13,\n",
              " 5,\n",
              " 3,\n",
              " 9,\n",
              " 3,\n",
              " 5,\n",
              " 2,\n",
              " 8,\n",
              " 1,\n",
              " 16,\n",
              " 9,\n",
              " 2,\n",
              " 12,\n",
              " 16,\n",
              " 7,\n",
              " 7,\n",
              " 16,\n",
              " 1,\n",
              " 0,\n",
              " 5,\n",
              " 3,\n",
              " 1,\n",
              " 3,\n",
              " 1,\n",
              " 7,\n",
              " 14,\n",
              " 1,\n",
              " 9,\n",
              " 1,\n",
              " 1,\n",
              " 3,\n",
              " 1,\n",
              " 1,\n",
              " 1,\n",
              " 2,\n",
              " 1,\n",
              " 6,\n",
              " 5,\n",
              " 14,\n",
              " 6,\n",
              " 11,\n",
              " 11,\n",
              " 9,\n",
              " 5,\n",
              " 13,\n",
              " 1,\n",
              " 1,\n",
              " 6,\n",
              " 4,\n",
              " 14,\n",
              " 0,\n",
              " 5,\n",
              " 1,\n",
              " 10,\n",
              " 1,\n",
              " 7,\n",
              " 2,\n",
              " 11,\n",
              " 2,\n",
              " 7,\n",
              " 11,\n",
              " 14,\n",
              " 7,\n",
              " 11,\n",
              " 6,\n",
              " 7,\n",
              " 2,\n",
              " 7,\n",
              " 7,\n",
              " 11,\n",
              " 7,\n",
              " 7,\n",
              " 3,\n",
              " 5,\n",
              " 7,\n",
              " 14,\n",
              " 2,\n",
              " 4,\n",
              " 10,\n",
              " 3,\n",
              " 3,\n",
              " 1,\n",
              " 11,\n",
              " 1,\n",
              " 2,\n",
              " 2,\n",
              " 5,\n",
              " 9,\n",
              " 12,\n",
              " 2,\n",
              " 0,\n",
              " 9,\n",
              " 6,\n",
              " 14,\n",
              " 1,\n",
              " 1,\n",
              " 3,\n",
              " 3,\n",
              " 13,\n",
              " 16,\n",
              " 7,\n",
              " 9,\n",
              " 7,\n",
              " 9,\n",
              " 4,\n",
              " 7,\n",
              " 3,\n",
              " 3,\n",
              " 3,\n",
              " 12,\n",
              " 7,\n",
              " 7,\n",
              " 7,\n",
              " 2,\n",
              " 7,\n",
              " 2,\n",
              " 2,\n",
              " 16,\n",
              " 7,\n",
              " 5,\n",
              " 7,\n",
              " 7,\n",
              " 7,\n",
              " 7,\n",
              " 7,\n",
              " 7,\n",
              " 3,\n",
              " 6,\n",
              " 2,\n",
              " 3,\n",
              " 10,\n",
              " 14,\n",
              " 16,\n",
              " 5,\n",
              " 14,\n",
              " 1,\n",
              " 6,\n",
              " 2,\n",
              " 2,\n",
              " 3,\n",
              " 7,\n",
              " 5,\n",
              " 7,\n",
              " 14,\n",
              " 7,\n",
              " 7,\n",
              " 7,\n",
              " 15,\n",
              " 7,\n",
              " 4,\n",
              " 1,\n",
              " 9,\n",
              " 8,\n",
              " 9,\n",
              " 9,\n",
              " 12,\n",
              " 9,\n",
              " 5,\n",
              " 12,\n",
              " 3,\n",
              " 9,\n",
              " 12,\n",
              " 2,\n",
              " 15,\n",
              " 15,\n",
              " 12,\n",
              " 5,\n",
              " 11,\n",
              " 10,\n",
              " 11,\n",
              " 2,\n",
              " 7,\n",
              " 6,\n",
              " 3,\n",
              " 1,\n",
              " 3,\n",
              " 2,\n",
              " 7,\n",
              " 5,\n",
              " 1,\n",
              " 6,\n",
              " 10,\n",
              " 2,\n",
              " 15,\n",
              " 1,\n",
              " 15,\n",
              " 3,\n",
              " 1,\n",
              " 2,\n",
              " 13,\n",
              " 14,\n",
              " 10,\n",
              " 2,\n",
              " 7,\n",
              " 13,\n",
              " 5,\n",
              " 14,\n",
              " 13,\n",
              " 13,\n",
              " 1,\n",
              " 5,\n",
              " 1,\n",
              " 1,\n",
              " 12,\n",
              " 2,\n",
              " 1,\n",
              " 7,\n",
              " 7,\n",
              " 2,\n",
              " 3,\n",
              " 14,\n",
              " 5,\n",
              " 11,\n",
              " 13,\n",
              " 5,\n",
              " 1,\n",
              " 11,\n",
              " 2,\n",
              " 7,\n",
              " 0,\n",
              " 2,\n",
              " 1,\n",
              " 9,\n",
              " 8,\n",
              " 9,\n",
              " 9,\n",
              " 1,\n",
              " 3,\n",
              " 1,\n",
              " 1,\n",
              " 12,\n",
              " 2,\n",
              " 1,\n",
              " 11,\n",
              " 1,\n",
              " 1,\n",
              " 1,\n",
              " 1,\n",
              " 3,\n",
              " 3,\n",
              " 7,\n",
              " 3,\n",
              " 2,\n",
              " 3,\n",
              " 1,\n",
              " 7,\n",
              " 3,\n",
              " 7,\n",
              " 7,\n",
              " 7,\n",
              " 7,\n",
              " 7,\n",
              " 6,\n",
              " 7,\n",
              " 7,\n",
              " 7,\n",
              " 7,\n",
              " 7,\n",
              " 7,\n",
              " 7,\n",
              " 7,\n",
              " 7,\n",
              " 5,\n",
              " 8,\n",
              " 6,\n",
              " 5,\n",
              " 2,\n",
              " 5,\n",
              " 13,\n",
              " 8,\n",
              " 13,\n",
              " 13,\n",
              " 14,\n",
              " 1,\n",
              " 1,\n",
              " 6,\n",
              " 9,\n",
              " 11,\n",
              " 2,\n",
              " 10,\n",
              " 1,\n",
              " 1,\n",
              " 7,\n",
              " 1,\n",
              " 11,\n",
              " 14,\n",
              " 2,\n",
              " 7,\n",
              " 9,\n",
              " 1,\n",
              " 9,\n",
              " 2,\n",
              " 7,\n",
              " 13,\n",
              " 6,\n",
              " 13,\n",
              " 5,\n",
              " 3,\n",
              " 13,\n",
              " 2,\n",
              " 13,\n",
              " 3,\n",
              " 1,\n",
              " 16,\n",
              " 13,\n",
              " 7,\n",
              " 9,\n",
              " 9,\n",
              " 9,\n",
              " 18,\n",
              " 9,\n",
              " 1,\n",
              " 9,\n",
              " 9,\n",
              " 9,\n",
              " 12,\n",
              " 7,\n",
              " 4,\n",
              " 10,\n",
              " 11,\n",
              " 11,\n",
              " 7,\n",
              " 2,\n",
              " 11,\n",
              " 7,\n",
              " 7,\n",
              " 8,\n",
              " 1,\n",
              " 12,\n",
              " 6,\n",
              " 3,\n",
              " 3,\n",
              " 1,\n",
              " 3,\n",
              " 1,\n",
              " 2,\n",
              " 13,\n",
              " 3,\n",
              " 3,\n",
              " 3,\n",
              " 11,\n",
              " 7,\n",
              " 11,\n",
              " 3,\n",
              " 3,\n",
              " 2,\n",
              " 5,\n",
              " 7,\n",
              " 6,\n",
              " 1,\n",
              " 11,\n",
              " 10,\n",
              " 2,\n",
              " 2,\n",
              " 6,\n",
              " 12,\n",
              " 13,\n",
              " 12,\n",
              " 1,\n",
              " 12,\n",
              " 1,\n",
              " 12,\n",
              " 12,\n",
              " 18,\n",
              " 12,\n",
              " 9,\n",
              " 9,\n",
              " 9,\n",
              " 9,\n",
              " 7,\n",
              " 7,\n",
              " 7,\n",
              " 7,\n",
              " 3,\n",
              " 5,\n",
              " 7,\n",
              " 7,\n",
              " 2,\n",
              " 2,\n",
              " 6,\n",
              " 5,\n",
              " 2,\n",
              " 2,\n",
              " 2,\n",
              " 4,\n",
              " 14,\n",
              " 11,\n",
              " 2,\n",
              " 1,\n",
              " 1,\n",
              " 7,\n",
              " 6,\n",
              " 3,\n",
              " 7,\n",
              " 1,\n",
              " 2,\n",
              " 6,\n",
              " 6,\n",
              " 7,\n",
              " 2,\n",
              " 5,\n",
              " 7,\n",
              " 7,\n",
              " 1,\n",
              " 2,\n",
              " 7,\n",
              " 7,\n",
              " 7,\n",
              " 2,\n",
              " 2,\n",
              " 2,\n",
              " 1,\n",
              " 7,\n",
              " 7,\n",
              " 1,\n",
              " 8,\n",
              " 7,\n",
              " 1,\n",
              " 11,\n",
              " 3,\n",
              " 4,\n",
              " 5,\n",
              " 8,\n",
              " 8,\n",
              " 13,\n",
              " 8,\n",
              " 11,\n",
              " 10,\n",
              " 13,\n",
              " 1,\n",
              " 11,\n",
              " 1,\n",
              " 5,\n",
              " 1,\n",
              " 1,\n",
              " 0,\n",
              " 0,\n",
              " 11,\n",
              " 1,\n",
              " 2,\n",
              " 2,\n",
              " 1,\n",
              " 1,\n",
              " 1,\n",
              " 5,\n",
              " 10,\n",
              " 5,\n",
              " 3,\n",
              " 7,\n",
              " 2,\n",
              " 7,\n",
              " 5,\n",
              " 10,\n",
              " 11,\n",
              " 7,\n",
              " 2,\n",
              " 1,\n",
              " 6,\n",
              " 1,\n",
              " 3,\n",
              " 5,\n",
              " 14,\n",
              " 9,\n",
              " 6,\n",
              " 2,\n",
              " 2,\n",
              " 2,\n",
              " 5,\n",
              " 2,\n",
              " 1,\n",
              " 3,\n",
              " 11,\n",
              " 13,\n",
              " 2,\n",
              " 3,\n",
              " 2,\n",
              " 3,\n",
              " 9,\n",
              " 3,\n",
              " 1,\n",
              " 1,\n",
              " 1,\n",
              " 4,\n",
              " 2,\n",
              " 4,\n",
              " 1,\n",
              " 1,\n",
              " 2,\n",
              " 7,\n",
              " 2,\n",
              " 5,\n",
              " 6,\n",
              " 16,\n",
              " 4,\n",
              " 1,\n",
              " 11,\n",
              " 6,\n",
              " 2,\n",
              " 0,\n",
              " 6,\n",
              " 2,\n",
              " 0,\n",
              " 2,\n",
              " 13,\n",
              " 2,\n",
              " 14,\n",
              " 14,\n",
              " 1,\n",
              " 16,\n",
              " 1,\n",
              " 1,\n",
              " 1,\n",
              " 7,\n",
              " 7,\n",
              " 4,\n",
              " 1,\n",
              " 5,\n",
              " 7,\n",
              " 3,\n",
              " 3,\n",
              " 3,\n",
              " 3,\n",
              " 3,\n",
              " 9,\n",
              " 2,\n",
              " 5,\n",
              " 3,\n",
              " 3,\n",
              " 11,\n",
              " 13,\n",
              " 13,\n",
              " 7,\n",
              " 3,\n",
              " 13,\n",
              " 2,\n",
              " 7,\n",
              " 14,\n",
              " 6,\n",
              " 5,\n",
              " 2,\n",
              " 11,\n",
              " 9,\n",
              " 3,\n",
              " 2,\n",
              " 9,\n",
              " 2,\n",
              " 7,\n",
              " 12,\n",
              " 6,\n",
              " 8,\n",
              " 6,\n",
              " 1,\n",
              " 7,\n",
              " 7,\n",
              " 7,\n",
              " 3,\n",
              " 1,\n",
              " 7,\n",
              " 9,\n",
              " 1,\n",
              " 2,\n",
              " 13,\n",
              " 10,\n",
              " 7,\n",
              " 13,\n",
              " 5,\n",
              " 4,\n",
              " 6,\n",
              " 4,\n",
              " 7,\n",
              " 2,\n",
              " 7,\n",
              " 7,\n",
              " 1,\n",
              " 16,\n",
              " 5,\n",
              " 2,\n",
              " 7,\n",
              " 2,\n",
              " 2,\n",
              " 5,\n",
              " 7,\n",
              " 8,\n",
              " 2,\n",
              " 11,\n",
              " 6,\n",
              " 7,\n",
              " 11,\n",
              " 5,\n",
              " 2,\n",
              " 7,\n",
              " 7,\n",
              " 2,\n",
              " 13,\n",
              " 8,\n",
              " 7,\n",
              " 3,\n",
              " 2,\n",
              " 2,\n",
              " 6,\n",
              " 11,\n",
              " 6,\n",
              " 2,\n",
              " 2,\n",
              " 2,\n",
              " 2,\n",
              " 1,\n",
              " 2,\n",
              " 2,\n",
              " 2,\n",
              " 4,\n",
              " 2,\n",
              " 7,\n",
              " 8,\n",
              " 7,\n",
              " 7,\n",
              " 7,\n",
              " 7,\n",
              " 7,\n",
              " 2,\n",
              " 9,\n",
              " 8,\n",
              " 2,\n",
              " 8,\n",
              " 8,\n",
              " 2,\n",
              " 7,\n",
              " 2,\n",
              " 4,\n",
              " 0,\n",
              " 2,\n",
              " 2,\n",
              " 1,\n",
              " 0,\n",
              " 2,\n",
              " 6,\n",
              " 6,\n",
              " 0,\n",
              " 3,\n",
              " 5,\n",
              " 1,\n",
              " 11,\n",
              " 7,\n",
              " 0,\n",
              " 11,\n",
              " 16,\n",
              " 7,\n",
              " 3,\n",
              " 2,\n",
              " 5,\n",
              " 2,\n",
              " 1,\n",
              " 3,\n",
              " 9,\n",
              " 3,\n",
              " 11,\n",
              " 11,\n",
              " 11,\n",
              " 0,\n",
              " 5,\n",
              " 5,\n",
              " 14,\n",
              " 11,\n",
              " 11,\n",
              " 7,\n",
              " 1,\n",
              " 2,\n",
              " 5,\n",
              " 7,\n",
              " 6,\n",
              " 3,\n",
              " 2,\n",
              " 9,\n",
              " 11,\n",
              " 9,\n",
              " 2,\n",
              " 2,\n",
              " 3,\n",
              " 8,\n",
              " 2,\n",
              " 7,\n",
              " 5,\n",
              " 3,\n",
              " 7,\n",
              " 2,\n",
              " 7,\n",
              " 18,\n",
              " 6,\n",
              " 15,\n",
              " 3,\n",
              " 2,\n",
              " 2,\n",
              " 12,\n",
              " 0,\n",
              " 7,\n",
              " 2,\n",
              " 2,\n",
              " 2,\n",
              " 6,\n",
              " 10,\n",
              " 7,\n",
              " 2,\n",
              " 7,\n",
              " 9,\n",
              " 1,\n",
              " 5,\n",
              " 10,\n",
              " 5,\n",
              " 11,\n",
              " 14,\n",
              " 1,\n",
              " 0,\n",
              " 0,\n",
              " 3,\n",
              " 1,\n",
              " 3,\n",
              " 3,\n",
              " 7,\n",
              " 3,\n",
              " 3,\n",
              " 5,\n",
              " 5,\n",
              " 11,\n",
              " 0,\n",
              " 2,\n",
              " 7,\n",
              " 5,\n",
              " 2,\n",
              " 5,\n",
              " 7,\n",
              " 2,\n",
              " 5,\n",
              " 2,\n",
              " 0,\n",
              " 6,\n",
              " 1,\n",
              " 2,\n",
              " 1,\n",
              " 2,\n",
              " 2,\n",
              " 1,\n",
              " 2,\n",
              " 4,\n",
              " 7,\n",
              " 2,\n",
              " 1,\n",
              " 7,\n",
              " 9,\n",
              " 9,\n",
              " 11,\n",
              " ...]"
            ]
          },
          "metadata": {},
          "execution_count": 58
        }
      ],
      "source": [
        "test_predictions"
      ]
    },
    {
      "cell_type": "code",
      "execution_count": null,
      "metadata": {
        "id": "PUXVmZ5sOnNA"
      },
      "outputs": [],
      "source": [
        "test_predictions_mapped = [mapping[x] for x in test_predictions]"
      ]
    },
    {
      "cell_type": "code",
      "execution_count": null,
      "metadata": {
        "id": "05Ipk8DGOnNA"
      },
      "outputs": [],
      "source": [
        "pd.DataFrame(test_predictions_mapped).to_csv('/content/gdrive/MyDrive/colorpredictions.csv')"
      ]
    },
    {
      "cell_type": "markdown",
      "metadata": {
        "id": "SOKiJIvrOnNA"
      },
      "source": []
    },
    {
      "cell_type": "code",
      "execution_count": null,
      "metadata": {
        "id": "Z3_UVnHBOlxj"
      },
      "outputs": [],
      "source": []
    },
    {
      "cell_type": "markdown",
      "source": [],
      "metadata": {
        "id": "Uk78H4v7WVld"
      }
    },
    {
      "cell_type": "markdown",
      "metadata": {
        "id": "JlnQkKfodwNj"
      },
      "source": [
        "# Bottom Category With Bert"
      ]
    },
    {
      "cell_type": "markdown",
      "metadata": {
        "id": "EZvJmzPzdwNk"
      },
      "source": [
        "## Data Preparing and preprocessing\n",
        "\n",
        "There isnt much preprocessing and prepping other than just cleaning and arranging the data because of several errors that I faced during my several trial runs."
      ]
    },
    {
      "cell_type": "code",
      "execution_count": null,
      "metadata": {
        "id": "siKa7svgdwNm"
      },
      "outputs": [],
      "source": [
        "data_train['bottom_category_text'].value_counts()\n"
      ]
    },
    {
      "cell_type": "code",
      "execution_count": null,
      "metadata": {
        "id": "GMuR9ZjbdwNo"
      },
      "outputs": [],
      "source": [
        "bottom_trainingID, _ = pd.factorize(data_train['bottom_category_text'])"
      ]
    },
    {
      "cell_type": "markdown",
      "metadata": {
        "id": "8uj8Vs3-dwNp"
      },
      "source": [
        "This model of bert that I use needs continous variables so I am making my own mapping. I could use bottom_category_id but it is not continous"
      ]
    },
    {
      "cell_type": "code",
      "execution_count": null,
      "metadata": {
        "id": "SAGjT7q_dwNp"
      },
      "outputs": [],
      "source": [
        "data_train['bottom_trainingID'] = bottom_trainingID"
      ]
    },
    {
      "cell_type": "code",
      "execution_count": null,
      "metadata": {
        "colab": {
          "base_uri": "https://localhost:8080/"
        },
        "outputId": "c9b8fc42-ab54-4b37-b89a-d8ddcc6e8cac",
        "id": "GMnfsziGdwNq"
      },
      "outputs": [
        {
          "output_type": "execute_result",
          "data": {
            "text/plain": [
              "bottom_trainingID\n",
              "1311    98\n",
              "796     98\n",
              "2348    98\n",
              "1523    97\n",
              "437     97\n",
              "        ..\n",
              "992     44\n",
              "497     43\n",
              "554     42\n",
              "1464    42\n",
              "2198    41\n",
              "Name: count, Length: 2782, dtype: int64"
            ]
          },
          "metadata": {},
          "execution_count": 14
        }
      ],
      "source": [
        "data_train['bottom_trainingID'].value_counts()\n"
      ]
    },
    {
      "cell_type": "markdown",
      "metadata": {
        "id": "NTms5NY5dwNr"
      },
      "source": []
    },
    {
      "cell_type": "markdown",
      "metadata": {
        "id": "5gE2MRwedwNs"
      },
      "source": [
        "While doing my testing and inital trial, I Used a subset of the data. This helped me run multiple ideas on free colab and get faster results. Of course the accuracy and F1 scores were bad but at least I got an idea that helped me sort out what to do with the whole dataset. The codes below are commented because I didnt use them while running the entire dataset. They were used for my inital trials."
      ]
    },
    {
      "cell_type": "code",
      "execution_count": null,
      "metadata": {
        "id": "aN86YkG0dwNs"
      },
      "outputs": [],
      "source": [
        "# import random\n",
        "# data_train = data_train.sample(n=20000,random_state=3)"
      ]
    },
    {
      "cell_type": "code",
      "execution_count": null,
      "metadata": {
        "id": "o2j-HhrBdwNt"
      },
      "outputs": [],
      "source": [
        "# data_test = data_test.sample(n=2000,random_state=3)"
      ]
    },
    {
      "cell_type": "markdown",
      "metadata": {
        "id": "vguqNTYMdwNt"
      },
      "source": [
        "The below code is for splitting the train dataset into training and validation.\n",
        "For this  model we are going to predict 'bottom_trainingID'"
      ]
    },
    {
      "cell_type": "code",
      "execution_count": null,
      "metadata": {
        "id": "FC1wlVEBdwNt"
      },
      "outputs": [],
      "source": [
        "from sklearn.model_selection import train_test_split\n",
        "\n",
        "df_training, data_val = train_test_split(\n",
        "    data_train,\n",
        "    test_size=0.1,\n",
        "    stratify=data_train['bottom_trainingID'],\n",
        "    random_state=42)"
      ]
    },
    {
      "cell_type": "markdown",
      "metadata": {
        "id": "xv5K3kA4dwNu"
      },
      "source": [
        "The codes below are for fixing some indexes and ensuring there are no duplicate indexes because that messes up when inputing into the model.\n",
        "I faced these errors and fixed them by debugging and referring stackoverflow"
      ]
    },
    {
      "cell_type": "code",
      "execution_count": null,
      "metadata": {
        "id": "62XoDsxUdwNu"
      },
      "outputs": [],
      "source": [
        "df_training.reset_index(drop=True, inplace=True)\n",
        "data_test.reset_index(drop=True, inplace=True)\n",
        "data_val.reset_index(drop=True, inplace=True)"
      ]
    },
    {
      "cell_type": "code",
      "execution_count": null,
      "metadata": {
        "id": "BEKPnGfudwNu"
      },
      "outputs": [],
      "source": [
        "df_training[\"Unnamed: 0\"] = list(range(df_training.shape[0]))\n",
        "data_val[\"Unnamed: 0\"] = list(range(df_training.shape[0], df_training.shape[0] + data_val.shape[0]))\n",
        "data_test[\"Unnamed: 0\"] = list(range(df_training.shape[0] + data_val.shape[0], df_training.shape[0] + data_val.shape[0] + data_test.shape[0]))"
      ]
    },
    {
      "cell_type": "markdown",
      "metadata": {
        "id": "-J-23C7cdwNu"
      },
      "source": [
        "Storing it as csv because the dataset loader function takes csv"
      ]
    },
    {
      "cell_type": "code",
      "execution_count": null,
      "metadata": {
        "id": "STbZS8s-dwNv"
      },
      "outputs": [],
      "source": [
        "df_training.to_csv('train.csv',index=False)\n",
        "data_test.to_csv('test.csv',index=False)\n",
        "data_val.to_csv('val.csv',index=False)"
      ]
    },
    {
      "cell_type": "markdown",
      "metadata": {
        "id": "Gm78L05-dwNw"
      },
      "source": [
        "## Model prep and training"
      ]
    },
    {
      "cell_type": "code",
      "execution_count": null,
      "metadata": {
        "id": "BHVfnli7dwNw"
      },
      "outputs": [],
      "source": [
        "@dataclass\n",
        "class ModelArguments:\n",
        "  \"\"\"\n",
        "  Arguments pertaining to which model/config/tokenizer we are going to fine-tune from.\n",
        "  \"\"\"\n",
        "\n",
        "  model_name_or_path: str = field(\n",
        "      metadata={\"help\": \"Path to pretrained model or model identifier from huggingface.co/models\"}\n",
        "  )\n",
        "  config_name: Optional[str] = field(\n",
        "      default=None, metadata={\"help\": \"Pretrained config name or path if not the same as model_name\"}\n",
        "  )\n",
        "  tokenizer_name: Optional[str] = field(\n",
        "      default=None, metadata={\"help\": \"Pretrained tokenizer name or path if not the same as model_name\"}\n",
        "  )\n",
        "  cache_dir: Optional[str] = field(\n",
        "      default=None, metadata={\"help\": \"Where do you want to store the pretrained models downloaded from s3\"}\n",
        "  )\n",
        "\n",
        "\n",
        "@dataclass\n",
        "class MultimodalDataTrainingArguments:\n",
        "  \"\"\"\n",
        "  Arguments pertaining to how we combine tabular features\n",
        "  Using `HfArgumentParser` we can turn this class\n",
        "  into argparse arguments to be able to specify them on\n",
        "  the command line.\n",
        "  \"\"\"\n",
        "\n",
        "  data_path: str = field(metadata={\n",
        "                            'help': 'the path to the csv file containing the dataset'\n",
        "                        })\n",
        "  column_info_path: str = field(\n",
        "      default=None,\n",
        "      metadata={\n",
        "          'help': 'the path to the json file detailing which columns are text, categorical, numerical, and the label'\n",
        "  })\n",
        "\n",
        "  column_info: dict = field(\n",
        "      default=None,\n",
        "      metadata={\n",
        "          'help': 'a dict referencing the text, categorical, numerical, and label columns'\n",
        "                  'its keys are text_cols, num_cols, cat_cols, and label_col'\n",
        "  })\n",
        "\n",
        "  categorical_encode_type: str = field(default='ohe',\n",
        "                                        metadata={\n",
        "                                            'help': 'sklearn encoder to use for categorical data',\n",
        "                                            'choices': ['ohe', 'binary', 'label', 'none']\n",
        "                                        })\n",
        "  numerical_transformer_method: str = field(default='yeo_johnson',\n",
        "                                            metadata={\n",
        "                                                'help': 'sklearn numerical transformer to preprocess numerical data',\n",
        "                                                'choices': ['yeo_johnson', 'box_cox', 'quantile_normal', 'none']\n",
        "                                            })\n",
        "  task: str = field(default=\"classification\",\n",
        "                    metadata={\n",
        "                        \"help\": \"The downstream training task\",\n",
        "                        \"choices\": [\"classification\", \"regression\"]\n",
        "                    })\n",
        "\n",
        "  mlp_division: int = field(default=4,\n",
        "                            metadata={\n",
        "                                'help': 'the ratio of the number of '\n",
        "                                        'hidden dims in a current layer to the next MLP layer'\n",
        "                            })\n",
        "  combine_feat_method: str = field(default='individual_mlps_on_cat_and_numerical_feats_then_concat',\n",
        "                                    metadata={\n",
        "                                        'help': 'method to combine categorical and numerical features, '\n",
        "                                                'see README for all the method'\n",
        "                                    })\n",
        "  mlp_dropout: float = field(default=0.1,\n",
        "                              metadata={\n",
        "                                'help': 'dropout ratio used for MLP layers'\n",
        "                              })\n",
        "  numerical_bn: bool = field(default=True,\n",
        "                              metadata={\n",
        "                                  'help': 'whether to use batchnorm on numerical features'\n",
        "                              })\n",
        "  use_simple_classifier: str = field(default=True,\n",
        "                                      metadata={\n",
        "                                          'help': 'whether to use single layer or MLP as final classifier'\n",
        "                                      })\n",
        "  mlp_act: str = field(default='relu',\n",
        "                        metadata={\n",
        "                            'help': 'the activation function to use for finetuning layers',\n",
        "                            'choices': ['relu', 'prelu', 'sigmoid', 'tanh', 'linear']\n",
        "                        })\n",
        "  gating_beta: float = field(default=0.2,\n",
        "                              metadata={\n",
        "                                  'help': \"the beta hyperparameters used for gating tabular data \"\n",
        "                                          \"see https://www.aclweb.org/anthology/2020.acl-main.214.pdf\"\n",
        "                              })\n",
        "\n",
        "  def __post_init__(self):\n",
        "      assert self.column_info != self.column_info_path\n",
        "      if self.column_info is None and self.column_info_path:\n",
        "          with open(self.column_info_path, 'r') as f:\n",
        "              self.column_info = json.load(f)"
      ]
    },
    {
      "cell_type": "code",
      "execution_count": null,
      "metadata": {
        "id": "C0mu7WFRdwNx"
      },
      "outputs": [],
      "source": [
        "text_cols = ['title', 'description', 'tags'] # these are the columns that I am using to predict top_category_id\n",
        "cat_cols = ['type']\n",
        "numerical_cols = []\n",
        "\n",
        "column_info_dict = {\n",
        "    'text_cols': text_cols,\n",
        "    'num_cols': numerical_cols,\n",
        "    'cat_cols': cat_cols,\n",
        "    'label_col': 'bottom_trainingID', # what i need to predict\n",
        "    'label_list': data_train['bottom_trainingID'].unique() #the different labels that the product can fall into aka the classes\n",
        "}\n",
        "\n",
        "\n",
        "model_args = ModelArguments(\n",
        "    model_name_or_path='bert-base-uncased'\n",
        ")\n",
        "\n",
        "data_args = MultimodalDataTrainingArguments(\n",
        "    data_path='.',\n",
        "    combine_feat_method='gating_on_cat_and_num_feats_then_sum', #?\n",
        "    column_info=column_info_dict,\n",
        "    task='classification',\n",
        "\n",
        ")\n",
        "\n",
        "training_args = TrainingArguments(\n",
        "    output_dir=\"./logs/model_name\",\n",
        "    logging_dir=\"./logs/runs\",\n",
        "    overwrite_output_dir=True,\n",
        "    do_train=True,\n",
        "    do_eval=True,\n",
        "    per_device_train_batch_size=32,\n",
        "    num_train_epochs=1,\n",
        "    evaluation_strategy='steps',\n",
        "    eval_steps=700,\n",
        "    logging_steps=700\n",
        ")\n",
        "\n",
        "set_seed(training_args.seed)"
      ]
    },
    {
      "cell_type": "code",
      "execution_count": null,
      "metadata": {
        "colab": {
          "base_uri": "https://localhost:8080/"
        },
        "outputId": "26e4cf25-cbab-4a77-878b-e1f1ab977dad",
        "id": "UOROJdmWdwNx"
      },
      "outputs": [
        {
          "output_type": "stream",
          "name": "stdout",
          "text": [
            "Specified tokenizer:  bert-base-uncased\n"
          ]
        }
      ],
      "source": [
        "tokenizer_path_or_name = model_args.tokenizer_name if model_args.tokenizer_name else model_args.model_name_or_path\n",
        "print('Specified tokenizer: ', tokenizer_path_or_name)\n",
        "tokenizer = AutoTokenizer.from_pretrained(\n",
        "    tokenizer_path_or_name,\n",
        "    cache_dir=model_args.cache_dir,\n",
        ")"
      ]
    },
    {
      "cell_type": "code",
      "execution_count": null,
      "metadata": {
        "id": "LmZzBa3BdwNy"
      },
      "outputs": [],
      "source": [
        "# Get Datasets\n",
        "train_dataset, val_dataset, test_dataset = load_data_from_folder(\n",
        "    data_args.data_path,\n",
        "    data_args.column_info['text_cols'],\n",
        "    tokenizer,\n",
        "    label_col=data_args.column_info['label_col'],\n",
        "    label_list=data_args.column_info['label_list'],\n",
        "    categorical_cols=data_args.column_info['cat_cols'],\n",
        "    numerical_cols=data_args.column_info['num_cols'],\n",
        "    sep_text_token_str=tokenizer.sep_token,\n",
        "    numerical_transformer_method = 'none'\n",
        ")"
      ]
    },
    {
      "cell_type": "code",
      "execution_count": null,
      "metadata": {
        "colab": {
          "base_uri": "https://localhost:8080/"
        },
        "outputId": "6a88d600-8ad0-4487-89d6-6674b7392173",
        "id": "9Rf2vSEidwNy"
      },
      "outputs": [
        {
          "output_type": "execute_result",
          "data": {
            "text/plain": [
              "2782"
            ]
          },
          "metadata": {},
          "execution_count": 23
        }
      ],
      "source": [
        "num_labels = len(np.unique(train_dataset.labels))\n",
        "num_labels"
      ]
    },
    {
      "cell_type": "markdown",
      "source": [
        "2782 classes, this is going to be hard xD"
      ],
      "metadata": {
        "id": "NJby-tr5eisQ"
      }
    },
    {
      "cell_type": "code",
      "execution_count": null,
      "metadata": {
        "id": "i6zereQWdwNz"
      },
      "outputs": [],
      "source": [
        "config = AutoConfig.from_pretrained(\n",
        "        model_args.config_name if model_args.config_name else model_args.model_name_or_path,\n",
        "        cache_dir=model_args.cache_dir,\n",
        "    )\n",
        "tabular_config = TabularConfig(num_labels=num_labels,\n",
        "                               cat_feat_dim=train_dataset.cat_feats.shape[1],\n",
        "                               numerical_feat_dim=0,\n",
        "                               **vars(data_args))\n",
        "config.tabular_config = tabular_config"
      ]
    },
    {
      "cell_type": "code",
      "execution_count": null,
      "metadata": {
        "colab": {
          "base_uri": "https://localhost:8080/"
        },
        "outputId": "48e6fb55-f44c-4fb1-d5f1-6f8bb279a087",
        "id": "gZV6weq1dwNz"
      },
      "outputs": [
        {
          "output_type": "execute_result",
          "data": {
            "text/plain": [
              "True"
            ]
          },
          "metadata": {},
          "execution_count": 25
        }
      ],
      "source": [
        "import torch\n",
        "torch.cuda.is_available()"
      ]
    },
    {
      "cell_type": "markdown",
      "metadata": {
        "id": "ds0iF6jNdwNz"
      },
      "source": [
        "The below code is to make sure we use the GPU, Although I am not entirely sure if it needs to be there if you are running on colab. If you are using jupiter notebook then definitely yes but make sure CUDA and CNN are also installed."
      ]
    },
    {
      "cell_type": "code",
      "execution_count": null,
      "metadata": {
        "colab": {
          "base_uri": "https://localhost:8080/"
        },
        "outputId": "3d60703b-489b-4360-c285-022bac13e8ef",
        "id": "BrYnSIs7dwNz"
      },
      "outputs": [
        {
          "output_type": "stream",
          "name": "stdout",
          "text": [
            "cuda:0\n"
          ]
        }
      ],
      "source": [
        "device = torch.device(\"cuda:0\" if torch.cuda.is_available() else \"cpu\")\n",
        "print(device)\n"
      ]
    },
    {
      "cell_type": "code",
      "execution_count": null,
      "metadata": {
        "colab": {
          "base_uri": "https://localhost:8080/"
        },
        "outputId": "0a421188-5a43-425b-8dc9-36326d0fdcd3",
        "id": "yhyuTK53dwN0"
      },
      "outputs": [
        {
          "output_type": "stream",
          "name": "stderr",
          "text": [
            "Some weights of the model checkpoint at bert-base-uncased were not used when initializing BertWithTabular: ['cls.predictions.transform.dense.bias', 'cls.predictions.decoder.weight', 'cls.seq_relationship.bias', 'cls.seq_relationship.weight', 'cls.predictions.transform.LayerNorm.bias', 'cls.predictions.transform.LayerNorm.weight', 'cls.predictions.bias', 'cls.predictions.transform.dense.weight']\n",
            "- This IS expected if you are initializing BertWithTabular from the checkpoint of a model trained on another task or with another architecture (e.g. initializing a BertForSequenceClassification model from a BertForPreTraining model).\n",
            "- This IS NOT expected if you are initializing BertWithTabular from the checkpoint of a model that you expect to be exactly identical (initializing a BertForSequenceClassification model from a BertForSequenceClassification model).\n",
            "Some weights of BertWithTabular were not initialized from the model checkpoint at bert-base-uncased and are newly initialized: ['classifier.weight', 'tabular_classifier.bias', 'tabular_combiner.g_cat_layer.bias', 'tabular_combiner.h_bias', 'classifier.bias', 'tabular_classifier.weight', 'tabular_combiner.g_cat_layer.weight', 'tabular_combiner.h_cat_layer.weight', 'tabular_combiner.layer_norm.bias', 'tabular_combiner.layer_norm.weight']\n",
            "You should probably TRAIN this model on a down-stream task to be able to use it for predictions and inference.\n"
          ]
        }
      ],
      "source": [
        "model = AutoModelWithTabular.from_pretrained(\n",
        "        model_args.config_name if model_args.config_name else model_args.model_name_or_path,\n",
        "        config=config,\n",
        "        cache_dir=model_args.cache_dir\n",
        "    ).to(device)"
      ]
    },
    {
      "cell_type": "code",
      "execution_count": null,
      "metadata": {
        "id": "tjhuOPepdwN0"
      },
      "outputs": [],
      "source": [
        "import numpy as np\n",
        "from scipy.special import softmax\n",
        "from sklearn.metrics import (\n",
        "    auc,\n",
        "    precision_recall_curve,\n",
        "    roc_auc_score,\n",
        "    f1_score,\n",
        "    confusion_matrix,\n",
        "    matthews_corrcoef,\n",
        ")\n",
        "\n",
        "def calc_classification_metrics(p: EvalPrediction):\n",
        "  predictions = p.predictions[0]\n",
        "  pred_labels = np.argmax(predictions, axis=1)\n",
        "  pred_scores = softmax(predictions, axis=1)[:, 1]\n",
        "  labels = p.label_ids\n",
        "  if len(np.unique(labels)) == 2:  # binary classification\n",
        "      roc_auc_pred_score = roc_auc_score(labels, pred_scores)\n",
        "      precisions, recalls, thresholds = precision_recall_curve(labels,\n",
        "                                                                pred_scores)\n",
        "      fscore = (2 * precisions * recalls) / (precisions + recalls)\n",
        "      fscore[np.isnan(fscore)] = 0\n",
        "      ix = np.argmax(fscore)\n",
        "      threshold = thresholds[ix].item()\n",
        "      pr_auc = auc(recalls, precisions)\n",
        "      tn, fp, fn, tp = confusion_matrix(labels, pred_labels, labels=[0, 1]).ravel()\n",
        "      result = {'roc_auc': roc_auc_pred_score,\n",
        "                'threshold': threshold,\n",
        "                'pr_auc': pr_auc,\n",
        "                'recall': recalls[ix].item(),\n",
        "                'precision': precisions[ix].item(), 'f1': fscore[ix].item(),\n",
        "                'tn': tn.item(), 'fp': fp.item(), 'fn': fn.item(), 'tp': tp.item()\n",
        "                }\n",
        "  else:\n",
        "      acc = (pred_labels == labels).mean()\n",
        "      f1 = f1_score(y_true=labels, y_pred=pred_labels,average='micro')\n",
        "      result = {\n",
        "          \"acc\": acc,\n",
        "          \"f1\": f1,\n",
        "          \"acc_and_f1\": (acc + f1) / 2,\n",
        "          \"mcc\": matthews_corrcoef(labels, pred_labels)\n",
        "      }\n",
        "\n",
        "  return result"
      ]
    },
    {
      "cell_type": "code",
      "execution_count": null,
      "metadata": {
        "id": "LC_Pi_cKdwN1"
      },
      "outputs": [],
      "source": [
        "trainer = Trainer(\n",
        "    model=model,\n",
        "    args=training_args,\n",
        "    train_dataset=train_dataset,\n",
        "    eval_dataset=val_dataset,\n",
        "    compute_metrics=calc_classification_metrics,\n",
        ")"
      ]
    },
    {
      "cell_type": "code",
      "execution_count": null,
      "metadata": {
        "colab": {
          "base_uri": "https://localhost:8080/",
          "height": 499
        },
        "outputId": "ad24249b-e787-4b2d-ae0c-12bd206698d4",
        "id": "j9FTGi6hdwN1"
      },
      "outputs": [
        {
          "output_type": "stream",
          "name": "stderr",
          "text": [
            "/usr/local/lib/python3.9/dist-packages/transformers/optimization.py:391: FutureWarning: This implementation of AdamW is deprecated and will be removed in a future version. Use the PyTorch implementation torch.optim.AdamW instead, or set `no_deprecation_warning=True` to disable this warning\n",
            "  warnings.warn(\n"
          ]
        },
        {
          "output_type": "display_data",
          "data": {
            "text/plain": [
              "<IPython.core.display.HTML object>"
            ],
            "text/html": [
              "\n",
              "    <div>\n",
              "      \n",
              "      <progress value='6905' max='6905' style='width:300px; height:20px; vertical-align: middle;'></progress>\n",
              "      [6905/6905 1:49:50, Epoch 1/1]\n",
              "    </div>\n",
              "    <table border=\"1\" class=\"dataframe\">\n",
              "  <thead>\n",
              " <tr style=\"text-align: left;\">\n",
              "      <th>Step</th>\n",
              "      <th>Training Loss</th>\n",
              "      <th>Validation Loss</th>\n",
              "      <th>Acc</th>\n",
              "      <th>F1</th>\n",
              "      <th>Acc And F1</th>\n",
              "      <th>Mcc</th>\n",
              "    </tr>\n",
              "  </thead>\n",
              "  <tbody>\n",
              "    <tr>\n",
              "      <td>700</td>\n",
              "      <td>7.796500</td>\n",
              "      <td>7.405903</td>\n",
              "      <td>0.010550</td>\n",
              "      <td>0.010550</td>\n",
              "      <td>0.010550</td>\n",
              "      <td>0.010371</td>\n",
              "    </tr>\n",
              "    <tr>\n",
              "      <td>1400</td>\n",
              "      <td>7.025500</td>\n",
              "      <td>6.628423</td>\n",
              "      <td>0.040205</td>\n",
              "      <td>0.040205</td>\n",
              "      <td>0.040205</td>\n",
              "      <td>0.040193</td>\n",
              "    </tr>\n",
              "    <tr>\n",
              "      <td>2100</td>\n",
              "      <td>6.370900</td>\n",
              "      <td>6.041950</td>\n",
              "      <td>0.085951</td>\n",
              "      <td>0.085951</td>\n",
              "      <td>0.085951</td>\n",
              "      <td>0.085903</td>\n",
              "    </tr>\n",
              "    <tr>\n",
              "      <td>2800</td>\n",
              "      <td>5.849500</td>\n",
              "      <td>5.554203</td>\n",
              "      <td>0.133284</td>\n",
              "      <td>0.133284</td>\n",
              "      <td>0.133284</td>\n",
              "      <td>0.133280</td>\n",
              "    </tr>\n",
              "    <tr>\n",
              "      <td>3500</td>\n",
              "      <td>5.430200</td>\n",
              "      <td>5.170368</td>\n",
              "      <td>0.179356</td>\n",
              "      <td>0.179356</td>\n",
              "      <td>0.179356</td>\n",
              "      <td>0.179321</td>\n",
              "    </tr>\n",
              "    <tr>\n",
              "      <td>4200</td>\n",
              "      <td>5.094800</td>\n",
              "      <td>4.858251</td>\n",
              "      <td>0.214225</td>\n",
              "      <td>0.214225</td>\n",
              "      <td>0.214225</td>\n",
              "      <td>0.214195</td>\n",
              "    </tr>\n",
              "    <tr>\n",
              "      <td>4900</td>\n",
              "      <td>4.844700</td>\n",
              "      <td>4.619652</td>\n",
              "      <td>0.261233</td>\n",
              "      <td>0.261233</td>\n",
              "      <td>0.261233</td>\n",
              "      <td>0.261162</td>\n",
              "    </tr>\n",
              "    <tr>\n",
              "      <td>5600</td>\n",
              "      <td>4.618300</td>\n",
              "      <td>4.457015</td>\n",
              "      <td>0.286122</td>\n",
              "      <td>0.286122</td>\n",
              "      <td>0.286122</td>\n",
              "      <td>0.286054</td>\n",
              "    </tr>\n",
              "    <tr>\n",
              "      <td>6300</td>\n",
              "      <td>4.507600</td>\n",
              "      <td>4.355777</td>\n",
              "      <td>0.306978</td>\n",
              "      <td>0.306978</td>\n",
              "      <td>0.306978</td>\n",
              "      <td>0.306899</td>\n",
              "    </tr>\n",
              "  </tbody>\n",
              "</table><p>"
            ]
          },
          "metadata": {}
        },
        {
          "output_type": "stream",
          "name": "stdout",
          "text": [
            "CPU times: user 1h 49min 40s, sys: 38.6 s, total: 1h 50min 18s\n",
            "Wall time: 1h 49min 52s\n"
          ]
        },
        {
          "output_type": "execute_result",
          "data": {
            "text/plain": [
              "TrainOutput(global_step=6905, training_loss=5.614308479193067, metrics={'train_runtime': 6592.617, 'train_samples_per_second': 33.513, 'train_steps_per_second': 1.047, 'total_flos': 5.998825449219686e+16, 'train_loss': 5.614308479193067, 'epoch': 1.0})"
            ]
          },
          "metadata": {},
          "execution_count": 30
        }
      ],
      "source": [
        "%%time\n",
        "trainer.train()"
      ]
    },
    {
      "cell_type": "code",
      "execution_count": null,
      "metadata": {
        "id": "uCV7BGsPdwN1"
      },
      "outputs": [],
      "source": [
        "trainer.save_model(\"./bottomcategorymodel\")"
      ]
    },
    {
      "cell_type": "markdown",
      "source": [
        "## Evaluation and Results"
      ],
      "metadata": {
        "id": "gsUtb1pPBBXU"
      }
    },
    {
      "cell_type": "markdown",
      "source": [],
      "metadata": {
        "id": "VeEd6Tw_kSQe"
      }
    },
    {
      "cell_type": "code",
      "execution_count": null,
      "metadata": {
        "colab": {
          "base_uri": "https://localhost:8080/",
          "height": 17
        },
        "outputId": "dfd8cfcf-2e0b-47dd-e1cc-7dbfe1e872a3",
        "id": "uoDET0QXdwN1"
      },
      "outputs": [
        {
          "output_type": "display_data",
          "data": {
            "text/plain": [
              "<IPython.core.display.HTML object>"
            ],
            "text/html": []
          },
          "metadata": {}
        }
      ],
      "source": [
        "val_predictions = trainer.predict(val_dataset)"
      ]
    },
    {
      "cell_type": "code",
      "execution_count": null,
      "metadata": {
        "id": "Cir3tzQBdwN2"
      },
      "outputs": [],
      "source": [
        "from sklearn.metrics import classification_report"
      ]
    },
    {
      "cell_type": "markdown",
      "metadata": {
        "id": "Vt9UtVn2dwN2"
      },
      "source": []
    },
    {
      "cell_type": "code",
      "execution_count": null,
      "metadata": {
        "colab": {
          "base_uri": "https://localhost:8080/"
        },
        "outputId": "18aace40-18d1-4a9b-d077-2d1ccb949de3",
        "id": "WB10Cg2vdwN2"
      },
      "outputs": [
        {
          "output_type": "stream",
          "name": "stdout",
          "text": [
            "              precision    recall  f1-score   support\n",
            "\n",
            "           0       0.23      0.78      0.36         9\n",
            "           1       0.50      0.29      0.36         7\n",
            "           2       0.00      0.00      0.00         6\n",
            "           3       0.00      0.00      0.00         9\n",
            "           4       0.00      0.00      0.00         9\n",
            "           5       0.00      0.00      0.00         9\n",
            "           6       0.30      0.89      0.44         9\n",
            "           7       0.08      0.33      0.12         9\n",
            "           8       0.00      0.00      0.00         8\n",
            "           9       0.00      0.00      0.00         9\n",
            "          10       0.00      0.00      0.00         9\n",
            "          11       0.00      0.00      0.00         9\n",
            "          12       0.00      0.00      0.00        10\n",
            "          13       0.00      0.00      0.00         9\n",
            "          14       0.00      0.00      0.00         9\n",
            "          15       0.00      0.00      0.00         6\n",
            "          16       0.16      0.75      0.26         8\n",
            "          17       0.62      0.56      0.59         9\n",
            "          18       0.00      0.00      0.00         9\n",
            "          19       0.00      0.00      0.00         8\n",
            "          20       0.00      0.00      0.00         9\n",
            "          21       1.00      0.11      0.20         9\n",
            "          22       0.00      0.00      0.00         9\n",
            "          23       0.00      0.00      0.00         9\n",
            "          24       0.00      0.00      0.00         9\n",
            "          25       0.62      0.89      0.73         9\n",
            "          26       0.00      0.00      0.00        10\n",
            "          27       0.50      0.33      0.40         9\n",
            "          28       0.00      0.00      0.00         9\n",
            "          29       0.27      0.78      0.40         9\n",
            "          30       0.13      1.00      0.24         9\n",
            "          31       0.00      0.00      0.00        10\n",
            "          32       0.00      0.00      0.00         9\n",
            "          33       1.00      0.11      0.20         9\n",
            "          34       0.00      0.00      0.00         5\n",
            "          35       0.25      0.11      0.15         9\n",
            "          36       0.75      0.33      0.46         9\n",
            "          37       0.50      0.11      0.18         9\n",
            "          38       0.00      0.00      0.00         9\n",
            "          39       0.43      1.00      0.60         9\n",
            "          40       0.69      1.00      0.82         9\n",
            "          41       0.00      0.00      0.00         9\n",
            "          42       0.00      0.00      0.00         9\n",
            "          43       0.00      0.00      0.00         9\n",
            "          44       0.00      0.00      0.00         9\n",
            "          45       0.00      0.00      0.00         8\n",
            "          46       0.30      1.00      0.46         9\n",
            "          47       0.20      0.11      0.14         9\n",
            "          48       0.00      0.00      0.00         9\n",
            "          49       0.00      0.00      0.00        10\n",
            "          50       0.00      0.00      0.00         9\n",
            "          51       0.00      0.00      0.00         9\n",
            "          52       0.00      0.00      0.00         9\n",
            "          53       0.69      1.00      0.82         9\n",
            "          54       0.00      0.00      0.00         9\n",
            "          55       0.05      0.11      0.07         9\n",
            "          56       0.44      0.50      0.47         8\n",
            "          57       0.55      0.67      0.60         9\n",
            "          58       0.00      0.00      0.00         9\n",
            "          59       0.50      0.11      0.18         9\n",
            "          60       0.00      0.00      0.00         9\n",
            "          61       0.43      0.30      0.35        10\n",
            "          62       0.00      0.00      0.00         9\n",
            "          63       0.41      1.00      0.58         9\n",
            "          64       0.05      1.00      0.09         9\n",
            "          65       0.00      0.00      0.00         6\n",
            "          66       0.00      0.00      0.00         9\n",
            "          67       0.00      0.00      0.00         5\n",
            "          68       0.64      0.78      0.70         9\n",
            "          69       0.47      1.00      0.64         9\n",
            "          70       0.00      0.00      0.00         9\n",
            "          71       0.47      0.89      0.62         9\n",
            "          72       0.25      0.56      0.34         9\n",
            "          73       0.33      1.00      0.50         9\n",
            "          74       0.00      0.00      0.00         9\n",
            "          75       0.00      0.00      0.00         9\n",
            "          76       0.16      0.89      0.27         9\n",
            "          77       0.00      0.00      0.00         8\n",
            "          78       0.00      0.00      0.00         7\n",
            "          79       0.00      0.00      0.00         9\n",
            "          80       0.00      0.00      0.00        10\n",
            "          81       0.89      0.89      0.89         9\n",
            "          82       0.50      0.11      0.18         9\n",
            "          83       0.46      0.67      0.55         9\n",
            "          84       0.50      0.11      0.18         9\n",
            "          85       0.00      0.00      0.00         9\n",
            "          86       0.22      0.67      0.33         9\n",
            "          87       0.00      0.00      0.00         9\n",
            "          88       1.00      0.11      0.20         9\n",
            "          89       0.00      0.00      0.00         9\n",
            "          90       0.62      0.89      0.73         9\n",
            "          91       0.00      0.00      0.00         9\n",
            "          92       1.00      0.22      0.36         9\n",
            "          93       0.50      0.56      0.53         9\n",
            "          94       0.20      0.44      0.28         9\n",
            "          95       0.08      0.44      0.13         9\n",
            "          96       0.00      0.00      0.00         8\n",
            "          97       0.29      0.56      0.38         9\n",
            "          98       0.82      1.00      0.90         9\n",
            "          99       0.80      0.44      0.57         9\n",
            "         100       0.38      0.33      0.35         9\n",
            "         101       0.00      0.00      0.00         9\n",
            "         102       0.00      0.00      0.00         9\n",
            "         103       0.00      0.00      0.00         9\n",
            "         104       0.64      1.00      0.78         9\n",
            "         105       0.00      0.00      0.00         7\n",
            "         106       0.12      0.56      0.20         9\n",
            "         107       0.00      0.00      0.00         5\n",
            "         108       0.47      0.88      0.61         8\n",
            "         109       0.00      0.00      0.00         9\n",
            "         110       0.54      0.78      0.64         9\n",
            "         111       0.00      0.00      0.00         9\n",
            "         112       0.00      0.00      0.00         9\n",
            "         113       0.00      0.00      0.00         9\n",
            "         114       0.00      0.00      0.00         9\n",
            "         115       0.16      0.89      0.28         9\n",
            "         116       0.00      0.00      0.00         9\n",
            "         117       0.00      0.00      0.00         9\n",
            "         118       0.00      0.00      0.00         9\n",
            "         119       0.00      0.00      0.00         9\n",
            "         120       1.00      0.11      0.20         9\n",
            "         121       1.00      0.56      0.71         9\n",
            "         122       0.23      0.67      0.34         9\n",
            "         123       0.00      0.00      0.00         5\n",
            "         124       0.00      0.00      0.00         7\n",
            "         125       0.00      0.00      0.00         9\n",
            "         126       1.00      0.67      0.80         9\n",
            "         127       1.00      0.30      0.46        10\n",
            "         128       0.78      0.78      0.78         9\n",
            "         129       0.00      0.00      0.00        10\n",
            "         130       0.00      0.00      0.00         9\n",
            "         131       0.08      0.56      0.14         9\n",
            "         132       0.00      0.00      0.00         9\n",
            "         133       0.00      0.00      0.00         9\n",
            "         134       0.00      0.00      0.00         9\n",
            "         135       0.24      0.56      0.33         9\n",
            "         136       0.20      0.22      0.21         9\n",
            "         137       0.00      0.00      0.00        10\n",
            "         138       0.19      0.78      0.30         9\n",
            "         139       0.14      0.89      0.24         9\n",
            "         140       0.00      0.00      0.00        10\n",
            "         141       0.19      0.89      0.31         9\n",
            "         142       0.00      0.00      0.00        10\n",
            "         143       0.80      0.89      0.84         9\n",
            "         144       0.23      1.00      0.37         9\n",
            "         145       0.00      0.00      0.00         9\n",
            "         146       0.25      0.11      0.15         9\n",
            "         147       0.00      0.00      0.00         9\n",
            "         148       0.00      0.00      0.00        10\n",
            "         149       0.15      0.89      0.26         9\n",
            "         150       0.04      0.11      0.06         9\n",
            "         151       0.54      0.78      0.64         9\n",
            "         152       0.00      0.00      0.00         9\n",
            "         153       0.50      0.22      0.31         9\n",
            "         154       0.30      0.67      0.41         9\n",
            "         155       0.00      0.00      0.00         9\n",
            "         156       0.22      0.78      0.34         9\n",
            "         157       0.00      0.00      0.00         9\n",
            "         158       0.88      0.78      0.82         9\n",
            "         159       0.00      0.00      0.00         4\n",
            "         160       0.78      0.78      0.78         9\n",
            "         161       0.82      1.00      0.90         9\n",
            "         162       0.00      0.00      0.00         9\n",
            "         163       0.00      0.00      0.00         5\n",
            "         164       0.00      0.00      0.00         9\n",
            "         165       0.09      0.50      0.15        10\n",
            "         166       0.33      0.78      0.47         9\n",
            "         167       0.75      0.33      0.46         9\n",
            "         168       0.86      0.67      0.75         9\n",
            "         169       0.57      0.50      0.53         8\n",
            "         170       0.00      0.00      0.00         9\n",
            "         171       0.00      0.00      0.00         9\n",
            "         172       0.00      0.00      0.00         9\n",
            "         173       0.00      0.00      0.00         9\n",
            "         174       0.00      0.00      0.00         9\n",
            "         175       0.54      0.70      0.61        10\n",
            "         176       0.00      0.00      0.00         9\n",
            "         177       0.00      0.00      0.00         9\n",
            "         178       0.00      0.00      0.00         9\n",
            "         179       0.20      0.44      0.28         9\n",
            "         180       0.00      0.00      0.00         9\n",
            "         181       1.00      0.22      0.36         9\n",
            "         182       0.33      0.78      0.47         9\n",
            "         183       0.40      0.67      0.50         9\n",
            "         184       0.83      0.56      0.67         9\n",
            "         185       0.00      0.00      0.00         9\n",
            "         186       0.33      0.38      0.35         8\n",
            "         187       0.38      0.33      0.35         9\n",
            "         188       0.86      0.67      0.75         9\n",
            "         189       0.53      0.89      0.67         9\n",
            "         190       0.64      0.70      0.67        10\n",
            "         191       0.17      0.78      0.27         9\n",
            "         192       0.00      0.00      0.00         9\n",
            "         193       0.89      0.89      0.89         9\n",
            "         194       0.00      0.00      0.00         9\n",
            "         195       0.62      0.89      0.73         9\n",
            "         196       0.40      1.00      0.57        10\n",
            "         197       0.33      0.11      0.17         9\n",
            "         198       0.00      0.00      0.00         9\n",
            "         199       0.00      0.00      0.00         9\n",
            "         200       0.50      1.00      0.67         9\n",
            "         201       0.43      0.67      0.52         9\n",
            "         202       0.75      0.67      0.71         9\n",
            "         203       0.00      0.00      0.00         9\n",
            "         204       0.60      1.00      0.75         9\n",
            "         205       0.00      0.00      0.00         9\n",
            "         206       0.45      0.56      0.50         9\n",
            "         207       0.00      0.00      0.00         9\n",
            "         208       0.00      0.00      0.00         9\n",
            "         209       0.00      0.00      0.00         9\n",
            "         210       0.00      0.00      0.00         9\n",
            "         211       0.62      0.56      0.59         9\n",
            "         212       0.00      0.00      0.00         9\n",
            "         213       0.00      0.00      0.00         9\n",
            "         214       0.35      0.89      0.50         9\n",
            "         215       0.73      0.89      0.80         9\n",
            "         216       0.00      0.00      0.00         9\n",
            "         217       0.33      0.56      0.42         9\n",
            "         218       0.00      0.00      0.00         9\n",
            "         219       0.50      0.89      0.64         9\n",
            "         220       1.00      0.56      0.71         9\n",
            "         221       0.00      0.00      0.00         9\n",
            "         222       0.00      0.00      0.00         9\n",
            "         223       0.00      0.00      0.00         9\n",
            "         224       0.50      0.22      0.31         9\n",
            "         225       0.80      0.40      0.53        10\n",
            "         226       0.33      0.11      0.17         9\n",
            "         227       0.31      0.44      0.36         9\n",
            "         228       0.10      0.89      0.18         9\n",
            "         229       0.55      0.67      0.60         9\n",
            "         230       1.00      0.22      0.36         9\n",
            "         231       0.67      0.75      0.71         8\n",
            "         232       0.00      0.00      0.00         9\n",
            "         233       0.31      0.56      0.40         9\n",
            "         234       0.00      0.00      0.00         9\n",
            "         235       0.00      0.00      0.00         9\n",
            "         236       0.80      0.44      0.57         9\n",
            "         237       0.53      1.00      0.69         9\n",
            "         238       0.39      0.78      0.52         9\n",
            "         239       0.00      0.00      0.00         9\n",
            "         240       0.00      0.00      0.00         9\n",
            "         241       0.50      0.56      0.53         9\n",
            "         242       0.00      0.00      0.00        10\n",
            "         243       0.00      0.00      0.00         6\n",
            "         244       0.00      0.00      0.00         9\n",
            "         245       0.07      0.22      0.11         9\n",
            "         246       0.00      0.00      0.00         9\n",
            "         247       0.00      0.00      0.00         9\n",
            "         248       0.00      0.00      0.00         5\n",
            "         249       0.60      1.00      0.75         9\n",
            "         250       1.00      0.44      0.62         9\n",
            "         251       0.00      0.00      0.00         9\n",
            "         252       0.00      0.00      0.00         9\n",
            "         253       0.31      0.89      0.46         9\n",
            "         254       0.22      0.22      0.22         9\n",
            "         255       0.00      0.00      0.00         8\n",
            "         256       0.00      0.00      0.00         8\n",
            "         257       0.00      0.00      0.00         9\n",
            "         258       0.00      0.00      0.00         9\n",
            "         259       0.00      0.00      0.00         9\n",
            "         260       0.35      0.67      0.46         9\n",
            "         261       0.73      0.89      0.80         9\n",
            "         262       0.00      0.00      0.00         9\n",
            "         263       0.47      0.89      0.62         9\n",
            "         264       0.53      1.00      0.69         9\n",
            "         265       0.20      0.11      0.14         9\n",
            "         266       0.67      0.22      0.33         9\n",
            "         267       0.22      0.22      0.22         9\n",
            "         268       0.67      0.50      0.57         8\n",
            "         269       0.00      0.00      0.00         6\n",
            "         270       0.45      0.56      0.50         9\n",
            "         271       0.82      1.00      0.90         9\n",
            "         272       0.40      0.50      0.44         8\n",
            "         273       0.24      0.67      0.35         9\n",
            "         274       0.44      0.44      0.44         9\n",
            "         275       0.00      0.00      0.00         9\n",
            "         276       0.00      0.00      0.00         9\n",
            "         277       0.50      0.11      0.18         9\n",
            "         278       0.00      0.00      0.00         9\n",
            "         279       0.00      0.00      0.00         9\n",
            "         280       0.50      0.11      0.18         9\n",
            "         281       0.00      0.00      0.00         9\n",
            "         282       0.38      1.00      0.55         9\n",
            "         283       0.00      0.00      0.00         9\n",
            "         284       0.40      0.89      0.55         9\n",
            "         285       0.32      0.67      0.43         9\n",
            "         286       0.00      0.00      0.00         9\n",
            "         287       0.00      0.00      0.00         9\n",
            "         288       0.30      1.00      0.46         9\n",
            "         289       0.60      0.38      0.46         8\n",
            "         290       0.00      0.00      0.00         9\n",
            "         291       0.40      0.67      0.50         9\n",
            "         292       0.35      0.89      0.50         9\n",
            "         293       0.13      0.67      0.22         9\n",
            "         294       0.50      0.11      0.18         9\n",
            "         295       0.41      0.78      0.54         9\n",
            "         296       0.00      0.00      0.00         9\n",
            "         297       0.00      0.00      0.00         8\n",
            "         298       0.00      0.00      0.00         9\n",
            "         299       0.00      0.00      0.00         8\n",
            "         300       0.88      0.78      0.82         9\n",
            "         301       0.50      0.89      0.64         9\n",
            "         302       0.00      0.00      0.00         9\n",
            "         303       0.00      0.00      0.00         8\n",
            "         304       0.00      0.00      0.00         9\n",
            "         305       0.27      1.00      0.43         9\n",
            "         306       0.00      0.00      0.00        10\n",
            "         307       0.00      0.00      0.00         9\n",
            "         308       0.50      0.89      0.64         9\n",
            "         309       0.00      0.00      0.00         5\n",
            "         310       0.00      0.00      0.00         9\n",
            "         311       0.07      0.90      0.13        10\n",
            "         312       0.00      0.00      0.00         9\n",
            "         313       0.00      0.00      0.00         9\n",
            "         314       1.00      0.78      0.88         9\n",
            "         315       0.00      0.00      0.00         9\n",
            "         316       0.00      0.00      0.00         8\n",
            "         317       0.09      0.11      0.10         9\n",
            "         318       0.25      0.80      0.38        10\n",
            "         319       0.44      0.89      0.59         9\n",
            "         320       0.00      0.00      0.00         5\n",
            "         321       1.00      0.11      0.20         9\n",
            "         322       0.00      0.00      0.00         9\n",
            "         323       0.64      0.78      0.70         9\n",
            "         324       0.71      1.00      0.83        10\n",
            "         325       0.31      1.00      0.47         9\n",
            "         326       0.53      1.00      0.69         9\n",
            "         327       0.60      0.30      0.40        10\n",
            "         328       0.00      0.00      0.00         5\n",
            "         329       0.00      0.00      0.00         9\n",
            "         330       0.00      0.00      0.00         9\n",
            "         331       0.67      0.67      0.67         9\n",
            "         332       0.60      1.00      0.75         9\n",
            "         333       0.67      0.40      0.50        10\n",
            "         334       0.50      0.11      0.18         9\n",
            "         335       0.00      0.00      0.00         9\n",
            "         336       0.35      0.67      0.46         9\n",
            "         337       0.09      0.56      0.15         9\n",
            "         338       0.00      0.00      0.00         9\n",
            "         339       0.44      0.89      0.59         9\n",
            "         340       0.00      0.00      0.00         9\n",
            "         341       0.32      0.78      0.45         9\n",
            "         342       0.17      0.78      0.28         9\n",
            "         343       0.20      0.44      0.28         9\n",
            "         344       0.78      0.78      0.78         9\n",
            "         345       0.10      0.11      0.11         9\n",
            "         346       0.00      0.00      0.00         9\n",
            "         347       0.00      0.00      0.00         9\n",
            "         348       0.00      0.00      0.00         5\n",
            "         349       0.50      0.33      0.40         9\n",
            "         350       0.00      0.00      0.00         9\n",
            "         351       0.00      0.00      0.00         6\n",
            "         352       0.00      0.00      0.00         9\n",
            "         353       0.33      0.40      0.36        10\n",
            "         354       0.00      0.00      0.00         9\n",
            "         355       0.00      0.00      0.00         9\n",
            "         356       0.00      0.00      0.00         9\n",
            "         357       0.00      0.00      0.00         9\n",
            "         358       0.45      1.00      0.62         9\n",
            "         359       0.50      0.33      0.40         9\n",
            "         360       0.00      0.00      0.00         9\n",
            "         361       0.55      0.67      0.60         9\n",
            "         362       0.47      0.89      0.62         9\n",
            "         363       0.00      0.00      0.00         9\n",
            "         364       0.44      0.50      0.47         8\n",
            "         365       0.00      0.00      0.00         9\n",
            "         366       0.00      0.00      0.00         9\n",
            "         367       0.00      0.00      0.00         9\n",
            "         368       0.00      0.00      0.00         9\n",
            "         369       0.40      0.44      0.42         9\n",
            "         370       0.00      0.00      0.00         9\n",
            "         371       0.24      0.67      0.35         9\n",
            "         372       1.00      0.60      0.75         5\n",
            "         373       0.00      0.00      0.00         9\n",
            "         374       1.00      0.44      0.62         9\n",
            "         375       0.78      0.78      0.78         9\n",
            "         376       0.00      0.00      0.00         9\n",
            "         377       0.15      0.22      0.18         9\n",
            "         378       0.00      0.00      0.00         9\n",
            "         379       1.00      0.33      0.50         6\n",
            "         380       0.82      1.00      0.90         9\n",
            "         381       0.00      0.00      0.00        10\n",
            "         382       0.00      0.00      0.00         8\n",
            "         383       0.89      0.80      0.84        10\n",
            "         384       0.00      0.00      0.00         9\n",
            "         385       1.00      0.33      0.50         9\n",
            "         386       0.24      0.89      0.38         9\n",
            "         387       0.30      0.89      0.44         9\n",
            "         388       0.00      0.00      0.00         9\n",
            "         389       0.18      0.89      0.30         9\n",
            "         390       0.30      0.30      0.30        10\n",
            "         391       0.35      0.78      0.48         9\n",
            "         392       0.00      0.00      0.00         9\n",
            "         393       0.89      0.89      0.89         9\n",
            "         394       0.38      0.90      0.53        10\n",
            "         395       0.88      0.78      0.82         9\n",
            "         396       0.89      0.89      0.89         9\n",
            "         397       0.00      0.00      0.00        10\n",
            "         398       0.73      0.89      0.80         9\n",
            "         399       0.25      0.12      0.17         8\n",
            "         400       0.00      0.00      0.00         9\n",
            "         401       0.00      0.00      0.00         9\n",
            "         402       0.27      0.60      0.37        10\n",
            "         403       0.67      0.50      0.57         8\n",
            "         404       0.00      0.00      0.00        10\n",
            "         405       0.36      0.44      0.40         9\n",
            "         406       0.00      0.00      0.00         9\n",
            "         407       0.00      0.00      0.00         9\n",
            "         408       0.38      0.33      0.35         9\n",
            "         409       0.00      0.00      0.00         6\n",
            "         410       0.00      0.00      0.00         9\n",
            "         411       0.50      0.11      0.18         9\n",
            "         412       0.22      0.67      0.33         9\n",
            "         413       0.03      0.33      0.06         9\n",
            "         414       0.73      0.89      0.80         9\n",
            "         415       0.75      0.33      0.46         9\n",
            "         416       0.00      0.00      0.00         9\n",
            "         417       0.00      0.00      0.00         9\n",
            "         418       0.00      0.00      0.00         9\n",
            "         419       0.00      0.00      0.00         9\n",
            "         420       0.50      0.67      0.57         9\n",
            "         421       0.62      0.80      0.70        10\n",
            "         422       1.00      0.56      0.71         9\n",
            "         423       0.62      0.56      0.59         9\n",
            "         424       0.00      0.00      0.00         9\n",
            "         425       0.00      0.00      0.00         6\n",
            "         426       0.78      0.70      0.74        10\n",
            "         427       0.00      0.00      0.00         9\n",
            "         428       0.00      0.00      0.00         9\n",
            "         429       0.47      0.78      0.58         9\n",
            "         430       0.45      1.00      0.62         9\n",
            "         431       0.00      0.00      0.00         9\n",
            "         432       0.67      0.67      0.67         9\n",
            "         433       0.00      0.00      0.00         9\n",
            "         434       0.09      0.30      0.14        10\n",
            "         435       0.17      0.56      0.26         9\n",
            "         436       0.14      0.33      0.20         9\n",
            "         437       1.00      0.50      0.67        10\n",
            "         438       0.28      1.00      0.43        10\n",
            "         439       0.00      0.00      0.00         8\n",
            "         440       0.04      0.11      0.06         9\n",
            "         441       0.00      0.00      0.00         9\n",
            "         442       0.00      0.00      0.00         9\n",
            "         443       0.35      0.78      0.48         9\n",
            "         444       0.41      0.78      0.54         9\n",
            "         445       0.80      0.44      0.57         9\n",
            "         446       0.33      0.11      0.17         9\n",
            "         447       0.00      0.00      0.00         9\n",
            "         448       0.00      0.00      0.00         7\n",
            "         449       0.50      0.78      0.61         9\n",
            "         450       0.75      0.67      0.71         9\n",
            "         451       0.57      0.40      0.47        10\n",
            "         452       0.00      0.00      0.00         9\n",
            "         453       0.75      0.33      0.46         9\n",
            "         454       0.00      0.00      0.00         9\n",
            "         455       0.44      0.44      0.44         9\n",
            "         456       0.00      0.00      0.00         9\n",
            "         457       0.00      0.00      0.00         9\n",
            "         458       0.80      0.80      0.80        10\n",
            "         459       0.58      0.78      0.67         9\n",
            "         460       0.00      0.00      0.00         9\n",
            "         461       0.00      0.00      0.00         9\n",
            "         462       0.00      0.00      0.00         9\n",
            "         463       0.39      1.00      0.56         9\n",
            "         464       0.00      0.00      0.00         8\n",
            "         465       0.00      0.00      0.00         9\n",
            "         466       0.33      0.44      0.38         9\n",
            "         467       0.50      0.11      0.18         9\n",
            "         468       0.00      0.00      0.00         5\n",
            "         469       0.25      0.11      0.15         9\n",
            "         470       0.00      0.00      0.00         9\n",
            "         471       0.00      0.00      0.00        10\n",
            "         472       0.20      0.11      0.14         9\n",
            "         473       0.00      0.00      0.00         9\n",
            "         474       0.00      0.00      0.00         9\n",
            "         475       0.00      0.00      0.00         9\n",
            "         476       0.00      0.00      0.00        10\n",
            "         477       0.90      1.00      0.95         9\n",
            "         478       0.50      0.56      0.53         9\n",
            "         479       0.09      0.89      0.17         9\n",
            "         480       0.50      0.89      0.64         9\n",
            "         481       0.00      0.00      0.00         9\n",
            "         482       0.67      0.67      0.67         9\n",
            "         483       0.00      0.00      0.00         9\n",
            "         484       0.75      0.67      0.71         9\n",
            "         485       0.00      0.00      0.00         9\n",
            "         486       0.00      0.00      0.00         9\n",
            "         487       0.00      0.00      0.00         9\n",
            "         488       0.55      0.67      0.60         9\n",
            "         489       0.75      0.33      0.46         9\n",
            "         490       0.80      0.89      0.84         9\n",
            "         491       0.00      0.00      0.00         9\n",
            "         492       0.00      0.00      0.00         9\n",
            "         493       0.60      0.67      0.63         9\n",
            "         494       0.50      0.11      0.18         9\n",
            "         495       0.23      0.56      0.32         9\n",
            "         496       0.00      0.00      0.00         9\n",
            "         497       0.00      0.00      0.00         4\n",
            "         498       0.67      0.67      0.67         9\n",
            "         499       0.50      1.00      0.67         9\n",
            "         500       0.71      0.62      0.67         8\n",
            "         501       0.33      0.11      0.17         9\n",
            "         502       0.17      0.40      0.24        10\n",
            "         503       0.00      0.00      0.00         9\n",
            "         504       0.00      0.00      0.00         6\n",
            "         505       1.00      0.11      0.20         9\n",
            "         506       0.50      0.10      0.17        10\n",
            "         507       0.00      0.00      0.00         6\n",
            "         508       0.00      0.00      0.00         9\n",
            "         509       0.12      0.78      0.21         9\n",
            "         510       0.56      1.00      0.72         9\n",
            "         511       0.00      0.00      0.00         9\n",
            "         512       0.00      0.00      0.00         9\n",
            "         513       0.19      0.44      0.27         9\n",
            "         514       0.42      0.56      0.48         9\n",
            "         515       0.17      1.00      0.29         9\n",
            "         516       0.00      0.00      0.00         9\n",
            "         517       0.00      0.00      0.00         9\n",
            "         518       0.00      0.00      0.00         9\n",
            "         519       0.00      0.00      0.00         9\n",
            "         520       0.73      0.89      0.80         9\n",
            "         521       0.00      0.00      0.00         9\n",
            "         522       0.12      0.33      0.17         9\n",
            "         523       0.00      0.00      0.00         9\n",
            "         524       0.00      0.00      0.00         9\n",
            "         525       0.38      0.89      0.53         9\n",
            "         526       0.73      0.89      0.80         9\n",
            "         527       0.00      0.00      0.00         9\n",
            "         528       0.00      0.00      0.00         9\n",
            "         529       0.00      0.00      0.00         9\n",
            "         530       0.00      0.00      0.00         9\n",
            "         531       0.35      0.80      0.48        10\n",
            "         532       0.00      0.00      0.00         9\n",
            "         533       0.50      0.22      0.31         9\n",
            "         534       0.00      0.00      0.00         9\n",
            "         535       0.00      0.00      0.00         9\n",
            "         536       0.25      0.56      0.34         9\n",
            "         537       0.32      0.89      0.47         9\n",
            "         538       0.00      0.00      0.00         9\n",
            "         539       0.00      0.00      0.00         9\n",
            "         540       0.75      1.00      0.86         9\n",
            "         541       0.00      0.00      0.00         9\n",
            "         542       0.38      0.56      0.45         9\n",
            "         543       0.00      0.00      0.00        10\n",
            "         544       0.00      0.00      0.00         9\n",
            "         545       0.50      0.22      0.31         9\n",
            "         546       0.00      0.00      0.00         8\n",
            "         547       0.00      0.00      0.00         8\n",
            "         548       0.00      0.00      0.00         8\n",
            "         549       0.11      0.89      0.20         9\n",
            "         550       0.00      0.00      0.00         9\n",
            "         551       0.08      1.00      0.14         9\n",
            "         552       0.67      0.67      0.67         9\n",
            "         553       0.00      0.00      0.00         9\n",
            "         554       0.00      0.00      0.00         4\n",
            "         555       0.00      0.00      0.00         9\n",
            "         556       0.64      1.00      0.78         9\n",
            "         557       0.00      0.00      0.00         9\n",
            "         558       0.26      0.56      0.36         9\n",
            "         559       1.00      0.89      0.94         9\n",
            "         560       0.67      0.44      0.53         9\n",
            "         561       0.00      0.00      0.00         9\n",
            "         562       0.31      1.00      0.47         9\n",
            "         563       0.43      0.33      0.38         9\n",
            "         564       0.35      0.78      0.48         9\n",
            "         565       0.00      0.00      0.00         9\n",
            "         566       0.00      0.00      0.00         9\n",
            "         567       0.00      0.00      0.00         9\n",
            "         568       0.00      0.00      0.00         9\n",
            "         569       0.00      0.00      0.00         9\n",
            "         570       0.50      0.11      0.18         9\n",
            "         571       0.00      0.00      0.00         9\n",
            "         572       0.00      0.00      0.00         9\n",
            "         573       0.00      0.00      0.00         9\n",
            "         574       0.44      0.44      0.44         9\n",
            "         575       0.25      0.67      0.36         9\n",
            "         576       0.00      0.00      0.00         5\n",
            "         577       0.00      0.00      0.00         9\n",
            "         578       0.38      0.67      0.48         9\n",
            "         579       0.00      0.00      0.00         5\n",
            "         580       0.00      0.00      0.00         9\n",
            "         581       1.00      0.12      0.22         8\n",
            "         582       0.00      0.00      0.00         8\n",
            "         583       0.67      0.89      0.76         9\n",
            "         584       0.00      0.00      0.00         9\n",
            "         585       0.17      0.56      0.26         9\n",
            "         586       0.00      0.00      0.00         9\n",
            "         587       0.00      0.00      0.00         9\n",
            "         588       0.00      0.00      0.00         9\n",
            "         589       0.00      0.00      0.00         9\n",
            "         590       0.50      0.89      0.64         9\n",
            "         591       0.25      0.11      0.15         9\n",
            "         592       0.43      0.38      0.40         8\n",
            "         593       0.10      0.11      0.11         9\n",
            "         594       0.00      0.00      0.00         9\n",
            "         595       0.36      1.00      0.53         9\n",
            "         596       0.83      0.62      0.71         8\n",
            "         597       0.00      0.00      0.00         9\n",
            "         598       0.78      0.78      0.78         9\n",
            "         599       0.00      0.00      0.00         9\n",
            "         600       0.00      0.00      0.00         9\n",
            "         601       0.00      0.00      0.00         9\n",
            "         602       0.00      0.00      0.00         9\n",
            "         603       0.00      0.00      0.00         9\n",
            "         604       0.15      0.89      0.26         9\n",
            "         605       0.00      0.00      0.00         9\n",
            "         606       0.00      0.00      0.00         9\n",
            "         607       0.30      0.78      0.44         9\n",
            "         608       0.64      0.70      0.67        10\n",
            "         609       0.00      0.00      0.00         9\n",
            "         610       0.50      0.33      0.40         9\n",
            "         611       0.00      0.00      0.00         9\n",
            "         612       0.00      0.00      0.00         9\n",
            "         613       0.00      0.00      0.00         9\n",
            "         614       0.00      0.00      0.00         4\n",
            "         615       0.00      0.00      0.00         8\n",
            "         616       0.00      0.00      0.00         8\n",
            "         617       0.60      0.33      0.43         9\n",
            "         618       0.50      0.56      0.53         9\n",
            "         619       0.15      0.89      0.26         9\n",
            "         620       0.00      0.00      0.00         9\n",
            "         621       1.00      0.22      0.36         9\n",
            "         622       0.27      0.44      0.33         9\n",
            "         623       0.00      0.00      0.00         9\n",
            "         624       0.04      0.11      0.06         9\n",
            "         625       0.00      0.00      0.00         9\n",
            "         626       1.00      0.88      0.93         8\n",
            "         627       0.32      0.78      0.45         9\n",
            "         628       1.00      0.12      0.22         8\n",
            "         629       0.00      0.00      0.00         5\n",
            "         630       0.24      0.89      0.37         9\n",
            "         631       0.00      0.00      0.00         9\n",
            "         632       0.00      0.00      0.00         9\n",
            "         633       0.00      0.00      0.00         8\n",
            "         634       0.00      0.00      0.00         9\n",
            "         635       0.00      0.00      0.00         6\n",
            "         636       0.82      1.00      0.90         9\n",
            "         637       0.25      0.11      0.15         9\n",
            "         638       0.00      0.00      0.00         9\n",
            "         639       0.15      0.22      0.18         9\n",
            "         640       0.00      0.00      0.00         9\n",
            "         641       0.17      0.22      0.19         9\n",
            "         642       0.00      0.00      0.00         9\n",
            "         643       0.62      0.56      0.59         9\n",
            "         644       0.00      0.00      0.00         9\n",
            "         645       0.00      0.00      0.00         9\n",
            "         646       0.00      0.00      0.00         8\n",
            "         647       0.45      0.56      0.50         9\n",
            "         648       0.00      0.00      0.00         4\n",
            "         649       0.50      0.29      0.36         7\n",
            "         650       0.12      0.20      0.15        10\n",
            "         651       0.00      0.00      0.00         9\n",
            "         652       0.56      1.00      0.72         9\n",
            "         653       0.00      0.00      0.00         9\n",
            "         654       0.75      0.33      0.46         9\n",
            "         655       0.38      0.67      0.48         9\n",
            "         656       1.00      0.22      0.36         9\n",
            "         657       0.75      0.33      0.46         9\n",
            "         658       0.57      0.44      0.50         9\n",
            "         659       0.00      0.00      0.00         9\n",
            "         660       0.25      0.44      0.32         9\n",
            "         661       0.27      0.44      0.33         9\n",
            "         662       0.00      0.00      0.00         8\n",
            "         663       0.45      1.00      0.62         9\n",
            "         664       0.33      0.67      0.44         9\n",
            "         665       0.00      0.00      0.00         9\n",
            "         666       0.44      0.89      0.59         9\n",
            "         667       1.00      0.78      0.88         9\n",
            "         668       0.00      0.00      0.00         9\n",
            "         669       0.00      0.00      0.00         9\n",
            "         670       0.00      0.00      0.00         9\n",
            "         671       0.00      0.00      0.00         9\n",
            "         672       0.30      0.67      0.41         9\n",
            "         673       0.00      0.00      0.00         9\n",
            "         674       0.00      0.00      0.00         9\n",
            "         675       0.42      0.56      0.48         9\n",
            "         676       0.00      0.00      0.00         9\n",
            "         677       0.28      0.78      0.41         9\n",
            "         678       0.00      0.00      0.00         9\n",
            "         679       0.00      0.00      0.00         9\n",
            "         680       0.67      0.89      0.76         9\n",
            "         681       0.44      0.44      0.44         9\n",
            "         682       0.00      0.00      0.00         9\n",
            "         683       0.30      1.00      0.46         9\n",
            "         684       0.28      0.56      0.37         9\n",
            "         685       0.00      0.00      0.00         8\n",
            "         686       0.29      0.60      0.39        10\n",
            "         687       0.33      0.56      0.42         9\n",
            "         688       0.00      0.00      0.00         9\n",
            "         689       0.40      0.22      0.29         9\n",
            "         690       0.00      0.00      0.00         9\n",
            "         691       0.00      0.00      0.00         9\n",
            "         692       0.50      0.11      0.18         9\n",
            "         693       0.50      0.11      0.18         9\n",
            "         694       0.00      0.00      0.00         9\n",
            "         695       0.00      0.00      0.00         9\n",
            "         696       0.00      0.00      0.00         9\n",
            "         697       0.00      0.00      0.00         9\n",
            "         698       0.00      0.00      0.00         9\n",
            "         699       0.00      0.00      0.00         9\n",
            "         700       0.30      0.33      0.32         9\n",
            "         701       0.00      0.00      0.00         8\n",
            "         702       0.19      0.56      0.28         9\n",
            "         703       0.50      0.44      0.47         9\n",
            "         704       0.50      0.12      0.20         8\n",
            "         705       0.00      0.00      0.00         9\n",
            "         706       0.00      0.00      0.00         9\n",
            "         707       0.12      0.33      0.17         9\n",
            "         708       0.00      0.00      0.00         9\n",
            "         709       0.40      0.89      0.55         9\n",
            "         710       1.00      0.11      0.20         9\n",
            "         711       0.62      0.56      0.59         9\n",
            "         712       0.00      0.00      0.00         9\n",
            "         713       0.00      0.00      0.00         9\n",
            "         714       0.00      0.00      0.00         9\n",
            "         715       0.00      0.00      0.00         9\n",
            "         716       0.00      0.00      0.00         9\n",
            "         717       0.18      0.33      0.23         9\n",
            "         718       0.00      0.00      0.00         9\n",
            "         719       0.00      0.00      0.00         5\n",
            "         720       0.22      0.89      0.36         9\n",
            "         721       1.00      0.56      0.71         9\n",
            "         722       0.30      0.33      0.32         9\n",
            "         723       0.60      1.00      0.75         9\n",
            "         724       0.00      0.00      0.00         9\n",
            "         725       0.00      0.00      0.00         9\n",
            "         726       0.32      0.89      0.47         9\n",
            "         727       0.00      0.00      0.00         9\n",
            "         728       0.00      0.00      0.00         9\n",
            "         729       0.00      0.00      0.00         8\n",
            "         730       0.00      0.00      0.00         9\n",
            "         731       0.25      0.22      0.24         9\n",
            "         732       0.41      1.00      0.58         9\n",
            "         733       0.41      1.00      0.58         9\n",
            "         734       0.00      0.00      0.00         9\n",
            "         735       0.50      0.44      0.47         9\n",
            "         736       0.67      0.44      0.53         9\n",
            "         737       0.00      0.00      0.00         9\n",
            "         738       1.00      0.11      0.20         9\n",
            "         739       0.00      0.00      0.00         9\n",
            "         740       0.23      0.67      0.34         9\n",
            "         741       0.33      0.80      0.47        10\n",
            "         742       0.50      0.78      0.61         9\n",
            "         743       0.40      0.67      0.50         9\n",
            "         744       0.00      0.00      0.00         8\n",
            "         745       0.50      0.11      0.18         9\n",
            "         746       0.00      0.00      0.00         7\n",
            "         747       0.00      0.00      0.00         9\n",
            "         748       0.00      0.00      0.00         9\n",
            "         749       0.14      0.14      0.14         7\n",
            "         750       0.60      0.67      0.63         9\n",
            "         751       1.00      0.11      0.20         9\n",
            "         752       0.82      1.00      0.90         9\n",
            "         753       0.00      0.00      0.00         9\n",
            "         754       0.00      0.00      0.00        10\n",
            "         755       0.42      0.89      0.57         9\n",
            "         756       0.00      0.00      0.00         9\n",
            "         757       1.00      0.12      0.22         8\n",
            "         758       0.20      0.67      0.31         9\n",
            "         759       0.26      0.56      0.36         9\n",
            "         760       0.00      0.00      0.00         9\n",
            "         761       0.00      0.00      0.00         9\n",
            "         762       0.00      0.00      0.00         9\n",
            "         763       0.00      0.00      0.00         9\n",
            "         764       0.07      0.11      0.09         9\n",
            "         765       0.00      0.00      0.00         9\n",
            "         766       0.00      0.00      0.00         9\n",
            "         767       0.00      0.00      0.00        10\n",
            "         768       0.00      0.00      0.00         9\n",
            "         769       0.00      0.00      0.00         9\n",
            "         770       0.00      0.00      0.00         9\n",
            "         771       0.60      0.67      0.63         9\n",
            "         772       0.00      0.00      0.00         9\n",
            "         773       0.67      0.67      0.67         9\n",
            "         774       0.00      0.00      0.00         9\n",
            "         775       0.50      0.11      0.18         9\n",
            "         776       0.50      0.11      0.18         9\n",
            "         777       0.00      0.00      0.00         9\n",
            "         778       0.00      0.00      0.00         8\n",
            "         779       0.00      0.00      0.00         9\n",
            "         780       0.25      0.10      0.14        10\n",
            "         781       0.44      0.44      0.44         9\n",
            "         782       0.00      0.00      0.00         9\n",
            "         783       0.00      0.00      0.00         9\n",
            "         784       0.67      0.22      0.33         9\n",
            "         785       0.00      0.00      0.00         9\n",
            "         786       0.00      0.00      0.00         8\n",
            "         787       0.62      0.89      0.73         9\n",
            "         788       0.75      0.60      0.67        10\n",
            "         789       0.21      0.67      0.32         9\n",
            "         790       0.00      0.00      0.00         9\n",
            "         791       0.60      0.33      0.43         9\n",
            "         792       0.00      0.00      0.00         9\n",
            "         793       0.09      0.67      0.16         9\n",
            "         794       0.00      0.00      0.00         9\n",
            "         795       0.33      0.33      0.33         9\n",
            "         796       0.00      0.00      0.00        10\n",
            "         797       0.75      0.67      0.71         9\n",
            "         798       0.56      1.00      0.72         9\n",
            "         799       0.75      0.33      0.46         9\n",
            "         800       0.00      0.00      0.00         6\n",
            "         801       0.17      0.22      0.19         9\n",
            "         802       0.33      0.44      0.38         9\n",
            "         803       0.00      0.00      0.00         9\n",
            "         804       0.41      0.78      0.54         9\n",
            "         805       0.55      0.67      0.60         9\n",
            "         806       0.35      0.67      0.46         9\n",
            "         807       0.00      0.00      0.00         9\n",
            "         808       1.00      0.86      0.92         7\n",
            "         809       0.15      0.67      0.24         9\n",
            "         810       0.69      1.00      0.82         9\n",
            "         811       1.00      0.56      0.71         9\n",
            "         812       0.00      0.00      0.00         9\n",
            "         813       1.00      0.50      0.67         6\n",
            "         814       0.00      0.00      0.00         8\n",
            "         815       0.67      0.67      0.67         9\n",
            "         816       0.25      0.67      0.36         9\n",
            "         817       0.00      0.00      0.00         9\n",
            "         818       0.00      0.00      0.00         9\n",
            "         819       0.00      0.00      0.00         9\n",
            "         820       0.00      0.00      0.00         7\n",
            "         821       0.00      0.00      0.00         9\n",
            "         822       0.56      1.00      0.72         9\n",
            "         823       1.00      0.33      0.50         9\n",
            "         824       0.71      0.56      0.63         9\n",
            "         825       0.00      0.00      0.00        10\n",
            "         826       0.46      0.67      0.55         9\n",
            "         827       0.00      0.00      0.00         9\n",
            "         828       0.50      0.12      0.20         8\n",
            "         829       0.60      0.33      0.43         9\n",
            "         830       0.43      0.33      0.38         9\n",
            "         831       0.30      0.78      0.44         9\n",
            "         832       0.00      0.00      0.00         9\n",
            "         833       0.29      0.22      0.25         9\n",
            "         834       0.40      0.89      0.55         9\n",
            "         835       0.00      0.00      0.00         9\n",
            "         836       0.00      0.00      0.00         8\n",
            "         837       0.00      0.00      0.00         9\n",
            "         838       0.89      0.80      0.84        10\n",
            "         839       0.53      0.89      0.67         9\n",
            "         840       0.00      0.00      0.00         9\n",
            "         841       0.23      1.00      0.38         9\n",
            "         842       0.16      1.00      0.28         9\n",
            "         843       0.64      0.78      0.70         9\n",
            "         844       0.36      0.56      0.43         9\n",
            "         845       0.55      0.67      0.60         9\n",
            "         846       0.60      0.67      0.63         9\n",
            "         847       0.00      0.00      0.00         9\n",
            "         848       0.00      0.00      0.00         9\n",
            "         849       0.00      0.00      0.00         9\n",
            "         850       0.31      0.89      0.46         9\n",
            "         851       0.78      0.78      0.78         9\n",
            "         852       0.57      0.44      0.50         9\n",
            "         853       1.00      0.22      0.36         9\n",
            "         854       0.00      0.00      0.00         9\n",
            "         855       0.75      0.67      0.71         9\n",
            "         856       0.32      1.00      0.49         9\n",
            "         857       1.00      0.33      0.50         9\n",
            "         858       1.00      0.50      0.67         8\n",
            "         859       0.14      0.33      0.20         9\n",
            "         860       0.44      0.44      0.44         9\n",
            "         861       0.00      0.00      0.00         9\n",
            "         862       0.50      0.56      0.53         9\n",
            "         863       0.00      0.00      0.00         8\n",
            "         864       0.00      0.00      0.00         9\n",
            "         865       0.00      0.00      0.00         9\n",
            "         866       0.00      0.00      0.00         7\n",
            "         867       1.00      0.33      0.50         9\n",
            "         868       0.00      0.00      0.00         9\n",
            "         869       0.15      0.22      0.18         9\n",
            "         870       0.33      0.89      0.48         9\n",
            "         871       0.00      0.00      0.00         8\n",
            "         872       0.23      0.56      0.32         9\n",
            "         873       0.22      0.89      0.35         9\n",
            "         874       0.36      1.00      0.53         9\n",
            "         875       1.00      0.25      0.40         8\n",
            "         876       0.00      0.00      0.00         9\n",
            "         877       0.50      0.89      0.64         9\n",
            "         878       0.70      0.78      0.74         9\n",
            "         879       0.00      0.00      0.00         9\n",
            "         880       0.29      0.80      0.42        10\n",
            "         881       0.47      0.89      0.62         9\n",
            "         882       1.00      0.14      0.25         7\n",
            "         883       0.00      0.00      0.00         9\n",
            "         884       0.80      0.44      0.57         9\n",
            "         885       0.00      0.00      0.00         9\n",
            "         886       0.00      0.00      0.00         9\n",
            "         887       0.17      0.90      0.29        10\n",
            "         888       0.44      0.89      0.59         9\n",
            "         889       0.15      1.00      0.26         9\n",
            "         890       0.00      0.00      0.00         9\n",
            "         891       0.13      0.67      0.22         9\n",
            "         892       0.27      0.44      0.33         9\n",
            "         893       0.20      0.22      0.21         9\n",
            "         894       0.13      0.67      0.21         9\n",
            "         895       0.70      0.78      0.74         9\n",
            "         896       0.00      0.00      0.00         8\n",
            "         897       0.00      0.00      0.00        10\n",
            "         898       0.00      0.00      0.00         9\n",
            "         899       0.14      0.78      0.24         9\n",
            "         900       0.00      0.00      0.00         9\n",
            "         901       0.42      0.89      0.57         9\n",
            "         902       0.00      0.00      0.00         9\n",
            "         903       0.00      0.00      0.00         9\n",
            "         904       0.00      0.00      0.00         9\n",
            "         905       0.29      0.67      0.40         9\n",
            "         906       0.00      0.00      0.00         8\n",
            "         907       0.00      0.00      0.00         9\n",
            "         908       0.22      0.22      0.22         9\n",
            "         909       0.44      0.78      0.56         9\n",
            "         910       1.00      0.11      0.20         9\n",
            "         911       0.00      0.00      0.00         9\n",
            "         912       0.00      0.00      0.00         9\n",
            "         913       0.83      0.56      0.67         9\n",
            "         914       0.00      0.00      0.00         9\n",
            "         915       0.00      0.00      0.00         9\n",
            "         916       0.00      0.00      0.00         9\n",
            "         917       0.00      0.00      0.00         9\n",
            "         918       0.00      0.00      0.00         9\n",
            "         919       0.09      0.56      0.15         9\n",
            "         920       0.00      0.00      0.00         9\n",
            "         921       1.00      0.56      0.71         9\n",
            "         922       0.44      0.44      0.44         9\n",
            "         923       0.67      0.22      0.33         9\n",
            "         924       0.00      0.00      0.00         4\n",
            "         925       0.00      0.00      0.00         9\n",
            "         926       0.15      1.00      0.26         9\n",
            "         927       0.33      0.12      0.18         8\n",
            "         928       0.00      0.00      0.00         9\n",
            "         929       0.00      0.00      0.00         9\n",
            "         930       0.00      0.00      0.00         9\n",
            "         931       0.00      0.00      0.00         9\n",
            "         932       0.00      0.00      0.00         9\n",
            "         933       0.04      0.11      0.06         9\n",
            "         934       0.54      0.78      0.64         9\n",
            "         935       0.37      0.78      0.50         9\n",
            "         936       0.00      0.00      0.00         9\n",
            "         937       0.00      0.00      0.00         9\n",
            "         938       0.00      0.00      0.00         9\n",
            "         939       0.41      0.78      0.54         9\n",
            "         940       0.60      0.33      0.43         9\n",
            "         941       0.00      0.00      0.00         9\n",
            "         942       0.44      0.44      0.44         9\n",
            "         943       0.00      0.00      0.00         9\n",
            "         944       0.00      0.00      0.00         9\n",
            "         945       0.00      0.00      0.00         9\n",
            "         946       0.43      0.33      0.38         9\n",
            "         947       0.50      0.22      0.31         9\n",
            "         948       1.00      0.67      0.80         9\n",
            "         949       0.50      0.33      0.40         9\n",
            "         950       0.00      0.00      0.00         9\n",
            "         951       0.00      0.00      0.00         5\n",
            "         952       0.00      0.00      0.00         9\n",
            "         953       0.00      0.00      0.00         9\n",
            "         954       0.08      0.11      0.10         9\n",
            "         955       0.00      0.00      0.00         9\n",
            "         956       0.50      0.89      0.64         9\n",
            "         957       1.00      0.11      0.20         9\n",
            "         958       0.00      0.00      0.00         6\n",
            "         959       0.56      0.56      0.56         9\n",
            "         960       0.00      0.00      0.00         8\n",
            "         961       0.67      0.50      0.57         8\n",
            "         962       0.00      0.00      0.00         8\n",
            "         963       1.00      0.10      0.18        10\n",
            "         964       0.00      0.00      0.00         9\n",
            "         965       0.00      0.00      0.00         9\n",
            "         966       0.67      0.89      0.76         9\n",
            "         967       0.00      0.00      0.00         8\n",
            "         968       0.00      0.00      0.00         5\n",
            "         969       0.50      0.11      0.18         9\n",
            "         970       0.00      0.00      0.00         9\n",
            "         971       0.00      0.00      0.00         9\n",
            "         972       0.00      0.00      0.00        10\n",
            "         973       0.00      0.00      0.00         9\n",
            "         974       1.00      0.67      0.80         6\n",
            "         975       1.00      0.11      0.20         9\n",
            "         976       0.00      0.00      0.00         8\n",
            "         977       0.00      0.00      0.00         9\n",
            "         978       0.50      0.11      0.18         9\n",
            "         979       0.00      0.00      0.00         9\n",
            "         980       0.13      0.33      0.19         9\n",
            "         981       0.00      0.00      0.00         9\n",
            "         982       0.00      0.00      0.00         9\n",
            "         983       0.00      0.00      0.00         9\n",
            "         984       0.00      0.00      0.00         9\n",
            "         985       0.00      0.00      0.00         9\n",
            "         986       0.00      0.00      0.00         9\n",
            "         987       0.25      0.67      0.36         9\n",
            "         988       0.00      0.00      0.00         9\n",
            "         989       0.38      0.62      0.48         8\n",
            "         990       0.33      0.11      0.17         9\n",
            "         991       0.00      0.00      0.00         6\n",
            "         992       0.00      0.00      0.00         4\n",
            "         993       0.16      0.44      0.24         9\n",
            "         994       0.00      0.00      0.00         9\n",
            "         995       0.41      1.00      0.58         9\n",
            "         996       0.46      0.67      0.55         9\n",
            "         997       0.00      0.00      0.00         9\n",
            "         998       1.00      0.89      0.94         9\n",
            "         999       0.00      0.00      0.00         9\n",
            "        1000       0.00      0.00      0.00         9\n",
            "        1001       0.00      0.00      0.00         4\n",
            "        1002       0.00      0.00      0.00         9\n",
            "        1003       0.00      0.00      0.00         9\n",
            "        1004       0.00      0.00      0.00         9\n",
            "        1005       0.00      0.00      0.00         9\n",
            "        1006       1.00      0.11      0.20         9\n",
            "        1007       0.75      0.33      0.46         9\n",
            "        1008       0.41      0.78      0.54         9\n",
            "        1009       0.82      1.00      0.90         9\n",
            "        1010       0.00      0.00      0.00         9\n",
            "        1011       0.50      0.25      0.33         8\n",
            "        1012       0.00      0.00      0.00         9\n",
            "        1013       0.43      1.00      0.60         9\n",
            "        1014       0.73      0.89      0.80         9\n",
            "        1015       1.00      0.11      0.20         9\n",
            "        1016       0.00      0.00      0.00         9\n",
            "        1017       0.25      0.44      0.32         9\n",
            "        1018       0.00      0.00      0.00         5\n",
            "        1019       0.00      0.00      0.00         9\n",
            "        1020       1.00      0.33      0.50         9\n",
            "        1021       0.89      0.89      0.89         9\n",
            "        1022       0.00      0.00      0.00         9\n",
            "        1023       0.86      0.67      0.75         9\n",
            "        1024       0.00      0.00      0.00        10\n",
            "        1025       0.00      0.00      0.00         9\n",
            "        1026       0.33      1.00      0.50         9\n",
            "        1027       0.78      0.78      0.78         9\n",
            "        1028       0.32      0.78      0.45         9\n",
            "        1029       0.00      0.00      0.00         9\n",
            "        1030       0.00      0.00      0.00         9\n",
            "        1031       1.00      0.10      0.18        10\n",
            "        1032       0.35      0.88      0.50         8\n",
            "        1033       0.10      0.12      0.11         8\n",
            "        1034       0.39      1.00      0.56         9\n",
            "        1035       0.00      0.00      0.00         9\n",
            "        1036       0.38      1.00      0.55         9\n",
            "        1037       1.00      1.00      1.00         9\n",
            "        1038       0.50      0.12      0.20         8\n",
            "        1039       0.35      0.89      0.50         9\n",
            "        1040       0.00      0.00      0.00         8\n",
            "        1041       0.00      0.00      0.00         9\n",
            "        1042       0.00      0.00      0.00         9\n",
            "        1043       0.00      0.00      0.00         9\n",
            "        1044       0.83      0.71      0.77         7\n",
            "        1045       0.50      0.11      0.18         9\n",
            "        1046       0.00      0.00      0.00         9\n",
            "        1047       0.11      0.56      0.19         9\n",
            "        1048       0.00      0.00      0.00         9\n",
            "        1049       0.39      1.00      0.56         9\n",
            "        1050       0.00      0.00      0.00         9\n",
            "        1051       0.35      0.67      0.46         9\n",
            "        1052       0.00      0.00      0.00         9\n",
            "        1053       0.20      0.11      0.14         9\n",
            "        1054       1.00      1.00      1.00         9\n",
            "        1055       0.40      0.44      0.42         9\n",
            "        1056       0.50      0.30      0.37        10\n",
            "        1057       0.00      0.00      0.00         6\n",
            "        1058       0.25      0.11      0.15         9\n",
            "        1059       0.00      0.00      0.00         9\n",
            "        1060       0.50      1.00      0.67         9\n",
            "        1061       0.00      0.00      0.00         9\n",
            "        1062       0.00      0.00      0.00         7\n",
            "        1063       0.00      0.00      0.00         9\n",
            "        1064       0.00      0.00      0.00         9\n",
            "        1065       0.00      0.00      0.00         8\n",
            "        1066       0.29      1.00      0.45         9\n",
            "        1067       1.00      0.33      0.50         9\n",
            "        1068       0.22      0.89      0.35         9\n",
            "        1069       0.32      0.78      0.45         9\n",
            "        1070       0.67      0.22      0.33         9\n",
            "        1071       0.58      0.78      0.67         9\n",
            "        1072       0.30      0.67      0.41         9\n",
            "        1073       1.00      0.10      0.18        10\n",
            "        1074       0.00      0.00      0.00         6\n",
            "        1075       0.31      0.44      0.36         9\n",
            "        1076       0.88      0.78      0.82         9\n",
            "        1077       0.18      0.67      0.28         9\n",
            "        1078       0.00      0.00      0.00         5\n",
            "        1079       0.71      0.56      0.63         9\n",
            "        1080       0.00      0.00      0.00         5\n",
            "        1081       0.00      0.00      0.00         9\n",
            "        1082       1.00      0.33      0.50         9\n",
            "        1083       1.00      0.22      0.36         9\n",
            "        1084       0.42      0.89      0.57         9\n",
            "        1085       0.00      0.00      0.00        10\n",
            "        1086       0.00      0.00      0.00         9\n",
            "        1087       0.17      1.00      0.29         9\n",
            "        1088       0.31      0.89      0.46         9\n",
            "        1089       0.00      0.00      0.00         9\n",
            "        1090       0.00      0.00      0.00         9\n",
            "        1091       0.00      0.00      0.00         9\n",
            "        1092       0.50      0.78      0.61         9\n",
            "        1093       0.00      0.00      0.00         9\n",
            "        1094       0.10      0.11      0.11         9\n",
            "        1095       0.47      1.00      0.64         9\n",
            "        1096       0.20      0.11      0.14         9\n",
            "        1097       0.04      0.11      0.06         9\n",
            "        1098       0.24      0.44      0.31         9\n",
            "        1099       0.57      0.80      0.67        10\n",
            "        1100       0.00      0.00      0.00         9\n",
            "        1101       0.00      0.00      0.00         9\n",
            "        1102       0.28      0.70      0.40        10\n",
            "        1103       0.00      0.00      0.00         9\n",
            "        1104       0.33      0.22      0.27         9\n",
            "        1105       0.29      0.78      0.42         9\n",
            "        1106       0.80      0.44      0.57         9\n",
            "        1107       0.31      1.00      0.47         9\n",
            "        1108       1.00      0.89      0.94         9\n",
            "        1109       0.00      0.00      0.00         9\n",
            "        1110       0.50      0.22      0.31         9\n",
            "        1111       0.00      0.00      0.00         9\n",
            "        1112       0.00      0.00      0.00         9\n",
            "        1113       0.86      0.67      0.75         9\n",
            "        1114       0.00      0.00      0.00         9\n",
            "        1115       0.00      0.00      0.00         9\n",
            "        1116       0.00      0.00      0.00         9\n",
            "        1117       0.00      0.00      0.00         9\n",
            "        1118       0.89      0.89      0.89         9\n",
            "        1119       0.53      0.89      0.67         9\n",
            "        1120       0.00      0.00      0.00         9\n",
            "        1121       0.27      0.78      0.40         9\n",
            "        1122       0.33      0.44      0.38         9\n",
            "        1123       0.00      0.00      0.00         9\n",
            "        1124       0.00      0.00      0.00         9\n",
            "        1125       0.00      0.00      0.00        10\n",
            "        1126       0.00      0.00      0.00         9\n",
            "        1127       0.64      1.00      0.78         9\n",
            "        1128       0.50      0.33      0.40         9\n",
            "        1129       0.00      0.00      0.00         9\n",
            "        1130       0.31      1.00      0.47         9\n",
            "        1131       0.67      0.89      0.76         9\n",
            "        1132       0.00      0.00      0.00         8\n",
            "        1133       1.00      0.11      0.20         9\n",
            "        1134       0.36      1.00      0.53         9\n",
            "        1135       0.67      0.60      0.63        10\n",
            "        1136       0.40      0.67      0.50         9\n",
            "        1137       0.00      0.00      0.00         9\n",
            "        1138       1.00      0.89      0.94         9\n",
            "        1139       0.00      0.00      0.00         9\n",
            "        1140       0.19      0.67      0.30         9\n",
            "        1141       0.00      0.00      0.00         6\n",
            "        1142       0.00      0.00      0.00         5\n",
            "        1143       0.22      0.22      0.22         9\n",
            "        1144       0.70      0.78      0.74         9\n",
            "        1145       0.32      0.89      0.47         9\n",
            "        1146       1.00      0.22      0.36         9\n",
            "        1147       0.00      0.00      0.00         9\n",
            "        1148       0.18      0.33      0.23         9\n",
            "        1149       0.26      0.89      0.40         9\n",
            "        1150       0.24      0.90      0.38        10\n",
            "        1151       0.46      0.67      0.55         9\n",
            "        1152       0.00      0.00      0.00         7\n",
            "        1153       0.27      0.50      0.35         8\n",
            "        1154       0.50      0.22      0.31         9\n",
            "        1155       0.26      0.78      0.39         9\n",
            "        1156       0.00      0.00      0.00         9\n",
            "        1157       0.62      0.89      0.73         9\n",
            "        1158       0.29      0.70      0.41        10\n",
            "        1159       0.00      0.00      0.00        10\n",
            "        1160       0.69      1.00      0.82         9\n",
            "        1161       0.00      0.00      0.00         8\n",
            "        1162       0.50      0.88      0.64         8\n",
            "        1163       0.00      0.00      0.00         9\n",
            "        1164       0.29      0.22      0.25         9\n",
            "        1165       0.00      0.00      0.00         5\n",
            "        1166       0.00      0.00      0.00         9\n",
            "        1167       0.00      0.00      0.00         9\n",
            "        1168       0.00      0.00      0.00         9\n",
            "        1169       0.00      0.00      0.00         9\n",
            "        1170       0.00      0.00      0.00         8\n",
            "        1171       0.00      0.00      0.00         9\n",
            "        1172       0.35      0.88      0.50         8\n",
            "        1173       0.00      0.00      0.00         5\n",
            "        1174       0.00      0.00      0.00         9\n",
            "        1175       0.00      0.00      0.00         9\n",
            "        1176       0.00      0.00      0.00         9\n",
            "        1177       0.17      0.78      0.27         9\n",
            "        1178       0.00      0.00      0.00         9\n",
            "        1179       0.00      0.00      0.00         9\n",
            "        1180       0.00      0.00      0.00         6\n",
            "        1181       0.50      1.00      0.67        10\n",
            "        1182       0.00      0.00      0.00         9\n",
            "        1183       0.00      0.00      0.00         9\n",
            "        1184       0.21      0.33      0.26         9\n",
            "        1185       0.00      0.00      0.00         9\n",
            "        1186       0.14      0.56      0.22         9\n",
            "        1187       0.33      0.33      0.33         9\n",
            "        1188       0.00      0.00      0.00         9\n",
            "        1189       0.00      0.00      0.00         9\n",
            "        1190       0.00      0.00      0.00         9\n",
            "        1191       0.18      0.89      0.30         9\n",
            "        1192       0.00      0.00      0.00         9\n",
            "        1193       0.67      1.00      0.80         8\n",
            "        1194       0.00      0.00      0.00         6\n",
            "        1195       0.29      0.44      0.35         9\n",
            "        1196       0.32      0.89      0.47         9\n",
            "        1197       0.88      0.78      0.82         9\n",
            "        1198       0.00      0.00      0.00         9\n",
            "        1199       0.33      0.40      0.36        10\n",
            "        1200       0.25      0.11      0.15         9\n",
            "        1201       0.33      0.56      0.42         9\n",
            "        1202       0.00      0.00      0.00         9\n",
            "        1203       0.09      1.00      0.16         9\n",
            "        1204       0.22      0.44      0.30         9\n",
            "        1205       0.70      0.88      0.78         8\n",
            "        1206       0.00      0.00      0.00         9\n",
            "        1207       0.00      0.00      0.00         9\n",
            "        1208       0.40      0.22      0.29         9\n",
            "        1209       0.58      0.78      0.67         9\n",
            "        1210       0.00      0.00      0.00         8\n",
            "        1211       0.40      0.22      0.29         9\n",
            "        1212       0.12      0.11      0.12         9\n",
            "        1213       0.00      0.00      0.00         6\n",
            "        1214       0.00      0.00      0.00         9\n",
            "        1215       0.89      0.80      0.84        10\n",
            "        1216       0.33      0.33      0.33         9\n",
            "        1217       0.12      1.00      0.22         9\n",
            "        1218       0.00      0.00      0.00         9\n",
            "        1219       0.30      0.78      0.44         9\n",
            "        1220       0.00      0.00      0.00         9\n",
            "        1221       0.00      0.00      0.00         5\n",
            "        1222       0.00      0.00      0.00         9\n",
            "        1223       0.60      0.33      0.43         9\n",
            "        1224       1.00      0.22      0.36         9\n",
            "        1225       0.41      0.90      0.56        10\n",
            "        1226       0.00      0.00      0.00         9\n",
            "        1227       0.00      0.00      0.00         9\n",
            "        1228       0.00      0.00      0.00         9\n",
            "        1229       0.00      0.00      0.00         7\n",
            "        1230       0.00      0.00      0.00         9\n",
            "        1231       0.00      0.00      0.00         9\n",
            "        1232       0.20      0.22      0.21         9\n",
            "        1233       0.18      0.22      0.20         9\n",
            "        1234       0.70      0.78      0.74         9\n",
            "        1235       0.33      0.22      0.27         9\n",
            "        1236       0.67      0.89      0.76         9\n",
            "        1237       0.00      0.00      0.00         9\n",
            "        1238       0.00      0.00      0.00         9\n",
            "        1239       0.38      0.33      0.35         9\n",
            "        1240       0.00      0.00      0.00         9\n",
            "        1241       0.00      0.00      0.00         9\n",
            "        1242       0.11      0.11      0.11         9\n",
            "        1243       1.00      0.56      0.71         9\n",
            "        1244       0.57      0.44      0.50         9\n",
            "        1245       0.00      0.00      0.00         9\n",
            "        1246       0.00      0.00      0.00         9\n",
            "        1247       0.78      0.78      0.78         9\n",
            "        1248       0.67      0.44      0.53         9\n",
            "        1249       0.62      0.56      0.59         9\n",
            "        1250       0.89      0.89      0.89         9\n",
            "        1251       0.00      0.00      0.00         9\n",
            "        1252       0.43      0.75      0.55         8\n",
            "        1253       0.50      0.44      0.47         9\n",
            "        1254       0.00      0.00      0.00         7\n",
            "        1255       0.88      0.78      0.82         9\n",
            "        1256       0.26      0.78      0.39         9\n",
            "        1257       0.36      0.56      0.43         9\n",
            "        1258       0.00      0.00      0.00         6\n",
            "        1259       0.27      1.00      0.43         9\n",
            "        1260       0.38      0.89      0.53         9\n",
            "        1261       0.00      0.00      0.00         9\n",
            "        1262       0.88      0.78      0.82         9\n",
            "        1263       0.64      0.78      0.70         9\n",
            "        1264       0.00      0.00      0.00         9\n",
            "        1265       0.00      0.00      0.00         9\n",
            "        1266       0.20      0.22      0.21         9\n",
            "        1267       0.60      0.33      0.43         9\n",
            "        1268       0.38      1.00      0.55         9\n",
            "        1269       0.00      0.00      0.00         9\n",
            "        1270       0.41      1.00      0.58         9\n",
            "        1271       0.00      0.00      0.00         9\n",
            "        1272       0.31      0.89      0.46         9\n",
            "        1273       0.00      0.00      0.00         9\n",
            "        1274       0.00      0.00      0.00         9\n",
            "        1275       0.35      0.78      0.48         9\n",
            "        1276       0.18      0.67      0.29         9\n",
            "        1277       0.00      0.00      0.00         9\n",
            "        1278       0.88      0.78      0.82         9\n",
            "        1279       0.00      0.00      0.00         8\n",
            "        1280       0.00      0.00      0.00         9\n",
            "        1281       0.00      0.00      0.00         9\n",
            "        1282       0.00      0.00      0.00         9\n",
            "        1283       0.37      0.78      0.50         9\n",
            "        1284       0.13      0.25      0.17         8\n",
            "        1285       0.60      0.67      0.63         9\n",
            "        1286       0.00      0.00      0.00         9\n",
            "        1287       0.50      0.11      0.18         9\n",
            "        1288       1.00      0.11      0.20         9\n",
            "        1289       0.00      0.00      0.00         9\n",
            "        1290       0.40      0.44      0.42         9\n",
            "        1291       0.00      0.00      0.00         9\n",
            "        1292       0.00      0.00      0.00         9\n",
            "        1293       0.00      0.00      0.00         9\n",
            "        1294       0.00      0.00      0.00         9\n",
            "        1295       1.00      0.67      0.80         9\n",
            "        1296       0.31      0.44      0.36         9\n",
            "        1297       0.00      0.00      0.00         9\n",
            "        1298       0.50      0.11      0.18         9\n",
            "        1299       0.00      0.00      0.00         9\n",
            "        1300       0.70      0.78      0.74         9\n",
            "        1301       0.33      0.11      0.17         9\n",
            "        1302       0.36      0.56      0.43         9\n",
            "        1303       0.15      1.00      0.26         9\n",
            "        1304       0.00      0.00      0.00         9\n",
            "        1305       0.00      0.00      0.00         9\n",
            "        1306       0.00      0.00      0.00         9\n",
            "        1307       0.00      0.00      0.00         9\n",
            "        1308       0.00      0.00      0.00         9\n",
            "        1309       0.00      0.00      0.00         9\n",
            "        1310       0.75      0.67      0.71         9\n",
            "        1311       0.00      0.00      0.00        10\n",
            "        1312       0.75      0.33      0.46         9\n",
            "        1313       0.00      0.00      0.00         9\n",
            "        1314       0.00      0.00      0.00         9\n",
            "        1315       1.00      0.11      0.20         9\n",
            "        1316       0.62      0.56      0.59         9\n",
            "        1317       0.05      0.89      0.09         9\n",
            "        1318       0.00      0.00      0.00         9\n",
            "        1319       0.00      0.00      0.00         9\n",
            "        1320       0.75      0.33      0.46         9\n",
            "        1321       0.00      0.00      0.00        10\n",
            "        1322       0.08      0.89      0.15         9\n",
            "        1323       0.73      0.89      0.80         9\n",
            "        1324       0.19      0.89      0.31         9\n",
            "        1325       0.09      0.22      0.13         9\n",
            "        1326       0.00      0.00      0.00         9\n",
            "        1327       0.00      0.00      0.00         9\n",
            "        1328       0.25      0.33      0.29         9\n",
            "        1329       0.07      0.80      0.12        10\n",
            "        1330       0.00      0.00      0.00         9\n",
            "        1331       0.67      0.44      0.53         9\n",
            "        1332       0.38      0.56      0.45         9\n",
            "        1333       0.09      0.33      0.14         9\n",
            "        1334       0.00      0.00      0.00         9\n",
            "        1335       0.00      0.00      0.00         8\n",
            "        1336       1.00      0.56      0.71         9\n",
            "        1337       1.00      0.89      0.94         9\n",
            "        1338       0.00      0.00      0.00         9\n",
            "        1339       0.00      0.00      0.00         9\n",
            "        1340       0.00      0.00      0.00         9\n",
            "        1341       0.00      0.00      0.00         9\n",
            "        1342       1.00      0.11      0.20         9\n",
            "        1343       0.00      0.00      0.00         9\n",
            "        1344       0.36      0.89      0.52         9\n",
            "        1345       1.00      0.67      0.80         9\n",
            "        1346       0.90      1.00      0.95         9\n",
            "        1347       0.32      0.67      0.43         9\n",
            "        1348       0.62      0.89      0.73         9\n",
            "        1349       0.00      0.00      0.00         8\n",
            "        1350       0.00      0.00      0.00         9\n",
            "        1351       0.53      1.00      0.69         9\n",
            "        1352       0.00      0.00      0.00         9\n",
            "        1353       0.75      0.67      0.71         9\n",
            "        1354       0.00      0.00      0.00         9\n",
            "        1355       0.00      0.00      0.00         9\n",
            "        1356       0.26      0.56      0.36         9\n",
            "        1357       0.00      0.00      0.00         8\n",
            "        1358       0.00      0.00      0.00         9\n",
            "        1359       0.00      0.00      0.00         9\n",
            "        1360       0.00      0.00      0.00         9\n",
            "        1361       0.08      0.11      0.09         9\n",
            "        1362       0.00      0.00      0.00         8\n",
            "        1363       0.00      0.00      0.00         9\n",
            "        1364       0.00      0.00      0.00         9\n",
            "        1365       0.00      0.00      0.00         9\n",
            "        1366       0.00      0.00      0.00         9\n",
            "        1367       0.00      0.00      0.00         8\n",
            "        1368       0.00      0.00      0.00         9\n",
            "        1369       1.00      0.56      0.71         9\n",
            "        1370       0.50      0.78      0.61         9\n",
            "        1371       1.00      0.11      0.20         9\n",
            "        1372       0.00      0.00      0.00         9\n",
            "        1373       0.00      0.00      0.00         9\n",
            "        1374       0.00      0.00      0.00         9\n",
            "        1375       0.28      0.78      0.41         9\n",
            "        1376       0.45      0.56      0.50         9\n",
            "        1377       0.00      0.00      0.00         5\n",
            "        1378       0.00      0.00      0.00         9\n",
            "        1379       0.00      0.00      0.00         9\n",
            "        1380       0.00      0.00      0.00         5\n",
            "        1381       0.60      1.00      0.75         9\n",
            "        1382       0.00      0.00      0.00         9\n",
            "        1383       0.00      0.00      0.00         9\n",
            "        1384       0.00      0.00      0.00         7\n",
            "        1385       0.25      0.67      0.36         9\n",
            "        1386       0.27      1.00      0.43         9\n",
            "        1387       0.39      0.78      0.52         9\n",
            "        1388       0.00      0.00      0.00         9\n",
            "        1389       0.41      1.00      0.58         9\n",
            "        1390       0.00      0.00      0.00         9\n",
            "        1391       0.00      0.00      0.00         9\n",
            "        1392       0.29      0.22      0.25         9\n",
            "        1393       1.00      0.22      0.36         9\n",
            "        1394       0.00      0.00      0.00         9\n",
            "        1395       0.41      1.00      0.58         9\n",
            "        1396       0.30      0.89      0.44         9\n",
            "        1397       0.31      1.00      0.47         9\n",
            "        1398       0.00      0.00      0.00         9\n",
            "        1399       0.15      0.44      0.23         9\n",
            "        1400       0.00      0.00      0.00         9\n",
            "        1401       0.18      0.33      0.23         9\n",
            "        1402       0.00      0.00      0.00         9\n",
            "        1403       0.17      0.11      0.13         9\n",
            "        1404       0.24      0.44      0.31         9\n",
            "        1405       0.41      0.78      0.54         9\n",
            "        1406       0.00      0.00      0.00         9\n",
            "        1407       0.00      0.00      0.00         9\n",
            "        1408       0.00      0.00      0.00         9\n",
            "        1409       0.29      0.89      0.43         9\n",
            "        1410       0.60      0.67      0.63         9\n",
            "        1411       0.00      0.00      0.00         9\n",
            "        1412       0.35      0.78      0.48         9\n",
            "        1413       0.00      0.00      0.00         5\n",
            "        1414       0.00      0.00      0.00         9\n",
            "        1415       0.00      0.00      0.00         9\n",
            "        1416       0.00      0.00      0.00         8\n",
            "        1417       0.00      0.00      0.00         9\n",
            "        1418       0.50      0.22      0.31         9\n",
            "        1419       0.58      0.78      0.67         9\n",
            "        1420       0.00      0.00      0.00         5\n",
            "        1421       0.00      0.00      0.00         9\n",
            "        1422       0.14      0.44      0.21         9\n",
            "        1423       0.00      0.00      0.00         5\n",
            "        1424       0.10      0.89      0.17         9\n",
            "        1425       0.00      0.00      0.00         9\n",
            "        1426       0.78      1.00      0.88         7\n",
            "        1427       0.28      0.56      0.37         9\n",
            "        1428       0.00      0.00      0.00         9\n",
            "        1429       0.00      0.00      0.00         9\n",
            "        1430       0.00      0.00      0.00         9\n",
            "        1431       0.27      0.33      0.30         9\n",
            "        1432       0.00      0.00      0.00         9\n",
            "        1433       0.50      0.11      0.18         9\n",
            "        1434       0.40      0.22      0.29         9\n",
            "        1435       0.00      0.00      0.00         9\n",
            "        1436       0.00      0.00      0.00         9\n",
            "        1437       0.00      0.00      0.00         9\n",
            "        1438       0.00      0.00      0.00         9\n",
            "        1439       0.19      0.78      0.31         9\n",
            "        1440       1.00      0.44      0.62         9\n",
            "        1441       0.50      1.00      0.67         9\n",
            "        1442       0.00      0.00      0.00         9\n",
            "        1443       0.21      1.00      0.35         9\n",
            "        1444       0.00      0.00      0.00         8\n",
            "        1445       0.00      0.00      0.00         9\n",
            "        1446       0.43      0.33      0.38         9\n",
            "        1447       0.31      0.89      0.46         9\n",
            "        1448       0.53      1.00      0.69         9\n",
            "        1449       0.88      0.78      0.82         9\n",
            "        1450       0.50      0.67      0.57         9\n",
            "        1451       0.00      0.00      0.00         9\n",
            "        1452       0.20      0.11      0.14         9\n",
            "        1453       0.43      1.00      0.60         9\n",
            "        1454       0.00      0.00      0.00         9\n",
            "        1455       0.71      0.56      0.63         9\n",
            "        1456       0.21      0.78      0.33         9\n",
            "        1457       0.35      0.67      0.46         9\n",
            "        1458       0.00      0.00      0.00         9\n",
            "        1459       0.00      0.00      0.00         9\n",
            "        1460       0.00      0.00      0.00         9\n",
            "        1461       0.00      0.00      0.00         9\n",
            "        1462       0.14      0.11      0.12         9\n",
            "        1463       0.20      1.00      0.33         9\n",
            "        1464       0.00      0.00      0.00         4\n",
            "        1465       0.17      0.11      0.13         9\n",
            "        1466       0.28      0.89      0.42         9\n",
            "        1467       0.00      0.00      0.00         9\n",
            "        1468       1.00      0.11      0.20         9\n",
            "        1469       0.00      0.00      0.00         9\n",
            "        1470       0.71      0.56      0.63         9\n",
            "        1471       0.28      0.78      0.41         9\n",
            "        1472       0.00      0.00      0.00         9\n",
            "        1473       0.35      0.89      0.50         9\n",
            "        1474       0.41      1.00      0.58         9\n",
            "        1475       0.80      0.44      0.57         9\n",
            "        1476       0.00      0.00      0.00        10\n",
            "        1477       0.00      0.00      0.00         9\n",
            "        1478       0.12      0.11      0.12         9\n",
            "        1479       0.00      0.00      0.00         8\n",
            "        1480       0.18      1.00      0.30         9\n",
            "        1481       0.71      0.56      0.63         9\n",
            "        1482       0.22      0.67      0.33         9\n",
            "        1483       0.00      0.00      0.00         9\n",
            "        1484       0.14      0.78      0.24         9\n",
            "        1485       0.50      1.00      0.67         9\n",
            "        1486       0.18      1.00      0.30         9\n",
            "        1487       0.11      0.11      0.11         9\n",
            "        1488       1.00      1.00      1.00         9\n",
            "        1489       0.67      0.22      0.33         9\n",
            "        1490       0.62      0.89      0.73         9\n",
            "        1491       0.82      1.00      0.90         9\n",
            "        1492       0.90      1.00      0.95         9\n",
            "        1493       0.05      0.44      0.10         9\n",
            "        1494       0.10      0.11      0.11         9\n",
            "        1495       0.75      1.00      0.86         9\n",
            "        1496       0.33      0.67      0.44         9\n",
            "        1497       0.78      0.78      0.78         9\n",
            "        1498       0.00      0.00      0.00         9\n",
            "        1499       0.00      0.00      0.00         8\n",
            "        1500       0.00      0.00      0.00        10\n",
            "        1501       0.00      0.00      0.00         9\n",
            "        1502       0.70      0.78      0.74         9\n",
            "        1503       0.54      0.78      0.64         9\n",
            "        1504       1.00      0.88      0.93         8\n",
            "        1505       0.56      0.56      0.56         9\n",
            "        1506       0.00      0.00      0.00         5\n",
            "        1507       0.31      0.56      0.40         9\n",
            "        1508       0.50      1.00      0.67         8\n",
            "        1509       0.00      0.00      0.00         9\n",
            "        1510       0.00      0.00      0.00        10\n",
            "        1511       0.00      0.00      0.00         5\n",
            "        1512       0.00      0.00      0.00         9\n",
            "        1513       0.00      0.00      0.00         9\n",
            "        1514       0.00      0.00      0.00         9\n",
            "        1515       0.00      0.00      0.00         9\n",
            "        1516       0.00      0.00      0.00         9\n",
            "        1517       1.00      0.11      0.20         9\n",
            "        1518       0.71      1.00      0.83         5\n",
            "        1519       0.00      0.00      0.00         9\n",
            "        1520       0.25      0.22      0.24         9\n",
            "        1521       0.86      0.75      0.80         8\n",
            "        1522       0.00      0.00      0.00         9\n",
            "        1523       0.00      0.00      0.00        10\n",
            "        1524       0.90      0.90      0.90        10\n",
            "        1525       0.83      0.56      0.67         9\n",
            "        1526       0.75      1.00      0.86         9\n",
            "        1527       0.16      0.78      0.27         9\n",
            "        1528       1.00      0.33      0.50         9\n",
            "        1529       0.00      0.00      0.00         9\n",
            "        1530       0.24      0.89      0.38         9\n",
            "        1531       0.00      0.00      0.00         9\n",
            "        1532       0.00      0.00      0.00        10\n",
            "        1533       0.00      0.00      0.00         9\n",
            "        1534       0.24      1.00      0.39         9\n",
            "        1535       0.35      1.00      0.51         9\n",
            "        1536       0.33      0.50      0.40        10\n",
            "        1537       1.00      0.11      0.20         9\n",
            "        1538       0.14      0.67      0.23         9\n",
            "        1539       0.00      0.00      0.00         9\n",
            "        1540       0.13      0.89      0.22         9\n",
            "        1541       0.50      0.67      0.57         9\n",
            "        1542       0.00      0.00      0.00         9\n",
            "        1543       0.62      0.89      0.73         9\n",
            "        1544       0.00      0.00      0.00         9\n",
            "        1545       0.50      0.67      0.57         9\n",
            "        1546       0.00      0.00      0.00         9\n",
            "        1547       0.00      0.00      0.00         9\n",
            "        1548       0.08      0.33      0.13         9\n",
            "        1549       0.00      0.00      0.00         9\n",
            "        1550       0.00      0.00      0.00         9\n",
            "        1551       0.45      0.56      0.50         9\n",
            "        1552       0.75      0.33      0.46         9\n",
            "        1553       0.00      0.00      0.00         8\n",
            "        1554       0.00      0.00      0.00         9\n",
            "        1555       0.00      0.00      0.00         9\n",
            "        1556       0.60      1.00      0.75         9\n",
            "        1557       0.78      0.78      0.78         9\n",
            "        1558       0.28      1.00      0.44         9\n",
            "        1559       0.00      0.00      0.00         5\n",
            "        1560       0.00      0.00      0.00         9\n",
            "        1561       0.56      1.00      0.72         9\n",
            "        1562       0.00      0.00      0.00         9\n",
            "        1563       0.00      0.00      0.00         9\n",
            "        1564       0.00      0.00      0.00         9\n",
            "        1565       1.00      0.22      0.36         9\n",
            "        1566       0.50      0.11      0.18         9\n",
            "        1567       0.80      0.89      0.84         9\n",
            "        1568       0.31      0.89      0.46         9\n",
            "        1569       0.00      0.00      0.00         9\n",
            "        1570       1.00      0.11      0.20         9\n",
            "        1571       0.00      0.00      0.00         9\n",
            "        1572       0.21      0.56      0.30         9\n",
            "        1573       0.56      1.00      0.72         9\n",
            "        1574       0.05      0.60      0.08        10\n",
            "        1575       0.00      0.00      0.00        10\n",
            "        1576       0.00      0.00      0.00         9\n",
            "        1577       0.60      0.67      0.63         9\n",
            "        1578       1.00      0.44      0.62         9\n",
            "        1579       0.75      1.00      0.86         9\n",
            "        1580       0.00      0.00      0.00         9\n",
            "        1581       1.00      0.78      0.88         9\n",
            "        1582       0.13      1.00      0.23         9\n",
            "        1583       0.50      1.00      0.67         9\n",
            "        1584       0.27      0.33      0.30         9\n",
            "        1585       0.13      1.00      0.23         9\n",
            "        1586       0.18      0.78      0.29         9\n",
            "        1587       0.73      0.89      0.80         9\n",
            "        1588       0.40      0.33      0.36         6\n",
            "        1589       0.10      0.89      0.19         9\n",
            "        1590       0.62      0.89      0.73         9\n",
            "        1591       0.00      0.00      0.00         6\n",
            "        1592       0.43      0.60      0.50        10\n",
            "        1593       0.33      0.78      0.47         9\n",
            "        1594       0.09      0.89      0.16         9\n",
            "        1595       0.17      0.67      0.27         9\n",
            "        1596       0.22      0.22      0.22         9\n",
            "        1597       0.00      0.00      0.00         9\n",
            "        1598       0.00      0.00      0.00         9\n",
            "        1599       0.00      0.00      0.00         9\n",
            "        1600       0.36      0.89      0.52         9\n",
            "        1601       1.00      0.11      0.20         9\n",
            "        1602       0.41      1.00      0.58         9\n",
            "        1603       0.00      0.00      0.00         9\n",
            "        1604       0.36      0.56      0.43         9\n",
            "        1605       0.00      0.00      0.00        10\n",
            "        1606       1.00      0.22      0.36         9\n",
            "        1607       0.00      0.00      0.00         9\n",
            "        1608       0.00      0.00      0.00         9\n",
            "        1609       0.00      0.00      0.00         9\n",
            "        1610       0.00      0.00      0.00         9\n",
            "        1611       0.64      0.78      0.70         9\n",
            "        1612       0.00      0.00      0.00         9\n",
            "        1613       0.43      0.67      0.52         9\n",
            "        1614       0.25      0.56      0.34         9\n",
            "        1615       0.12      0.11      0.12         9\n",
            "        1616       0.00      0.00      0.00         9\n",
            "        1617       0.00      0.00      0.00         9\n",
            "        1618       0.54      0.78      0.64         9\n",
            "        1619       0.00      0.00      0.00         9\n",
            "        1620       0.00      0.00      0.00         9\n",
            "        1621       0.00      0.00      0.00         9\n",
            "        1622       0.21      0.44      0.29         9\n",
            "        1623       0.11      0.89      0.20         9\n",
            "        1624       0.31      0.89      0.46         9\n",
            "        1625       1.00      0.75      0.86         8\n",
            "        1626       1.00      0.11      0.20         9\n",
            "        1627       0.83      0.56      0.67         9\n",
            "        1628       0.00      0.00      0.00         9\n",
            "        1629       0.00      0.00      0.00         6\n",
            "        1630       0.00      0.00      0.00         9\n",
            "        1631       0.00      0.00      0.00         9\n",
            "        1632       0.00      0.00      0.00         9\n",
            "        1633       0.00      0.00      0.00         6\n",
            "        1634       0.56      1.00      0.72         9\n",
            "        1635       0.00      0.00      0.00         9\n",
            "        1636       0.00      0.00      0.00         9\n",
            "        1637       0.00      0.00      0.00         9\n",
            "        1638       0.83      0.56      0.67         9\n",
            "        1639       0.75      0.67      0.71         9\n",
            "        1640       0.19      0.78      0.31         9\n",
            "        1641       0.00      0.00      0.00         9\n",
            "        1642       0.00      0.00      0.00        10\n",
            "        1643       0.00      0.00      0.00         9\n",
            "        1644       0.28      1.00      0.44         9\n",
            "        1645       0.67      0.89      0.76         9\n",
            "        1646       0.40      0.22      0.29         9\n",
            "        1647       0.10      0.33      0.16         9\n",
            "        1648       0.07      0.11      0.09         9\n",
            "        1649       0.00      0.00      0.00         6\n",
            "        1650       0.00      0.00      0.00         9\n",
            "        1651       0.40      0.22      0.29         9\n",
            "        1652       0.00      0.00      0.00         9\n",
            "        1653       0.00      0.00      0.00         9\n",
            "        1654       0.00      0.00      0.00         9\n",
            "        1655       0.25      0.22      0.24         9\n",
            "        1656       0.00      0.00      0.00         9\n",
            "        1657       0.09      0.89      0.16         9\n",
            "        1658       0.75      0.67      0.71         9\n",
            "        1659       0.04      0.44      0.08         9\n",
            "        1660       0.26      0.67      0.38         9\n",
            "        1661       0.00      0.00      0.00         9\n",
            "        1662       0.54      0.78      0.64         9\n",
            "        1663       0.67      1.00      0.80         8\n",
            "        1664       0.00      0.00      0.00        10\n",
            "        1665       0.45      0.56      0.50         9\n",
            "        1666       0.44      0.89      0.59         9\n",
            "        1667       0.46      0.75      0.57         8\n",
            "        1668       0.00      0.00      0.00         9\n",
            "        1669       0.50      1.00      0.67         8\n",
            "        1670       0.75      0.33      0.46         9\n",
            "        1671       0.00      0.00      0.00         9\n",
            "        1672       0.58      0.78      0.67         9\n",
            "        1673       0.00      0.00      0.00         9\n",
            "        1674       0.00      0.00      0.00         8\n",
            "        1675       0.33      0.11      0.17         9\n",
            "        1676       0.42      0.89      0.57         9\n",
            "        1677       0.00      0.00      0.00         9\n",
            "        1678       0.00      0.00      0.00         9\n",
            "        1679       0.38      0.89      0.53         9\n",
            "        1680       0.60      1.00      0.75         9\n",
            "        1681       0.00      0.00      0.00         9\n",
            "        1682       0.70      0.78      0.74         9\n",
            "        1683       0.00      0.00      0.00         9\n",
            "        1684       0.44      0.44      0.44         9\n",
            "        1685       0.00      0.00      0.00         9\n",
            "        1686       0.60      0.33      0.43         9\n",
            "        1687       0.00      0.00      0.00         8\n",
            "        1688       0.50      0.11      0.18         9\n",
            "        1689       0.00      0.00      0.00         9\n",
            "        1690       0.88      0.78      0.82         9\n",
            "        1691       0.64      1.00      0.78         9\n",
            "        1692       1.00      0.11      0.20         9\n",
            "        1693       0.07      1.00      0.13         9\n",
            "        1694       0.53      1.00      0.69         9\n",
            "        1695       0.00      0.00      0.00         9\n",
            "        1696       0.60      0.90      0.72        10\n",
            "        1697       0.23      0.89      0.36         9\n",
            "        1698       1.00      0.17      0.29         6\n",
            "        1699       0.21      0.67      0.32         9\n",
            "        1700       1.00      0.22      0.36         9\n",
            "        1701       0.50      0.22      0.31         9\n",
            "        1702       0.53      0.89      0.67         9\n",
            "        1703       0.00      0.00      0.00         9\n",
            "        1704       0.00      0.00      0.00         9\n",
            "        1705       0.40      0.80      0.53        10\n",
            "        1706       1.00      0.80      0.89         5\n",
            "        1707       0.00      0.00      0.00         9\n",
            "        1708       0.00      0.00      0.00         9\n",
            "        1709       0.16      1.00      0.28         9\n",
            "        1710       0.00      0.00      0.00         9\n",
            "        1711       0.00      0.00      0.00         9\n",
            "        1712       0.80      0.44      0.57         9\n",
            "        1713       0.00      0.00      0.00         9\n",
            "        1714       0.00      0.00      0.00         9\n",
            "        1715       0.00      0.00      0.00         9\n",
            "        1716       0.00      0.00      0.00         9\n",
            "        1717       0.00      0.00      0.00         9\n",
            "        1718       0.00      0.00      0.00         9\n",
            "        1719       1.00      0.44      0.62         9\n",
            "        1720       0.20      0.11      0.14         9\n",
            "        1721       0.00      0.00      0.00         9\n",
            "        1722       0.13      0.22      0.17         9\n",
            "        1723       0.06      0.56      0.11         9\n",
            "        1724       0.00      0.00      0.00         9\n",
            "        1725       0.00      0.00      0.00         9\n",
            "        1726       0.03      0.11      0.05         9\n",
            "        1727       0.27      0.44      0.33         9\n",
            "        1728       0.32      1.00      0.49         9\n",
            "        1729       0.17      0.44      0.25         9\n",
            "        1730       1.00      0.89      0.94         9\n",
            "        1731       1.00      0.11      0.20         9\n",
            "        1732       0.46      0.60      0.52        10\n",
            "        1733       0.50      1.00      0.67         9\n",
            "        1734       0.17      0.11      0.13         9\n",
            "        1735       0.00      0.00      0.00         8\n",
            "        1736       0.11      0.22      0.15         9\n",
            "        1737       0.20      0.89      0.32         9\n",
            "        1738       0.00      0.00      0.00         9\n",
            "        1739       0.83      0.56      0.67         9\n",
            "        1740       0.43      0.38      0.40         8\n",
            "        1741       0.00      0.00      0.00         9\n",
            "        1742       0.78      0.78      0.78         9\n",
            "        1743       0.05      0.70      0.09        10\n",
            "        1744       0.41      0.78      0.54         9\n",
            "        1745       0.30      0.78      0.44         9\n",
            "        1746       0.50      0.83      0.62         6\n",
            "        1747       0.00      0.00      0.00         9\n",
            "        1748       0.00      0.00      0.00         9\n",
            "        1749       0.00      0.00      0.00         9\n",
            "        1750       0.00      0.00      0.00         9\n",
            "        1751       0.00      0.00      0.00        10\n",
            "        1752       0.20      0.11      0.14         9\n",
            "        1753       0.00      0.00      0.00         9\n",
            "        1754       0.00      0.00      0.00         8\n",
            "        1755       0.05      0.22      0.09         9\n",
            "        1756       0.57      0.44      0.50         9\n",
            "        1757       0.47      1.00      0.64         9\n",
            "        1758       0.00      0.00      0.00         9\n",
            "        1759       0.58      0.78      0.67         9\n",
            "        1760       0.56      1.00      0.71        10\n",
            "        1761       0.00      0.00      0.00         8\n",
            "        1762       0.12      0.67      0.20         9\n",
            "        1763       0.57      0.44      0.50         9\n",
            "        1764       0.64      1.00      0.78         9\n",
            "        1765       0.64      0.78      0.70         9\n",
            "        1766       0.00      0.00      0.00         9\n",
            "        1767       0.00      0.00      0.00         9\n",
            "        1768       0.00      0.00      0.00         9\n",
            "        1769       0.25      0.44      0.32         9\n",
            "        1770       0.00      0.00      0.00         5\n",
            "        1771       0.00      0.00      0.00        10\n",
            "        1772       0.20      0.67      0.31         9\n",
            "        1773       0.30      0.67      0.41         9\n",
            "        1774       0.25      0.44      0.32         9\n",
            "        1775       0.90      1.00      0.95         9\n",
            "        1776       0.00      0.00      0.00         8\n",
            "        1777       0.47      0.78      0.58         9\n",
            "        1778       0.25      0.33      0.29         9\n",
            "        1779       0.45      1.00      0.62         9\n",
            "        1780       0.00      0.00      0.00         9\n",
            "        1781       0.00      0.00      0.00         9\n",
            "        1782       0.00      0.00      0.00         9\n",
            "        1783       0.00      0.00      0.00         9\n",
            "        1784       0.00      0.00      0.00         9\n",
            "        1785       0.82      1.00      0.90         9\n",
            "        1786       0.50      0.22      0.31         9\n",
            "        1787       0.00      0.00      0.00         9\n",
            "        1788       1.00      0.11      0.20         9\n",
            "        1789       0.00      0.00      0.00         9\n",
            "        1790       0.00      0.00      0.00         9\n",
            "        1791       0.00      0.00      0.00         9\n",
            "        1792       0.00      0.00      0.00         9\n",
            "        1793       0.35      0.67      0.46         9\n",
            "        1794       0.00      0.00      0.00         9\n",
            "        1795       0.00      0.00      0.00         9\n",
            "        1796       0.00      0.00      0.00         5\n",
            "        1797       0.16      0.67      0.26         9\n",
            "        1798       0.73      1.00      0.84         8\n",
            "        1799       0.40      0.22      0.29         9\n",
            "        1800       0.08      0.89      0.14         9\n",
            "        1801       0.25      0.11      0.15         9\n",
            "        1802       0.00      0.00      0.00         9\n",
            "        1803       0.00      0.00      0.00         9\n",
            "        1804       0.33      0.11      0.17         9\n",
            "        1805       1.00      1.00      1.00         9\n",
            "        1806       0.64      0.78      0.70         9\n",
            "        1807       0.83      0.56      0.67         9\n",
            "        1808       0.00      0.00      0.00        10\n",
            "        1809       0.00      0.00      0.00         5\n",
            "        1810       0.17      0.78      0.29         9\n",
            "        1811       0.12      0.33      0.18         9\n",
            "        1812       0.42      0.89      0.57         9\n",
            "        1813       0.29      0.44      0.35         9\n",
            "        1814       0.00      0.00      0.00         9\n",
            "        1815       0.00      0.00      0.00         9\n",
            "        1816       0.00      0.00      0.00        10\n",
            "        1817       0.00      0.00      0.00         9\n",
            "        1818       0.23      0.56      0.32         9\n",
            "        1819       0.35      0.89      0.50         9\n",
            "        1820       0.35      0.89      0.50         9\n",
            "        1821       0.00      0.00      0.00         9\n",
            "        1822       0.29      0.78      0.42         9\n",
            "        1823       0.23      0.78      0.36         9\n",
            "        1824       0.20      1.00      0.34         9\n",
            "        1825       0.23      0.78      0.35         9\n",
            "        1826       0.50      0.33      0.40         9\n",
            "        1827       0.43      1.00      0.60         9\n",
            "        1828       0.38      0.56      0.45         9\n",
            "        1829       0.00      0.00      0.00         9\n",
            "        1830       0.26      0.89      0.40         9\n",
            "        1831       0.00      0.00      0.00         9\n",
            "        1832       0.00      0.00      0.00         9\n",
            "        1833       0.27      1.00      0.43         9\n",
            "        1834       0.00      0.00      0.00         9\n",
            "        1835       0.00      0.00      0.00         9\n",
            "        1836       1.00      0.25      0.40         8\n",
            "        1837       0.00      0.00      0.00         9\n",
            "        1838       0.00      0.00      0.00         9\n",
            "        1839       0.90      1.00      0.95         9\n",
            "        1840       0.00      0.00      0.00         9\n",
            "        1841       0.00      0.00      0.00         9\n",
            "        1842       1.00      0.11      0.20         9\n",
            "        1843       0.00      0.00      0.00         9\n",
            "        1844       0.71      0.56      0.63         9\n",
            "        1845       0.00      0.00      0.00         9\n",
            "        1846       0.00      0.00      0.00         9\n",
            "        1847       0.00      0.00      0.00         9\n",
            "        1848       0.00      0.00      0.00         9\n",
            "        1849       0.00      0.00      0.00         9\n",
            "        1850       0.00      0.00      0.00         9\n",
            "        1851       0.50      0.67      0.57         9\n",
            "        1852       0.00      0.00      0.00         9\n",
            "        1853       0.00      0.00      0.00         9\n",
            "        1854       0.00      0.00      0.00        10\n",
            "        1855       1.00      0.56      0.71         9\n",
            "        1856       0.50      0.78      0.61         9\n",
            "        1857       0.22      0.44      0.30         9\n",
            "        1858       0.80      0.89      0.84         9\n",
            "        1859       0.47      0.78      0.58         9\n",
            "        1860       0.71      0.56      0.63         9\n",
            "        1861       0.13      1.00      0.23         9\n",
            "        1862       0.56      0.56      0.56         9\n",
            "        1863       0.00      0.00      0.00         9\n",
            "        1864       0.35      0.67      0.46         9\n",
            "        1865       1.00      1.00      1.00         7\n",
            "        1866       0.00      0.00      0.00         5\n",
            "        1867       0.00      0.00      0.00         9\n",
            "        1868       0.00      0.00      0.00         9\n",
            "        1869       0.00      0.00      0.00         9\n",
            "        1870       1.00      0.44      0.62         9\n",
            "        1871       0.00      0.00      0.00         7\n",
            "        1872       0.00      0.00      0.00         9\n",
            "        1873       0.00      0.00      0.00         9\n",
            "        1874       0.00      0.00      0.00         6\n",
            "        1875       0.50      0.78      0.61         9\n",
            "        1876       0.17      0.50      0.26         8\n",
            "        1877       0.00      0.00      0.00         9\n",
            "        1878       1.00      0.78      0.88         9\n",
            "        1879       0.00      0.00      0.00         8\n",
            "        1880       0.00      0.00      0.00        10\n",
            "        1881       0.17      0.78      0.28         9\n",
            "        1882       0.67      1.00      0.80         8\n",
            "        1883       0.00      0.00      0.00         9\n",
            "        1884       0.00      0.00      0.00         9\n",
            "        1885       0.00      0.00      0.00         9\n",
            "        1886       0.73      0.89      0.80         9\n",
            "        1887       0.33      0.11      0.17         9\n",
            "        1888       1.00      0.12      0.22         8\n",
            "        1889       0.00      0.00      0.00         9\n",
            "        1890       0.00      0.00      0.00         8\n",
            "        1891       0.00      0.00      0.00         8\n",
            "        1892       0.00      0.00      0.00         9\n",
            "        1893       0.00      0.00      0.00         9\n",
            "        1894       0.00      0.00      0.00         9\n",
            "        1895       0.00      0.00      0.00         9\n",
            "        1896       0.20      0.89      0.32         9\n",
            "        1897       0.43      1.00      0.60         9\n",
            "        1898       0.00      0.00      0.00         9\n",
            "        1899       0.00      0.00      0.00         9\n",
            "        1900       0.50      0.89      0.64         9\n",
            "        1901       0.75      0.67      0.71         9\n",
            "        1902       0.67      0.40      0.50        10\n",
            "        1903       0.50      0.11      0.18         9\n",
            "        1904       0.00      0.00      0.00         9\n",
            "        1905       0.15      0.78      0.25         9\n",
            "        1906       0.00      0.00      0.00         8\n",
            "        1907       0.00      0.00      0.00         9\n",
            "        1908       0.00      0.00      0.00         9\n",
            "        1909       0.00      0.00      0.00         9\n",
            "        1910       0.75      0.38      0.50         8\n",
            "        1911       0.00      0.00      0.00         9\n",
            "        1912       0.67      0.67      0.67         9\n",
            "        1913       0.00      0.00      0.00         9\n",
            "        1914       0.20      1.00      0.33        10\n",
            "        1915       0.27      0.44      0.33         9\n",
            "        1916       1.00      0.11      0.20         9\n",
            "        1917       0.11      0.11      0.11         9\n",
            "        1918       0.17      0.89      0.28         9\n",
            "        1919       0.00      0.00      0.00         9\n",
            "        1920       0.57      0.44      0.50         9\n",
            "        1921       0.50      0.11      0.18         9\n",
            "        1922       0.40      0.22      0.29         9\n",
            "        1923       0.00      0.00      0.00         9\n",
            "        1924       0.67      0.89      0.76         9\n",
            "        1925       0.00      0.00      0.00         9\n",
            "        1926       0.43      1.00      0.60         9\n",
            "        1927       0.00      0.00      0.00         8\n",
            "        1928       0.00      0.00      0.00         9\n",
            "        1929       1.00      0.11      0.20         9\n",
            "        1930       0.57      0.44      0.50         9\n",
            "        1931       0.86      0.67      0.75         9\n",
            "        1932       0.40      0.22      0.29         9\n",
            "        1933       0.00      0.00      0.00         9\n",
            "        1934       0.00      0.00      0.00         9\n",
            "        1935       0.60      0.33      0.43         9\n",
            "        1936       0.00      0.00      0.00         9\n",
            "        1937       0.82      1.00      0.90         9\n",
            "        1938       0.62      0.89      0.73         9\n",
            "        1939       0.00      0.00      0.00         9\n",
            "        1940       0.00      0.00      0.00         5\n",
            "        1941       0.25      0.11      0.15         9\n",
            "        1942       0.00      0.00      0.00         5\n",
            "        1943       0.57      1.00      0.73         8\n",
            "        1944       0.00      0.00      0.00         9\n",
            "        1945       0.67      0.22      0.33         9\n",
            "        1946       0.00      0.00      0.00         9\n",
            "        1947       0.33      0.67      0.44         9\n",
            "        1948       1.00      0.33      0.50         9\n",
            "        1949       0.00      0.00      0.00         8\n",
            "        1950       0.00      0.00      0.00         9\n",
            "        1951       0.42      0.89      0.57         9\n",
            "        1952       0.36      0.89      0.52         9\n",
            "        1953       0.00      0.00      0.00         9\n",
            "        1954       0.00      0.00      0.00         8\n",
            "        1955       1.00      0.17      0.29         6\n",
            "        1956       0.18      0.44      0.26         9\n",
            "        1957       0.00      0.00      0.00         9\n",
            "        1958       0.90      1.00      0.95         9\n",
            "        1959       0.33      0.11      0.17         9\n",
            "        1960       0.00      0.00      0.00         8\n",
            "        1961       0.33      0.11      0.17         9\n",
            "        1962       0.60      0.33      0.43         9\n",
            "        1963       0.25      0.33      0.29         9\n",
            "        1964       0.00      0.00      0.00         9\n",
            "        1965       0.14      0.44      0.21         9\n",
            "        1966       0.00      0.00      0.00         9\n",
            "        1967       0.33      0.50      0.40         8\n",
            "        1968       0.00      0.00      0.00         7\n",
            "        1969       0.26      0.89      0.40         9\n",
            "        1970       0.00      0.00      0.00         9\n",
            "        1971       0.00      0.00      0.00         9\n",
            "        1972       1.00      0.44      0.62         9\n",
            "        1973       0.00      0.00      0.00         9\n",
            "        1974       0.00      0.00      0.00         9\n",
            "        1975       0.00      0.00      0.00         9\n",
            "        1976       0.50      0.78      0.61         9\n",
            "        1977       0.50      0.20      0.29        10\n",
            "        1978       0.57      0.89      0.70         9\n",
            "        1979       0.00      0.00      0.00         9\n",
            "        1980       0.38      0.33      0.35         9\n",
            "        1981       0.00      0.00      0.00         7\n",
            "        1982       0.00      0.00      0.00         9\n",
            "        1983       0.91      1.00      0.95        10\n",
            "        1984       0.20      0.12      0.15         8\n",
            "        1985       0.77      1.00      0.87        10\n",
            "        1986       0.17      0.44      0.24         9\n",
            "        1987       0.00      0.00      0.00         9\n",
            "        1988       0.00      0.00      0.00         9\n",
            "        1989       0.00      0.00      0.00         9\n",
            "        1990       0.00      0.00      0.00         9\n",
            "        1991       0.00      0.00      0.00         9\n",
            "        1992       0.00      0.00      0.00         9\n",
            "        1993       0.00      0.00      0.00         9\n",
            "        1994       0.00      0.00      0.00         9\n",
            "        1995       0.00      0.00      0.00         9\n",
            "        1996       0.00      0.00      0.00         9\n",
            "        1997       0.00      0.00      0.00         9\n",
            "        1998       0.00      0.00      0.00         9\n",
            "        1999       0.09      0.89      0.16         9\n",
            "        2000       0.00      0.00      0.00         9\n",
            "        2001       0.00      0.00      0.00         9\n",
            "        2002       0.00      0.00      0.00         5\n",
            "        2003       0.50      0.44      0.47         9\n",
            "        2004       0.00      0.00      0.00         9\n",
            "        2005       1.00      0.10      0.18        10\n",
            "        2006       0.40      0.44      0.42         9\n",
            "        2007       0.00      0.00      0.00         9\n",
            "        2008       0.25      0.11      0.15         9\n",
            "        2009       0.00      0.00      0.00         9\n",
            "        2010       0.35      0.78      0.48         9\n",
            "        2011       1.00      0.11      0.20         9\n",
            "        2012       0.00      0.00      0.00         8\n",
            "        2013       0.00      0.00      0.00        10\n",
            "        2014       0.26      1.00      0.42         9\n",
            "        2015       0.00      0.00      0.00         9\n",
            "        2016       0.00      0.00      0.00         9\n",
            "        2017       0.00      0.00      0.00         9\n",
            "        2018       0.00      0.00      0.00         9\n",
            "        2019       0.75      0.67      0.71         9\n",
            "        2020       0.00      0.00      0.00         8\n",
            "        2021       0.22      0.70      0.33        10\n",
            "        2022       0.32      0.67      0.43         9\n",
            "        2023       0.00      0.00      0.00         9\n",
            "        2024       0.18      0.90      0.31        10\n",
            "        2025       0.00      0.00      0.00         9\n",
            "        2026       0.47      0.89      0.62         9\n",
            "        2027       0.36      0.44      0.40         9\n",
            "        2028       0.00      0.00      0.00         9\n",
            "        2029       0.00      0.00      0.00         7\n",
            "        2030       0.00      0.00      0.00         8\n",
            "        2031       0.30      0.78      0.44         9\n",
            "        2032       0.00      0.00      0.00         6\n",
            "        2033       0.00      0.00      0.00         6\n",
            "        2034       0.00      0.00      0.00         9\n",
            "        2035       0.00      0.00      0.00        10\n",
            "        2036       0.75      0.30      0.43        10\n",
            "        2037       0.71      0.56      0.63         9\n",
            "        2038       1.00      0.78      0.88         9\n",
            "        2039       0.00      0.00      0.00         9\n",
            "        2040       0.00      0.00      0.00         9\n",
            "        2041       0.00      0.00      0.00         9\n",
            "        2042       0.47      1.00      0.64         9\n",
            "        2043       1.00      0.11      0.20         9\n",
            "        2044       0.00      0.00      0.00         9\n",
            "        2045       0.35      0.89      0.50         9\n",
            "        2046       0.32      1.00      0.49         9\n",
            "        2047       0.17      0.78      0.28         9\n",
            "        2048       1.00      0.12      0.22         8\n",
            "        2049       0.50      0.22      0.31         9\n",
            "        2050       0.00      0.00      0.00         9\n",
            "        2051       0.15      0.22      0.18         9\n",
            "        2052       0.40      0.80      0.53        10\n",
            "        2053       0.67      0.44      0.53         9\n",
            "        2054       0.40      0.50      0.44         8\n",
            "        2055       0.62      0.89      0.73         9\n",
            "        2056       0.67      0.67      0.67         9\n",
            "        2057       0.00      0.00      0.00         9\n",
            "        2058       0.75      0.33      0.46         9\n",
            "        2059       0.00      0.00      0.00         9\n",
            "        2060       0.00      0.00      0.00         8\n",
            "        2061       0.53      1.00      0.69         9\n",
            "        2062       0.00      0.00      0.00        10\n",
            "        2063       0.00      0.00      0.00         9\n",
            "        2064       0.00      0.00      0.00         9\n",
            "        2065       0.00      0.00      0.00         9\n",
            "        2066       0.00      0.00      0.00         9\n",
            "        2067       0.00      0.00      0.00         9\n",
            "        2068       0.83      0.56      0.67         9\n",
            "        2069       0.21      0.89      0.34         9\n",
            "        2070       0.00      0.00      0.00         8\n",
            "        2071       0.00      0.00      0.00         9\n",
            "        2072       0.00      0.00      0.00         9\n",
            "        2073       0.75      1.00      0.86         9\n",
            "        2074       0.33      0.33      0.33         9\n",
            "        2075       0.05      0.78      0.09         9\n",
            "        2076       0.00      0.00      0.00         9\n",
            "        2077       0.50      0.70      0.58        10\n",
            "        2078       0.00      0.00      0.00         9\n",
            "        2079       0.00      0.00      0.00         9\n",
            "        2080       0.40      0.75      0.52         8\n",
            "        2081       0.00      0.00      0.00         8\n",
            "        2082       0.50      0.89      0.64         9\n",
            "        2083       0.00      0.00      0.00        10\n",
            "        2084       0.00      0.00      0.00         9\n",
            "        2085       0.00      0.00      0.00         9\n",
            "        2086       0.00      0.00      0.00         9\n",
            "        2087       0.00      0.00      0.00         9\n",
            "        2088       0.00      0.00      0.00         9\n",
            "        2089       0.00      0.00      0.00         9\n",
            "        2090       0.55      0.67      0.60         9\n",
            "        2091       0.00      0.00      0.00         9\n",
            "        2092       0.39      0.78      0.52         9\n",
            "        2093       0.00      0.00      0.00         9\n",
            "        2094       0.00      0.00      0.00         6\n",
            "        2095       0.00      0.00      0.00         9\n",
            "        2096       0.30      0.78      0.44         9\n",
            "        2097       0.00      0.00      0.00         9\n",
            "        2098       0.00      0.00      0.00         9\n",
            "        2099       0.38      1.00      0.55         9\n",
            "        2100       0.00      0.00      0.00         9\n",
            "        2101       0.14      0.33      0.19         9\n",
            "        2102       0.75      1.00      0.86         9\n",
            "        2103       0.00      0.00      0.00         9\n",
            "        2104       0.35      0.67      0.46         9\n",
            "        2105       0.67      0.67      0.67         9\n",
            "        2106       0.56      1.00      0.72         9\n",
            "        2107       1.00      0.33      0.50         9\n",
            "        2108       0.00      0.00      0.00         9\n",
            "        2109       0.00      0.00      0.00        10\n",
            "        2110       0.44      0.78      0.56         9\n",
            "        2111       0.00      0.00      0.00        10\n",
            "        2112       0.00      0.00      0.00         8\n",
            "        2113       0.55      0.67      0.60         9\n",
            "        2114       0.22      0.22      0.22         9\n",
            "        2115       0.00      0.00      0.00         9\n",
            "        2116       0.60      1.00      0.75         9\n",
            "        2117       0.00      0.00      0.00         9\n",
            "        2118       0.00      0.00      0.00         9\n",
            "        2119       0.54      0.78      0.64         9\n",
            "        2120       0.00      0.00      0.00         9\n",
            "        2121       0.50      0.11      0.18         9\n",
            "        2122       0.00      0.00      0.00         9\n",
            "        2123       0.00      0.00      0.00         9\n",
            "        2124       0.67      0.22      0.33         9\n",
            "        2125       0.00      0.00      0.00         9\n",
            "        2126       0.29      1.00      0.45         9\n",
            "        2127       0.00      0.00      0.00         9\n",
            "        2128       0.00      0.00      0.00         9\n",
            "        2129       1.00      0.67      0.80         9\n",
            "        2130       1.00      0.89      0.94         9\n",
            "        2131       0.00      0.00      0.00         9\n",
            "        2132       0.00      0.00      0.00         9\n",
            "        2133       0.00      0.00      0.00         9\n",
            "        2134       0.67      0.22      0.33         9\n",
            "        2135       0.00      0.00      0.00         9\n",
            "        2136       0.20      0.22      0.21         9\n",
            "        2137       0.00      0.00      0.00         9\n",
            "        2138       0.50      0.12      0.20         8\n",
            "        2139       0.60      0.33      0.43         9\n",
            "        2140       0.00      0.00      0.00         7\n",
            "        2141       0.00      0.00      0.00         9\n",
            "        2142       0.43      0.67      0.52         9\n",
            "        2143       0.00      0.00      0.00         9\n",
            "        2144       0.00      0.00      0.00         9\n",
            "        2145       0.00      0.00      0.00         9\n",
            "        2146       0.80      0.44      0.57         9\n",
            "        2147       0.00      0.00      0.00         9\n",
            "        2148       0.67      0.44      0.53         9\n",
            "        2149       0.60      0.33      0.43         9\n",
            "        2150       0.00      0.00      0.00         9\n",
            "        2151       1.00      0.56      0.71         9\n",
            "        2152       0.00      0.00      0.00         9\n",
            "        2153       0.39      0.78      0.52         9\n",
            "        2154       0.00      0.00      0.00         9\n",
            "        2155       0.80      0.44      0.57         9\n",
            "        2156       0.62      0.89      0.73         9\n",
            "        2157       0.50      0.11      0.18         9\n",
            "        2158       0.00      0.00      0.00         9\n",
            "        2159       0.80      1.00      0.89         8\n",
            "        2160       0.00      0.00      0.00         9\n",
            "        2161       0.50      0.11      0.18         9\n",
            "        2162       0.00      0.00      0.00         9\n",
            "        2163       0.00      0.00      0.00         9\n",
            "        2164       0.00      0.00      0.00         9\n",
            "        2165       0.00      0.00      0.00         9\n",
            "        2166       0.00      0.00      0.00         9\n",
            "        2167       0.14      0.11      0.12         9\n",
            "        2168       0.00      0.00      0.00         9\n",
            "        2169       0.19      0.56      0.29         9\n",
            "        2170       0.80      0.44      0.57         9\n",
            "        2171       1.00      0.11      0.20         9\n",
            "        2172       0.47      0.78      0.58         9\n",
            "        2173       1.00      1.00      1.00         9\n",
            "        2174       0.00      0.00      0.00         9\n",
            "        2175       0.40      0.80      0.53        10\n",
            "        2176       0.50      0.78      0.61         9\n",
            "        2177       0.00      0.00      0.00         9\n",
            "        2178       0.43      0.67      0.52         9\n",
            "        2179       0.35      1.00      0.51         9\n",
            "        2180       0.27      0.30      0.29        10\n",
            "        2181       0.06      0.11      0.08         9\n",
            "        2182       0.00      0.00      0.00         8\n",
            "        2183       0.00      0.00      0.00         9\n",
            "        2184       0.00      0.00      0.00         9\n",
            "        2185       0.00      0.00      0.00         9\n",
            "        2186       0.00      0.00      0.00         9\n",
            "        2187       0.00      0.00      0.00         9\n",
            "        2188       0.00      0.00      0.00         9\n",
            "        2189       0.00      0.00      0.00         6\n",
            "        2190       0.00      0.00      0.00         8\n",
            "        2191       0.33      0.11      0.17         9\n",
            "        2192       0.17      0.89      0.29         9\n",
            "        2193       0.00      0.00      0.00         8\n",
            "        2194       0.00      0.00      0.00         9\n",
            "        2195       0.62      0.56      0.59         9\n",
            "        2196       0.67      0.22      0.33         9\n",
            "        2197       0.43      0.67      0.52         9\n",
            "        2198       0.00      0.00      0.00         4\n",
            "        2199       0.50      0.44      0.47         9\n",
            "        2200       0.57      0.44      0.50         9\n",
            "        2201       0.57      0.89      0.70         9\n",
            "        2202       0.25      0.89      0.39         9\n",
            "        2203       1.00      0.11      0.20         9\n",
            "        2204       0.53      1.00      0.69         9\n",
            "        2205       0.33      0.40      0.36        10\n",
            "        2206       0.00      0.00      0.00         9\n",
            "        2207       0.60      0.33      0.43         9\n",
            "        2208       0.50      0.70      0.58        10\n",
            "        2209       1.00      0.11      0.20         9\n",
            "        2210       0.33      0.11      0.17         9\n",
            "        2211       0.00      0.00      0.00         9\n",
            "        2212       0.50      0.50      0.50        10\n",
            "        2213       0.00      0.00      0.00         9\n",
            "        2214       0.00      0.00      0.00         9\n",
            "        2215       1.00      0.12      0.22         8\n",
            "        2216       0.00      0.00      0.00         9\n",
            "        2217       0.14      0.11      0.12         9\n",
            "        2218       0.44      0.78      0.56         9\n",
            "        2219       0.64      0.78      0.70         9\n",
            "        2220       0.00      0.00      0.00         9\n",
            "        2221       0.15      0.67      0.24         9\n",
            "        2222       0.00      0.00      0.00        10\n",
            "        2223       0.00      0.00      0.00         9\n",
            "        2224       0.44      0.70      0.54        10\n",
            "        2225       0.00      0.00      0.00         9\n",
            "        2226       0.22      0.22      0.22         9\n",
            "        2227       0.00      0.00      0.00         9\n",
            "        2228       0.00      0.00      0.00         9\n",
            "        2229       0.32      0.89      0.47         9\n",
            "        2230       0.00      0.00      0.00         5\n",
            "        2231       0.27      0.44      0.33         9\n",
            "        2232       0.00      0.00      0.00         9\n",
            "        2233       0.73      0.89      0.80         9\n",
            "        2234       0.29      0.89      0.43         9\n",
            "        2235       0.54      0.78      0.64         9\n",
            "        2236       0.00      0.00      0.00         9\n",
            "        2237       0.00      0.00      0.00         9\n",
            "        2238       0.07      0.11      0.08         9\n",
            "        2239       0.44      0.44      0.44         9\n",
            "        2240       0.00      0.00      0.00         9\n",
            "        2241       0.00      0.00      0.00         9\n",
            "        2242       0.60      0.67      0.63         9\n",
            "        2243       1.00      0.12      0.22         8\n",
            "        2244       0.62      0.56      0.59         9\n",
            "        2245       0.38      0.56      0.45         9\n",
            "        2246       0.00      0.00      0.00         5\n",
            "        2247       0.00      0.00      0.00         9\n",
            "        2248       0.08      0.78      0.14         9\n",
            "        2249       0.50      0.78      0.61         9\n",
            "        2250       0.00      0.00      0.00         9\n",
            "        2251       0.67      0.67      0.67         9\n",
            "        2252       1.00      0.44      0.62         9\n",
            "        2253       0.00      0.00      0.00         6\n",
            "        2254       0.00      0.00      0.00         9\n",
            "        2255       0.50      0.70      0.58        10\n",
            "        2256       1.00      0.22      0.36         9\n",
            "        2257       0.67      0.44      0.53         9\n",
            "        2258       0.25      0.11      0.15         9\n",
            "        2259       0.07      0.22      0.11         9\n",
            "        2260       0.00      0.00      0.00         9\n",
            "        2261       0.00      0.00      0.00         9\n",
            "        2262       0.50      0.11      0.18         9\n",
            "        2263       0.00      0.00      0.00         9\n",
            "        2264       0.00      0.00      0.00        10\n",
            "        2265       0.00      0.00      0.00         9\n",
            "        2266       0.00      0.00      0.00        10\n",
            "        2267       0.50      0.89      0.64         9\n",
            "        2268       0.31      0.44      0.36         9\n",
            "        2269       0.00      0.00      0.00         9\n",
            "        2270       0.00      0.00      0.00         9\n",
            "        2271       0.30      0.78      0.44         9\n",
            "        2272       1.00      0.12      0.22         8\n",
            "        2273       0.00      0.00      0.00         9\n",
            "        2274       0.25      0.33      0.29         9\n",
            "        2275       0.07      0.22      0.11         9\n",
            "        2276       0.38      1.00      0.55         9\n",
            "        2277       0.88      0.78      0.82         9\n",
            "        2278       0.40      0.44      0.42         9\n",
            "        2279       0.00      0.00      0.00         9\n",
            "        2280       0.58      0.78      0.67         9\n",
            "        2281       0.73      0.89      0.80         9\n",
            "        2282       0.39      0.78      0.52         9\n",
            "        2283       0.00      0.00      0.00         5\n",
            "        2284       0.31      0.56      0.40         9\n",
            "        2285       0.00      0.00      0.00         9\n",
            "        2286       0.44      0.44      0.44         9\n",
            "        2287       0.00      0.00      0.00         5\n",
            "        2288       0.00      0.00      0.00         7\n",
            "        2289       0.00      0.00      0.00         9\n",
            "        2290       0.67      0.89      0.76         9\n",
            "        2291       0.55      0.67      0.60         9\n",
            "        2292       0.20      0.89      0.33         9\n",
            "        2293       0.29      0.56      0.38         9\n",
            "        2294       0.00      0.00      0.00         9\n",
            "        2295       0.00      0.00      0.00         7\n",
            "        2296       0.00      0.00      0.00         9\n",
            "        2297       0.00      0.00      0.00         9\n",
            "        2298       0.82      1.00      0.90         9\n",
            "        2299       0.33      0.78      0.47         9\n",
            "        2300       0.00      0.00      0.00         9\n",
            "        2301       0.50      0.11      0.18         9\n",
            "        2302       0.00      0.00      0.00         5\n",
            "        2303       0.21      0.56      0.30         9\n",
            "        2304       0.08      0.89      0.14         9\n",
            "        2305       1.00      0.11      0.20         9\n",
            "        2306       0.00      0.00      0.00         9\n",
            "        2307       0.00      0.00      0.00         9\n",
            "        2308       0.00      0.00      0.00         9\n",
            "        2309       0.00      0.00      0.00         8\n",
            "        2310       0.67      0.22      0.33         9\n",
            "        2311       0.00      0.00      0.00         9\n",
            "        2312       0.39      0.78      0.52         9\n",
            "        2313       0.00      0.00      0.00         9\n",
            "        2314       0.24      0.89      0.38         9\n",
            "        2315       0.22      0.44      0.30         9\n",
            "        2316       0.00      0.00      0.00         9\n",
            "        2317       0.00      0.00      0.00         9\n",
            "        2318       0.00      0.00      0.00         9\n",
            "        2319       0.00      0.00      0.00         9\n",
            "        2320       0.00      0.00      0.00         9\n",
            "        2321       0.00      0.00      0.00         9\n",
            "        2322       0.00      0.00      0.00         9\n",
            "        2323       0.00      0.00      0.00         5\n",
            "        2324       0.54      0.78      0.64         9\n",
            "        2325       0.33      0.11      0.17         9\n",
            "        2326       0.75      0.33      0.46         9\n",
            "        2327       0.67      0.22      0.33         9\n",
            "        2328       0.00      0.00      0.00         9\n",
            "        2329       0.00      0.00      0.00         8\n",
            "        2330       0.00      0.00      0.00         9\n",
            "        2331       0.44      0.78      0.56         9\n",
            "        2332       0.00      0.00      0.00         9\n",
            "        2333       0.20      0.11      0.14         9\n",
            "        2334       0.64      0.78      0.70         9\n",
            "        2335       0.00      0.00      0.00         9\n",
            "        2336       0.30      0.33      0.32         9\n",
            "        2337       0.00      0.00      0.00         9\n",
            "        2338       0.00      0.00      0.00         9\n",
            "        2339       0.00      0.00      0.00         5\n",
            "        2340       1.00      0.40      0.57         5\n",
            "        2341       0.00      0.00      0.00         9\n",
            "        2342       1.00      0.11      0.20         9\n",
            "        2343       0.00      0.00      0.00         9\n",
            "        2344       0.83      0.56      0.67         9\n",
            "        2345       0.00      0.00      0.00         9\n",
            "        2346       0.00      0.00      0.00         9\n",
            "        2347       0.00      0.00      0.00        10\n",
            "        2348       0.43      0.60      0.50        10\n",
            "        2349       0.47      0.78      0.58         9\n",
            "        2350       0.00      0.00      0.00         9\n",
            "        2351       0.00      0.00      0.00         9\n",
            "        2352       1.00      0.11      0.20         9\n",
            "        2353       0.00      0.00      0.00         9\n",
            "        2354       0.00      0.00      0.00         8\n",
            "        2355       0.00      0.00      0.00         8\n",
            "        2356       0.25      0.33      0.29         9\n",
            "        2357       1.00      0.70      0.82        10\n",
            "        2358       1.00      0.67      0.80         9\n",
            "        2359       0.89      0.89      0.89         9\n",
            "        2360       0.00      0.00      0.00         9\n",
            "        2361       0.00      0.00      0.00         9\n",
            "        2362       0.47      0.89      0.62         9\n",
            "        2363       0.20      0.78      0.32         9\n",
            "        2364       0.00      0.00      0.00         9\n",
            "        2365       0.00      0.00      0.00         9\n",
            "        2366       0.36      0.89      0.52         9\n",
            "        2367       0.62      0.89      0.73         9\n",
            "        2368       0.80      0.44      0.57         9\n",
            "        2369       0.00      0.00      0.00         6\n",
            "        2370       0.03      0.11      0.05         9\n",
            "        2371       0.54      0.78      0.64         9\n",
            "        2372       0.00      0.00      0.00         9\n",
            "        2373       0.00      0.00      0.00         9\n",
            "        2374       0.00      0.00      0.00         9\n",
            "        2375       0.22      0.89      0.35         9\n",
            "        2376       0.00      0.00      0.00         9\n",
            "        2377       0.16      0.78      0.26         9\n",
            "        2378       0.60      0.67      0.63         9\n",
            "        2379       0.00      0.00      0.00         9\n",
            "        2380       0.00      0.00      0.00         9\n",
            "        2381       1.00      0.11      0.20         9\n",
            "        2382       0.00      0.00      0.00         9\n",
            "        2383       0.12      0.11      0.12         9\n",
            "        2384       0.50      0.11      0.18         9\n",
            "        2385       0.00      0.00      0.00         9\n",
            "        2386       1.00      0.44      0.62         9\n",
            "        2387       1.00      1.00      1.00         9\n",
            "        2388       0.27      0.78      0.40         9\n",
            "        2389       0.83      0.56      0.67         9\n",
            "        2390       0.00      0.00      0.00         9\n",
            "        2391       0.17      0.70      0.27        10\n",
            "        2392       0.00      0.00      0.00         8\n",
            "        2393       1.00      0.11      0.20         9\n",
            "        2394       1.00      1.00      1.00         9\n",
            "        2395       0.73      0.89      0.80         9\n",
            "        2396       0.00      0.00      0.00         9\n",
            "        2397       1.00      0.83      0.91         6\n",
            "        2398       0.50      0.11      0.18         9\n",
            "        2399       0.00      0.00      0.00         9\n",
            "        2400       0.00      0.00      0.00         9\n",
            "        2401       0.00      0.00      0.00         9\n",
            "        2402       0.00      0.00      0.00         8\n",
            "        2403       0.00      0.00      0.00         9\n",
            "        2404       1.00      0.29      0.44         7\n",
            "        2405       0.88      0.78      0.82         9\n",
            "        2406       0.00      0.00      0.00         9\n",
            "        2407       0.27      0.44      0.33         9\n",
            "        2408       0.00      0.00      0.00         9\n",
            "        2409       0.21      0.67      0.32         9\n",
            "        2410       0.00      0.00      0.00         9\n",
            "        2411       0.64      0.78      0.70         9\n",
            "        2412       0.33      0.12      0.18         8\n",
            "        2413       0.18      0.56      0.27         9\n",
            "        2414       0.00      0.00      0.00         9\n",
            "        2415       0.00      0.00      0.00         4\n",
            "        2416       0.50      0.11      0.18         9\n",
            "        2417       0.00      0.00      0.00         9\n",
            "        2418       0.20      0.11      0.14         9\n",
            "        2419       0.00      0.00      0.00         9\n",
            "        2420       0.36      1.00      0.53         9\n",
            "        2421       0.50      0.56      0.53         9\n",
            "        2422       0.23      0.80      0.36        10\n",
            "        2423       0.00      0.00      0.00         5\n",
            "        2424       0.00      0.00      0.00         9\n",
            "        2425       0.38      0.38      0.38         8\n",
            "        2426       0.00      0.00      0.00         9\n",
            "        2427       1.00      0.44      0.62         9\n",
            "        2428       0.00      0.00      0.00         9\n",
            "        2429       0.00      0.00      0.00         9\n",
            "        2430       0.31      0.89      0.46         9\n",
            "        2431       0.20      0.11      0.14         9\n",
            "        2432       0.67      0.22      0.33         9\n",
            "        2433       0.00      0.00      0.00         9\n",
            "        2434       0.00      0.00      0.00         9\n",
            "        2435       0.00      0.00      0.00         9\n",
            "        2436       1.00      1.00      1.00         8\n",
            "        2437       1.00      0.11      0.20         9\n",
            "        2438       0.00      0.00      0.00         8\n",
            "        2439       0.00      0.00      0.00         9\n",
            "        2440       0.50      0.44      0.47         9\n",
            "        2441       0.00      0.00      0.00         9\n",
            "        2442       0.20      0.11      0.14         9\n",
            "        2443       0.00      0.00      0.00         9\n",
            "        2444       0.62      0.50      0.56        10\n",
            "        2445       1.00      0.40      0.57        10\n",
            "        2446       0.43      0.33      0.38         9\n",
            "        2447       0.27      1.00      0.43         9\n",
            "        2448       0.27      0.33      0.30         9\n",
            "        2449       0.00      0.00      0.00         9\n",
            "        2450       0.00      0.00      0.00         8\n",
            "        2451       0.00      0.00      0.00         9\n",
            "        2452       0.50      0.89      0.64         9\n",
            "        2453       0.00      0.00      0.00         9\n",
            "        2454       0.00      0.00      0.00         9\n",
            "        2455       0.40      0.67      0.50         9\n",
            "        2456       1.00      0.44      0.62         9\n",
            "        2457       0.00      0.00      0.00         9\n",
            "        2458       0.00      0.00      0.00         9\n",
            "        2459       0.00      0.00      0.00         9\n",
            "        2460       0.29      0.70      0.41        10\n",
            "        2461       0.00      0.00      0.00         9\n",
            "        2462       0.25      0.22      0.24         9\n",
            "        2463       0.00      0.00      0.00        10\n",
            "        2464       0.35      1.00      0.51         9\n",
            "        2465       0.00      0.00      0.00         9\n",
            "        2466       1.00      0.11      0.20         9\n",
            "        2467       0.13      0.78      0.23         9\n",
            "        2468       0.00      0.00      0.00         6\n",
            "        2469       0.00      0.00      0.00         8\n",
            "        2470       0.00      0.00      0.00         9\n",
            "        2471       0.00      0.00      0.00         9\n",
            "        2472       0.31      0.56      0.40         9\n",
            "        2473       0.91      1.00      0.95        10\n",
            "        2474       0.26      0.78      0.39         9\n",
            "        2475       0.78      0.78      0.78         9\n",
            "        2476       0.00      0.00      0.00         9\n",
            "        2477       0.16      0.89      0.27         9\n",
            "        2478       0.00      0.00      0.00         9\n",
            "        2479       0.00      0.00      0.00         9\n",
            "        2480       0.00      0.00      0.00         7\n",
            "        2481       0.33      0.11      0.17         9\n",
            "        2482       0.38      0.60      0.46        10\n",
            "        2483       0.00      0.00      0.00         9\n",
            "        2484       0.13      0.78      0.23         9\n",
            "        2485       0.13      0.89      0.23         9\n",
            "        2486       0.00      0.00      0.00         9\n",
            "        2487       0.00      0.00      0.00         9\n",
            "        2488       0.00      0.00      0.00         9\n",
            "        2489       0.04      0.89      0.07         9\n",
            "        2490       0.38      0.89      0.53         9\n",
            "        2491       0.00      0.00      0.00         9\n",
            "        2492       0.53      0.89      0.67         9\n",
            "        2493       0.80      0.89      0.84         9\n",
            "        2494       0.00      0.00      0.00         9\n",
            "        2495       0.23      1.00      0.38         9\n",
            "        2496       0.00      0.00      0.00         7\n",
            "        2497       0.67      0.44      0.53         9\n",
            "        2498       0.00      0.00      0.00         9\n",
            "        2499       1.00      0.33      0.50         9\n",
            "        2500       0.00      0.00      0.00         9\n",
            "        2501       1.00      0.22      0.36         9\n",
            "        2502       0.62      0.56      0.59         9\n",
            "        2503       0.00      0.00      0.00         8\n",
            "        2504       0.00      0.00      0.00         7\n",
            "        2505       0.00      0.00      0.00         6\n",
            "        2506       0.00      0.00      0.00         9\n",
            "        2507       0.00      0.00      0.00         8\n",
            "        2508       0.00      0.00      0.00         9\n",
            "        2509       0.00      0.00      0.00         9\n",
            "        2510       0.00      0.00      0.00         9\n",
            "        2511       0.00      0.00      0.00         9\n",
            "        2512       0.00      0.00      0.00         9\n",
            "        2513       0.57      0.44      0.50         9\n",
            "        2514       0.27      0.33      0.30         9\n",
            "        2515       0.00      0.00      0.00         8\n",
            "        2516       0.00      0.00      0.00         9\n",
            "        2517       0.00      0.00      0.00         9\n",
            "        2518       1.00      0.11      0.20         9\n",
            "        2519       0.00      0.00      0.00         9\n",
            "        2520       0.00      0.00      0.00         9\n",
            "        2521       0.00      0.00      0.00         9\n",
            "        2522       0.41      1.00      0.58         9\n",
            "        2523       0.24      0.89      0.38         9\n",
            "        2524       0.25      0.90      0.39        10\n",
            "        2525       0.80      0.50      0.62         8\n",
            "        2526       0.00      0.00      0.00         9\n",
            "        2527       0.00      0.00      0.00         9\n",
            "        2528       0.00      0.00      0.00         9\n",
            "        2529       0.62      0.89      0.73         9\n",
            "        2530       0.00      0.00      0.00         9\n",
            "        2531       0.56      0.56      0.56         9\n",
            "        2532       1.00      0.33      0.50         9\n",
            "        2533       0.00      0.00      0.00         9\n",
            "        2534       0.00      0.00      0.00        10\n",
            "        2535       0.00      0.00      0.00         8\n",
            "        2536       0.75      0.67      0.71         9\n",
            "        2537       0.00      0.00      0.00         9\n",
            "        2538       0.60      0.33      0.43         9\n",
            "        2539       0.00      0.00      0.00         9\n",
            "        2540       0.17      0.67      0.27         9\n",
            "        2541       0.42      0.56      0.48         9\n",
            "        2542       0.17      0.11      0.13         9\n",
            "        2543       1.00      0.11      0.20         9\n",
            "        2544       1.00      0.56      0.71         9\n",
            "        2545       0.50      0.22      0.31         9\n",
            "        2546       0.00      0.00      0.00         9\n",
            "        2547       0.00      0.00      0.00         9\n",
            "        2548       0.71      0.56      0.63         9\n",
            "        2549       0.00      0.00      0.00         9\n",
            "        2550       0.38      0.56      0.45         9\n",
            "        2551       0.44      0.78      0.56         9\n",
            "        2552       0.00      0.00      0.00         9\n",
            "        2553       0.11      0.11      0.11         9\n",
            "        2554       0.83      0.56      0.67         9\n",
            "        2555       0.00      0.00      0.00         9\n",
            "        2556       0.00      0.00      0.00         9\n",
            "        2557       0.00      0.00      0.00         9\n",
            "        2558       0.89      0.89      0.89         9\n",
            "        2559       0.00      0.00      0.00         4\n",
            "        2560       0.64      0.90      0.75        10\n",
            "        2561       0.00      0.00      0.00         9\n",
            "        2562       0.00      0.00      0.00         8\n",
            "        2563       0.25      0.11      0.15         9\n",
            "        2564       1.00      0.11      0.20         9\n",
            "        2565       0.00      0.00      0.00         9\n",
            "        2566       0.16      0.67      0.26         9\n",
            "        2567       0.00      0.00      0.00         9\n",
            "        2568       0.00      0.00      0.00         9\n",
            "        2569       0.39      1.00      0.56         9\n",
            "        2570       0.23      1.00      0.38         9\n",
            "        2571       0.00      0.00      0.00         9\n",
            "        2572       0.86      0.67      0.75         9\n",
            "        2573       0.20      0.33      0.25         9\n",
            "        2574       1.00      0.56      0.71         9\n",
            "        2575       0.82      1.00      0.90         9\n",
            "        2576       0.11      0.10      0.11        10\n",
            "        2577       0.43      0.67      0.52         9\n",
            "        2578       0.00      0.00      0.00         9\n",
            "        2579       0.00      0.00      0.00         9\n",
            "        2580       1.00      0.11      0.20         9\n",
            "        2581       0.00      0.00      0.00         9\n",
            "        2582       0.00      0.00      0.00         9\n",
            "        2583       0.00      0.00      0.00         9\n",
            "        2584       0.67      0.44      0.53         9\n",
            "        2585       0.00      0.00      0.00         9\n",
            "        2586       0.00      0.00      0.00         8\n",
            "        2587       0.00      0.00      0.00         9\n",
            "        2588       0.00      0.00      0.00         9\n",
            "        2589       0.40      1.00      0.57        10\n",
            "        2590       0.33      0.22      0.27         9\n",
            "        2591       0.29      0.78      0.42         9\n",
            "        2592       0.67      0.67      0.67         9\n",
            "        2593       0.00      0.00      0.00         9\n",
            "        2594       0.00      0.00      0.00         9\n",
            "        2595       0.00      0.00      0.00         9\n",
            "        2596       0.46      0.67      0.55         9\n",
            "        2597       0.00      0.00      0.00         9\n",
            "        2598       0.53      0.89      0.67         9\n",
            "        2599       0.00      0.00      0.00         9\n",
            "        2600       0.60      1.00      0.75         9\n",
            "        2601       0.00      0.00      0.00         9\n",
            "        2602       0.50      0.67      0.57         9\n",
            "        2603       0.00      0.00      0.00         9\n",
            "        2604       0.88      0.78      0.82         9\n",
            "        2605       0.00      0.00      0.00         9\n",
            "        2606       0.60      0.33      0.43         9\n",
            "        2607       1.00      0.22      0.36         9\n",
            "        2608       0.53      1.00      0.70         8\n",
            "        2609       0.00      0.00      0.00         9\n",
            "        2610       0.70      0.78      0.74         9\n",
            "        2611       1.00      0.22      0.36         9\n",
            "        2612       0.07      0.67      0.13         9\n",
            "        2613       0.00      0.00      0.00         9\n",
            "        2614       0.00      0.00      0.00         8\n",
            "        2615       0.00      0.00      0.00         9\n",
            "        2616       0.00      0.00      0.00         9\n",
            "        2617       0.00      0.00      0.00         8\n",
            "        2618       0.28      0.89      0.42         9\n",
            "        2619       0.00      0.00      0.00         9\n",
            "        2620       0.75      1.00      0.86         9\n",
            "        2621       0.00      0.00      0.00         9\n",
            "        2622       0.28      0.78      0.41         9\n",
            "        2623       0.56      1.00      0.72         9\n",
            "        2624       0.11      0.11      0.11         9\n",
            "        2625       0.82      1.00      0.90         9\n",
            "        2626       0.00      0.00      0.00         6\n",
            "        2627       0.00      0.00      0.00         9\n",
            "        2628       0.50      0.11      0.18         9\n",
            "        2629       0.00      0.00      0.00         8\n",
            "        2630       0.50      1.00      0.67         9\n",
            "        2631       0.38      0.89      0.53         9\n",
            "        2632       0.31      0.56      0.40         9\n",
            "        2633       0.00      0.00      0.00         9\n",
            "        2634       0.80      0.89      0.84         9\n",
            "        2635       0.26      0.89      0.40         9\n",
            "        2636       0.32      0.67      0.43         9\n",
            "        2637       0.00      0.00      0.00         9\n",
            "        2638       0.00      0.00      0.00         9\n",
            "        2639       0.00      0.00      0.00         9\n",
            "        2640       0.11      0.67      0.19         9\n",
            "        2641       0.67      0.44      0.53         9\n",
            "        2642       0.25      0.33      0.29         9\n",
            "        2643       0.53      1.00      0.70         8\n",
            "        2644       1.00      1.00      1.00         9\n",
            "        2645       1.00      0.11      0.20         9\n",
            "        2646       0.62      0.89      0.73         9\n",
            "        2647       0.30      0.70      0.42        10\n",
            "        2648       0.00      0.00      0.00         9\n",
            "        2649       0.00      0.00      0.00         9\n",
            "        2650       0.00      0.00      0.00         6\n",
            "        2651       0.50      0.56      0.53         9\n",
            "        2652       0.00      0.00      0.00         9\n",
            "        2653       0.00      0.00      0.00        10\n",
            "        2654       0.32      0.67      0.43         9\n",
            "        2655       1.00      0.11      0.20         9\n",
            "        2656       0.00      0.00      0.00         6\n",
            "        2657       0.50      0.33      0.40         9\n",
            "        2658       0.00      0.00      0.00         7\n",
            "        2659       0.82      1.00      0.90         9\n",
            "        2660       0.00      0.00      0.00         9\n",
            "        2661       0.64      0.78      0.70         9\n",
            "        2662       0.67      0.22      0.33         9\n",
            "        2663       0.03      0.11      0.05         9\n",
            "        2664       1.00      0.33      0.50         9\n",
            "        2665       0.75      0.33      0.46         9\n",
            "        2666       0.00      0.00      0.00         9\n",
            "        2667       0.00      0.00      0.00         9\n",
            "        2668       0.00      0.00      0.00         9\n",
            "        2669       0.00      0.00      0.00         9\n",
            "        2670       0.35      0.67      0.46         9\n",
            "        2671       0.00      0.00      0.00         9\n",
            "        2672       0.00      0.00      0.00         8\n",
            "        2673       0.00      0.00      0.00         9\n",
            "        2674       0.00      0.00      0.00         9\n",
            "        2675       0.75      0.33      0.46         9\n",
            "        2676       0.00      0.00      0.00         9\n",
            "        2677       0.00      0.00      0.00        10\n",
            "        2678       0.90      1.00      0.95         9\n",
            "        2679       0.50      0.67      0.57         9\n",
            "        2680       0.00      0.00      0.00         9\n",
            "        2681       0.26      0.67      0.38         9\n",
            "        2682       0.00      0.00      0.00         9\n",
            "        2683       0.50      0.78      0.61         9\n",
            "        2684       0.00      0.00      0.00         9\n",
            "        2685       0.23      1.00      0.37         9\n",
            "        2686       0.00      0.00      0.00         9\n",
            "        2687       0.33      1.00      0.50         9\n",
            "        2688       0.27      0.33      0.30         9\n",
            "        2689       0.83      0.56      0.67         9\n",
            "        2690       0.57      0.44      0.50         9\n",
            "        2691       0.00      0.00      0.00         9\n",
            "        2692       1.00      0.78      0.88         9\n",
            "        2693       0.11      0.56      0.19         9\n",
            "        2694       0.67      0.89      0.76         9\n",
            "        2695       0.00      0.00      0.00         9\n",
            "        2696       0.19      0.44      0.27         9\n",
            "        2697       0.00      0.00      0.00         9\n",
            "        2698       0.00      0.00      0.00         9\n",
            "        2699       0.33      0.11      0.17         9\n",
            "        2700       0.26      0.67      0.38         9\n",
            "        2701       0.00      0.00      0.00         9\n",
            "        2702       0.42      0.89      0.57         9\n",
            "        2703       0.00      0.00      0.00         9\n",
            "        2704       0.33      0.11      0.17         9\n",
            "        2705       0.00      0.00      0.00         8\n",
            "        2706       0.00      0.00      0.00         9\n",
            "        2707       0.40      0.25      0.31         8\n",
            "        2708       0.17      0.11      0.13         9\n",
            "        2709       0.00      0.00      0.00         9\n",
            "        2710       0.12      0.11      0.12         9\n",
            "        2711       0.86      0.67      0.75         9\n",
            "        2712       0.00      0.00      0.00         9\n",
            "        2713       0.17      0.78      0.28         9\n",
            "        2714       0.50      0.33      0.40         9\n",
            "        2715       0.32      0.78      0.45         9\n",
            "        2716       0.50      1.00      0.67         9\n",
            "        2717       0.00      0.00      0.00         9\n",
            "        2718       0.42      0.89      0.57         9\n",
            "        2719       0.00      0.00      0.00         9\n",
            "        2720       0.25      0.22      0.24         9\n",
            "        2721       0.12      0.30      0.17        10\n",
            "        2722       1.00      0.11      0.20         9\n",
            "        2723       1.00      0.50      0.67        10\n",
            "        2724       1.00      1.00      1.00         9\n",
            "        2725       0.78      0.78      0.78         9\n",
            "        2726       0.00      0.00      0.00         7\n",
            "        2727       1.00      0.78      0.88         9\n",
            "        2728       0.10      0.56      0.17         9\n",
            "        2729       0.19      0.56      0.28         9\n",
            "        2730       0.21      0.38      0.27         8\n",
            "        2731       1.00      0.44      0.62         9\n",
            "        2732       0.00      0.00      0.00         9\n",
            "        2733       0.10      0.11      0.11         9\n",
            "        2734       0.00      0.00      0.00         9\n",
            "        2735       0.21      0.89      0.33         9\n",
            "        2736       0.00      0.00      0.00         9\n",
            "        2737       0.00      0.00      0.00         9\n",
            "        2738       0.00      0.00      0.00         9\n",
            "        2739       0.56      0.90      0.69        10\n",
            "        2740       0.37      0.78      0.50         9\n",
            "        2741       0.27      0.33      0.30         9\n",
            "        2742       1.00      0.11      0.20         9\n",
            "        2743       0.00      0.00      0.00         9\n",
            "        2744       0.00      0.00      0.00         9\n",
            "        2745       0.50      0.22      0.31         9\n",
            "        2746       0.00      0.00      0.00         9\n",
            "        2747       0.00      0.00      0.00         9\n",
            "        2748       0.00      0.00      0.00         9\n",
            "        2749       0.16      0.67      0.26         9\n",
            "        2750       0.50      0.33      0.40         9\n",
            "        2751       0.00      0.00      0.00         9\n",
            "        2752       0.27      0.44      0.33         9\n",
            "        2753       0.00      0.00      0.00         9\n",
            "        2754       0.00      0.00      0.00         9\n",
            "        2755       0.83      0.56      0.67         9\n",
            "        2756       0.24      0.89      0.37         9\n",
            "        2757       0.00      0.00      0.00         9\n",
            "        2758       0.90      1.00      0.95         9\n",
            "        2759       0.67      0.67      0.67         9\n",
            "        2760       0.29      0.22      0.25         9\n",
            "        2761       1.00      0.22      0.36         9\n",
            "        2762       0.00      0.00      0.00         9\n",
            "        2763       0.00      0.00      0.00         9\n",
            "        2764       0.00      0.00      0.00         9\n",
            "        2765       0.00      0.00      0.00         9\n",
            "        2766       0.00      0.00      0.00         9\n",
            "        2767       0.00      0.00      0.00         8\n",
            "        2768       0.00      0.00      0.00         8\n",
            "        2769       0.80      0.89      0.84         9\n",
            "        2770       0.60      0.33      0.43         9\n",
            "        2771       0.56      0.56      0.56         9\n",
            "        2772       0.25      0.11      0.15         9\n",
            "        2773       0.00      0.00      0.00         9\n",
            "        2774       0.00      0.00      0.00         4\n",
            "        2775       0.00      0.00      0.00         9\n",
            "        2776       0.00      0.00      0.00         9\n",
            "        2777       0.00      0.00      0.00         9\n",
            "        2778       0.00      0.00      0.00         9\n",
            "        2779       0.25      0.67      0.36         9\n",
            "        2780       1.00      0.44      0.62         9\n",
            "        2781       0.23      0.56      0.32         9\n",
            "\n",
            "    accuracy                           0.31     24549\n",
            "   macro avg       0.26      0.31      0.24     24549\n",
            "weighted avg       0.26      0.31      0.24     24549\n",
            "\n"
          ]
        }
      ],
      "source": [
        "print(classification_report(data_val['bottom_trainingID'],val_predictions.predictions[0].argmax(axis=1)))"
      ]
    },
    {
      "cell_type": "markdown",
      "source": [
        "Maybe if with more epochs I could get better result but there is always the chance of model overfitting but the reason I didnt run it for more epochs is because of the time it is taking and limited resources I have."
      ],
      "metadata": {
        "id": "9vZrLilL9qNt"
      }
    },
    {
      "cell_type": "markdown",
      "source": [
        "I am getting better results with Random Forest, So I will not be using this model for my test predictions\n"
      ],
      "metadata": {
        "id": "qZxYzpiJHPDe"
      }
    },
    {
      "cell_type": "markdown",
      "metadata": {
        "id": "pDzxCnW1dwN8"
      },
      "source": [
        "# Bottom Category With Random Forest"
      ]
    },
    {
      "cell_type": "markdown",
      "source": [],
      "metadata": {
        "id": "px9C-hQqBFJL"
      }
    },
    {
      "cell_type": "code",
      "source": [
        "# libraries\n",
        "import io\n",
        "import os\n",
        "from datetime import datetime\n",
        "import pandas as pd\n",
        "import numpy as np\n",
        "import tensorflow as tf\n",
        "import matplotlib.pyplot as plt\n",
        "import matplotlib.image as mpimg\n",
        "from sklearn import metrics\n",
        "\n",
        "# Matplotlib configuration\n",
        "font = { 'family': 'DejaVu Sans', 'weight': 'bold', 'size': 16 }\n",
        "plt.rc('font', **font)"
      ],
      "metadata": {
        "id": "mERsBVn3DDQj"
      },
      "execution_count": null,
      "outputs": []
    },
    {
      "cell_type": "code",
      "source": [
        "# set random seed\n",
        "np.random.seed(seed=42)"
      ],
      "metadata": {
        "id": "nEFYBKOaDG_1"
      },
      "execution_count": null,
      "outputs": []
    },
    {
      "cell_type": "markdown",
      "source": [
        "##Preprocessing"
      ],
      "metadata": {
        "id": "0nD7RFd6ue5c"
      }
    },
    {
      "cell_type": "markdown",
      "source": [
        "This cleaning and preprocessing is from https://github.com/rkj43/Jigsaw_Toxic_Comment_Classification/blob/main/Jigsaw_Classification_CA683.ipynb.\n",
        "(That's my Github. I have used the same preprocessing here. It is a modified version of the preprocessing in this notebook https://www.kaggle.com/code/floevan/dl-and-ml-for-nlp/notebook#SIMPLE-RNN)"
      ],
      "metadata": {
        "id": "1q2fBQ2YHoyY"
      }
    },
    {
      "cell_type": "code",
      "source": [
        "from nltk.corpus import stopwords\n",
        "import nltk\n",
        "import re\n",
        "import string, collections\n",
        "from nltk.stem.snowball import EnglishStemmer\n",
        "from nltk.stem import WordNetLemmatizer\n",
        "nltk.download(\"stopwords\")\n",
        "stop_words = set(stopwords.words('english'))\n",
        "tokenizer = nltk.tokenize.RegexpTokenizer(r'\\w+')\n",
        "stemmer = EnglishStemmer()\n",
        "lemmatizer = WordNetLemmatizer()\n",
        "\n",
        "def clean_text(text):\n",
        "    text = text.lower() #make text lowercase and fill na\n",
        "    text = re.sub('\\[.*?\\]', '', text)\n",
        "    text = re.sub('\\\\n', '',str(text))\n",
        "    text = re.sub(\"\\[\\[User.*\",'',str(text))\n",
        "    text = re.sub(\"\\d{1,3}\\.\\d{1,3}\\.\\d{1,3}\\.\\d{1,3}\",'',str(text))\n",
        "    text = re.sub('http[s]?://(?:[a-zA-Z]|[0-9]|[$-_@.&+]|[!*\\(\\),]|(?:%[0-9a-fA-F][0-9a-fA-F]))+', '', text) #remove hyperlinks\n",
        "    text = re.sub(r'\\:(.*?)\\:', '', text) #remove emoticones\n",
        "    text = re.sub(r'[\\w\\.-]+@[\\w\\.-]+', '', str(text)) #remove email\n",
        "    text = re.sub(r'(?<=@)\\w+', '', text) #remove @\n",
        "    text = re.sub(r'[0-9]+', '', text) #remove numbers\n",
        "    text = re.sub(\"[^A-Za-z0-9 ]\", '', text) #remove non alphanumeric like ['@', '#', '.', '(', ')']\n",
        "    text = re.sub(r'[!\"\\$%&\\'()*+,\\-.\\/:;=#@?\\[\\\\\\]^_`{|}~]*', '', text) #remove punctuations from sentences\n",
        "    text = re.sub('<.*?>+', '', str(text))\n",
        "    text = re.sub('[%s]' % re.escape(string.punctuation), '', str(text))\n",
        "    text = re.sub('\\w*\\d\\w*', '', str(text))\n",
        "    text = tokenizer.tokenize(text)\n",
        "    text = [word for word in text if not word in stop_words]\n",
        "    #text = [lemmatizer.lemmatize(word) for word in text]\n",
        "    text = [stemmer.stem(word) for word in text]\n",
        "    final_text = ' '.join( [w for w in text if len(w)>1] ) #remove word with one letter\n",
        "    return final_text"
      ],
      "metadata": {
        "colab": {
          "base_uri": "https://localhost:8080/"
        },
        "id": "XNMp4F8GChF3",
        "outputId": "0ecfa2c2-c16a-41cc-8a2d-9e5f9d681986"
      },
      "execution_count": null,
      "outputs": [
        {
          "output_type": "stream",
          "name": "stderr",
          "text": [
            "[nltk_data] Downloading package stopwords to /root/nltk_data...\n",
            "[nltk_data]   Unzipping corpora/stopwords.zip.\n"
          ]
        }
      ]
    },
    {
      "cell_type": "code",
      "source": [
        "data_train['description']=data_train['description'].fillna('')"
      ],
      "metadata": {
        "id": "DVbMHfLiCXE6"
      },
      "execution_count": null,
      "outputs": []
    },
    {
      "cell_type": "code",
      "source": [
        "data_test['description']=data_test['description'].fillna('')"
      ],
      "metadata": {
        "id": "6hLdvjfkCYQN"
      },
      "execution_count": null,
      "outputs": []
    },
    {
      "cell_type": "code",
      "source": [
        "from sklearn.model_selection import train_test_split\n",
        "\n",
        "df_training, df_validation = train_test_split(\n",
        "    data_train,\n",
        "    test_size=0.2,\n",
        "    stratify=data_train['bottom_category_text'],\n",
        "    random_state=42)"
      ],
      "metadata": {
        "id": "Zij1uZHfCakr"
      },
      "execution_count": null,
      "outputs": []
    },
    {
      "cell_type": "code",
      "source": [
        "df_training['description']=df_training['description'].fillna('')\n",
        "df_validation['description']=df_validation['description'].fillna('')\n"
      ],
      "metadata": {
        "id": "JW-PncMECb7m"
      },
      "execution_count": null,
      "outputs": []
    },
    {
      "cell_type": "code",
      "source": [
        "df_training['title']=df_training['title'].fillna('')\n",
        "df_validation['title']=df_validation['title'].fillna('')\n"
      ],
      "metadata": {
        "id": "iKU4xJyFCdJ7"
      },
      "execution_count": null,
      "outputs": []
    },
    {
      "cell_type": "code",
      "source": [
        "df_training['description'] = df_training['description'].apply(lambda x : clean_text(x))\n",
        "df_training['title'] = df_training['title'].apply(lambda x : clean_text(x))"
      ],
      "metadata": {
        "id": "FtCYHKzyCeZG"
      },
      "execution_count": null,
      "outputs": []
    },
    {
      "cell_type": "code",
      "source": [
        "df_validation['description'] = df_validation['description'].apply(lambda x : clean_text(x))\n",
        "df_validation['title'] = df_validation['title'].apply(lambda x : clean_text(x))"
      ],
      "metadata": {
        "id": "hFEgD3JFJ8IK"
      },
      "execution_count": null,
      "outputs": []
    },
    {
      "cell_type": "code",
      "source": [
        "f\"Number of products for training: {len(df_training):,}\""
      ],
      "metadata": {
        "colab": {
          "base_uri": "https://localhost:8080/",
          "height": 35
        },
        "id": "EulEP4hRCkQe",
        "outputId": "40341003-2321-4e66-c06c-1f5f86e4b568"
      },
      "execution_count": null,
      "outputs": [
        {
          "output_type": "execute_result",
          "data": {
            "text/plain": [
              "'Number of products for training: 196,388'"
            ],
            "application/vnd.google.colaboratory.intrinsic+json": {
              "type": "string"
            }
          },
          "metadata": {},
          "execution_count": 13
        }
      ]
    },
    {
      "cell_type": "code",
      "source": [
        "f\"Number of products for validation: {len(df_validation):,}\""
      ],
      "metadata": {
        "colab": {
          "base_uri": "https://localhost:8080/",
          "height": 35
        },
        "id": "sfCm4pd0Ck95",
        "outputId": "0967196b-1ade-472f-d975-53646b7c6630"
      },
      "execution_count": null,
      "outputs": [
        {
          "output_type": "execute_result",
          "data": {
            "text/plain": [
              "'Number of products for validation: 49,097'"
            ],
            "application/vnd.google.colaboratory.intrinsic+json": {
              "type": "string"
            }
          },
          "metadata": {},
          "execution_count": 14
        }
      ]
    },
    {
      "cell_type": "markdown",
      "source": [
        "## Training\n",
        "\n",
        "- processes the text using `CountVectorizer`, that builds a dictionary of features and transforms documents to feature vectors\n",
        "- extracts term frequencies and inverse document frequencies using `TfidfTransformer`, (see [TF-IDF](https://en.wikipedia.org/wiki/Tf%E2%80%93idf))\n",
        "- trains a Random forest classifer, which gives us a nice baseline\n",
        "\n",
        "This is similar to the one david provided but I have made some changes to run things parallely and also I am using random forest instead of native bayes.\n",
        "Links I have referred for the codes :\n",
        "- https://scikit-learn.org/stable/modules/tree.html\n",
        "- https://scikit-learn.org/stable/modules/generated/sklearn.ensemble.RandomForestClassifier.html\n",
        "- https://stackoverflow.com/questions/60080806/how-to-run-2-pipelines-in-parallel-in-scikit-learn-or-neuraxle\n",
        "- https://www.kaggle.com/questions-and-answers/160593"
      ],
      "metadata": {
        "id": "9xE3JoXvCpc7"
      }
    },
    {
      "cell_type": "code",
      "source": [
        "from sklearn.ensemble import RandomForestClassifier\n",
        "from sklearn.datasets import make_classification\n"
      ],
      "metadata": {
        "id": "O4y_QWSTCquE"
      },
      "execution_count": null,
      "outputs": []
    },
    {
      "cell_type": "code",
      "source": [
        "from sklearn.feature_extraction.text import CountVectorizer\n",
        "from sklearn.feature_extraction.text import TfidfTransformer\n",
        "from sklearn.naive_bayes import MultinomialNB\n",
        "from sklearn.pipeline import Pipeline\n",
        "\n",
        "text_clf = Pipeline([\n",
        "    ('vect', CountVectorizer()),\n",
        "    ('tfidf', TfidfTransformer()),\n",
        "    ('clf', RandomForestClassifier(verbose=100,n_jobs=-1,max_depth=200)), #n_jobs = -1 means use all cores, verbose is for logging , max_Depth to use lower depths so that we dont overfit the model\n",
        "])"
      ],
      "metadata": {
        "id": "C0ZzASXfCsFT"
      },
      "execution_count": null,
      "outputs": []
    },
    {
      "cell_type": "code",
      "source": [
        "train_text = df_training['description'] + df_training['title'] + df_training['tags']"
      ],
      "metadata": {
        "id": "9dOcFkiCD7oH"
      },
      "execution_count": null,
      "outputs": []
    },
    {
      "cell_type": "code",
      "source": [
        "train_text = train_text.fillna('').values"
      ],
      "metadata": {
        "id": "oYyKl7bhECuo"
      },
      "execution_count": null,
      "outputs": []
    },
    {
      "cell_type": "code",
      "source": [
        "train_labels = df_training['bottom_category_text'].values"
      ],
      "metadata": {
        "id": "UeZWbx7QEDxn"
      },
      "execution_count": null,
      "outputs": []
    },
    {
      "cell_type": "code",
      "source": [
        "X = train_text\n",
        "Y = train_labels\n",
        "\n",
        "text_clf = text_clf.fit(X, Y)"
      ],
      "metadata": {
        "colab": {
          "base_uri": "https://localhost:8080/"
        },
        "id": "_eBax4usEFAf",
        "outputId": "374687b8-64f7-474b-8c13-f78a584ea2d9"
      },
      "execution_count": null,
      "outputs": [
        {
          "output_type": "stream",
          "name": "stdout",
          "text": [
            "[Parallel(n_jobs=-1)]: Using backend ThreadingBackend with 12 concurrent workers.\n",
            "building tree 1 of 100\n",
            "building tree 2 of 100\n",
            "building tree 3 of 100\n",
            "building tree 4 of 100building tree 5 of 100\n",
            "building tree 6 of 100\n",
            "building tree 7 of 100\n",
            "building tree 8 of 100\n",
            "building tree 9 of 100\n",
            "\n",
            "building tree 10 of 100\n",
            "building tree 11 of 100building tree 12 of 100\n",
            "\n",
            "building tree 13 of 100[Parallel(n_jobs=-1)]: Done   1 tasks      | elapsed:   30.1s\n",
            "\n",
            "building tree 14 of 100[Parallel(n_jobs=-1)]: Done   2 tasks      | elapsed:   32.8s\n",
            "\n",
            "building tree 15 of 100[Parallel(n_jobs=-1)]: Done   3 tasks      | elapsed:   32.9s\n",
            "\n",
            "building tree 16 of 100[Parallel(n_jobs=-1)]: Done   4 tasks      | elapsed:   33.6s\n",
            "\n",
            "building tree 17 of 100[Parallel(n_jobs=-1)]: Done   5 tasks      | elapsed:   33.8s\n",
            "\n",
            "building tree 18 of 100[Parallel(n_jobs=-1)]: Done   6 tasks      | elapsed:   34.6s\n",
            "\n",
            "building tree 19 of 100[Parallel(n_jobs=-1)]: Done   7 tasks      | elapsed:   34.7s\n",
            "\n",
            "building tree 20 of 100[Parallel(n_jobs=-1)]: Done   8 tasks      | elapsed:   35.2s\n",
            "\n",
            "building tree 21 of 100[Parallel(n_jobs=-1)]: Done   9 tasks      | elapsed:   35.2s\n",
            "\n",
            "building tree 22 of 100[Parallel(n_jobs=-1)]: Done  10 tasks      | elapsed:   36.5s\n",
            "\n",
            "building tree 23 of 100[Parallel(n_jobs=-1)]: Done  11 tasks      | elapsed:   37.4s\n",
            "\n",
            "building tree 24 of 100[Parallel(n_jobs=-1)]: Done  12 tasks      | elapsed:   38.7s\n",
            "\n",
            "building tree 25 of 100[Parallel(n_jobs=-1)]: Done  13 tasks      | elapsed:  1.0min\n",
            "\n",
            "building tree 26 of 100[Parallel(n_jobs=-1)]: Done  14 tasks      | elapsed:  1.0min\n",
            "\n",
            "building tree 27 of 100[Parallel(n_jobs=-1)]: Done  15 tasks      | elapsed:  1.1min\n",
            "\n",
            "building tree 28 of 100[Parallel(n_jobs=-1)]: Done  16 tasks      | elapsed:  1.1min\n",
            "\n",
            "building tree 29 of 100[Parallel(n_jobs=-1)]: Done  17 tasks      | elapsed:  1.1min\n",
            "\n",
            "building tree 30 of 100[Parallel(n_jobs=-1)]: Done  18 tasks      | elapsed:  1.1min\n",
            "\n",
            "building tree 31 of 100[Parallel(n_jobs=-1)]: Done  19 tasks      | elapsed:  1.1min\n",
            "\n",
            "building tree 32 of 100[Parallel(n_jobs=-1)]: Done  20 tasks      | elapsed:  1.1min\n",
            "\n",
            "building tree 33 of 100[Parallel(n_jobs=-1)]: Done  21 tasks      | elapsed:  1.1min\n",
            "\n",
            "building tree 34 of 100[Parallel(n_jobs=-1)]: Done  22 tasks      | elapsed:  1.2min\n",
            "\n",
            "building tree 35 of 100[Parallel(n_jobs=-1)]: Done  23 tasks      | elapsed:  1.2min\n",
            "\n",
            "building tree 36 of 100[Parallel(n_jobs=-1)]: Done  24 tasks      | elapsed:  1.2min\n",
            "\n",
            "building tree 37 of 100[Parallel(n_jobs=-1)]: Done  25 tasks      | elapsed:  1.6min\n",
            "\n",
            "building tree 38 of 100[Parallel(n_jobs=-1)]: Done  26 tasks      | elapsed:  1.6min\n",
            "\n",
            "building tree 39 of 100[Parallel(n_jobs=-1)]: Done  27 tasks      | elapsed:  1.6min\n",
            "\n",
            "building tree 40 of 100[Parallel(n_jobs=-1)]: Done  28 tasks      | elapsed:  1.6min\n",
            "\n",
            "building tree 41 of 100[Parallel(n_jobs=-1)]: Done  29 tasks      | elapsed:  1.7min\n",
            "\n",
            "building tree 42 of 100[Parallel(n_jobs=-1)]: Done  30 tasks      | elapsed:  1.7min\n",
            "\n",
            "building tree 43 of 100[Parallel(n_jobs=-1)]: Done  31 tasks      | elapsed:  1.7min\n",
            "\n",
            "building tree 44 of 100[Parallel(n_jobs=-1)]: Done  32 tasks      | elapsed:  1.7min\n",
            "\n",
            "building tree 45 of 100[Parallel(n_jobs=-1)]: Done  33 tasks      | elapsed:  1.7min\n",
            "\n",
            "building tree 46 of 100[Parallel(n_jobs=-1)]: Done  34 tasks      | elapsed:  1.7min\n",
            "\n",
            "building tree 47 of 100[Parallel(n_jobs=-1)]: Done  35 tasks      | elapsed:  1.7min\n",
            "\n",
            "building tree 48 of 100[Parallel(n_jobs=-1)]: Done  36 tasks      | elapsed:  1.8min\n",
            "\n",
            "building tree 49 of 100[Parallel(n_jobs=-1)]: Done  37 tasks      | elapsed:  2.1min\n",
            "\n",
            "building tree 50 of 100[Parallel(n_jobs=-1)]: Done  38 tasks      | elapsed:  2.1min\n",
            "\n",
            "building tree 51 of 100[Parallel(n_jobs=-1)]: Done  39 tasks      | elapsed:  2.2min\n",
            "\n",
            "building tree 52 of 100[Parallel(n_jobs=-1)]: Done  40 tasks      | elapsed:  2.2min\n",
            "\n",
            "building tree 53 of 100[Parallel(n_jobs=-1)]: Done  41 tasks      | elapsed:  2.2min\n",
            "\n",
            "building tree 54 of 100[Parallel(n_jobs=-1)]: Done  42 tasks      | elapsed:  2.2min\n",
            "\n",
            "building tree 55 of 100[Parallel(n_jobs=-1)]: Done  43 tasks      | elapsed:  2.2min\n",
            "\n",
            "building tree 56 of 100[Parallel(n_jobs=-1)]: Done  44 tasks      | elapsed:  2.2min\n",
            "\n",
            "building tree 57 of 100[Parallel(n_jobs=-1)]: Done  45 tasks      | elapsed:  2.2min\n",
            "\n",
            "building tree 58 of 100[Parallel(n_jobs=-1)]: Done  46 tasks      | elapsed:  2.2min\n",
            "\n",
            "building tree 59 of 100[Parallel(n_jobs=-1)]: Done  47 tasks      | elapsed:  2.2min\n",
            "\n",
            "building tree 60 of 100[Parallel(n_jobs=-1)]: Done  48 tasks      | elapsed:  2.3min\n",
            "\n",
            "building tree 61 of 100[Parallel(n_jobs=-1)]: Done  49 tasks      | elapsed:  2.7min\n",
            "\n",
            "building tree 62 of 100[Parallel(n_jobs=-1)]: Done  50 tasks      | elapsed:  2.7min\n",
            "\n",
            "building tree 63 of 100[Parallel(n_jobs=-1)]: Done  51 tasks      | elapsed:  2.7min\n",
            "\n",
            "building tree 64 of 100[Parallel(n_jobs=-1)]: Done  52 tasks      | elapsed:  2.7min\n",
            "\n",
            "building tree 65 of 100[Parallel(n_jobs=-1)]: Done  53 tasks      | elapsed:  2.7min\n",
            "\n",
            "building tree 66 of 100[Parallel(n_jobs=-1)]: Done  54 tasks      | elapsed:  2.7min\n",
            "\n",
            "building tree 67 of 100[Parallel(n_jobs=-1)]: Done  55 tasks      | elapsed:  2.7min\n",
            "\n",
            "building tree 68 of 100[Parallel(n_jobs=-1)]: Done  56 tasks      | elapsed:  2.7min\n",
            "\n",
            "building tree 69 of 100[Parallel(n_jobs=-1)]: Done  57 tasks      | elapsed:  2.8min\n",
            "\n",
            "building tree 70 of 100[Parallel(n_jobs=-1)]: Done  58 tasks      | elapsed:  2.8min\n",
            "\n",
            "building tree 71 of 100[Parallel(n_jobs=-1)]: Done  59 tasks      | elapsed:  2.8min\n",
            "\n",
            "building tree 72 of 100[Parallel(n_jobs=-1)]: Done  60 tasks      | elapsed:  2.8min\n",
            "\n",
            "building tree 73 of 100[Parallel(n_jobs=-1)]: Done  61 tasks      | elapsed:  3.2min\n",
            "\n",
            "building tree 74 of 100[Parallel(n_jobs=-1)]: Done  62 tasks      | elapsed:  3.2min\n",
            "\n",
            "building tree 75 of 100[Parallel(n_jobs=-1)]: Done  63 tasks      | elapsed:  3.2min\n",
            "\n",
            "building tree 76 of 100[Parallel(n_jobs=-1)]: Done  64 tasks      | elapsed:  3.2min\n",
            "\n",
            "building tree 77 of 100[Parallel(n_jobs=-1)]: Done  65 tasks      | elapsed:  3.2min\n",
            "\n",
            "building tree 78 of 100[Parallel(n_jobs=-1)]: Done  66 tasks      | elapsed:  3.3min\n",
            "\n",
            "building tree 79 of 100[Parallel(n_jobs=-1)]: Done  67 tasks      | elapsed:  3.3min\n",
            "\n",
            "building tree 80 of 100[Parallel(n_jobs=-1)]: Done  68 tasks      | elapsed:  3.3min\n",
            "\n",
            "building tree 81 of 100[Parallel(n_jobs=-1)]: Done  69 tasks      | elapsed:  3.3min\n",
            "\n",
            "building tree 82 of 100[Parallel(n_jobs=-1)]: Done  70 tasks      | elapsed:  3.3min\n",
            "\n",
            "building tree 83 of 100[Parallel(n_jobs=-1)]: Done  71 tasks      | elapsed:  3.3min\n",
            "\n",
            "building tree 84 of 100[Parallel(n_jobs=-1)]: Done  72 tasks      | elapsed:  3.4min\n",
            "\n",
            "building tree 85 of 100[Parallel(n_jobs=-1)]: Done  73 tasks      | elapsed:  3.7min\n",
            "\n",
            "building tree 86 of 100[Parallel(n_jobs=-1)]: Done  74 tasks      | elapsed:  3.7min\n",
            "\n",
            "building tree 87 of 100[Parallel(n_jobs=-1)]: Done  75 tasks      | elapsed:  3.8min\n",
            "\n",
            "building tree 88 of 100[Parallel(n_jobs=-1)]: Done  76 tasks      | elapsed:  3.8min\n",
            "\n",
            "building tree 89 of 100[Parallel(n_jobs=-1)]: Done  77 tasks      | elapsed:  3.8min\n",
            "\n",
            "building tree 90 of 100\n",
            "building tree 91 of 100[Parallel(n_jobs=-1)]: Done  79 out of 100 | elapsed:  3.8min remaining:  1.0min\n",
            "\n",
            "building tree 92 of 100\n",
            "building tree 93 of 100[Parallel(n_jobs=-1)]: Done  81 out of 100 | elapsed:  3.8min remaining:   53.9s\n",
            "\n",
            "building tree 94 of 100\n",
            "building tree 95 of 100[Parallel(n_jobs=-1)]: Done  83 out of 100 | elapsed:  3.8min remaining:   47.2s\n",
            "\n",
            "building tree 96 of 100\n",
            "building tree 97 of 100[Parallel(n_jobs=-1)]: Done  85 out of 100 | elapsed:  4.3min remaining:   45.2s\n",
            "\n",
            "building tree 98 of 100\n",
            "building tree 99 of 100[Parallel(n_jobs=-1)]: Done  87 out of 100 | elapsed:  4.3min remaining:   38.5s\n",
            "\n",
            "building tree 100 of 100\n",
            "[Parallel(n_jobs=-1)]: Done  89 out of 100 | elapsed:  4.3min remaining:   32.1s\n",
            "[Parallel(n_jobs=-1)]: Done  91 out of 100 | elapsed:  4.3min remaining:   25.8s\n",
            "[Parallel(n_jobs=-1)]: Done  93 out of 100 | elapsed:  4.4min remaining:   19.7s\n",
            "[Parallel(n_jobs=-1)]: Done  95 out of 100 | elapsed:  4.4min remaining:   13.8s\n",
            "[Parallel(n_jobs=-1)]: Done  97 out of 100 | elapsed:  4.7min remaining:    8.7s\n",
            "[Parallel(n_jobs=-1)]: Done 100 out of 100 | elapsed:  4.7min finished\n"
          ]
        }
      ]
    },
    {
      "cell_type": "markdown",
      "source": [
        "##Results"
      ],
      "metadata": {
        "id": "OQcuTiZMwWGC"
      }
    },
    {
      "cell_type": "code",
      "source": [
        "val_text = df_validation['description'] + df_validation['title'] + df_validation['tags']\n",
        "val_text = val_text.fillna('').values\n",
        "val_labels = df_validation['bottom_category_text'].values"
      ],
      "metadata": {
        "id": "Q_GUOF5vEHAC"
      },
      "execution_count": null,
      "outputs": []
    },
    {
      "cell_type": "code",
      "source": [
        "predictions = text_clf.predict(val_text)"
      ],
      "metadata": {
        "colab": {
          "base_uri": "https://localhost:8080/"
        },
        "id": "yohseoHMEJKw",
        "outputId": "4c4f1ce4-f8b5-4635-dd2c-94f22f760b11"
      },
      "execution_count": null,
      "outputs": [
        {
          "output_type": "stream",
          "name": "stdout",
          "text": [
            "[Parallel(n_jobs=12)]: Using backend ThreadingBackend with 12 concurrent workers.\n",
            "[Parallel(n_jobs=12)]: Done   1 tasks      | elapsed:    2.3s\n",
            "[Parallel(n_jobs=12)]: Done   2 tasks      | elapsed:    2.5s\n",
            "[Parallel(n_jobs=12)]: Done   3 tasks      | elapsed:    2.7s\n",
            "[Parallel(n_jobs=12)]: Done   4 tasks      | elapsed:    2.9s\n",
            "[Parallel(n_jobs=12)]: Done   5 tasks      | elapsed:    3.1s\n",
            "[Parallel(n_jobs=12)]: Done   6 tasks      | elapsed:    3.3s\n",
            "[Parallel(n_jobs=12)]: Done   7 tasks      | elapsed:    3.5s\n",
            "[Parallel(n_jobs=12)]: Done   8 tasks      | elapsed:    3.7s\n",
            "[Parallel(n_jobs=12)]: Done   9 tasks      | elapsed:    3.8s\n",
            "[Parallel(n_jobs=12)]: Done  10 tasks      | elapsed:    4.0s\n",
            "[Parallel(n_jobs=12)]: Done  11 tasks      | elapsed:    4.2s\n",
            "[Parallel(n_jobs=12)]: Done  12 tasks      | elapsed:    4.4s\n",
            "[Parallel(n_jobs=12)]: Done  13 tasks      | elapsed:    4.6s\n",
            "[Parallel(n_jobs=12)]: Done  14 tasks      | elapsed:    4.8s\n",
            "[Parallel(n_jobs=12)]: Done  15 tasks      | elapsed:    5.0s\n",
            "[Parallel(n_jobs=12)]: Done  16 tasks      | elapsed:    5.2s\n",
            "[Parallel(n_jobs=12)]: Done  17 tasks      | elapsed:    5.4s\n",
            "[Parallel(n_jobs=12)]: Done  18 tasks      | elapsed:    5.5s\n",
            "[Parallel(n_jobs=12)]: Done  19 tasks      | elapsed:    5.7s\n",
            "[Parallel(n_jobs=12)]: Done  20 tasks      | elapsed:    5.9s\n",
            "[Parallel(n_jobs=12)]: Done  21 tasks      | elapsed:    6.1s\n",
            "[Parallel(n_jobs=12)]: Done  22 tasks      | elapsed:    6.3s\n",
            "[Parallel(n_jobs=12)]: Done  23 tasks      | elapsed:    6.5s\n",
            "[Parallel(n_jobs=12)]: Done  24 tasks      | elapsed:    6.7s\n",
            "[Parallel(n_jobs=12)]: Done  25 tasks      | elapsed:    6.8s\n",
            "[Parallel(n_jobs=12)]: Done  26 tasks      | elapsed:    7.0s\n",
            "[Parallel(n_jobs=12)]: Done  27 tasks      | elapsed:    7.2s\n",
            "[Parallel(n_jobs=12)]: Done  28 tasks      | elapsed:    7.4s\n",
            "[Parallel(n_jobs=12)]: Done  29 tasks      | elapsed:    7.6s\n",
            "[Parallel(n_jobs=12)]: Done  30 tasks      | elapsed:    7.8s\n",
            "[Parallel(n_jobs=12)]: Done  31 tasks      | elapsed:    8.0s\n",
            "[Parallel(n_jobs=12)]: Done  32 tasks      | elapsed:    8.2s\n",
            "[Parallel(n_jobs=12)]: Done  33 tasks      | elapsed:    8.4s\n",
            "[Parallel(n_jobs=12)]: Done  34 tasks      | elapsed:    8.6s\n",
            "[Parallel(n_jobs=12)]: Done  35 tasks      | elapsed:    8.8s\n",
            "[Parallel(n_jobs=12)]: Done  36 tasks      | elapsed:    8.9s\n",
            "[Parallel(n_jobs=12)]: Done  37 tasks      | elapsed:    9.1s\n",
            "[Parallel(n_jobs=12)]: Done  38 tasks      | elapsed:    9.3s\n",
            "[Parallel(n_jobs=12)]: Done  39 tasks      | elapsed:    9.5s\n",
            "[Parallel(n_jobs=12)]: Done  40 tasks      | elapsed:    9.7s\n",
            "[Parallel(n_jobs=12)]: Done  41 tasks      | elapsed:    9.9s\n",
            "[Parallel(n_jobs=12)]: Done  42 tasks      | elapsed:   10.1s\n",
            "[Parallel(n_jobs=12)]: Done  43 tasks      | elapsed:   10.3s\n",
            "[Parallel(n_jobs=12)]: Done  44 tasks      | elapsed:   10.5s\n",
            "[Parallel(n_jobs=12)]: Done  45 tasks      | elapsed:   10.7s\n",
            "[Parallel(n_jobs=12)]: Done  46 tasks      | elapsed:   10.8s\n",
            "[Parallel(n_jobs=12)]: Done  47 tasks      | elapsed:   11.0s\n",
            "[Parallel(n_jobs=12)]: Done  48 tasks      | elapsed:   11.2s\n",
            "[Parallel(n_jobs=12)]: Done  49 tasks      | elapsed:   11.4s\n",
            "[Parallel(n_jobs=12)]: Done  50 tasks      | elapsed:   11.6s\n",
            "[Parallel(n_jobs=12)]: Done  51 tasks      | elapsed:   11.8s\n",
            "[Parallel(n_jobs=12)]: Done  52 tasks      | elapsed:   12.0s\n",
            "[Parallel(n_jobs=12)]: Done  53 tasks      | elapsed:   12.2s\n",
            "[Parallel(n_jobs=12)]: Done  54 tasks      | elapsed:   12.4s\n",
            "[Parallel(n_jobs=12)]: Done  55 tasks      | elapsed:   12.6s\n",
            "[Parallel(n_jobs=12)]: Done  56 tasks      | elapsed:   12.7s\n",
            "[Parallel(n_jobs=12)]: Done  57 tasks      | elapsed:   12.9s\n",
            "[Parallel(n_jobs=12)]: Done  58 tasks      | elapsed:   13.1s\n",
            "[Parallel(n_jobs=12)]: Done  59 tasks      | elapsed:   13.3s\n",
            "[Parallel(n_jobs=12)]: Done  60 tasks      | elapsed:   13.5s\n",
            "[Parallel(n_jobs=12)]: Done  61 tasks      | elapsed:   13.7s\n",
            "[Parallel(n_jobs=12)]: Done  62 tasks      | elapsed:   13.9s\n",
            "[Parallel(n_jobs=12)]: Done  63 tasks      | elapsed:   14.1s\n",
            "[Parallel(n_jobs=12)]: Done  64 tasks      | elapsed:   14.3s\n",
            "[Parallel(n_jobs=12)]: Done  65 tasks      | elapsed:   14.4s\n",
            "[Parallel(n_jobs=12)]: Done  66 tasks      | elapsed:   14.6s\n",
            "[Parallel(n_jobs=12)]: Done  67 tasks      | elapsed:   14.8s\n",
            "[Parallel(n_jobs=12)]: Done  68 tasks      | elapsed:   15.0s\n",
            "[Parallel(n_jobs=12)]: Done  69 tasks      | elapsed:   15.2s\n",
            "[Parallel(n_jobs=12)]: Done  70 tasks      | elapsed:   15.4s\n",
            "[Parallel(n_jobs=12)]: Done  71 tasks      | elapsed:   15.6s\n",
            "[Parallel(n_jobs=12)]: Done  72 tasks      | elapsed:   15.8s\n",
            "[Parallel(n_jobs=12)]: Done  73 tasks      | elapsed:   16.0s\n",
            "[Parallel(n_jobs=12)]: Done  74 tasks      | elapsed:   16.1s\n",
            "[Parallel(n_jobs=12)]: Done  75 tasks      | elapsed:   16.3s\n",
            "[Parallel(n_jobs=12)]: Done  76 tasks      | elapsed:   16.5s\n",
            "[Parallel(n_jobs=12)]: Done  77 tasks      | elapsed:   16.7s\n",
            "[Parallel(n_jobs=12)]: Done  79 out of 100 | elapsed:   17.1s remaining:    4.5s\n",
            "[Parallel(n_jobs=12)]: Done  81 out of 100 | elapsed:   17.5s remaining:    4.1s\n",
            "[Parallel(n_jobs=12)]: Done  83 out of 100 | elapsed:   17.8s remaining:    3.7s\n",
            "[Parallel(n_jobs=12)]: Done  85 out of 100 | elapsed:   18.2s remaining:    3.2s\n",
            "[Parallel(n_jobs=12)]: Done  87 out of 100 | elapsed:   18.6s remaining:    2.8s\n",
            "[Parallel(n_jobs=12)]: Done  89 out of 100 | elapsed:   19.0s remaining:    2.3s\n",
            "[Parallel(n_jobs=12)]: Done  91 out of 100 | elapsed:   19.3s remaining:    1.9s\n",
            "[Parallel(n_jobs=12)]: Done  93 out of 100 | elapsed:   19.7s remaining:    1.5s\n",
            "[Parallel(n_jobs=12)]: Done  95 out of 100 | elapsed:   20.0s remaining:    1.1s\n",
            "[Parallel(n_jobs=12)]: Done  97 out of 100 | elapsed:   20.4s remaining:    0.6s\n",
            "[Parallel(n_jobs=12)]: Done 100 out of 100 | elapsed:   20.9s finished\n"
          ]
        }
      ]
    },
    {
      "cell_type": "code",
      "source": [
        "from sklearn.metrics import classification_report"
      ],
      "metadata": {
        "id": "3nZnXwoWt7Yj"
      },
      "execution_count": null,
      "outputs": []
    },
    {
      "cell_type": "code",
      "source": [
        "print(classification_report(val_labels,predictions))"
      ],
      "metadata": {
        "id": "o62CBOFeuBlM"
      },
      "execution_count": null,
      "outputs": []
    },
    {
      "cell_type": "code",
      "source": [
        "f1 = metrics.f1_score(val_labels, predictions, average='weighted')"
      ],
      "metadata": {
        "id": "KbbfFKFaEwCf"
      },
      "execution_count": null,
      "outputs": []
    },
    {
      "cell_type": "code",
      "source": [
        "\n",
        "f\"F1 score: {f1:.4f}\""
      ],
      "metadata": {
        "colab": {
          "base_uri": "https://localhost:8080/",
          "height": 35
        },
        "id": "Vbw6IH3QE0Au",
        "outputId": "e53cee66-de5c-4112-ee4e-40d1e17af961"
      },
      "execution_count": null,
      "outputs": [
        {
          "output_type": "execute_result",
          "data": {
            "text/plain": [
              "'F1 score: 0.4519'"
            ],
            "application/vnd.google.colaboratory.intrinsic+json": {
              "type": "string"
            }
          },
          "metadata": {},
          "execution_count": 36
        }
      ]
    },
    {
      "cell_type": "code",
      "source": [
        "metrics.confusion_matrix(val_labels, predictions)"
      ],
      "metadata": {
        "colab": {
          "base_uri": "https://localhost:8080/"
        },
        "id": "hRTJ9Ll8E126",
        "outputId": "019cc165-6996-4790-a9b1-46a78154d9e0"
      },
      "execution_count": null,
      "outputs": [
        {
          "output_type": "execute_result",
          "data": {
            "text/plain": [
              "array([[ 2,  0,  0, ...,  0,  0,  0],\n",
              "       [ 0,  2,  0, ...,  0,  0,  0],\n",
              "       [ 0,  0,  7, ...,  0,  0,  0],\n",
              "       ...,\n",
              "       [ 0,  0,  0, ..., 13,  0,  1],\n",
              "       [ 0,  0,  0, ...,  0, 13,  0],\n",
              "       [ 0,  0,  0, ...,  0,  0, 12]])"
            ]
          },
          "metadata": {},
          "execution_count": 37
        }
      ]
    },
    {
      "cell_type": "markdown",
      "source": [
        "We need to do the same preprocessing we do for training on test data too."
      ],
      "metadata": {
        "id": "7WktH4RCE6Y4"
      }
    },
    {
      "cell_type": "code",
      "source": [
        "data_test['description']=data_test['description'].fillna('')\n",
        "data_test['title']=data_test['title'].fillna('')\n",
        "data_test['description'] = data_test['description'].apply(lambda x : clean_text(x))\n",
        "data_test['title'] = data_test['title'].apply(lambda x : clean_text(x))"
      ],
      "metadata": {
        "id": "dCW_T58pE3-A"
      },
      "execution_count": null,
      "outputs": []
    },
    {
      "cell_type": "code",
      "source": [
        "test_text = data_test['description'] + data_test['title'] + data_test['tags']\n",
        "test_text = test_text.fillna('').values\n"
      ],
      "metadata": {
        "id": "V49NeesDE8Vy"
      },
      "execution_count": null,
      "outputs": []
    },
    {
      "cell_type": "code",
      "source": [
        "predictions_test = text_clf.predict(test_text)"
      ],
      "metadata": {
        "colab": {
          "base_uri": "https://localhost:8080/"
        },
        "id": "jx3K4EcZFBtB",
        "outputId": "95219caf-f7d6-4569-b11f-4183680d6830"
      },
      "execution_count": null,
      "outputs": [
        {
          "output_type": "stream",
          "name": "stdout",
          "text": [
            "[Parallel(n_jobs=12)]: Using backend ThreadingBackend with 12 concurrent workers.\n",
            "[Parallel(n_jobs=12)]: Done   1 tasks      | elapsed:    1.3s\n",
            "[Parallel(n_jobs=12)]: Done   2 tasks      | elapsed:    1.4s\n",
            "[Parallel(n_jobs=12)]: Done   3 tasks      | elapsed:    1.5s\n",
            "[Parallel(n_jobs=12)]: Done   4 tasks      | elapsed:    1.6s\n",
            "[Parallel(n_jobs=12)]: Done   5 tasks      | elapsed:    1.7s\n",
            "[Parallel(n_jobs=12)]: Done   6 tasks      | elapsed:    1.8s\n",
            "[Parallel(n_jobs=12)]: Done   7 tasks      | elapsed:    1.9s\n",
            "[Parallel(n_jobs=12)]: Done   8 tasks      | elapsed:    2.0s\n",
            "[Parallel(n_jobs=12)]: Done   9 tasks      | elapsed:    2.1s\n",
            "[Parallel(n_jobs=12)]: Done  10 tasks      | elapsed:    2.2s\n",
            "[Parallel(n_jobs=12)]: Done  11 tasks      | elapsed:    2.3s\n",
            "[Parallel(n_jobs=12)]: Done  12 tasks      | elapsed:    2.4s\n",
            "[Parallel(n_jobs=12)]: Done  13 tasks      | elapsed:    2.5s\n",
            "[Parallel(n_jobs=12)]: Done  14 tasks      | elapsed:    2.7s\n",
            "[Parallel(n_jobs=12)]: Done  15 tasks      | elapsed:    2.8s\n",
            "[Parallel(n_jobs=12)]: Done  16 tasks      | elapsed:    2.9s\n",
            "[Parallel(n_jobs=12)]: Done  17 tasks      | elapsed:    3.0s\n",
            "[Parallel(n_jobs=12)]: Done  18 tasks      | elapsed:    3.1s\n",
            "[Parallel(n_jobs=12)]: Done  19 tasks      | elapsed:    3.2s\n",
            "[Parallel(n_jobs=12)]: Done  20 tasks      | elapsed:    3.3s\n",
            "[Parallel(n_jobs=12)]: Done  21 tasks      | elapsed:    3.4s\n",
            "[Parallel(n_jobs=12)]: Done  22 tasks      | elapsed:    3.5s\n",
            "[Parallel(n_jobs=12)]: Done  23 tasks      | elapsed:    3.6s\n",
            "[Parallel(n_jobs=12)]: Done  24 tasks      | elapsed:    3.7s\n",
            "[Parallel(n_jobs=12)]: Done  25 tasks      | elapsed:    3.9s\n",
            "[Parallel(n_jobs=12)]: Done  26 tasks      | elapsed:    4.0s\n",
            "[Parallel(n_jobs=12)]: Done  27 tasks      | elapsed:    4.1s\n",
            "[Parallel(n_jobs=12)]: Done  28 tasks      | elapsed:    4.2s\n",
            "[Parallel(n_jobs=12)]: Done  29 tasks      | elapsed:    4.3s\n",
            "[Parallel(n_jobs=12)]: Done  30 tasks      | elapsed:    4.4s\n",
            "[Parallel(n_jobs=12)]: Done  31 tasks      | elapsed:    4.5s\n",
            "[Parallel(n_jobs=12)]: Done  32 tasks      | elapsed:    4.6s\n",
            "[Parallel(n_jobs=12)]: Done  33 tasks      | elapsed:    4.7s\n",
            "[Parallel(n_jobs=12)]: Done  34 tasks      | elapsed:    4.8s\n",
            "[Parallel(n_jobs=12)]: Done  35 tasks      | elapsed:    4.9s\n",
            "[Parallel(n_jobs=12)]: Done  36 tasks      | elapsed:    5.0s\n",
            "[Parallel(n_jobs=12)]: Done  37 tasks      | elapsed:    5.1s\n",
            "[Parallel(n_jobs=12)]: Done  38 tasks      | elapsed:    5.2s\n",
            "[Parallel(n_jobs=12)]: Done  39 tasks      | elapsed:    5.3s\n",
            "[Parallel(n_jobs=12)]: Done  40 tasks      | elapsed:    5.4s\n",
            "[Parallel(n_jobs=12)]: Done  41 tasks      | elapsed:    5.5s\n",
            "[Parallel(n_jobs=12)]: Done  42 tasks      | elapsed:    5.7s\n",
            "[Parallel(n_jobs=12)]: Done  43 tasks      | elapsed:    5.8s\n",
            "[Parallel(n_jobs=12)]: Done  44 tasks      | elapsed:    5.9s\n",
            "[Parallel(n_jobs=12)]: Done  45 tasks      | elapsed:    6.0s\n",
            "[Parallel(n_jobs=12)]: Done  46 tasks      | elapsed:    6.1s\n",
            "[Parallel(n_jobs=12)]: Done  47 tasks      | elapsed:    6.2s\n",
            "[Parallel(n_jobs=12)]: Done  48 tasks      | elapsed:    6.3s\n",
            "[Parallel(n_jobs=12)]: Done  49 tasks      | elapsed:    6.4s\n",
            "[Parallel(n_jobs=12)]: Done  50 tasks      | elapsed:    6.5s\n",
            "[Parallel(n_jobs=12)]: Done  51 tasks      | elapsed:    6.6s\n",
            "[Parallel(n_jobs=12)]: Done  52 tasks      | elapsed:    6.7s\n",
            "[Parallel(n_jobs=12)]: Done  53 tasks      | elapsed:    6.8s\n",
            "[Parallel(n_jobs=12)]: Done  54 tasks      | elapsed:    6.9s\n",
            "[Parallel(n_jobs=12)]: Done  55 tasks      | elapsed:    7.0s\n",
            "[Parallel(n_jobs=12)]: Done  56 tasks      | elapsed:    7.1s\n",
            "[Parallel(n_jobs=12)]: Done  57 tasks      | elapsed:    7.2s\n",
            "[Parallel(n_jobs=12)]: Done  58 tasks      | elapsed:    7.3s\n",
            "[Parallel(n_jobs=12)]: Done  59 tasks      | elapsed:    7.4s\n",
            "[Parallel(n_jobs=12)]: Done  60 tasks      | elapsed:    7.5s\n",
            "[Parallel(n_jobs=12)]: Done  61 tasks      | elapsed:    7.6s\n",
            "[Parallel(n_jobs=12)]: Done  62 tasks      | elapsed:    7.7s\n",
            "[Parallel(n_jobs=12)]: Done  63 tasks      | elapsed:    7.8s\n",
            "[Parallel(n_jobs=12)]: Done  64 tasks      | elapsed:    7.9s\n",
            "[Parallel(n_jobs=12)]: Done  65 tasks      | elapsed:    8.1s\n",
            "[Parallel(n_jobs=12)]: Done  66 tasks      | elapsed:    8.2s\n",
            "[Parallel(n_jobs=12)]: Done  67 tasks      | elapsed:    8.3s\n",
            "[Parallel(n_jobs=12)]: Done  68 tasks      | elapsed:    8.4s\n",
            "[Parallel(n_jobs=12)]: Done  69 tasks      | elapsed:    8.5s\n",
            "[Parallel(n_jobs=12)]: Done  70 tasks      | elapsed:    8.6s\n",
            "[Parallel(n_jobs=12)]: Done  71 tasks      | elapsed:    8.7s\n",
            "[Parallel(n_jobs=12)]: Done  72 tasks      | elapsed:    8.8s\n",
            "[Parallel(n_jobs=12)]: Done  73 tasks      | elapsed:    8.9s\n",
            "[Parallel(n_jobs=12)]: Done  74 tasks      | elapsed:    9.0s\n",
            "[Parallel(n_jobs=12)]: Done  75 tasks      | elapsed:    9.1s\n",
            "[Parallel(n_jobs=12)]: Done  76 tasks      | elapsed:    9.2s\n",
            "[Parallel(n_jobs=12)]: Done  77 tasks      | elapsed:    9.3s\n",
            "[Parallel(n_jobs=12)]: Done  79 out of 100 | elapsed:    9.5s remaining:    2.5s\n",
            "[Parallel(n_jobs=12)]: Done  81 out of 100 | elapsed:    9.8s remaining:    2.3s\n",
            "[Parallel(n_jobs=12)]: Done  83 out of 100 | elapsed:   10.0s remaining:    2.1s\n",
            "[Parallel(n_jobs=12)]: Done  85 out of 100 | elapsed:   10.2s remaining:    1.8s\n",
            "[Parallel(n_jobs=12)]: Done  87 out of 100 | elapsed:   10.4s remaining:    1.6s\n",
            "[Parallel(n_jobs=12)]: Done  89 out of 100 | elapsed:   10.7s remaining:    1.3s\n",
            "[Parallel(n_jobs=12)]: Done  91 out of 100 | elapsed:   10.9s remaining:    1.1s\n",
            "[Parallel(n_jobs=12)]: Done  93 out of 100 | elapsed:   11.1s remaining:    0.8s\n",
            "[Parallel(n_jobs=12)]: Done  95 out of 100 | elapsed:   11.3s remaining:    0.6s\n",
            "[Parallel(n_jobs=12)]: Done  97 out of 100 | elapsed:   11.4s remaining:    0.4s\n",
            "[Parallel(n_jobs=12)]: Done 100 out of 100 | elapsed:   11.7s finished\n"
          ]
        }
      ]
    },
    {
      "cell_type": "markdown",
      "source": [
        "Mapping to bottom_category_id"
      ],
      "metadata": {
        "id": "BxsCpN_gFFY4"
      }
    },
    {
      "cell_type": "code",
      "source": [
        "map1 = set(data_train[['bottom_category_id','bottom_category_text']].to_records(index=False).tolist())\n"
      ],
      "metadata": {
        "id": "n5fEvYLoFH_4"
      },
      "execution_count": null,
      "outputs": []
    },
    {
      "cell_type": "code",
      "source": [
        "mapping = {y:x for (x,y) in map1}"
      ],
      "metadata": {
        "id": "7ehTSXeyFKgb"
      },
      "execution_count": null,
      "outputs": []
    },
    {
      "cell_type": "code",
      "source": [
        "test_predictions_mapped = [mapping[x] for x in predictions_test]"
      ],
      "metadata": {
        "id": "mdYN_aTdFL24"
      },
      "execution_count": null,
      "outputs": []
    },
    {
      "cell_type": "markdown",
      "source": [
        "Since I am getting better F1 for bottom category with Random forest as compared to BERT. I will be using this model for my final predictions for submission"
      ],
      "metadata": {
        "id": "0gHth_gMsTzU"
      }
    },
    {
      "cell_type": "code",
      "source": [
        "pd.DataFrame(test_predictions_mapped).to_csv('/content/gdrive/MyDrive/bottomcategorypredictions.csv')"
      ],
      "metadata": {
        "id": "8OwvnZ85FNDp"
      },
      "execution_count": null,
      "outputs": []
    },
    {
      "cell_type": "markdown",
      "metadata": {
        "id": "xks2PRs4wcNS"
      },
      "source": [
        "# Top Category With Random Forest"
      ]
    },
    {
      "cell_type": "markdown",
      "source": [],
      "metadata": {
        "id": "hM_N4mjCwcNV"
      }
    },
    {
      "cell_type": "code",
      "source": [
        "# libraries\n",
        "import io\n",
        "import os\n",
        "from datetime import datetime\n",
        "import pandas as pd\n",
        "import numpy as np\n",
        "import tensorflow as tf\n",
        "import matplotlib.pyplot as plt\n",
        "import matplotlib.image as mpimg\n",
        "from sklearn import metrics\n",
        "\n",
        "# Matplotlib configuration\n",
        "font = { 'family': 'DejaVu Sans', 'weight': 'bold', 'size': 16 }\n",
        "plt.rc('font', **font)"
      ],
      "metadata": {
        "id": "DA2_zXYawcNV"
      },
      "execution_count": null,
      "outputs": []
    },
    {
      "cell_type": "code",
      "source": [
        "# set random seed\n",
        "np.random.seed(seed=42)"
      ],
      "metadata": {
        "id": "oks3kp87wcNX"
      },
      "execution_count": null,
      "outputs": []
    },
    {
      "cell_type": "markdown",
      "source": [
        "##Preprocessing"
      ],
      "metadata": {
        "id": "SZi3gYeIwcNY"
      }
    },
    {
      "cell_type": "markdown",
      "source": [
        "This cleaning and preprocessing is from https://github.com/rkj43/Jigsaw_Toxic_Comment_Classification/blob/main/Jigsaw_Classification_CA683.ipynb.\n",
        "(That's my Github. I have used the same preprocessing here. It is a modified version of the preprocessing in this notebook https://www.kaggle.com/code/floevan/dl-and-ml-for-nlp/notebook#SIMPLE-RNN)"
      ],
      "metadata": {
        "id": "F0FJAc1bIfJx"
      }
    },
    {
      "cell_type": "code",
      "source": [
        "from nltk.corpus import stopwords\n",
        "import nltk\n",
        "import re\n",
        "import string, collections\n",
        "from nltk.stem.snowball import EnglishStemmer\n",
        "from nltk.stem import WordNetLemmatizer\n",
        "nltk.download(\"stopwords\")\n",
        "stop_words = set(stopwords.words('english'))\n",
        "tokenizer = nltk.tokenize.RegexpTokenizer(r'\\w+')\n",
        "stemmer = EnglishStemmer()\n",
        "lemmatizer = WordNetLemmatizer()\n",
        "\n",
        "def clean_text(text):\n",
        "    text = text.lower() #make text lowercase and fill na\n",
        "    text = re.sub('\\[.*?\\]', '', text)\n",
        "    text = re.sub('\\\\n', '',str(text))\n",
        "    text = re.sub(\"\\[\\[User.*\",'',str(text))\n",
        "    text = re.sub(\"\\d{1,3}\\.\\d{1,3}\\.\\d{1,3}\\.\\d{1,3}\",'',str(text))\n",
        "    text = re.sub('http[s]?://(?:[a-zA-Z]|[0-9]|[$-_@.&+]|[!*\\(\\),]|(?:%[0-9a-fA-F][0-9a-fA-F]))+', '', text) #remove hyperlinks\n",
        "    text = re.sub(r'\\:(.*?)\\:', '', text) #remove emoticones\n",
        "    text = re.sub(r'[\\w\\.-]+@[\\w\\.-]+', '', str(text)) #remove email\n",
        "    text = re.sub(r'(?<=@)\\w+', '', text) #remove @\n",
        "    text = re.sub(r'[0-9]+', '', text) #remove numbers\n",
        "    text = re.sub(\"[^A-Za-z0-9 ]\", '', text) #remove non alphanumeric like ['@', '#', '.', '(', ')']\n",
        "    text = re.sub(r'[!\"\\$%&\\'()*+,\\-.\\/:;=#@?\\[\\\\\\]^_`{|}~]*', '', text) #remove punctuations from sentences\n",
        "    text = re.sub('<.*?>+', '', str(text))\n",
        "    text = re.sub('[%s]' % re.escape(string.punctuation), '', str(text))\n",
        "    text = re.sub('\\w*\\d\\w*', '', str(text))\n",
        "    text = tokenizer.tokenize(text)\n",
        "    text = [word for word in text if not word in stop_words]\n",
        "    #text = [lemmatizer.lemmatize(word) for word in text]\n",
        "    text = [stemmer.stem(word) for word in text]\n",
        "    final_text = ' '.join( [w for w in text if len(w)>1] ) #remove word with one letter\n",
        "    return final_text"
      ],
      "metadata": {
        "colab": {
          "base_uri": "https://localhost:8080/"
        },
        "outputId": "d7fcb55c-d93b-4a90-ad68-495fc677a442",
        "id": "Ys54ZkgMwcNY"
      },
      "execution_count": null,
      "outputs": [
        {
          "output_type": "stream",
          "name": "stderr",
          "text": [
            "[nltk_data] Downloading package stopwords to /root/nltk_data...\n",
            "[nltk_data]   Unzipping corpora/stopwords.zip.\n"
          ]
        }
      ]
    },
    {
      "cell_type": "code",
      "source": [
        "data_train['description']=data_train['description'].fillna('')"
      ],
      "metadata": {
        "id": "UPhdg32RwcNZ"
      },
      "execution_count": null,
      "outputs": []
    },
    {
      "cell_type": "code",
      "source": [
        "data_test['description']=data_test['description'].fillna('')"
      ],
      "metadata": {
        "id": "I2OLm--UwcNa"
      },
      "execution_count": null,
      "outputs": []
    },
    {
      "cell_type": "code",
      "source": [
        "from sklearn.model_selection import train_test_split\n",
        "\n",
        "df_training, df_validation = train_test_split(\n",
        "    data_train,\n",
        "    test_size=0.2,\n",
        "    stratify=data_train['top_category_text'],\n",
        "    random_state=42)"
      ],
      "metadata": {
        "id": "CpJA0sXJwcNb"
      },
      "execution_count": null,
      "outputs": []
    },
    {
      "cell_type": "code",
      "source": [
        "df_training['description']=df_training['description'].fillna('')\n",
        "df_validation['description']=df_validation['description'].fillna('')\n"
      ],
      "metadata": {
        "id": "QGbGNvfjwcNc"
      },
      "execution_count": null,
      "outputs": []
    },
    {
      "cell_type": "code",
      "source": [
        "df_training['title']=df_training['title'].fillna('')\n",
        "df_validation['title']=df_validation['title'].fillna('')\n"
      ],
      "metadata": {
        "id": "S3cqaamRwcNc"
      },
      "execution_count": null,
      "outputs": []
    },
    {
      "cell_type": "code",
      "source": [
        "# df_training['description'] = df_training['description'].apply(lambda x : clean_text(x))\n",
        "# df_training['title'] = df_training['title'].apply(lambda x : clean_text(x))"
      ],
      "metadata": {
        "id": "8eix-QftwcNd"
      },
      "execution_count": null,
      "outputs": []
    },
    {
      "cell_type": "code",
      "source": [
        "# df_validation['description'] = df_validation['description'].apply(lambda x : clean_text(x))\n",
        "# df_validation['title'] = df_validation['title'].apply(lambda x : clean_text(x))"
      ],
      "metadata": {
        "id": "8dub3urgwcNd"
      },
      "execution_count": null,
      "outputs": []
    },
    {
      "cell_type": "code",
      "source": [
        "f\"Number of products for training: {len(df_training):,}\""
      ],
      "metadata": {
        "colab": {
          "base_uri": "https://localhost:8080/",
          "height": 35
        },
        "outputId": "df9d2764-3ddd-4caf-afa6-3d171ae8a61d",
        "id": "pzSfaq8LwcNd"
      },
      "execution_count": null,
      "outputs": [
        {
          "output_type": "execute_result",
          "data": {
            "text/plain": [
              "'Number of products for training: 196,388'"
            ],
            "application/vnd.google.colaboratory.intrinsic+json": {
              "type": "string"
            }
          },
          "metadata": {},
          "execution_count": 21
        }
      ]
    },
    {
      "cell_type": "code",
      "source": [
        "f\"Number of products for validation: {len(df_validation):,}\""
      ],
      "metadata": {
        "colab": {
          "base_uri": "https://localhost:8080/",
          "height": 35
        },
        "outputId": "343cc6a6-d453-4ca0-9a01-46fcb0f55d0f",
        "id": "0meBtf-MwcNd"
      },
      "execution_count": null,
      "outputs": [
        {
          "output_type": "execute_result",
          "data": {
            "text/plain": [
              "'Number of products for validation: 49,097'"
            ],
            "application/vnd.google.colaboratory.intrinsic+json": {
              "type": "string"
            }
          },
          "metadata": {},
          "execution_count": 22
        }
      ]
    },
    {
      "cell_type": "markdown",
      "source": [
        "## Training\n",
        "\n",
        "- processes the text using `CountVectorizer`, that builds a dictionary of features and transforms documents to feature vectors\n",
        "- extracts term frequencies and inverse document frequencies using `TfidfTransformer`, (see [TF-IDF](https://en.wikipedia.org/wiki/Tf%E2%80%93idf))\n",
        "- trains a Random forest classifer, which gives us a nice baseline\n",
        "\n",
        "This is similar to the one david provided but I have made some changes to run things parallely and also I am using random forest instead of native bayes.\n",
        "Links I have referred for the codes :\n",
        "- https://scikit-learn.org/stable/modules/tree.html\n",
        "- https://scikit-learn.org/stable/modules/generated/sklearn.ensemble.RandomForestClassifier.html\n",
        "- https://stackoverflow.com/questions/60080806/how-to-run-2-pipelines-in-parallel-in-scikit-learn-or-neuraxle\n",
        "- https://www.kaggle.com/questions-and-answers/160593"
      ],
      "metadata": {
        "id": "TMSB0Cx_wcNe"
      }
    },
    {
      "cell_type": "code",
      "source": [
        "from sklearn.ensemble import RandomForestClassifier\n",
        "from sklearn.datasets import make_classification\n"
      ],
      "metadata": {
        "id": "o-QT8SpfwcNe"
      },
      "execution_count": null,
      "outputs": []
    },
    {
      "cell_type": "code",
      "source": [
        "from sklearn.feature_extraction.text import CountVectorizer\n",
        "from sklearn.feature_extraction.text import TfidfTransformer\n",
        "from sklearn.naive_bayes import MultinomialNB\n",
        "from sklearn.pipeline import Pipeline\n",
        "\n",
        "text_clf = Pipeline([\n",
        "    ('vect', CountVectorizer()),\n",
        "    ('tfidf', TfidfTransformer()),\n",
        "    ('clf', RandomForestClassifier(verbose=100,n_jobs=-1,max_depth=200)), #n_jobs = -1 means use all cores, verbose is for logging , max_Depth to use lower depths so that we dont overfit the model\n",
        "])"
      ],
      "metadata": {
        "id": "ALHkLkEYwcNf"
      },
      "execution_count": null,
      "outputs": []
    },
    {
      "cell_type": "code",
      "source": [
        "train_text = df_training['description'] + df_training['title'] + df_training['tags']"
      ],
      "metadata": {
        "id": "jmwUIQalwcNf"
      },
      "execution_count": null,
      "outputs": []
    },
    {
      "cell_type": "code",
      "source": [
        "train_text = train_text.fillna('').values"
      ],
      "metadata": {
        "id": "TpjW9Up0wcNg"
      },
      "execution_count": null,
      "outputs": []
    },
    {
      "cell_type": "code",
      "source": [
        "train_labels = df_training['top_category_text'].values"
      ],
      "metadata": {
        "id": "R1UWPjVYwcNg"
      },
      "execution_count": null,
      "outputs": []
    },
    {
      "cell_type": "code",
      "source": [
        "X = train_text\n",
        "Y = train_labels\n",
        "\n",
        "text_clf = text_clf.fit(X, Y)"
      ],
      "metadata": {
        "colab": {
          "base_uri": "https://localhost:8080/"
        },
        "outputId": "ccb0576f-7e54-47de-ab9c-4c8a5b46c093",
        "id": "E5xcYErOwcNg"
      },
      "execution_count": null,
      "outputs": [
        {
          "output_type": "stream",
          "name": "stdout",
          "text": [
            "[Parallel(n_jobs=-1)]: Using backend ThreadingBackend with 12 concurrent workers.\n",
            "building tree 1 of 100\n",
            "building tree 2 of 100\n",
            "building tree 3 of 100\n",
            "building tree 4 of 100\n",
            "building tree 5 of 100building tree 6 of 100\n",
            "building tree 7 of 100\n",
            "\n",
            "building tree 8 of 100building tree 9 of 100\n",
            "building tree 10 of 100\n",
            "building tree 11 of 100\n",
            "building tree 12 of 100\n",
            "\n",
            "building tree 13 of 100[Parallel(n_jobs=-1)]: Done   1 tasks      | elapsed:   36.3s\n",
            "\n",
            "building tree 14 of 100[Parallel(n_jobs=-1)]: Done   2 tasks      | elapsed:   37.1s\n",
            "\n",
            "building tree 15 of 100[Parallel(n_jobs=-1)]: Done   3 tasks      | elapsed:   37.8s\n",
            "\n",
            "building tree 16 of 100[Parallel(n_jobs=-1)]: Done   4 tasks      | elapsed:   38.0s\n",
            "\n",
            "building tree 17 of 100[Parallel(n_jobs=-1)]: Done   5 tasks      | elapsed:   38.2s\n",
            "\n",
            "building tree 18 of 100[Parallel(n_jobs=-1)]: Done   6 tasks      | elapsed:   39.6s\n",
            "\n",
            "building tree 19 of 100[Parallel(n_jobs=-1)]: Done   7 tasks      | elapsed:   39.6s\n",
            "\n",
            "building tree 20 of 100[Parallel(n_jobs=-1)]: Done   8 tasks      | elapsed:   40.0s\n",
            "building tree 21 of 100\n",
            "[Parallel(n_jobs=-1)]: Done   9 tasks      | elapsed:   40.0s\n",
            "\n",
            "building tree 22 of 100[Parallel(n_jobs=-1)]: Done  10 tasks      | elapsed:   40.6s\n",
            "\n",
            "building tree 23 of 100[Parallel(n_jobs=-1)]: Done  11 tasks      | elapsed:   40.7s\n",
            "\n",
            "building tree 24 of 100[Parallel(n_jobs=-1)]: Done  12 tasks      | elapsed:   40.8s\n",
            "\n",
            "building tree 25 of 100[Parallel(n_jobs=-1)]: Done  13 tasks      | elapsed:  1.2min\n",
            "\n",
            "building tree 26 of 100[Parallel(n_jobs=-1)]: Done  14 tasks      | elapsed:  1.2min\n",
            "\n",
            "building tree 27 of 100[Parallel(n_jobs=-1)]: Done  15 tasks      | elapsed:  1.3min\n",
            "\n",
            "building tree 28 of 100[Parallel(n_jobs=-1)]: Done  16 tasks      | elapsed:  1.3min\n",
            "\n",
            "building tree 29 of 100[Parallel(n_jobs=-1)]: Done  17 tasks      | elapsed:  1.3min\n",
            "\n",
            "building tree 30 of 100[Parallel(n_jobs=-1)]: Done  18 tasks      | elapsed:  1.3min\n",
            "\n",
            "building tree 31 of 100[Parallel(n_jobs=-1)]: Done  19 tasks      | elapsed:  1.3min\n",
            "\n",
            "building tree 32 of 100[Parallel(n_jobs=-1)]: Done  20 tasks      | elapsed:  1.3min\n",
            "\n",
            "building tree 33 of 100[Parallel(n_jobs=-1)]: Done  21 tasks      | elapsed:  1.3min\n",
            "\n",
            "building tree 34 of 100[Parallel(n_jobs=-1)]: Done  22 tasks      | elapsed:  1.3min\n",
            "\n",
            "building tree 35 of 100[Parallel(n_jobs=-1)]: Done  23 tasks      | elapsed:  1.3min\n",
            "\n",
            "building tree 36 of 100[Parallel(n_jobs=-1)]: Done  24 tasks      | elapsed:  1.3min\n",
            "\n",
            "building tree 37 of 100[Parallel(n_jobs=-1)]: Done  25 tasks      | elapsed:  1.9min\n",
            "\n",
            "building tree 38 of 100[Parallel(n_jobs=-1)]: Done  26 tasks      | elapsed:  1.9min\n",
            "\n",
            "building tree 39 of 100[Parallel(n_jobs=-1)]: Done  27 tasks      | elapsed:  1.9min\n",
            "\n",
            "building tree 40 of 100[Parallel(n_jobs=-1)]: Done  28 tasks      | elapsed:  1.9min\n",
            "\n",
            "building tree 41 of 100[Parallel(n_jobs=-1)]: Done  29 tasks      | elapsed:  1.9min\n",
            "\n",
            "building tree 42 of 100[Parallel(n_jobs=-1)]: Done  30 tasks      | elapsed:  1.9min\n",
            "\n",
            "building tree 43 of 100[Parallel(n_jobs=-1)]: Done  31 tasks      | elapsed:  2.0min\n",
            "\n",
            "building tree 44 of 100[Parallel(n_jobs=-1)]: Done  32 tasks      | elapsed:  2.0min\n",
            "\n",
            "building tree 45 of 100[Parallel(n_jobs=-1)]: Done  33 tasks      | elapsed:  2.0min\n",
            "\n",
            "building tree 46 of 100[Parallel(n_jobs=-1)]: Done  34 tasks      | elapsed:  2.0min\n",
            "\n",
            "building tree 47 of 100[Parallel(n_jobs=-1)]: Done  35 tasks      | elapsed:  2.0min\n",
            "\n",
            "building tree 48 of 100[Parallel(n_jobs=-1)]: Done  36 tasks      | elapsed:  2.0min\n",
            "\n",
            "building tree 49 of 100[Parallel(n_jobs=-1)]: Done  37 tasks      | elapsed:  2.5min\n",
            "\n",
            "building tree 50 of 100[Parallel(n_jobs=-1)]: Done  38 tasks      | elapsed:  2.5min\n",
            "\n",
            "building tree 51 of 100[Parallel(n_jobs=-1)]: Done  39 tasks      | elapsed:  2.6min\n",
            "\n",
            "building tree 52 of 100[Parallel(n_jobs=-1)]: Done  40 tasks      | elapsed:  2.6min\n",
            "\n",
            "building tree 53 of 100[Parallel(n_jobs=-1)]: Done  41 tasks      | elapsed:  2.6min\n",
            "\n",
            "building tree 54 of 100[Parallel(n_jobs=-1)]: Done  42 tasks      | elapsed:  2.6min\n",
            "\n",
            "building tree 55 of 100[Parallel(n_jobs=-1)]: Done  43 tasks      | elapsed:  2.6min\n",
            "\n",
            "building tree 56 of 100[Parallel(n_jobs=-1)]: Done  44 tasks      | elapsed:  2.6min\n",
            "\n",
            "building tree 57 of 100[Parallel(n_jobs=-1)]: Done  45 tasks      | elapsed:  2.6min\n",
            "\n",
            "building tree 58 of 100[Parallel(n_jobs=-1)]: Done  46 tasks      | elapsed:  2.6min\n",
            "\n",
            "building tree 59 of 100[Parallel(n_jobs=-1)]: Done  47 tasks      | elapsed:  2.7min\n",
            "\n",
            "building tree 60 of 100[Parallel(n_jobs=-1)]: Done  48 tasks      | elapsed:  2.7min\n",
            "\n",
            "building tree 61 of 100[Parallel(n_jobs=-1)]: Done  49 tasks      | elapsed:  3.1min\n",
            "\n",
            "building tree 62 of 100[Parallel(n_jobs=-1)]: Done  50 tasks      | elapsed:  3.2min\n",
            "\n",
            "building tree 63 of 100[Parallel(n_jobs=-1)]: Done  51 tasks      | elapsed:  3.2min\n",
            "\n",
            "building tree 64 of 100[Parallel(n_jobs=-1)]: Done  52 tasks      | elapsed:  3.2min\n",
            "\n",
            "building tree 65 of 100[Parallel(n_jobs=-1)]: Done  53 tasks      | elapsed:  3.2min\n",
            "\n",
            "building tree 66 of 100[Parallel(n_jobs=-1)]: Done  54 tasks      | elapsed:  3.2min\n",
            "\n",
            "building tree 67 of 100[Parallel(n_jobs=-1)]: Done  55 tasks      | elapsed:  3.3min\n",
            "\n",
            "building tree 68 of 100[Parallel(n_jobs=-1)]: Done  56 tasks      | elapsed:  3.3min\n",
            "\n",
            "building tree 69 of 100[Parallel(n_jobs=-1)]: Done  57 tasks      | elapsed:  3.3min\n",
            "\n",
            "building tree 70 of 100[Parallel(n_jobs=-1)]: Done  58 tasks      | elapsed:  3.3min\n",
            "\n",
            "building tree 71 of 100[Parallel(n_jobs=-1)]: Done  59 tasks      | elapsed:  3.3min\n",
            "\n",
            "building tree 72 of 100[Parallel(n_jobs=-1)]: Done  60 tasks      | elapsed:  3.3min\n",
            "\n",
            "building tree 73 of 100[Parallel(n_jobs=-1)]: Done  61 tasks      | elapsed:  3.7min\n",
            "\n",
            "building tree 74 of 100[Parallel(n_jobs=-1)]: Done  62 tasks      | elapsed:  3.8min\n",
            "\n",
            "building tree 75 of 100[Parallel(n_jobs=-1)]: Done  63 tasks      | elapsed:  3.8min\n",
            "\n",
            "building tree 76 of 100[Parallel(n_jobs=-1)]: Done  64 tasks      | elapsed:  3.9min\n",
            "\n",
            "building tree 77 of 100[Parallel(n_jobs=-1)]: Done  65 tasks      | elapsed:  3.9min\n",
            "\n",
            "building tree 78 of 100[Parallel(n_jobs=-1)]: Done  66 tasks      | elapsed:  3.9min\n",
            "\n",
            "building tree 79 of 100[Parallel(n_jobs=-1)]: Done  67 tasks      | elapsed:  3.9min\n",
            "\n",
            "building tree 80 of 100[Parallel(n_jobs=-1)]: Done  68 tasks      | elapsed:  3.9min\n",
            "\n",
            "building tree 81 of 100[Parallel(n_jobs=-1)]: Done  69 tasks      | elapsed:  3.9min\n",
            "\n",
            "building tree 82 of 100[Parallel(n_jobs=-1)]: Done  70 tasks      | elapsed:  3.9min\n",
            "\n",
            "building tree 83 of 100[Parallel(n_jobs=-1)]: Done  71 tasks      | elapsed:  4.0min\n",
            "\n",
            "building tree 84 of 100[Parallel(n_jobs=-1)]: Done  72 tasks      | elapsed:  4.0min\n",
            "\n",
            "building tree 85 of 100[Parallel(n_jobs=-1)]: Done  73 tasks      | elapsed:  4.4min\n",
            "\n",
            "building tree 86 of 100[Parallel(n_jobs=-1)]: Done  74 tasks      | elapsed:  4.4min\n",
            "\n",
            "building tree 87 of 100[Parallel(n_jobs=-1)]: Done  75 tasks      | elapsed:  4.5min\n",
            "\n",
            "building tree 88 of 100[Parallel(n_jobs=-1)]: Done  76 tasks      | elapsed:  4.5min\n",
            "\n",
            "building tree 89 of 100[Parallel(n_jobs=-1)]: Done  77 tasks      | elapsed:  4.5min\n",
            "\n",
            "building tree 90 of 100\n",
            "building tree 91 of 100[Parallel(n_jobs=-1)]: Done  79 out of 100 | elapsed:  4.5min remaining:  1.2min\n",
            "\n",
            "building tree 92 of 100\n",
            "building tree 93 of 100[Parallel(n_jobs=-1)]: Done  81 out of 100 | elapsed:  4.6min remaining:  1.1min\n",
            "\n",
            "building tree 94 of 100\n",
            "building tree 95 of 100[Parallel(n_jobs=-1)]: Done  83 out of 100 | elapsed:  4.6min remaining:   57.0s\n",
            "\n",
            "building tree 96 of 100\n",
            "building tree 97 of 100[Parallel(n_jobs=-1)]: Done  85 out of 100 | elapsed:  5.0min remaining:   52.8s\n",
            "\n",
            "building tree 98 of 100\n",
            "building tree 99 of 100[Parallel(n_jobs=-1)]: Done  87 out of 100 | elapsed:  5.1min remaining:   45.5s\n",
            "\n",
            "building tree 100 of 100\n",
            "[Parallel(n_jobs=-1)]: Done  89 out of 100 | elapsed:  5.1min remaining:   37.9s\n",
            "[Parallel(n_jobs=-1)]: Done  91 out of 100 | elapsed:  5.2min remaining:   30.6s\n",
            "[Parallel(n_jobs=-1)]: Done  93 out of 100 | elapsed:  5.2min remaining:   23.4s\n",
            "[Parallel(n_jobs=-1)]: Done  95 out of 100 | elapsed:  5.2min remaining:   16.5s\n",
            "[Parallel(n_jobs=-1)]: Done  97 out of 100 | elapsed:  5.5min remaining:   10.1s\n",
            "[Parallel(n_jobs=-1)]: Done 100 out of 100 | elapsed:  5.5min finished\n"
          ]
        }
      ]
    },
    {
      "cell_type": "markdown",
      "source": [
        "##Results"
      ],
      "metadata": {
        "id": "z6zjvkWIwcNh"
      }
    },
    {
      "cell_type": "code",
      "source": [
        "val_text = df_validation['description'] + df_validation['title'] + df_validation['tags']\n",
        "val_text = val_text.fillna('').values\n",
        "val_labels = df_validation['top_category_text'].values"
      ],
      "metadata": {
        "id": "ZirMSyq8wcNh"
      },
      "execution_count": null,
      "outputs": []
    },
    {
      "cell_type": "code",
      "source": [
        "predictions = text_clf.predict(val_text)"
      ],
      "metadata": {
        "colab": {
          "base_uri": "https://localhost:8080/"
        },
        "outputId": "2067eba6-9563-443f-92f9-b06258c3fe69",
        "id": "T_WgD1V-wcNh"
      },
      "execution_count": null,
      "outputs": [
        {
          "output_type": "stream",
          "name": "stdout",
          "text": [
            "[Parallel(n_jobs=12)]: Using backend ThreadingBackend with 12 concurrent workers.\n",
            "[Parallel(n_jobs=12)]: Done   1 tasks      | elapsed:    0.1s\n",
            "[Parallel(n_jobs=12)]: Done   2 tasks      | elapsed:    0.1s\n",
            "[Parallel(n_jobs=12)]: Done   3 tasks      | elapsed:    0.1s\n",
            "[Parallel(n_jobs=12)]: Done   4 tasks      | elapsed:    0.1s\n",
            "[Parallel(n_jobs=12)]: Done   5 tasks      | elapsed:    0.1s\n",
            "[Parallel(n_jobs=12)]: Done   6 tasks      | elapsed:    0.1s\n",
            "[Parallel(n_jobs=12)]: Done   7 tasks      | elapsed:    0.1s\n",
            "[Parallel(n_jobs=12)]: Done   8 tasks      | elapsed:    0.1s\n",
            "[Parallel(n_jobs=12)]: Done   9 tasks      | elapsed:    0.1s\n",
            "[Parallel(n_jobs=12)]: Done  10 tasks      | elapsed:    0.1s\n",
            "[Parallel(n_jobs=12)]: Done  11 tasks      | elapsed:    0.1s\n",
            "[Parallel(n_jobs=12)]: Done  12 tasks      | elapsed:    0.1s\n",
            "[Parallel(n_jobs=12)]: Done  13 tasks      | elapsed:    0.2s\n",
            "[Parallel(n_jobs=12)]: Done  14 tasks      | elapsed:    0.2s\n",
            "[Parallel(n_jobs=12)]: Done  15 tasks      | elapsed:    0.2s\n",
            "[Parallel(n_jobs=12)]: Done  16 tasks      | elapsed:    0.2s\n",
            "[Parallel(n_jobs=12)]: Done  17 tasks      | elapsed:    0.2s\n",
            "[Parallel(n_jobs=12)]: Done  18 tasks      | elapsed:    0.2s\n",
            "[Parallel(n_jobs=12)]: Done  19 tasks      | elapsed:    0.3s\n",
            "[Parallel(n_jobs=12)]: Done  20 tasks      | elapsed:    0.3s\n",
            "[Parallel(n_jobs=12)]: Done  21 tasks      | elapsed:    0.3s\n",
            "[Parallel(n_jobs=12)]: Done  22 tasks      | elapsed:    0.3s\n",
            "[Parallel(n_jobs=12)]: Done  23 tasks      | elapsed:    0.3s\n",
            "[Parallel(n_jobs=12)]: Done  24 tasks      | elapsed:    0.3s\n",
            "[Parallel(n_jobs=12)]: Done  25 tasks      | elapsed:    0.4s\n",
            "[Parallel(n_jobs=12)]: Done  26 tasks      | elapsed:    0.4s\n",
            "[Parallel(n_jobs=12)]: Done  27 tasks      | elapsed:    0.4s\n",
            "[Parallel(n_jobs=12)]: Done  28 tasks      | elapsed:    0.4s\n",
            "[Parallel(n_jobs=12)]: Done  29 tasks      | elapsed:    0.4s\n",
            "[Parallel(n_jobs=12)]: Done  30 tasks      | elapsed:    0.4s\n",
            "[Parallel(n_jobs=12)]: Done  31 tasks      | elapsed:    0.4s\n",
            "[Parallel(n_jobs=12)]: Done  32 tasks      | elapsed:    0.4s\n",
            "[Parallel(n_jobs=12)]: Done  33 tasks      | elapsed:    0.4s\n",
            "[Parallel(n_jobs=12)]: Done  34 tasks      | elapsed:    0.4s\n",
            "[Parallel(n_jobs=12)]: Done  35 tasks      | elapsed:    0.4s\n",
            "[Parallel(n_jobs=12)]: Done  36 tasks      | elapsed:    0.4s\n",
            "[Parallel(n_jobs=12)]: Done  37 tasks      | elapsed:    0.5s\n",
            "[Parallel(n_jobs=12)]: Done  38 tasks      | elapsed:    0.5s\n",
            "[Parallel(n_jobs=12)]: Done  39 tasks      | elapsed:    0.5s\n",
            "[Parallel(n_jobs=12)]: Done  40 tasks      | elapsed:    0.5s\n",
            "[Parallel(n_jobs=12)]: Done  41 tasks      | elapsed:    0.5s\n",
            "[Parallel(n_jobs=12)]: Done  42 tasks      | elapsed:    0.5s\n",
            "[Parallel(n_jobs=12)]: Done  43 tasks      | elapsed:    0.5s\n",
            "[Parallel(n_jobs=12)]: Done  44 tasks      | elapsed:    0.5s\n",
            "[Parallel(n_jobs=12)]: Done  45 tasks      | elapsed:    0.5s\n",
            "[Parallel(n_jobs=12)]: Done  46 tasks      | elapsed:    0.5s\n",
            "[Parallel(n_jobs=12)]: Done  47 tasks      | elapsed:    0.5s\n",
            "[Parallel(n_jobs=12)]: Done  48 tasks      | elapsed:    0.5s\n",
            "[Parallel(n_jobs=12)]: Done  49 tasks      | elapsed:    0.6s\n",
            "[Parallel(n_jobs=12)]: Done  50 tasks      | elapsed:    0.6s\n",
            "[Parallel(n_jobs=12)]: Done  51 tasks      | elapsed:    0.6s\n",
            "[Parallel(n_jobs=12)]: Done  52 tasks      | elapsed:    0.6s\n",
            "[Parallel(n_jobs=12)]: Done  53 tasks      | elapsed:    0.6s\n",
            "[Parallel(n_jobs=12)]: Done  54 tasks      | elapsed:    0.6s\n",
            "[Parallel(n_jobs=12)]: Done  55 tasks      | elapsed:    0.6s\n",
            "[Parallel(n_jobs=12)]: Done  56 tasks      | elapsed:    0.6s\n",
            "[Parallel(n_jobs=12)]: Done  57 tasks      | elapsed:    0.6s\n",
            "[Parallel(n_jobs=12)]: Done  58 tasks      | elapsed:    0.6s\n",
            "[Parallel(n_jobs=12)]: Done  59 tasks      | elapsed:    0.6s\n",
            "[Parallel(n_jobs=12)]: Done  60 tasks      | elapsed:    0.6s\n",
            "[Parallel(n_jobs=12)]: Done  61 tasks      | elapsed:    0.7s\n",
            "[Parallel(n_jobs=12)]: Done  62 tasks      | elapsed:    0.7s\n",
            "[Parallel(n_jobs=12)]: Done  63 tasks      | elapsed:    0.7s\n",
            "[Parallel(n_jobs=12)]: Done  64 tasks      | elapsed:    0.7s\n",
            "[Parallel(n_jobs=12)]: Done  65 tasks      | elapsed:    0.7s\n",
            "[Parallel(n_jobs=12)]: Done  66 tasks      | elapsed:    0.7s\n",
            "[Parallel(n_jobs=12)]: Done  67 tasks      | elapsed:    0.7s\n",
            "[Parallel(n_jobs=12)]: Done  68 tasks      | elapsed:    0.7s\n",
            "[Parallel(n_jobs=12)]: Done  69 tasks      | elapsed:    0.7s\n",
            "[Parallel(n_jobs=12)]: Done  70 tasks      | elapsed:    0.7s\n",
            "[Parallel(n_jobs=12)]: Done  71 tasks      | elapsed:    0.7s\n",
            "[Parallel(n_jobs=12)]: Done  72 tasks      | elapsed:    0.7s\n",
            "[Parallel(n_jobs=12)]: Done  73 tasks      | elapsed:    0.8s\n",
            "[Parallel(n_jobs=12)]: Done  74 tasks      | elapsed:    0.8s\n",
            "[Parallel(n_jobs=12)]: Done  75 tasks      | elapsed:    0.8s\n",
            "[Parallel(n_jobs=12)]: Done  76 tasks      | elapsed:    0.8s\n",
            "[Parallel(n_jobs=12)]: Done  77 tasks      | elapsed:    0.8s\n",
            "[Parallel(n_jobs=12)]: Done  79 out of 100 | elapsed:    0.9s remaining:    0.2s\n",
            "[Parallel(n_jobs=12)]: Done  81 out of 100 | elapsed:    0.9s remaining:    0.2s\n",
            "[Parallel(n_jobs=12)]: Done  83 out of 100 | elapsed:    0.9s remaining:    0.2s\n",
            "[Parallel(n_jobs=12)]: Done  85 out of 100 | elapsed:    1.0s remaining:    0.2s\n",
            "[Parallel(n_jobs=12)]: Done  87 out of 100 | elapsed:    1.0s remaining:    0.1s\n",
            "[Parallel(n_jobs=12)]: Done  89 out of 100 | elapsed:    1.0s remaining:    0.1s\n",
            "[Parallel(n_jobs=12)]: Done  91 out of 100 | elapsed:    1.0s remaining:    0.1s\n",
            "[Parallel(n_jobs=12)]: Done  93 out of 100 | elapsed:    1.0s remaining:    0.1s\n",
            "[Parallel(n_jobs=12)]: Done  95 out of 100 | elapsed:    1.0s remaining:    0.1s\n",
            "[Parallel(n_jobs=12)]: Done  97 out of 100 | elapsed:    1.0s remaining:    0.0s\n",
            "[Parallel(n_jobs=12)]: Done 100 out of 100 | elapsed:    1.0s finished\n"
          ]
        }
      ]
    },
    {
      "cell_type": "code",
      "source": [
        "from sklearn.metrics import classification_report"
      ],
      "metadata": {
        "id": "tsNOwhE3wcNi"
      },
      "execution_count": null,
      "outputs": []
    },
    {
      "cell_type": "code",
      "source": [
        "print(classification_report(val_labels,predictions))"
      ],
      "metadata": {
        "id": "3PyKYKnUwcNi"
      },
      "execution_count": null,
      "outputs": []
    },
    {
      "cell_type": "code",
      "source": [
        "f1 = metrics.f1_score(val_labels, predictions, average='weighted')"
      ],
      "metadata": {
        "id": "AkPAL3nLwcNi"
      },
      "execution_count": null,
      "outputs": []
    },
    {
      "cell_type": "code",
      "source": [
        "\n",
        "f\"F1 score: {f1:.4f}\""
      ],
      "metadata": {
        "colab": {
          "base_uri": "https://localhost:8080/",
          "height": 35
        },
        "outputId": "265fe31c-467e-4f5c-aaf3-82bd91c91c73",
        "id": "fRHr-vCxwcNj"
      },
      "execution_count": null,
      "outputs": [
        {
          "output_type": "execute_result",
          "data": {
            "text/plain": [
              "'F1 score: 0.7057'"
            ],
            "application/vnd.google.colaboratory.intrinsic+json": {
              "type": "string"
            }
          },
          "metadata": {},
          "execution_count": 34
        }
      ]
    },
    {
      "cell_type": "code",
      "source": [
        "metrics.confusion_matrix(val_labels, predictions)"
      ],
      "metadata": {
        "colab": {
          "base_uri": "https://localhost:8080/"
        },
        "outputId": "dca43fd1-c48e-4d87-fc41-cfcaeebc61f3",
        "id": "HYupsJ9BwcNj"
      },
      "execution_count": null,
      "outputs": [
        {
          "output_type": "execute_result",
          "data": {
            "text/plain": [
              "array([[ 1180,     0,     1,    17,     1,   355,   163,     3,   677,\n",
              "           32,     3,     6,     5,     6,    73],\n",
              "       [    2,   450,     0,     0,     5,    32,   167,     2,  1014,\n",
              "            0,    33,     8,     2,    29,     4],\n",
              "       [    4,     0,   632,     3,     0,    58,    62,     2,   550,\n",
              "            5,     4,     0,     2,     2,     5],\n",
              "       [    7,     0,     7,  1438,     0,    91,   109,     0,   809,\n",
              "            5,     9,     2,     0,     7,     1],\n",
              "       [    1,     0,     3,     0,   864,    12,   106,     3,   436,\n",
              "            4,    33,     2,     1,     9,     2],\n",
              "       [   11,     0,     1,     3,     0,  5288,    14,     0,  1070,\n",
              "            0,     1,     2,     5,     2,     9],\n",
              "       [   12,    23,     3,    16,    14,    37,  6183,     6,  2069,\n",
              "           27,    39,     4,    17,    13,     7],\n",
              "       [    1,     0,     8,     2,     2,     5,    99,   929,   565,\n",
              "            1,    14,     1,     0,     8,     0],\n",
              "       [    2,    14,     6,     8,     9,    75,   199,     6, 10245,\n",
              "           13,    34,     9,     1,    12,     7],\n",
              "       [   12,     1,     0,     1,     1,    19,   131,     2,   434,\n",
              "         1269,     0,     3,     9,     3,     6],\n",
              "       [    2,     3,     4,     3,     4,    17,   185,     7,   502,\n",
              "            0,  1411,     2,     0,     3,    19],\n",
              "       [    3,     1,     1,    11,     0,    61,    24,     0,   348,\n",
              "            7,     2,   837,     0,    14,     1],\n",
              "       [    1,     0,     0,     0,     0,    58,    11,     0,   372,\n",
              "            1,     0,     0,  1620,     2,     6],\n",
              "       [   12,     2,     9,     2,    12,   109,   146,     5,  1112,\n",
              "            9,    29,     1,    10,  1423,     4],\n",
              "       [   54,     3,    13,     9,     0,   196,    61,     0,   575,\n",
              "          102,   131,     0,    31,     1,   891]])"
            ]
          },
          "metadata": {},
          "execution_count": 35
        }
      ]
    },
    {
      "cell_type": "markdown",
      "source": [
        "Since I am **not** getting better F1 for bottom category with Random forest as compared to BERT. I will **not**  be using this model for my final predictions for submission.\n",
        "Will stick to BERT"
      ],
      "metadata": {
        "id": "yZ5gzxtGwcNn"
      }
    },
    {
      "cell_type": "code",
      "source": [],
      "metadata": {
        "id": "-LCk39EqwcNn"
      },
      "execution_count": null,
      "outputs": []
    },
    {
      "cell_type": "markdown",
      "metadata": {
        "id": "_2Tz_KLyzH-l"
      },
      "source": [
        "# Color With Random Forest"
      ]
    },
    {
      "cell_type": "markdown",
      "source": [],
      "metadata": {
        "id": "OlOqBPDazH-m"
      }
    },
    {
      "cell_type": "code",
      "source": [
        "# libraries\n",
        "import io\n",
        "import os\n",
        "from datetime import datetime\n",
        "import pandas as pd\n",
        "import numpy as np\n",
        "import tensorflow as tf\n",
        "import matplotlib.pyplot as plt\n",
        "import matplotlib.image as mpimg\n",
        "from sklearn import metrics\n",
        "\n",
        "# Matplotlib configuration\n",
        "font = { 'family': 'DejaVu Sans', 'weight': 'bold', 'size': 16 }\n",
        "plt.rc('font', **font)"
      ],
      "metadata": {
        "id": "nFvM7DQSzH-m"
      },
      "execution_count": null,
      "outputs": []
    },
    {
      "cell_type": "code",
      "source": [
        "# set random seed\n",
        "np.random.seed(seed=42)"
      ],
      "metadata": {
        "id": "3LPfNCV0zH-n"
      },
      "execution_count": null,
      "outputs": []
    },
    {
      "cell_type": "markdown",
      "source": [
        "##Preprocessing"
      ],
      "metadata": {
        "id": "WukpKntUzH-n"
      }
    },
    {
      "cell_type": "markdown",
      "source": [
        "This cleaning and preprocessing is from https://github.com/rkj43/Jigsaw_Toxic_Comment_Classification/blob/main/Jigsaw_Classification_CA683.ipynb.\n",
        "(That's my Github. I have used the same preprocessing here. It is a modified version of the preprocessing in this notebook https://www.kaggle.com/code/floevan/dl-and-ml-for-nlp/notebook#SIMPLE-RNN)"
      ],
      "metadata": {
        "id": "sMFW0OJzIl_a"
      }
    },
    {
      "cell_type": "code",
      "source": [
        "from nltk.corpus import stopwords\n",
        "import nltk\n",
        "import re\n",
        "import string, collections\n",
        "from nltk.stem.snowball import EnglishStemmer\n",
        "from nltk.stem import WordNetLemmatizer\n",
        "nltk.download(\"stopwords\")\n",
        "stop_words = set(stopwords.words('english'))\n",
        "tokenizer = nltk.tokenize.RegexpTokenizer(r'\\w+')\n",
        "stemmer = EnglishStemmer()\n",
        "lemmatizer = WordNetLemmatizer()\n",
        "\n",
        "def clean_text(text):\n",
        "    text = text.lower() #make text lowercase and fill na\n",
        "    text = re.sub('\\[.*?\\]', '', text)\n",
        "    text = re.sub('\\\\n', '',str(text))\n",
        "    text = re.sub(\"\\[\\[User.*\",'',str(text))\n",
        "    text = re.sub(\"\\d{1,3}\\.\\d{1,3}\\.\\d{1,3}\\.\\d{1,3}\",'',str(text))\n",
        "    text = re.sub('http[s]?://(?:[a-zA-Z]|[0-9]|[$-_@.&+]|[!*\\(\\),]|(?:%[0-9a-fA-F][0-9a-fA-F]))+', '', text) #remove hyperlinks\n",
        "    text = re.sub(r'\\:(.*?)\\:', '', text) #remove emoticones\n",
        "    text = re.sub(r'[\\w\\.-]+@[\\w\\.-]+', '', str(text)) #remove email\n",
        "    text = re.sub(r'(?<=@)\\w+', '', text) #remove @\n",
        "    text = re.sub(r'[0-9]+', '', text) #remove numbers\n",
        "    text = re.sub(\"[^A-Za-z0-9 ]\", '', text) #remove non alphanumeric like ['@', '#', '.', '(', ')']\n",
        "    text = re.sub(r'[!\"\\$%&\\'()*+,\\-.\\/:;=#@?\\[\\\\\\]^_`{|}~]*', '', text) #remove punctuations from sentences\n",
        "    text = re.sub('<.*?>+', '', str(text))\n",
        "    text = re.sub('[%s]' % re.escape(string.punctuation), '', str(text))\n",
        "    text = re.sub('\\w*\\d\\w*', '', str(text))\n",
        "    text = tokenizer.tokenize(text)\n",
        "    text = [word for word in text if not word in stop_words]\n",
        "    #text = [lemmatizer.lemmatize(word) for word in text]\n",
        "    text = [stemmer.stem(word) for word in text]\n",
        "    final_text = ' '.join( [w for w in text if len(w)>1] ) #remove word with one letter\n",
        "    return final_text"
      ],
      "metadata": {
        "colab": {
          "base_uri": "https://localhost:8080/"
        },
        "outputId": "bb27d2c9-3a6f-4204-b161-bd3e9beea94d",
        "id": "z-rcfA3PzH-o"
      },
      "execution_count": null,
      "outputs": [
        {
          "output_type": "stream",
          "name": "stderr",
          "text": [
            "[nltk_data] Downloading package stopwords to /root/nltk_data...\n",
            "[nltk_data]   Package stopwords is already up-to-date!\n"
          ]
        }
      ]
    },
    {
      "cell_type": "markdown",
      "source": [
        "Color ID 8 or Color Grey has only one value/row in the training dataset. Therefore I am dropping it"
      ],
      "metadata": {
        "id": "nqm-jYiczyov"
      }
    },
    {
      "cell_type": "code",
      "source": [
        "data_train = data_train[data_train['color_id'] != 8]"
      ],
      "metadata": {
        "id": "0tFqt-hWzsrZ"
      },
      "execution_count": null,
      "outputs": []
    },
    {
      "cell_type": "code",
      "source": [
        "data_train['description']=data_train['description'].fillna('')"
      ],
      "metadata": {
        "id": "ZT5W0g2ezH-p"
      },
      "execution_count": null,
      "outputs": []
    },
    {
      "cell_type": "code",
      "source": [
        "data_test['description']=data_test['description'].fillna('')"
      ],
      "metadata": {
        "id": "wzGKnjVIzH-p"
      },
      "execution_count": null,
      "outputs": []
    },
    {
      "cell_type": "code",
      "source": [
        "from sklearn.model_selection import train_test_split\n",
        "\n",
        "df_training, df_validation = train_test_split(\n",
        "    data_train,\n",
        "    test_size=0.2,\n",
        "    stratify=data_train['color_text'],\n",
        "    random_state=42)"
      ],
      "metadata": {
        "id": "TFdqW-Z_zH-p"
      },
      "execution_count": null,
      "outputs": []
    },
    {
      "cell_type": "code",
      "source": [
        "df_training['description']=df_training['description'].fillna('')\n",
        "df_validation['description']=df_validation['description'].fillna('')\n"
      ],
      "metadata": {
        "id": "t9MCJp7jzH-q"
      },
      "execution_count": null,
      "outputs": []
    },
    {
      "cell_type": "code",
      "source": [
        "df_training['title']=df_training['title'].fillna('')\n",
        "df_validation['title']=df_validation['title'].fillna('')\n"
      ],
      "metadata": {
        "id": "wUf3UNs_zH-q"
      },
      "execution_count": null,
      "outputs": []
    },
    {
      "cell_type": "code",
      "source": [
        "# df_training['description'] = df_training['description'].apply(lambda x : clean_text(x))\n",
        "# df_training['title'] = df_training['title'].apply(lambda x : clean_text(x))"
      ],
      "metadata": {
        "id": "3hDczBQczH-r"
      },
      "execution_count": null,
      "outputs": []
    },
    {
      "cell_type": "code",
      "source": [
        "# df_validation['description'] = df_validation['description'].apply(lambda x : clean_text(x))\n",
        "# df_validation['title'] = df_validation['title'].apply(lambda x : clean_text(x))"
      ],
      "metadata": {
        "id": "GO7J6UGNzH-r"
      },
      "execution_count": null,
      "outputs": []
    },
    {
      "cell_type": "code",
      "source": [
        "f\"Number of products for training: {len(df_training):,}\""
      ],
      "metadata": {
        "colab": {
          "base_uri": "https://localhost:8080/",
          "height": 35
        },
        "outputId": "548b723a-8b60-4624-c2cd-a71344cfc4fa",
        "id": "9LbYo34xzH-r"
      },
      "execution_count": null,
      "outputs": [
        {
          "output_type": "execute_result",
          "data": {
            "text/plain": [
              "'Number of products for training: 196,387'"
            ],
            "application/vnd.google.colaboratory.intrinsic+json": {
              "type": "string"
            }
          },
          "metadata": {},
          "execution_count": 14
        }
      ]
    },
    {
      "cell_type": "code",
      "source": [
        "f\"Number of products for validation: {len(df_validation):,}\""
      ],
      "metadata": {
        "colab": {
          "base_uri": "https://localhost:8080/",
          "height": 35
        },
        "outputId": "d7f8e647-a363-4e47-c2d7-56d83096564a",
        "id": "HbgPcDWszH-s"
      },
      "execution_count": null,
      "outputs": [
        {
          "output_type": "execute_result",
          "data": {
            "text/plain": [
              "'Number of products for validation: 49,097'"
            ],
            "application/vnd.google.colaboratory.intrinsic+json": {
              "type": "string"
            }
          },
          "metadata": {},
          "execution_count": 15
        }
      ]
    },
    {
      "cell_type": "markdown",
      "source": [
        "## Training\n",
        "\n",
        "- processes the text using `CountVectorizer`, that builds a dictionary of features and transforms documents to feature vectors\n",
        "- extracts term frequencies and inverse document frequencies using `TfidfTransformer`, (see [TF-IDF](https://en.wikipedia.org/wiki/Tf%E2%80%93idf))\n",
        "- trains a Random forest classifer, which gives us a nice baseline\n",
        "\n",
        "This is similar to the one david provided but I have made some changes to run things parallely and also I am using random forest instead of native bayes.\n",
        "Links I have referred for the codes :\n",
        "- https://scikit-learn.org/stable/modules/tree.html\n",
        "- https://scikit-learn.org/stable/modules/generated/sklearn.ensemble.RandomForestClassifier.html\n",
        "- https://stackoverflow.com/questions/60080806/how-to-run-2-pipelines-in-parallel-in-scikit-learn-or-neuraxle\n",
        "- https://www.kaggle.com/questions-and-answers/160593"
      ],
      "metadata": {
        "id": "dAj8281-zH-s"
      }
    },
    {
      "cell_type": "code",
      "source": [
        "from sklearn.ensemble import RandomForestClassifier\n",
        "from sklearn.datasets import make_classification\n"
      ],
      "metadata": {
        "id": "s31sAhBizH-t"
      },
      "execution_count": null,
      "outputs": []
    },
    {
      "cell_type": "code",
      "source": [
        "from sklearn.feature_extraction.text import CountVectorizer\n",
        "from sklearn.feature_extraction.text import TfidfTransformer\n",
        "from sklearn.naive_bayes import MultinomialNB\n",
        "from sklearn.pipeline import Pipeline\n",
        "\n",
        "text_clf = Pipeline([\n",
        "    ('vect', CountVectorizer()),\n",
        "    ('tfidf', TfidfTransformer()),\n",
        "    ('clf', RandomForestClassifier(verbose=100,n_jobs=-1,max_depth=200)),#n_jobs = -1 means use all cores, verbose is for logging , max_Depth to use lower depths so that we dont overfit the model\n",
        "])"
      ],
      "metadata": {
        "id": "mBrSH6xczH-t"
      },
      "execution_count": null,
      "outputs": []
    },
    {
      "cell_type": "code",
      "source": [
        "train_text = df_training['description'] + df_training['title'] + df_training['tags']"
      ],
      "metadata": {
        "id": "q1XJU5G3zH-t"
      },
      "execution_count": null,
      "outputs": []
    },
    {
      "cell_type": "code",
      "source": [
        "train_text = train_text.fillna('').values"
      ],
      "metadata": {
        "id": "5b4m1zt3zH-u"
      },
      "execution_count": null,
      "outputs": []
    },
    {
      "cell_type": "code",
      "source": [
        "train_labels = df_training['color_text'].values"
      ],
      "metadata": {
        "id": "hUyhdDBnzH-u"
      },
      "execution_count": null,
      "outputs": []
    },
    {
      "cell_type": "code",
      "source": [
        "X = train_text\n",
        "Y = train_labels\n",
        "\n",
        "text_clf = text_clf.fit(X, Y)"
      ],
      "metadata": {
        "colab": {
          "base_uri": "https://localhost:8080/"
        },
        "outputId": "343f24c4-f97a-4f9e-f75b-4244c93eb26e",
        "id": "BPNQfp3yzH-u"
      },
      "execution_count": null,
      "outputs": [
        {
          "output_type": "stream",
          "name": "stdout",
          "text": [
            "[Parallel(n_jobs=-1)]: Using backend ThreadingBackend with 12 concurrent workers.\n",
            "building tree 1 of 100\n",
            "building tree 2 of 100\n",
            "building tree 3 of 100\n",
            "building tree 4 of 100\n",
            "building tree 5 of 100\n",
            "building tree 6 of 100building tree 7 of 100\n",
            "building tree 8 of 100\n",
            "building tree 9 of 100\n",
            "\n",
            "building tree 10 of 100\n",
            "building tree 11 of 100\n",
            "building tree 12 of 100\n",
            "building tree 13 of 100[Parallel(n_jobs=-1)]: Done   1 tasks      | elapsed:  1.0min\n",
            "\n",
            "building tree 14 of 100[Parallel(n_jobs=-1)]: Done   2 tasks      | elapsed:  1.1min\n",
            "\n",
            "building tree 15 of 100[Parallel(n_jobs=-1)]: Done   3 tasks      | elapsed:  1.1min\n",
            "\n",
            "building tree 16 of 100[Parallel(n_jobs=-1)]: Done   4 tasks      | elapsed:  1.1min\n",
            "\n",
            "building tree 17 of 100[Parallel(n_jobs=-1)]: Done   5 tasks      | elapsed:  1.1min\n",
            "\n",
            "building tree 18 of 100[Parallel(n_jobs=-1)]: Done   6 tasks      | elapsed:  1.1min\n",
            "\n",
            "building tree 19 of 100[Parallel(n_jobs=-1)]: Done   7 tasks      | elapsed:  1.1min\n",
            "\n",
            "building tree 20 of 100[Parallel(n_jobs=-1)]: Done   8 tasks      | elapsed:  1.1min\n",
            "\n",
            "building tree 21 of 100[Parallel(n_jobs=-1)]: Done   9 tasks      | elapsed:  1.1min\n",
            "\n",
            "building tree 22 of 100[Parallel(n_jobs=-1)]: Done  10 tasks      | elapsed:  1.1min\n",
            "\n",
            "building tree 23 of 100[Parallel(n_jobs=-1)]: Done  11 tasks      | elapsed:  1.1min\n",
            "\n",
            "building tree 24 of 100[Parallel(n_jobs=-1)]: Done  12 tasks      | elapsed:  1.1min\n",
            "\n",
            "building tree 25 of 100[Parallel(n_jobs=-1)]: Done  13 tasks      | elapsed:  2.0min\n",
            "\n",
            "building tree 26 of 100[Parallel(n_jobs=-1)]: Done  14 tasks      | elapsed:  2.1min\n",
            "\n",
            "building tree 27 of 100[Parallel(n_jobs=-1)]: Done  15 tasks      | elapsed:  2.1min\n",
            "\n",
            "building tree 28 of 100[Parallel(n_jobs=-1)]: Done  16 tasks      | elapsed:  2.1min\n",
            "\n",
            "building tree 29 of 100[Parallel(n_jobs=-1)]: Done  17 tasks      | elapsed:  2.1min\n",
            "\n",
            "building tree 30 of 100[Parallel(n_jobs=-1)]: Done  18 tasks      | elapsed:  2.1min\n",
            "\n",
            "building tree 31 of 100[Parallel(n_jobs=-1)]: Done  19 tasks      | elapsed:  2.2min\n",
            "\n",
            "building tree 32 of 100[Parallel(n_jobs=-1)]: Done  20 tasks      | elapsed:  2.2min\n",
            "\n",
            "building tree 33 of 100[Parallel(n_jobs=-1)]: Done  21 tasks      | elapsed:  2.2min\n",
            "\n",
            "building tree 34 of 100[Parallel(n_jobs=-1)]: Done  22 tasks      | elapsed:  2.2min\n",
            "\n",
            "building tree 35 of 100[Parallel(n_jobs=-1)]: Done  23 tasks      | elapsed:  2.2min\n",
            "\n",
            "building tree 36 of 100[Parallel(n_jobs=-1)]: Done  24 tasks      | elapsed:  2.2min\n",
            "\n",
            "building tree 37 of 100[Parallel(n_jobs=-1)]: Done  25 tasks      | elapsed:  3.1min\n",
            "\n",
            "building tree 38 of 100[Parallel(n_jobs=-1)]: Done  26 tasks      | elapsed:  3.1min\n",
            "\n",
            "building tree 39 of 100[Parallel(n_jobs=-1)]: Done  27 tasks      | elapsed:  3.1min\n",
            "\n",
            "building tree 40 of 100[Parallel(n_jobs=-1)]: Done  28 tasks      | elapsed:  3.1min\n",
            "\n",
            "building tree 41 of 100[Parallel(n_jobs=-1)]: Done  29 tasks      | elapsed:  3.1min\n",
            "\n",
            "building tree 42 of 100[Parallel(n_jobs=-1)]: Done  30 tasks      | elapsed:  3.2min\n",
            "\n",
            "building tree 43 of 100[Parallel(n_jobs=-1)]: Done  31 tasks      | elapsed:  3.2min\n",
            "\n",
            "building tree 44 of 100[Parallel(n_jobs=-1)]: Done  32 tasks      | elapsed:  3.2min\n",
            "\n",
            "building tree 45 of 100[Parallel(n_jobs=-1)]: Done  33 tasks      | elapsed:  3.2min\n",
            "\n",
            "building tree 46 of 100[Parallel(n_jobs=-1)]: Done  34 tasks      | elapsed:  3.2min\n",
            "\n",
            "building tree 47 of 100[Parallel(n_jobs=-1)]: Done  35 tasks      | elapsed:  3.2min\n",
            "\n",
            "building tree 48 of 100[Parallel(n_jobs=-1)]: Done  36 tasks      | elapsed:  3.3min\n",
            "\n",
            "building tree 49 of 100[Parallel(n_jobs=-1)]: Done  37 tasks      | elapsed:  4.1min\n",
            "\n",
            "building tree 50 of 100[Parallel(n_jobs=-1)]: Done  38 tasks      | elapsed:  4.1min\n",
            "\n",
            "building tree 51 of 100[Parallel(n_jobs=-1)]: Done  39 tasks      | elapsed:  4.1min\n",
            "\n",
            "building tree 52 of 100[Parallel(n_jobs=-1)]: Done  40 tasks      | elapsed:  4.1min\n",
            "\n",
            "building tree 53 of 100[Parallel(n_jobs=-1)]: Done  41 tasks      | elapsed:  4.1min\n",
            "\n",
            "building tree 54 of 100[Parallel(n_jobs=-1)]: Done  42 tasks      | elapsed:  4.2min\n",
            "\n",
            "building tree 55 of 100[Parallel(n_jobs=-1)]: Done  43 tasks      | elapsed:  4.2min\n",
            "\n",
            "building tree 56 of 100[Parallel(n_jobs=-1)]: Done  44 tasks      | elapsed:  4.2min\n",
            "\n",
            "building tree 57 of 100[Parallel(n_jobs=-1)]: Done  45 tasks      | elapsed:  4.2min\n",
            "\n",
            "building tree 58 of 100[Parallel(n_jobs=-1)]: Done  46 tasks      | elapsed:  4.2min\n",
            "\n",
            "building tree 59 of 100[Parallel(n_jobs=-1)]: Done  47 tasks      | elapsed:  4.3min\n",
            "\n",
            "building tree 60 of 100[Parallel(n_jobs=-1)]: Done  48 tasks      | elapsed:  4.3min\n",
            "\n",
            "building tree 61 of 100[Parallel(n_jobs=-1)]: Done  49 tasks      | elapsed:  5.1min\n",
            "\n",
            "building tree 62 of 100[Parallel(n_jobs=-1)]: Done  50 tasks      | elapsed:  5.1min\n",
            "\n",
            "building tree 63 of 100[Parallel(n_jobs=-1)]: Done  51 tasks      | elapsed:  5.1min\n",
            "\n",
            "building tree 64 of 100[Parallel(n_jobs=-1)]: Done  52 tasks      | elapsed:  5.1min\n",
            "\n",
            "building tree 65 of 100[Parallel(n_jobs=-1)]: Done  53 tasks      | elapsed:  5.1min\n",
            "\n",
            "building tree 66 of 100[Parallel(n_jobs=-1)]: Done  54 tasks      | elapsed:  5.2min\n",
            "\n",
            "building tree 67 of 100[Parallel(n_jobs=-1)]: Done  55 tasks      | elapsed:  5.2min\n",
            "\n",
            "building tree 68 of 100[Parallel(n_jobs=-1)]: Done  56 tasks      | elapsed:  5.2min\n",
            "\n",
            "building tree 69 of 100[Parallel(n_jobs=-1)]: Done  57 tasks      | elapsed:  5.2min\n",
            "\n",
            "building tree 70 of 100[Parallel(n_jobs=-1)]: Done  58 tasks      | elapsed:  5.3min\n",
            "\n",
            "building tree 71 of 100[Parallel(n_jobs=-1)]: Done  59 tasks      | elapsed:  5.4min\n",
            "\n",
            "building tree 72 of 100[Parallel(n_jobs=-1)]: Done  60 tasks      | elapsed:  5.4min\n",
            "\n",
            "building tree 73 of 100[Parallel(n_jobs=-1)]: Done  61 tasks      | elapsed:  6.1min\n",
            "\n",
            "building tree 74 of 100[Parallel(n_jobs=-1)]: Done  62 tasks      | elapsed:  6.1min\n",
            "\n",
            "building tree 75 of 100[Parallel(n_jobs=-1)]: Done  63 tasks      | elapsed:  6.1min\n",
            "\n",
            "building tree 76 of 100[Parallel(n_jobs=-1)]: Done  64 tasks      | elapsed:  6.2min\n",
            "\n",
            "building tree 77 of 100[Parallel(n_jobs=-1)]: Done  65 tasks      | elapsed:  6.2min\n",
            "\n",
            "building tree 78 of 100[Parallel(n_jobs=-1)]: Done  66 tasks      | elapsed:  6.2min\n",
            "\n",
            "building tree 79 of 100[Parallel(n_jobs=-1)]: Done  67 tasks      | elapsed:  6.2min\n",
            "\n",
            "building tree 80 of 100[Parallel(n_jobs=-1)]: Done  68 tasks      | elapsed:  6.2min\n",
            "\n",
            "building tree 81 of 100[Parallel(n_jobs=-1)]: Done  69 tasks      | elapsed:  6.3min\n",
            "\n",
            "building tree 82 of 100[Parallel(n_jobs=-1)]: Done  70 tasks      | elapsed:  6.3min\n",
            "\n",
            "building tree 83 of 100\n",
            "[Parallel(n_jobs=-1)]: Done  71 tasks      | elapsed:  6.4min\n",
            "building tree 84 of 100[Parallel(n_jobs=-1)]: Done  72 tasks      | elapsed:  6.4min\n",
            "\n",
            "building tree 85 of 100[Parallel(n_jobs=-1)]: Done  73 tasks      | elapsed:  7.1min\n",
            "\n",
            "building tree 86 of 100[Parallel(n_jobs=-1)]: Done  74 tasks      | elapsed:  7.1min\n",
            "\n",
            "building tree 87 of 100[Parallel(n_jobs=-1)]: Done  75 tasks      | elapsed:  7.1min\n",
            "\n",
            "building tree 88 of 100[Parallel(n_jobs=-1)]: Done  76 tasks      | elapsed:  7.2min\n",
            "\n",
            "building tree 89 of 100[Parallel(n_jobs=-1)]: Done  77 tasks      | elapsed:  7.2min\n",
            "\n",
            "building tree 90 of 100\n",
            "building tree 91 of 100[Parallel(n_jobs=-1)]: Done  79 out of 100 | elapsed:  7.3min remaining:  1.9min\n",
            "\n",
            "building tree 92 of 100\n",
            "building tree 93 of 100[Parallel(n_jobs=-1)]: Done  81 out of 100 | elapsed:  7.3min remaining:  1.7min\n",
            "\n",
            "building tree 94 of 100\n",
            "building tree 95 of 100[Parallel(n_jobs=-1)]: Done  83 out of 100 | elapsed:  7.4min remaining:  1.5min\n",
            "\n",
            "building tree 96 of 100\n",
            "building tree 97 of 100[Parallel(n_jobs=-1)]: Done  85 out of 100 | elapsed:  8.1min remaining:  1.4min\n",
            "\n",
            "building tree 98 of 100\n",
            "building tree 99 of 100[Parallel(n_jobs=-1)]: Done  87 out of 100 | elapsed:  8.1min remaining:  1.2min\n",
            "\n",
            "building tree 100 of 100\n",
            "[Parallel(n_jobs=-1)]: Done  89 out of 100 | elapsed:  8.2min remaining:  1.0min\n",
            "[Parallel(n_jobs=-1)]: Done  91 out of 100 | elapsed:  8.3min remaining:   49.1s\n",
            "[Parallel(n_jobs=-1)]: Done  93 out of 100 | elapsed:  8.3min remaining:   37.6s\n",
            "[Parallel(n_jobs=-1)]: Done  95 out of 100 | elapsed:  8.4min remaining:   26.4s\n",
            "[Parallel(n_jobs=-1)]: Done  97 out of 100 | elapsed:  8.7min remaining:   16.2s\n",
            "[Parallel(n_jobs=-1)]: Done 100 out of 100 | elapsed:  8.8min finished\n"
          ]
        }
      ]
    },
    {
      "cell_type": "markdown",
      "source": [
        "##Results"
      ],
      "metadata": {
        "id": "mnvOJEd3zH-u"
      }
    },
    {
      "cell_type": "code",
      "source": [
        "val_text = df_validation['description'] + df_validation['title'] + df_validation['tags']\n",
        "val_text = val_text.fillna('').values\n",
        "val_labels = df_validation['color_text'].values"
      ],
      "metadata": {
        "id": "FzfvewrwzH-v"
      },
      "execution_count": null,
      "outputs": []
    },
    {
      "cell_type": "code",
      "source": [
        "predictions = text_clf.predict(val_text)"
      ],
      "metadata": {
        "colab": {
          "base_uri": "https://localhost:8080/"
        },
        "outputId": "f392d09b-73d9-438a-98b2-6ef9e3347e15",
        "id": "6wQdBHSQzH-v"
      },
      "execution_count": null,
      "outputs": [
        {
          "output_type": "stream",
          "name": "stdout",
          "text": [
            "[Parallel(n_jobs=12)]: Using backend ThreadingBackend with 12 concurrent workers.\n",
            "[Parallel(n_jobs=12)]: Done   1 tasks      | elapsed:    0.1s\n",
            "[Parallel(n_jobs=12)]: Done   2 tasks      | elapsed:    0.1s\n",
            "[Parallel(n_jobs=12)]: Done   3 tasks      | elapsed:    0.1s\n",
            "[Parallel(n_jobs=12)]: Done   4 tasks      | elapsed:    0.1s\n",
            "[Parallel(n_jobs=12)]: Done   5 tasks      | elapsed:    0.1s\n",
            "[Parallel(n_jobs=12)]: Done   6 tasks      | elapsed:    0.1s\n",
            "[Parallel(n_jobs=12)]: Done   7 tasks      | elapsed:    0.1s\n",
            "[Parallel(n_jobs=12)]: Done   8 tasks      | elapsed:    0.1s\n",
            "[Parallel(n_jobs=12)]: Done   9 tasks      | elapsed:    0.1s\n",
            "[Parallel(n_jobs=12)]: Done  10 tasks      | elapsed:    0.1s\n",
            "[Parallel(n_jobs=12)]: Done  11 tasks      | elapsed:    0.1s\n",
            "[Parallel(n_jobs=12)]: Done  12 tasks      | elapsed:    0.1s\n",
            "[Parallel(n_jobs=12)]: Done  13 tasks      | elapsed:    0.2s\n",
            "[Parallel(n_jobs=12)]: Done  14 tasks      | elapsed:    0.3s\n",
            "[Parallel(n_jobs=12)]: Done  15 tasks      | elapsed:    0.3s\n",
            "[Parallel(n_jobs=12)]: Done  16 tasks      | elapsed:    0.3s\n",
            "[Parallel(n_jobs=12)]: Done  17 tasks      | elapsed:    0.3s\n",
            "[Parallel(n_jobs=12)]: Done  18 tasks      | elapsed:    0.3s\n",
            "[Parallel(n_jobs=12)]: Done  19 tasks      | elapsed:    0.3s\n",
            "[Parallel(n_jobs=12)]: Done  20 tasks      | elapsed:    0.3s\n",
            "[Parallel(n_jobs=12)]: Done  21 tasks      | elapsed:    0.3s\n",
            "[Parallel(n_jobs=12)]: Done  22 tasks      | elapsed:    0.3s\n",
            "[Parallel(n_jobs=12)]: Done  23 tasks      | elapsed:    0.3s\n",
            "[Parallel(n_jobs=12)]: Done  24 tasks      | elapsed:    0.3s\n",
            "[Parallel(n_jobs=12)]: Done  25 tasks      | elapsed:    0.4s\n",
            "[Parallel(n_jobs=12)]: Done  26 tasks      | elapsed:    0.4s\n",
            "[Parallel(n_jobs=12)]: Done  27 tasks      | elapsed:    0.4s\n",
            "[Parallel(n_jobs=12)]: Done  28 tasks      | elapsed:    0.4s\n",
            "[Parallel(n_jobs=12)]: Done  29 tasks      | elapsed:    0.4s\n",
            "[Parallel(n_jobs=12)]: Done  30 tasks      | elapsed:    0.4s\n",
            "[Parallel(n_jobs=12)]: Done  31 tasks      | elapsed:    0.4s\n",
            "[Parallel(n_jobs=12)]: Done  32 tasks      | elapsed:    0.4s\n",
            "[Parallel(n_jobs=12)]: Done  33 tasks      | elapsed:    0.4s\n",
            "[Parallel(n_jobs=12)]: Done  34 tasks      | elapsed:    0.4s\n",
            "[Parallel(n_jobs=12)]: Done  35 tasks      | elapsed:    0.4s\n",
            "[Parallel(n_jobs=12)]: Done  36 tasks      | elapsed:    0.4s\n",
            "[Parallel(n_jobs=12)]: Done  37 tasks      | elapsed:    0.5s\n",
            "[Parallel(n_jobs=12)]: Done  38 tasks      | elapsed:    0.5s\n",
            "[Parallel(n_jobs=12)]: Done  39 tasks      | elapsed:    0.5s\n",
            "[Parallel(n_jobs=12)]: Done  40 tasks      | elapsed:    0.5s\n",
            "[Parallel(n_jobs=12)]: Done  41 tasks      | elapsed:    0.5s\n",
            "[Parallel(n_jobs=12)]: Done  42 tasks      | elapsed:    0.5s\n",
            "[Parallel(n_jobs=12)]: Done  43 tasks      | elapsed:    0.5s\n",
            "[Parallel(n_jobs=12)]: Done  44 tasks      | elapsed:    0.5s\n",
            "[Parallel(n_jobs=12)]: Done  45 tasks      | elapsed:    0.5s\n",
            "[Parallel(n_jobs=12)]: Done  46 tasks      | elapsed:    0.5s\n",
            "[Parallel(n_jobs=12)]: Done  47 tasks      | elapsed:    0.5s\n",
            "[Parallel(n_jobs=12)]: Done  48 tasks      | elapsed:    0.5s\n",
            "[Parallel(n_jobs=12)]: Done  49 tasks      | elapsed:    0.6s\n",
            "[Parallel(n_jobs=12)]: Done  50 tasks      | elapsed:    0.6s\n",
            "[Parallel(n_jobs=12)]: Done  51 tasks      | elapsed:    0.6s\n",
            "[Parallel(n_jobs=12)]: Done  52 tasks      | elapsed:    0.6s\n",
            "[Parallel(n_jobs=12)]: Done  53 tasks      | elapsed:    0.6s\n",
            "[Parallel(n_jobs=12)]: Done  54 tasks      | elapsed:    0.6s\n",
            "[Parallel(n_jobs=12)]: Done  55 tasks      | elapsed:    0.7s\n",
            "[Parallel(n_jobs=12)]: Done  56 tasks      | elapsed:    0.7s\n",
            "[Parallel(n_jobs=12)]: Done  57 tasks      | elapsed:    0.7s\n",
            "[Parallel(n_jobs=12)]: Done  58 tasks      | elapsed:    0.7s\n",
            "[Parallel(n_jobs=12)]: Done  59 tasks      | elapsed:    0.7s\n",
            "[Parallel(n_jobs=12)]: Done  60 tasks      | elapsed:    0.7s\n",
            "[Parallel(n_jobs=12)]: Done  61 tasks      | elapsed:    0.8s\n",
            "[Parallel(n_jobs=12)]: Done  62 tasks      | elapsed:    0.8s\n",
            "[Parallel(n_jobs=12)]: Done  63 tasks      | elapsed:    0.8s\n",
            "[Parallel(n_jobs=12)]: Done  64 tasks      | elapsed:    0.8s\n",
            "[Parallel(n_jobs=12)]: Done  65 tasks      | elapsed:    0.8s\n",
            "[Parallel(n_jobs=12)]: Done  66 tasks      | elapsed:    0.8s\n",
            "[Parallel(n_jobs=12)]: Done  67 tasks      | elapsed:    0.8s\n",
            "[Parallel(n_jobs=12)]: Done  68 tasks      | elapsed:    0.8s\n",
            "[Parallel(n_jobs=12)]: Done  69 tasks      | elapsed:    0.8s\n",
            "[Parallel(n_jobs=12)]: Done  70 tasks      | elapsed:    0.8s\n",
            "[Parallel(n_jobs=12)]: Done  71 tasks      | elapsed:    0.8s\n",
            "[Parallel(n_jobs=12)]: Done  72 tasks      | elapsed:    0.8s\n",
            "[Parallel(n_jobs=12)]: Done  73 tasks      | elapsed:    0.9s\n",
            "[Parallel(n_jobs=12)]: Done  74 tasks      | elapsed:    0.9s\n",
            "[Parallel(n_jobs=12)]: Done  75 tasks      | elapsed:    0.9s\n",
            "[Parallel(n_jobs=12)]: Done  76 tasks      | elapsed:    0.9s\n",
            "[Parallel(n_jobs=12)]: Done  77 tasks      | elapsed:    0.9s\n",
            "[Parallel(n_jobs=12)]: Done  79 out of 100 | elapsed:    0.9s remaining:    0.2s\n",
            "[Parallel(n_jobs=12)]: Done  81 out of 100 | elapsed:    0.9s remaining:    0.2s\n",
            "[Parallel(n_jobs=12)]: Done  83 out of 100 | elapsed:    0.9s remaining:    0.2s\n",
            "[Parallel(n_jobs=12)]: Done  85 out of 100 | elapsed:    1.0s remaining:    0.2s\n",
            "[Parallel(n_jobs=12)]: Done  87 out of 100 | elapsed:    1.0s remaining:    0.2s\n",
            "[Parallel(n_jobs=12)]: Done  89 out of 100 | elapsed:    1.0s remaining:    0.1s\n",
            "[Parallel(n_jobs=12)]: Done  91 out of 100 | elapsed:    1.0s remaining:    0.1s\n",
            "[Parallel(n_jobs=12)]: Done  93 out of 100 | elapsed:    1.1s remaining:    0.1s\n",
            "[Parallel(n_jobs=12)]: Done  95 out of 100 | elapsed:    1.1s remaining:    0.1s\n",
            "[Parallel(n_jobs=12)]: Done  97 out of 100 | elapsed:    1.1s remaining:    0.0s\n",
            "[Parallel(n_jobs=12)]: Done 100 out of 100 | elapsed:    1.1s finished\n"
          ]
        }
      ]
    },
    {
      "cell_type": "code",
      "source": [
        "from sklearn.metrics import classification_report"
      ],
      "metadata": {
        "id": "1rQaz30wzH-w"
      },
      "execution_count": null,
      "outputs": []
    },
    {
      "cell_type": "code",
      "source": [
        "print(classification_report(val_labels,predictions))"
      ],
      "metadata": {
        "colab": {
          "base_uri": "https://localhost:8080/"
        },
        "outputId": "e9479f8d-8124-4263-9ee3-f96467362a8e",
        "id": "_G2Noj0tzH-w"
      },
      "execution_count": null,
      "outputs": [
        {
          "output_type": "stream",
          "name": "stdout",
          "text": [
            "              precision    recall  f1-score   support\n",
            "\n",
            "       beige       0.62      0.17      0.27      2533\n",
            "       black       0.30      0.74      0.42      6508\n",
            "        blue       0.42      0.44      0.43      5395\n",
            "      bronze       0.73      0.25      0.38       584\n",
            "       brown       0.51      0.55      0.53      4578\n",
            "       clear       0.76      0.44      0.56      1267\n",
            "      copper       0.75      0.33      0.46       447\n",
            "        gold       0.62      0.41      0.49      2146\n",
            "       green       0.52      0.27      0.36      3135\n",
            "      orange       0.43      0.12      0.19      1069\n",
            "       other       0.52      0.18      0.27      1984\n",
            "        pink       0.49      0.30      0.37      3100\n",
            "      purple       0.45      0.16      0.24      1328\n",
            "     rainbow       0.63      0.20      0.31      1045\n",
            "         red       0.51      0.26      0.35      3049\n",
            "   rose gold       0.37      0.09      0.14       231\n",
            "      silver       0.61      0.62      0.61      2978\n",
            "       white       0.38      0.53      0.44      6239\n",
            "      yellow       0.48      0.13      0.21      1481\n",
            "\n",
            "    accuracy                           0.42     49097\n",
            "   macro avg       0.53      0.33      0.37     49097\n",
            "weighted avg       0.48      0.42      0.41     49097\n",
            "\n"
          ]
        }
      ]
    },
    {
      "cell_type": "code",
      "source": [
        "f1 = metrics.f1_score(val_labels, predictions, average='weighted')"
      ],
      "metadata": {
        "id": "5IR_HUWRzH-x"
      },
      "execution_count": null,
      "outputs": []
    },
    {
      "cell_type": "code",
      "source": [
        "\n",
        "f\"F1 score: {f1:.4f}\""
      ],
      "metadata": {
        "colab": {
          "base_uri": "https://localhost:8080/",
          "height": 35
        },
        "outputId": "16adaccd-0031-4e31-889b-0e5fbe373c5f",
        "id": "RO5KUcMizH-x"
      },
      "execution_count": null,
      "outputs": [
        {
          "output_type": "execute_result",
          "data": {
            "text/plain": [
              "'F1 score: 0.4070'"
            ],
            "application/vnd.google.colaboratory.intrinsic+json": {
              "type": "string"
            }
          },
          "metadata": {},
          "execution_count": 27
        }
      ]
    },
    {
      "cell_type": "code",
      "source": [
        "metrics.confusion_matrix(val_labels, predictions)"
      ],
      "metadata": {
        "colab": {
          "base_uri": "https://localhost:8080/"
        },
        "outputId": "fc9701a6-dd24-454b-f95f-429eec57fdeb",
        "id": "KMrSexWpzH-x"
      },
      "execution_count": null,
      "outputs": [
        {
          "output_type": "execute_result",
          "data": {
            "text/plain": [
              "array([[ 438,  776,  207,    3,  402,    4,    3,   10,   42,    8,   22,\n",
              "          43,    7,    1,   43,    1,   23,  491,    9],\n",
              "       [  24, 4794,  320,    5,  348,   11,    3,   42,   72,   13,   37,\n",
              "          66,   10,   10,   65,    3,  111,  559,   15],\n",
              "       [  26, 1390, 2366,    4,  172,   21,    5,   27,  103,   19,   52,\n",
              "         159,   54,   23,  113,    2,  116,  708,   35],\n",
              "       [   4,  128,   17,  148,   86,    2,   10,   59,    3,    2,    1,\n",
              "           6,    1,    2,    7,    4,   69,   33,    2],\n",
              "       [  42, 1121,  193,    4, 2523,   13,    3,   27,   55,   12,   33,\n",
              "          33,   14,   10,   51,    0,   66,  361,   17],\n",
              "       [   5,  263,   48,    0,   80,  559,    0,   16,   20,    2,    2,\n",
              "          12,    3,    1,    8,    1,   50,  197,    0],\n",
              "       [   0,   87,   20,    4,   57,    0,  149,   13,    4,    0,    2,\n",
              "           4,    0,    1,    4,    1,   62,   38,    1],\n",
              "       [  11,  474,   82,   13,   95,    8,    6,  878,   33,    1,    3,\n",
              "          28,    3,    3,   33,    8,  226,  236,    5],\n",
              "       [  23,  804,  361,    0,  186,   19,    4,   40,  855,   25,   34,\n",
              "          86,   21,    9,   96,    0,   62,  482,   28],\n",
              "       [  11,  313,  141,    0,   65,    7,    0,   13,   46,  129,    8,\n",
              "          48,   15,    2,   42,    0,   25,  191,   13],\n",
              "       [  19,  811,  212,    0,  139,    3,    2,    8,   44,    5,  354,\n",
              "          38,    8,    6,   27,    2,   62,  240,    4],\n",
              "       [  23,  824,  342,    2,   75,   15,    1,   21,   68,   16,   22,\n",
              "         924,   41,    5,   75,    0,   46,  585,   15],\n",
              "       [   9,  362,  224,    1,   41,   10,    2,   16,   55,   12,   18,\n",
              "          85,  211,   11,   22,    1,   38,  204,    6],\n",
              "       [   7,  333,  138,    2,   39,    7,    1,    7,   19,    7,    3,\n",
              "          54,    5,  211,   23,    0,   29,  155,    5],\n",
              "       [  20,  876,  312,    0,  202,   12,    2,   39,   91,   22,   20,\n",
              "          88,   33,   12,  796,    0,   60,  441,   23],\n",
              "       [   1,   40,    3,    2,    7,    0,    1,   59,    1,    0,    0,\n",
              "          13,    1,    1,    4,   20,   31,   46,    1],\n",
              "       [   4,  677,   56,   14,  107,   10,    5,   62,    8,    3,    9,\n",
              "          12,    7,    2,   11,    5, 1842,  138,    6],\n",
              "       [  34, 1622,  447,    2,  234,   22,    1,   46,   78,   14,   45,\n",
              "         123,   14,   19,   86,    5,   92, 3327,   28],\n",
              "       [   6,  384,  195,    0,  113,   11,    0,   34,   51,    8,   11,\n",
              "          61,   18,    6,   47,    1,   34,  304,  197]])"
            ]
          },
          "metadata": {},
          "execution_count": 28
        }
      ]
    },
    {
      "cell_type": "markdown",
      "source": [
        "Since I am **not** getting better F1 for color with Random forest as compared to BERT. I will **not**  be using this model for my final predictions for submission.\n",
        "Will stick to BERT"
      ],
      "metadata": {
        "id": "C_jf0dcvzH-x"
      }
    },
    {
      "cell_type": "markdown",
      "source": [
        "#Submission"
      ],
      "metadata": {
        "id": "riQrC1c428sp"
      }
    },
    {
      "cell_type": "code",
      "source": [
        "from google.colab import drive\n",
        "\n",
        "drive.mount('/content/gdrive')"
      ],
      "metadata": {
        "colab": {
          "base_uri": "https://localhost:8080/"
        },
        "id": "_AT-MNLc3Xlb",
        "outputId": "91e8a1c6-a4ce-43a8-9baf-a7599e0129da"
      },
      "execution_count": null,
      "outputs": [
        {
          "output_type": "stream",
          "name": "stdout",
          "text": [
            "Drive already mounted at /content/gdrive; to attempt to forcibly remount, call drive.mount(\"/content/gdrive\", force_remount=True).\n"
          ]
        }
      ]
    },
    {
      "cell_type": "code",
      "source": [
        "import pandas as pd\n",
        "\n",
        "df_predictions = pd.read_csv('/content/gdrive/MyDrive/prediction.csv')"
      ],
      "metadata": {
        "id": "QXEsGP7v3HHa"
      },
      "execution_count": null,
      "outputs": []
    },
    {
      "cell_type": "code",
      "source": [
        "df_bottom = pd.read_csv('/content/gdrive/MyDrive/bottomcategorypredictions.csv')"
      ],
      "metadata": {
        "id": "FLENmLBM3eLI"
      },
      "execution_count": null,
      "outputs": []
    },
    {
      "cell_type": "code",
      "source": [
        "df_color = pd.read_csv('/content/gdrive/MyDrive/colorpredictions.csv')"
      ],
      "metadata": {
        "id": "sNui86Mn33ep"
      },
      "execution_count": null,
      "outputs": []
    },
    {
      "cell_type": "code",
      "source": [
        "df_predictions"
      ],
      "metadata": {
        "colab": {
          "base_uri": "https://localhost:8080/",
          "height": 424
        },
        "id": "WIa54C-23r4P",
        "outputId": "15dceefb-5f54-4083-8912-c2ea65929839"
      },
      "execution_count": null,
      "outputs": [
        {
          "output_type": "execute_result",
          "data": {
            "text/plain": [
              "       Unnamed: 0  product_id  top_category_id\n",
              "0               0  1323824090                6\n",
              "1               1   544175230                6\n",
              "2               2   895779370                6\n",
              "3               3   641102090                6\n",
              "4               4  1340603160                8\n",
              "...           ...         ...              ...\n",
              "27114       27114   809100810                4\n",
              "27115       27115  1358895140                4\n",
              "27116       27116  1366768240                4\n",
              "27117       27117  1168372040                4\n",
              "27118       27118  1157860460                4\n",
              "\n",
              "[27119 rows x 3 columns]"
            ],
            "text/html": [
              "\n",
              "  <div id=\"df-8857ed0e-1e3c-42e7-8c1f-0e3b054f83d4\">\n",
              "    <div class=\"colab-df-container\">\n",
              "      <div>\n",
              "<style scoped>\n",
              "    .dataframe tbody tr th:only-of-type {\n",
              "        vertical-align: middle;\n",
              "    }\n",
              "\n",
              "    .dataframe tbody tr th {\n",
              "        vertical-align: top;\n",
              "    }\n",
              "\n",
              "    .dataframe thead th {\n",
              "        text-align: right;\n",
              "    }\n",
              "</style>\n",
              "<table border=\"1\" class=\"dataframe\">\n",
              "  <thead>\n",
              "    <tr style=\"text-align: right;\">\n",
              "      <th></th>\n",
              "      <th>Unnamed: 0</th>\n",
              "      <th>product_id</th>\n",
              "      <th>top_category_id</th>\n",
              "    </tr>\n",
              "  </thead>\n",
              "  <tbody>\n",
              "    <tr>\n",
              "      <th>0</th>\n",
              "      <td>0</td>\n",
              "      <td>1323824090</td>\n",
              "      <td>6</td>\n",
              "    </tr>\n",
              "    <tr>\n",
              "      <th>1</th>\n",
              "      <td>1</td>\n",
              "      <td>544175230</td>\n",
              "      <td>6</td>\n",
              "    </tr>\n",
              "    <tr>\n",
              "      <th>2</th>\n",
              "      <td>2</td>\n",
              "      <td>895779370</td>\n",
              "      <td>6</td>\n",
              "    </tr>\n",
              "    <tr>\n",
              "      <th>3</th>\n",
              "      <td>3</td>\n",
              "      <td>641102090</td>\n",
              "      <td>6</td>\n",
              "    </tr>\n",
              "    <tr>\n",
              "      <th>4</th>\n",
              "      <td>4</td>\n",
              "      <td>1340603160</td>\n",
              "      <td>8</td>\n",
              "    </tr>\n",
              "    <tr>\n",
              "      <th>...</th>\n",
              "      <td>...</td>\n",
              "      <td>...</td>\n",
              "      <td>...</td>\n",
              "    </tr>\n",
              "    <tr>\n",
              "      <th>27114</th>\n",
              "      <td>27114</td>\n",
              "      <td>809100810</td>\n",
              "      <td>4</td>\n",
              "    </tr>\n",
              "    <tr>\n",
              "      <th>27115</th>\n",
              "      <td>27115</td>\n",
              "      <td>1358895140</td>\n",
              "      <td>4</td>\n",
              "    </tr>\n",
              "    <tr>\n",
              "      <th>27116</th>\n",
              "      <td>27116</td>\n",
              "      <td>1366768240</td>\n",
              "      <td>4</td>\n",
              "    </tr>\n",
              "    <tr>\n",
              "      <th>27117</th>\n",
              "      <td>27117</td>\n",
              "      <td>1168372040</td>\n",
              "      <td>4</td>\n",
              "    </tr>\n",
              "    <tr>\n",
              "      <th>27118</th>\n",
              "      <td>27118</td>\n",
              "      <td>1157860460</td>\n",
              "      <td>4</td>\n",
              "    </tr>\n",
              "  </tbody>\n",
              "</table>\n",
              "<p>27119 rows × 3 columns</p>\n",
              "</div>\n",
              "      <button class=\"colab-df-convert\" onclick=\"convertToInteractive('df-8857ed0e-1e3c-42e7-8c1f-0e3b054f83d4')\"\n",
              "              title=\"Convert this dataframe to an interactive table.\"\n",
              "              style=\"display:none;\">\n",
              "        \n",
              "  <svg xmlns=\"http://www.w3.org/2000/svg\" height=\"24px\"viewBox=\"0 0 24 24\"\n",
              "       width=\"24px\">\n",
              "    <path d=\"M0 0h24v24H0V0z\" fill=\"none\"/>\n",
              "    <path d=\"M18.56 5.44l.94 2.06.94-2.06 2.06-.94-2.06-.94-.94-2.06-.94 2.06-2.06.94zm-11 1L8.5 8.5l.94-2.06 2.06-.94-2.06-.94L8.5 2.5l-.94 2.06-2.06.94zm10 10l.94 2.06.94-2.06 2.06-.94-2.06-.94-.94-2.06-.94 2.06-2.06.94z\"/><path d=\"M17.41 7.96l-1.37-1.37c-.4-.4-.92-.59-1.43-.59-.52 0-1.04.2-1.43.59L10.3 9.45l-7.72 7.72c-.78.78-.78 2.05 0 2.83L4 21.41c.39.39.9.59 1.41.59.51 0 1.02-.2 1.41-.59l7.78-7.78 2.81-2.81c.8-.78.8-2.07 0-2.86zM5.41 20L4 18.59l7.72-7.72 1.47 1.35L5.41 20z\"/>\n",
              "  </svg>\n",
              "      </button>\n",
              "      \n",
              "  <style>\n",
              "    .colab-df-container {\n",
              "      display:flex;\n",
              "      flex-wrap:wrap;\n",
              "      gap: 12px;\n",
              "    }\n",
              "\n",
              "    .colab-df-convert {\n",
              "      background-color: #E8F0FE;\n",
              "      border: none;\n",
              "      border-radius: 50%;\n",
              "      cursor: pointer;\n",
              "      display: none;\n",
              "      fill: #1967D2;\n",
              "      height: 32px;\n",
              "      padding: 0 0 0 0;\n",
              "      width: 32px;\n",
              "    }\n",
              "\n",
              "    .colab-df-convert:hover {\n",
              "      background-color: #E2EBFA;\n",
              "      box-shadow: 0px 1px 2px rgba(60, 64, 67, 0.3), 0px 1px 3px 1px rgba(60, 64, 67, 0.15);\n",
              "      fill: #174EA6;\n",
              "    }\n",
              "\n",
              "    [theme=dark] .colab-df-convert {\n",
              "      background-color: #3B4455;\n",
              "      fill: #D2E3FC;\n",
              "    }\n",
              "\n",
              "    [theme=dark] .colab-df-convert:hover {\n",
              "      background-color: #434B5C;\n",
              "      box-shadow: 0px 1px 3px 1px rgba(0, 0, 0, 0.15);\n",
              "      filter: drop-shadow(0px 1px 2px rgba(0, 0, 0, 0.3));\n",
              "      fill: #FFFFFF;\n",
              "    }\n",
              "  </style>\n",
              "\n",
              "      <script>\n",
              "        const buttonEl =\n",
              "          document.querySelector('#df-8857ed0e-1e3c-42e7-8c1f-0e3b054f83d4 button.colab-df-convert');\n",
              "        buttonEl.style.display =\n",
              "          google.colab.kernel.accessAllowed ? 'block' : 'none';\n",
              "\n",
              "        async function convertToInteractive(key) {\n",
              "          const element = document.querySelector('#df-8857ed0e-1e3c-42e7-8c1f-0e3b054f83d4');\n",
              "          const dataTable =\n",
              "            await google.colab.kernel.invokeFunction('convertToInteractive',\n",
              "                                                     [key], {});\n",
              "          if (!dataTable) return;\n",
              "\n",
              "          const docLinkHtml = 'Like what you see? Visit the ' +\n",
              "            '<a target=\"_blank\" href=https://colab.research.google.com/notebooks/data_table.ipynb>data table notebook</a>'\n",
              "            + ' to learn more about interactive tables.';\n",
              "          element.innerHTML = '';\n",
              "          dataTable['output_type'] = 'display_data';\n",
              "          await google.colab.output.renderOutput(dataTable, element);\n",
              "          const docLink = document.createElement('div');\n",
              "          docLink.innerHTML = docLinkHtml;\n",
              "          element.appendChild(docLink);\n",
              "        }\n",
              "      </script>\n",
              "    </div>\n",
              "  </div>\n",
              "  "
            ]
          },
          "metadata": {},
          "execution_count": 102
        }
      ]
    },
    {
      "cell_type": "code",
      "source": [
        "df_predictions['bottom_category_id'] = df_bottom['0']\n",
        "df_predictions['color_id'] = df_color['0']"
      ],
      "metadata": {
        "id": "vBM93C5H9q3j"
      },
      "execution_count": null,
      "outputs": []
    },
    {
      "cell_type": "code",
      "source": [
        "df_predictions"
      ],
      "metadata": {
        "colab": {
          "base_uri": "https://localhost:8080/",
          "height": 424
        },
        "id": "zPLaqXr3-RNf",
        "outputId": "691e93c5-5adb-419d-b3e5-b644c0232073"
      },
      "execution_count": null,
      "outputs": [
        {
          "output_type": "execute_result",
          "data": {
            "text/plain": [
              "       Unnamed: 0  product_id  top_category_id  bottom_category_id  color_id\n",
              "0               0  1323824090                6                6883        10\n",
              "1               1   544175230                6                6883         9\n",
              "2               2   895779370                6                6886         9\n",
              "3               3   641102090                6                6886         9\n",
              "4               4  1340603160                8                6883        14\n",
              "...           ...         ...              ...                 ...       ...\n",
              "27114       27114   809100810                4                6359         4\n",
              "27115       27115  1358895140                4                2643         4\n",
              "27116       27116  1366768240                4                2012         2\n",
              "27117       27117  1168372040                4                 324         4\n",
              "27118       27118  1157860460                4                 347         4\n",
              "\n",
              "[27119 rows x 5 columns]"
            ],
            "text/html": [
              "\n",
              "  <div id=\"df-bea5eac6-eead-418a-8c48-03eafe3daee9\">\n",
              "    <div class=\"colab-df-container\">\n",
              "      <div>\n",
              "<style scoped>\n",
              "    .dataframe tbody tr th:only-of-type {\n",
              "        vertical-align: middle;\n",
              "    }\n",
              "\n",
              "    .dataframe tbody tr th {\n",
              "        vertical-align: top;\n",
              "    }\n",
              "\n",
              "    .dataframe thead th {\n",
              "        text-align: right;\n",
              "    }\n",
              "</style>\n",
              "<table border=\"1\" class=\"dataframe\">\n",
              "  <thead>\n",
              "    <tr style=\"text-align: right;\">\n",
              "      <th></th>\n",
              "      <th>Unnamed: 0</th>\n",
              "      <th>product_id</th>\n",
              "      <th>top_category_id</th>\n",
              "      <th>bottom_category_id</th>\n",
              "      <th>color_id</th>\n",
              "    </tr>\n",
              "  </thead>\n",
              "  <tbody>\n",
              "    <tr>\n",
              "      <th>0</th>\n",
              "      <td>0</td>\n",
              "      <td>1323824090</td>\n",
              "      <td>6</td>\n",
              "      <td>6883</td>\n",
              "      <td>10</td>\n",
              "    </tr>\n",
              "    <tr>\n",
              "      <th>1</th>\n",
              "      <td>1</td>\n",
              "      <td>544175230</td>\n",
              "      <td>6</td>\n",
              "      <td>6883</td>\n",
              "      <td>9</td>\n",
              "    </tr>\n",
              "    <tr>\n",
              "      <th>2</th>\n",
              "      <td>2</td>\n",
              "      <td>895779370</td>\n",
              "      <td>6</td>\n",
              "      <td>6886</td>\n",
              "      <td>9</td>\n",
              "    </tr>\n",
              "    <tr>\n",
              "      <th>3</th>\n",
              "      <td>3</td>\n",
              "      <td>641102090</td>\n",
              "      <td>6</td>\n",
              "      <td>6886</td>\n",
              "      <td>9</td>\n",
              "    </tr>\n",
              "    <tr>\n",
              "      <th>4</th>\n",
              "      <td>4</td>\n",
              "      <td>1340603160</td>\n",
              "      <td>8</td>\n",
              "      <td>6883</td>\n",
              "      <td>14</td>\n",
              "    </tr>\n",
              "    <tr>\n",
              "      <th>...</th>\n",
              "      <td>...</td>\n",
              "      <td>...</td>\n",
              "      <td>...</td>\n",
              "      <td>...</td>\n",
              "      <td>...</td>\n",
              "    </tr>\n",
              "    <tr>\n",
              "      <th>27114</th>\n",
              "      <td>27114</td>\n",
              "      <td>809100810</td>\n",
              "      <td>4</td>\n",
              "      <td>6359</td>\n",
              "      <td>4</td>\n",
              "    </tr>\n",
              "    <tr>\n",
              "      <th>27115</th>\n",
              "      <td>27115</td>\n",
              "      <td>1358895140</td>\n",
              "      <td>4</td>\n",
              "      <td>2643</td>\n",
              "      <td>4</td>\n",
              "    </tr>\n",
              "    <tr>\n",
              "      <th>27116</th>\n",
              "      <td>27116</td>\n",
              "      <td>1366768240</td>\n",
              "      <td>4</td>\n",
              "      <td>2012</td>\n",
              "      <td>2</td>\n",
              "    </tr>\n",
              "    <tr>\n",
              "      <th>27117</th>\n",
              "      <td>27117</td>\n",
              "      <td>1168372040</td>\n",
              "      <td>4</td>\n",
              "      <td>324</td>\n",
              "      <td>4</td>\n",
              "    </tr>\n",
              "    <tr>\n",
              "      <th>27118</th>\n",
              "      <td>27118</td>\n",
              "      <td>1157860460</td>\n",
              "      <td>4</td>\n",
              "      <td>347</td>\n",
              "      <td>4</td>\n",
              "    </tr>\n",
              "  </tbody>\n",
              "</table>\n",
              "<p>27119 rows × 5 columns</p>\n",
              "</div>\n",
              "      <button class=\"colab-df-convert\" onclick=\"convertToInteractive('df-bea5eac6-eead-418a-8c48-03eafe3daee9')\"\n",
              "              title=\"Convert this dataframe to an interactive table.\"\n",
              "              style=\"display:none;\">\n",
              "        \n",
              "  <svg xmlns=\"http://www.w3.org/2000/svg\" height=\"24px\"viewBox=\"0 0 24 24\"\n",
              "       width=\"24px\">\n",
              "    <path d=\"M0 0h24v24H0V0z\" fill=\"none\"/>\n",
              "    <path d=\"M18.56 5.44l.94 2.06.94-2.06 2.06-.94-2.06-.94-.94-2.06-.94 2.06-2.06.94zm-11 1L8.5 8.5l.94-2.06 2.06-.94-2.06-.94L8.5 2.5l-.94 2.06-2.06.94zm10 10l.94 2.06.94-2.06 2.06-.94-2.06-.94-.94-2.06-.94 2.06-2.06.94z\"/><path d=\"M17.41 7.96l-1.37-1.37c-.4-.4-.92-.59-1.43-.59-.52 0-1.04.2-1.43.59L10.3 9.45l-7.72 7.72c-.78.78-.78 2.05 0 2.83L4 21.41c.39.39.9.59 1.41.59.51 0 1.02-.2 1.41-.59l7.78-7.78 2.81-2.81c.8-.78.8-2.07 0-2.86zM5.41 20L4 18.59l7.72-7.72 1.47 1.35L5.41 20z\"/>\n",
              "  </svg>\n",
              "      </button>\n",
              "      \n",
              "  <style>\n",
              "    .colab-df-container {\n",
              "      display:flex;\n",
              "      flex-wrap:wrap;\n",
              "      gap: 12px;\n",
              "    }\n",
              "\n",
              "    .colab-df-convert {\n",
              "      background-color: #E8F0FE;\n",
              "      border: none;\n",
              "      border-radius: 50%;\n",
              "      cursor: pointer;\n",
              "      display: none;\n",
              "      fill: #1967D2;\n",
              "      height: 32px;\n",
              "      padding: 0 0 0 0;\n",
              "      width: 32px;\n",
              "    }\n",
              "\n",
              "    .colab-df-convert:hover {\n",
              "      background-color: #E2EBFA;\n",
              "      box-shadow: 0px 1px 2px rgba(60, 64, 67, 0.3), 0px 1px 3px 1px rgba(60, 64, 67, 0.15);\n",
              "      fill: #174EA6;\n",
              "    }\n",
              "\n",
              "    [theme=dark] .colab-df-convert {\n",
              "      background-color: #3B4455;\n",
              "      fill: #D2E3FC;\n",
              "    }\n",
              "\n",
              "    [theme=dark] .colab-df-convert:hover {\n",
              "      background-color: #434B5C;\n",
              "      box-shadow: 0px 1px 3px 1px rgba(0, 0, 0, 0.15);\n",
              "      filter: drop-shadow(0px 1px 2px rgba(0, 0, 0, 0.3));\n",
              "      fill: #FFFFFF;\n",
              "    }\n",
              "  </style>\n",
              "\n",
              "      <script>\n",
              "        const buttonEl =\n",
              "          document.querySelector('#df-bea5eac6-eead-418a-8c48-03eafe3daee9 button.colab-df-convert');\n",
              "        buttonEl.style.display =\n",
              "          google.colab.kernel.accessAllowed ? 'block' : 'none';\n",
              "\n",
              "        async function convertToInteractive(key) {\n",
              "          const element = document.querySelector('#df-bea5eac6-eead-418a-8c48-03eafe3daee9');\n",
              "          const dataTable =\n",
              "            await google.colab.kernel.invokeFunction('convertToInteractive',\n",
              "                                                     [key], {});\n",
              "          if (!dataTable) return;\n",
              "\n",
              "          const docLinkHtml = 'Like what you see? Visit the ' +\n",
              "            '<a target=\"_blank\" href=https://colab.research.google.com/notebooks/data_table.ipynb>data table notebook</a>'\n",
              "            + ' to learn more about interactive tables.';\n",
              "          element.innerHTML = '';\n",
              "          dataTable['output_type'] = 'display_data';\n",
              "          await google.colab.output.renderOutput(dataTable, element);\n",
              "          const docLink = document.createElement('div');\n",
              "          docLink.innerHTML = docLinkHtml;\n",
              "          element.appendChild(docLink);\n",
              "        }\n",
              "      </script>\n",
              "    </div>\n",
              "  </div>\n",
              "  "
            ]
          },
          "metadata": {},
          "execution_count": 104
        }
      ]
    },
    {
      "cell_type": "code",
      "source": [
        "student_id = \"22262108\"\n",
        "df_predictions[\n",
        "    [\"product_id\", \"top_category_id\", \"bottom_category_id\", \"color_id\"]\n",
        "].to_parquet(f\"predictions_{student_id}.parquet\")"
      ],
      "metadata": {
        "id": "_GwVDfQv-lfo"
      },
      "execution_count": null,
      "outputs": []
    },
    {
      "cell_type": "code",
      "source": [
        "%cp -av /content/predictions_22262108.parquet /content/gdrive/MyDrive/\n",
        "#code to move the the file  to google drive"
      ],
      "metadata": {
        "colab": {
          "base_uri": "https://localhost:8080/"
        },
        "id": "AQumKGHPALio",
        "outputId": "25a49951-6c1e-4583-c21d-4ff89444037f"
      },
      "execution_count": null,
      "outputs": [
        {
          "output_type": "stream",
          "name": "stdout",
          "text": [
            "'/content/predictions_22262108.parquet' -> '/content/gdrive/MyDrive/predictions_22262108.parquet'\n"
          ]
        }
      ]
    },
    {
      "cell_type": "markdown",
      "source": [
        "#What can I do to improve this?\n",
        "\n",
        "Here's what I think can be improved\n",
        "*   Investigate more and tune BERT to get better results for bottom category\n",
        "*   For the models, I can try different transformers that are supported by the multimodal package to see if I get better results\n",
        "*   Writing Global Functions. I need to use functions so I can just set variables. That will easily reduce the repeating code and make the notebook better.\n",
        "* Try hyperparameter tuning for Random Forest.\n",
        "* Try XGboost\n",
        "* Your feedback is crucial and important for me to learn and improve my skills.\n",
        "\n",
        "Thank you for going through this notebook. I hope I was atleast able to give something different with my approaches\n"
      ],
      "metadata": {
        "id": "Gz_gC8ACIsZ-"
      }
    }
  ],
  "metadata": {
    "colab": {
      "machine_shape": "hm",
      "provenance": [],
      "collapsed_sections": [
        "n1kpcRgKwoG-"
      ],
      "gpuClass": "premium"
    },
    "gpuClass": "premium",
    "kernelspec": {
      "display_name": "Python 3",
      "name": "python3"
    },
    "language_info": {
      "name": "python"
    },
    "widgets": {
      "application/vnd.jupyter.widget-state+json": {
        "a3604eaf4aaa4966b6801a37d890bacf": {
          "model_module": "@jupyter-widgets/controls",
          "model_name": "HBoxModel",
          "model_module_version": "1.5.0",
          "state": {
            "_dom_classes": [],
            "_model_module": "@jupyter-widgets/controls",
            "_model_module_version": "1.5.0",
            "_model_name": "HBoxModel",
            "_view_count": null,
            "_view_module": "@jupyter-widgets/controls",
            "_view_module_version": "1.5.0",
            "_view_name": "HBoxView",
            "box_style": "",
            "children": [
              "IPY_MODEL_0286bd7e09f44d99a8f50bc2deab4305",
              "IPY_MODEL_5e82aeb0b8f84d30a4c12507611fa144",
              "IPY_MODEL_d78532c19b4f4b1eb0ac45f0f9228b29"
            ],
            "layout": "IPY_MODEL_726d097590034033a2393baff85c4929"
          }
        },
        "0286bd7e09f44d99a8f50bc2deab4305": {
          "model_module": "@jupyter-widgets/controls",
          "model_name": "HTMLModel",
          "model_module_version": "1.5.0",
          "state": {
            "_dom_classes": [],
            "_model_module": "@jupyter-widgets/controls",
            "_model_module_version": "1.5.0",
            "_model_name": "HTMLModel",
            "_view_count": null,
            "_view_module": "@jupyter-widgets/controls",
            "_view_module_version": "1.5.0",
            "_view_name": "HTMLView",
            "description": "",
            "description_tooltip": null,
            "layout": "IPY_MODEL_19238a5db4784acbae775a911dada56c",
            "placeholder": "​",
            "style": "IPY_MODEL_ba01950f88814d788ea6bab5fadc3d70",
            "value": "Downloading (…)okenizer_config.json: 100%"
          }
        },
        "5e82aeb0b8f84d30a4c12507611fa144": {
          "model_module": "@jupyter-widgets/controls",
          "model_name": "FloatProgressModel",
          "model_module_version": "1.5.0",
          "state": {
            "_dom_classes": [],
            "_model_module": "@jupyter-widgets/controls",
            "_model_module_version": "1.5.0",
            "_model_name": "FloatProgressModel",
            "_view_count": null,
            "_view_module": "@jupyter-widgets/controls",
            "_view_module_version": "1.5.0",
            "_view_name": "ProgressView",
            "bar_style": "success",
            "description": "",
            "description_tooltip": null,
            "layout": "IPY_MODEL_46ef353d54a94fa9bf3892dcd9d81ff8",
            "max": 28,
            "min": 0,
            "orientation": "horizontal",
            "style": "IPY_MODEL_6b4411ba441c4db09d66a92fffa47262",
            "value": 28
          }
        },
        "d78532c19b4f4b1eb0ac45f0f9228b29": {
          "model_module": "@jupyter-widgets/controls",
          "model_name": "HTMLModel",
          "model_module_version": "1.5.0",
          "state": {
            "_dom_classes": [],
            "_model_module": "@jupyter-widgets/controls",
            "_model_module_version": "1.5.0",
            "_model_name": "HTMLModel",
            "_view_count": null,
            "_view_module": "@jupyter-widgets/controls",
            "_view_module_version": "1.5.0",
            "_view_name": "HTMLView",
            "description": "",
            "description_tooltip": null,
            "layout": "IPY_MODEL_103ce6ed46d64c3eb0dce6b652d7cbff",
            "placeholder": "​",
            "style": "IPY_MODEL_cbe55ae052444a63aca1c940df3a63f8",
            "value": " 28.0/28.0 [00:00&lt;00:00, 1.73kB/s]"
          }
        },
        "726d097590034033a2393baff85c4929": {
          "model_module": "@jupyter-widgets/base",
          "model_name": "LayoutModel",
          "model_module_version": "1.2.0",
          "state": {
            "_model_module": "@jupyter-widgets/base",
            "_model_module_version": "1.2.0",
            "_model_name": "LayoutModel",
            "_view_count": null,
            "_view_module": "@jupyter-widgets/base",
            "_view_module_version": "1.2.0",
            "_view_name": "LayoutView",
            "align_content": null,
            "align_items": null,
            "align_self": null,
            "border": null,
            "bottom": null,
            "display": null,
            "flex": null,
            "flex_flow": null,
            "grid_area": null,
            "grid_auto_columns": null,
            "grid_auto_flow": null,
            "grid_auto_rows": null,
            "grid_column": null,
            "grid_gap": null,
            "grid_row": null,
            "grid_template_areas": null,
            "grid_template_columns": null,
            "grid_template_rows": null,
            "height": null,
            "justify_content": null,
            "justify_items": null,
            "left": null,
            "margin": null,
            "max_height": null,
            "max_width": null,
            "min_height": null,
            "min_width": null,
            "object_fit": null,
            "object_position": null,
            "order": null,
            "overflow": null,
            "overflow_x": null,
            "overflow_y": null,
            "padding": null,
            "right": null,
            "top": null,
            "visibility": null,
            "width": null
          }
        },
        "19238a5db4784acbae775a911dada56c": {
          "model_module": "@jupyter-widgets/base",
          "model_name": "LayoutModel",
          "model_module_version": "1.2.0",
          "state": {
            "_model_module": "@jupyter-widgets/base",
            "_model_module_version": "1.2.0",
            "_model_name": "LayoutModel",
            "_view_count": null,
            "_view_module": "@jupyter-widgets/base",
            "_view_module_version": "1.2.0",
            "_view_name": "LayoutView",
            "align_content": null,
            "align_items": null,
            "align_self": null,
            "border": null,
            "bottom": null,
            "display": null,
            "flex": null,
            "flex_flow": null,
            "grid_area": null,
            "grid_auto_columns": null,
            "grid_auto_flow": null,
            "grid_auto_rows": null,
            "grid_column": null,
            "grid_gap": null,
            "grid_row": null,
            "grid_template_areas": null,
            "grid_template_columns": null,
            "grid_template_rows": null,
            "height": null,
            "justify_content": null,
            "justify_items": null,
            "left": null,
            "margin": null,
            "max_height": null,
            "max_width": null,
            "min_height": null,
            "min_width": null,
            "object_fit": null,
            "object_position": null,
            "order": null,
            "overflow": null,
            "overflow_x": null,
            "overflow_y": null,
            "padding": null,
            "right": null,
            "top": null,
            "visibility": null,
            "width": null
          }
        },
        "ba01950f88814d788ea6bab5fadc3d70": {
          "model_module": "@jupyter-widgets/controls",
          "model_name": "DescriptionStyleModel",
          "model_module_version": "1.5.0",
          "state": {
            "_model_module": "@jupyter-widgets/controls",
            "_model_module_version": "1.5.0",
            "_model_name": "DescriptionStyleModel",
            "_view_count": null,
            "_view_module": "@jupyter-widgets/base",
            "_view_module_version": "1.2.0",
            "_view_name": "StyleView",
            "description_width": ""
          }
        },
        "46ef353d54a94fa9bf3892dcd9d81ff8": {
          "model_module": "@jupyter-widgets/base",
          "model_name": "LayoutModel",
          "model_module_version": "1.2.0",
          "state": {
            "_model_module": "@jupyter-widgets/base",
            "_model_module_version": "1.2.0",
            "_model_name": "LayoutModel",
            "_view_count": null,
            "_view_module": "@jupyter-widgets/base",
            "_view_module_version": "1.2.0",
            "_view_name": "LayoutView",
            "align_content": null,
            "align_items": null,
            "align_self": null,
            "border": null,
            "bottom": null,
            "display": null,
            "flex": null,
            "flex_flow": null,
            "grid_area": null,
            "grid_auto_columns": null,
            "grid_auto_flow": null,
            "grid_auto_rows": null,
            "grid_column": null,
            "grid_gap": null,
            "grid_row": null,
            "grid_template_areas": null,
            "grid_template_columns": null,
            "grid_template_rows": null,
            "height": null,
            "justify_content": null,
            "justify_items": null,
            "left": null,
            "margin": null,
            "max_height": null,
            "max_width": null,
            "min_height": null,
            "min_width": null,
            "object_fit": null,
            "object_position": null,
            "order": null,
            "overflow": null,
            "overflow_x": null,
            "overflow_y": null,
            "padding": null,
            "right": null,
            "top": null,
            "visibility": null,
            "width": null
          }
        },
        "6b4411ba441c4db09d66a92fffa47262": {
          "model_module": "@jupyter-widgets/controls",
          "model_name": "ProgressStyleModel",
          "model_module_version": "1.5.0",
          "state": {
            "_model_module": "@jupyter-widgets/controls",
            "_model_module_version": "1.5.0",
            "_model_name": "ProgressStyleModel",
            "_view_count": null,
            "_view_module": "@jupyter-widgets/base",
            "_view_module_version": "1.2.0",
            "_view_name": "StyleView",
            "bar_color": null,
            "description_width": ""
          }
        },
        "103ce6ed46d64c3eb0dce6b652d7cbff": {
          "model_module": "@jupyter-widgets/base",
          "model_name": "LayoutModel",
          "model_module_version": "1.2.0",
          "state": {
            "_model_module": "@jupyter-widgets/base",
            "_model_module_version": "1.2.0",
            "_model_name": "LayoutModel",
            "_view_count": null,
            "_view_module": "@jupyter-widgets/base",
            "_view_module_version": "1.2.0",
            "_view_name": "LayoutView",
            "align_content": null,
            "align_items": null,
            "align_self": null,
            "border": null,
            "bottom": null,
            "display": null,
            "flex": null,
            "flex_flow": null,
            "grid_area": null,
            "grid_auto_columns": null,
            "grid_auto_flow": null,
            "grid_auto_rows": null,
            "grid_column": null,
            "grid_gap": null,
            "grid_row": null,
            "grid_template_areas": null,
            "grid_template_columns": null,
            "grid_template_rows": null,
            "height": null,
            "justify_content": null,
            "justify_items": null,
            "left": null,
            "margin": null,
            "max_height": null,
            "max_width": null,
            "min_height": null,
            "min_width": null,
            "object_fit": null,
            "object_position": null,
            "order": null,
            "overflow": null,
            "overflow_x": null,
            "overflow_y": null,
            "padding": null,
            "right": null,
            "top": null,
            "visibility": null,
            "width": null
          }
        },
        "cbe55ae052444a63aca1c940df3a63f8": {
          "model_module": "@jupyter-widgets/controls",
          "model_name": "DescriptionStyleModel",
          "model_module_version": "1.5.0",
          "state": {
            "_model_module": "@jupyter-widgets/controls",
            "_model_module_version": "1.5.0",
            "_model_name": "DescriptionStyleModel",
            "_view_count": null,
            "_view_module": "@jupyter-widgets/base",
            "_view_module_version": "1.2.0",
            "_view_name": "StyleView",
            "description_width": ""
          }
        },
        "349624d39713473a95c08d40f9e8d0d1": {
          "model_module": "@jupyter-widgets/controls",
          "model_name": "HBoxModel",
          "model_module_version": "1.5.0",
          "state": {
            "_dom_classes": [],
            "_model_module": "@jupyter-widgets/controls",
            "_model_module_version": "1.5.0",
            "_model_name": "HBoxModel",
            "_view_count": null,
            "_view_module": "@jupyter-widgets/controls",
            "_view_module_version": "1.5.0",
            "_view_name": "HBoxView",
            "box_style": "",
            "children": [
              "IPY_MODEL_77d6d02021cb44c0901dfcd26e71981d",
              "IPY_MODEL_25dbf488ddcb4a6f892bede298f5ca0a",
              "IPY_MODEL_381466bf8e434cf58dce03bbbe75c433"
            ],
            "layout": "IPY_MODEL_b4426690dfdd415b894c0216e94ba1b0"
          }
        },
        "77d6d02021cb44c0901dfcd26e71981d": {
          "model_module": "@jupyter-widgets/controls",
          "model_name": "HTMLModel",
          "model_module_version": "1.5.0",
          "state": {
            "_dom_classes": [],
            "_model_module": "@jupyter-widgets/controls",
            "_model_module_version": "1.5.0",
            "_model_name": "HTMLModel",
            "_view_count": null,
            "_view_module": "@jupyter-widgets/controls",
            "_view_module_version": "1.5.0",
            "_view_name": "HTMLView",
            "description": "",
            "description_tooltip": null,
            "layout": "IPY_MODEL_94aef4a696b640e7814c4feaca563146",
            "placeholder": "​",
            "style": "IPY_MODEL_6a94f3791ea942c1b0ebfa6f7ab2362b",
            "value": "Downloading (…)lve/main/config.json: 100%"
          }
        },
        "25dbf488ddcb4a6f892bede298f5ca0a": {
          "model_module": "@jupyter-widgets/controls",
          "model_name": "FloatProgressModel",
          "model_module_version": "1.5.0",
          "state": {
            "_dom_classes": [],
            "_model_module": "@jupyter-widgets/controls",
            "_model_module_version": "1.5.0",
            "_model_name": "FloatProgressModel",
            "_view_count": null,
            "_view_module": "@jupyter-widgets/controls",
            "_view_module_version": "1.5.0",
            "_view_name": "ProgressView",
            "bar_style": "success",
            "description": "",
            "description_tooltip": null,
            "layout": "IPY_MODEL_f58818eaddf048a6a1cee772d63b4730",
            "max": 570,
            "min": 0,
            "orientation": "horizontal",
            "style": "IPY_MODEL_81970fa0189f4cf5bab0d83e4bd6b88a",
            "value": 570
          }
        },
        "381466bf8e434cf58dce03bbbe75c433": {
          "model_module": "@jupyter-widgets/controls",
          "model_name": "HTMLModel",
          "model_module_version": "1.5.0",
          "state": {
            "_dom_classes": [],
            "_model_module": "@jupyter-widgets/controls",
            "_model_module_version": "1.5.0",
            "_model_name": "HTMLModel",
            "_view_count": null,
            "_view_module": "@jupyter-widgets/controls",
            "_view_module_version": "1.5.0",
            "_view_name": "HTMLView",
            "description": "",
            "description_tooltip": null,
            "layout": "IPY_MODEL_e0a0706d95f142cb8a1206c245bed7c0",
            "placeholder": "​",
            "style": "IPY_MODEL_b9efee7b3c07410a8f3c170840439d0f",
            "value": " 570/570 [00:00&lt;00:00, 20.8kB/s]"
          }
        },
        "b4426690dfdd415b894c0216e94ba1b0": {
          "model_module": "@jupyter-widgets/base",
          "model_name": "LayoutModel",
          "model_module_version": "1.2.0",
          "state": {
            "_model_module": "@jupyter-widgets/base",
            "_model_module_version": "1.2.0",
            "_model_name": "LayoutModel",
            "_view_count": null,
            "_view_module": "@jupyter-widgets/base",
            "_view_module_version": "1.2.0",
            "_view_name": "LayoutView",
            "align_content": null,
            "align_items": null,
            "align_self": null,
            "border": null,
            "bottom": null,
            "display": null,
            "flex": null,
            "flex_flow": null,
            "grid_area": null,
            "grid_auto_columns": null,
            "grid_auto_flow": null,
            "grid_auto_rows": null,
            "grid_column": null,
            "grid_gap": null,
            "grid_row": null,
            "grid_template_areas": null,
            "grid_template_columns": null,
            "grid_template_rows": null,
            "height": null,
            "justify_content": null,
            "justify_items": null,
            "left": null,
            "margin": null,
            "max_height": null,
            "max_width": null,
            "min_height": null,
            "min_width": null,
            "object_fit": null,
            "object_position": null,
            "order": null,
            "overflow": null,
            "overflow_x": null,
            "overflow_y": null,
            "padding": null,
            "right": null,
            "top": null,
            "visibility": null,
            "width": null
          }
        },
        "94aef4a696b640e7814c4feaca563146": {
          "model_module": "@jupyter-widgets/base",
          "model_name": "LayoutModel",
          "model_module_version": "1.2.0",
          "state": {
            "_model_module": "@jupyter-widgets/base",
            "_model_module_version": "1.2.0",
            "_model_name": "LayoutModel",
            "_view_count": null,
            "_view_module": "@jupyter-widgets/base",
            "_view_module_version": "1.2.0",
            "_view_name": "LayoutView",
            "align_content": null,
            "align_items": null,
            "align_self": null,
            "border": null,
            "bottom": null,
            "display": null,
            "flex": null,
            "flex_flow": null,
            "grid_area": null,
            "grid_auto_columns": null,
            "grid_auto_flow": null,
            "grid_auto_rows": null,
            "grid_column": null,
            "grid_gap": null,
            "grid_row": null,
            "grid_template_areas": null,
            "grid_template_columns": null,
            "grid_template_rows": null,
            "height": null,
            "justify_content": null,
            "justify_items": null,
            "left": null,
            "margin": null,
            "max_height": null,
            "max_width": null,
            "min_height": null,
            "min_width": null,
            "object_fit": null,
            "object_position": null,
            "order": null,
            "overflow": null,
            "overflow_x": null,
            "overflow_y": null,
            "padding": null,
            "right": null,
            "top": null,
            "visibility": null,
            "width": null
          }
        },
        "6a94f3791ea942c1b0ebfa6f7ab2362b": {
          "model_module": "@jupyter-widgets/controls",
          "model_name": "DescriptionStyleModel",
          "model_module_version": "1.5.0",
          "state": {
            "_model_module": "@jupyter-widgets/controls",
            "_model_module_version": "1.5.0",
            "_model_name": "DescriptionStyleModel",
            "_view_count": null,
            "_view_module": "@jupyter-widgets/base",
            "_view_module_version": "1.2.0",
            "_view_name": "StyleView",
            "description_width": ""
          }
        },
        "f58818eaddf048a6a1cee772d63b4730": {
          "model_module": "@jupyter-widgets/base",
          "model_name": "LayoutModel",
          "model_module_version": "1.2.0",
          "state": {
            "_model_module": "@jupyter-widgets/base",
            "_model_module_version": "1.2.0",
            "_model_name": "LayoutModel",
            "_view_count": null,
            "_view_module": "@jupyter-widgets/base",
            "_view_module_version": "1.2.0",
            "_view_name": "LayoutView",
            "align_content": null,
            "align_items": null,
            "align_self": null,
            "border": null,
            "bottom": null,
            "display": null,
            "flex": null,
            "flex_flow": null,
            "grid_area": null,
            "grid_auto_columns": null,
            "grid_auto_flow": null,
            "grid_auto_rows": null,
            "grid_column": null,
            "grid_gap": null,
            "grid_row": null,
            "grid_template_areas": null,
            "grid_template_columns": null,
            "grid_template_rows": null,
            "height": null,
            "justify_content": null,
            "justify_items": null,
            "left": null,
            "margin": null,
            "max_height": null,
            "max_width": null,
            "min_height": null,
            "min_width": null,
            "object_fit": null,
            "object_position": null,
            "order": null,
            "overflow": null,
            "overflow_x": null,
            "overflow_y": null,
            "padding": null,
            "right": null,
            "top": null,
            "visibility": null,
            "width": null
          }
        },
        "81970fa0189f4cf5bab0d83e4bd6b88a": {
          "model_module": "@jupyter-widgets/controls",
          "model_name": "ProgressStyleModel",
          "model_module_version": "1.5.0",
          "state": {
            "_model_module": "@jupyter-widgets/controls",
            "_model_module_version": "1.5.0",
            "_model_name": "ProgressStyleModel",
            "_view_count": null,
            "_view_module": "@jupyter-widgets/base",
            "_view_module_version": "1.2.0",
            "_view_name": "StyleView",
            "bar_color": null,
            "description_width": ""
          }
        },
        "e0a0706d95f142cb8a1206c245bed7c0": {
          "model_module": "@jupyter-widgets/base",
          "model_name": "LayoutModel",
          "model_module_version": "1.2.0",
          "state": {
            "_model_module": "@jupyter-widgets/base",
            "_model_module_version": "1.2.0",
            "_model_name": "LayoutModel",
            "_view_count": null,
            "_view_module": "@jupyter-widgets/base",
            "_view_module_version": "1.2.0",
            "_view_name": "LayoutView",
            "align_content": null,
            "align_items": null,
            "align_self": null,
            "border": null,
            "bottom": null,
            "display": null,
            "flex": null,
            "flex_flow": null,
            "grid_area": null,
            "grid_auto_columns": null,
            "grid_auto_flow": null,
            "grid_auto_rows": null,
            "grid_column": null,
            "grid_gap": null,
            "grid_row": null,
            "grid_template_areas": null,
            "grid_template_columns": null,
            "grid_template_rows": null,
            "height": null,
            "justify_content": null,
            "justify_items": null,
            "left": null,
            "margin": null,
            "max_height": null,
            "max_width": null,
            "min_height": null,
            "min_width": null,
            "object_fit": null,
            "object_position": null,
            "order": null,
            "overflow": null,
            "overflow_x": null,
            "overflow_y": null,
            "padding": null,
            "right": null,
            "top": null,
            "visibility": null,
            "width": null
          }
        },
        "b9efee7b3c07410a8f3c170840439d0f": {
          "model_module": "@jupyter-widgets/controls",
          "model_name": "DescriptionStyleModel",
          "model_module_version": "1.5.0",
          "state": {
            "_model_module": "@jupyter-widgets/controls",
            "_model_module_version": "1.5.0",
            "_model_name": "DescriptionStyleModel",
            "_view_count": null,
            "_view_module": "@jupyter-widgets/base",
            "_view_module_version": "1.2.0",
            "_view_name": "StyleView",
            "description_width": ""
          }
        },
        "c2802469f0b140c8ace09ddfea50a0f3": {
          "model_module": "@jupyter-widgets/controls",
          "model_name": "HBoxModel",
          "model_module_version": "1.5.0",
          "state": {
            "_dom_classes": [],
            "_model_module": "@jupyter-widgets/controls",
            "_model_module_version": "1.5.0",
            "_model_name": "HBoxModel",
            "_view_count": null,
            "_view_module": "@jupyter-widgets/controls",
            "_view_module_version": "1.5.0",
            "_view_name": "HBoxView",
            "box_style": "",
            "children": [
              "IPY_MODEL_202e052fb67e4e2fadc2e79d3d10ee83",
              "IPY_MODEL_d06d673912ba42a19fb755a434d37750",
              "IPY_MODEL_2d58ac5437e042438800ddece26c985d"
            ],
            "layout": "IPY_MODEL_535b0971305e44a9afe579cc7d7cc81d"
          }
        },
        "202e052fb67e4e2fadc2e79d3d10ee83": {
          "model_module": "@jupyter-widgets/controls",
          "model_name": "HTMLModel",
          "model_module_version": "1.5.0",
          "state": {
            "_dom_classes": [],
            "_model_module": "@jupyter-widgets/controls",
            "_model_module_version": "1.5.0",
            "_model_name": "HTMLModel",
            "_view_count": null,
            "_view_module": "@jupyter-widgets/controls",
            "_view_module_version": "1.5.0",
            "_view_name": "HTMLView",
            "description": "",
            "description_tooltip": null,
            "layout": "IPY_MODEL_d22e0edfd7ed4e93991ac2c631ccefa8",
            "placeholder": "​",
            "style": "IPY_MODEL_9cc1f3ea81b84adca3f7fd1e909dc5c9",
            "value": "Downloading (…)solve/main/vocab.txt: 100%"
          }
        },
        "d06d673912ba42a19fb755a434d37750": {
          "model_module": "@jupyter-widgets/controls",
          "model_name": "FloatProgressModel",
          "model_module_version": "1.5.0",
          "state": {
            "_dom_classes": [],
            "_model_module": "@jupyter-widgets/controls",
            "_model_module_version": "1.5.0",
            "_model_name": "FloatProgressModel",
            "_view_count": null,
            "_view_module": "@jupyter-widgets/controls",
            "_view_module_version": "1.5.0",
            "_view_name": "ProgressView",
            "bar_style": "success",
            "description": "",
            "description_tooltip": null,
            "layout": "IPY_MODEL_7b0166b786c749369f44384783fe52c2",
            "max": 231508,
            "min": 0,
            "orientation": "horizontal",
            "style": "IPY_MODEL_0f2aba414ca9458b8dc3b8ed92edb14d",
            "value": 231508
          }
        },
        "2d58ac5437e042438800ddece26c985d": {
          "model_module": "@jupyter-widgets/controls",
          "model_name": "HTMLModel",
          "model_module_version": "1.5.0",
          "state": {
            "_dom_classes": [],
            "_model_module": "@jupyter-widgets/controls",
            "_model_module_version": "1.5.0",
            "_model_name": "HTMLModel",
            "_view_count": null,
            "_view_module": "@jupyter-widgets/controls",
            "_view_module_version": "1.5.0",
            "_view_name": "HTMLView",
            "description": "",
            "description_tooltip": null,
            "layout": "IPY_MODEL_09b9a885f11c4e4aacc4c6b9eb83eff9",
            "placeholder": "​",
            "style": "IPY_MODEL_61b62b3cf76e4a238ed0cbc5821bca0d",
            "value": " 232k/232k [00:00&lt;00:00, 7.80MB/s]"
          }
        },
        "535b0971305e44a9afe579cc7d7cc81d": {
          "model_module": "@jupyter-widgets/base",
          "model_name": "LayoutModel",
          "model_module_version": "1.2.0",
          "state": {
            "_model_module": "@jupyter-widgets/base",
            "_model_module_version": "1.2.0",
            "_model_name": "LayoutModel",
            "_view_count": null,
            "_view_module": "@jupyter-widgets/base",
            "_view_module_version": "1.2.0",
            "_view_name": "LayoutView",
            "align_content": null,
            "align_items": null,
            "align_self": null,
            "border": null,
            "bottom": null,
            "display": null,
            "flex": null,
            "flex_flow": null,
            "grid_area": null,
            "grid_auto_columns": null,
            "grid_auto_flow": null,
            "grid_auto_rows": null,
            "grid_column": null,
            "grid_gap": null,
            "grid_row": null,
            "grid_template_areas": null,
            "grid_template_columns": null,
            "grid_template_rows": null,
            "height": null,
            "justify_content": null,
            "justify_items": null,
            "left": null,
            "margin": null,
            "max_height": null,
            "max_width": null,
            "min_height": null,
            "min_width": null,
            "object_fit": null,
            "object_position": null,
            "order": null,
            "overflow": null,
            "overflow_x": null,
            "overflow_y": null,
            "padding": null,
            "right": null,
            "top": null,
            "visibility": null,
            "width": null
          }
        },
        "d22e0edfd7ed4e93991ac2c631ccefa8": {
          "model_module": "@jupyter-widgets/base",
          "model_name": "LayoutModel",
          "model_module_version": "1.2.0",
          "state": {
            "_model_module": "@jupyter-widgets/base",
            "_model_module_version": "1.2.0",
            "_model_name": "LayoutModel",
            "_view_count": null,
            "_view_module": "@jupyter-widgets/base",
            "_view_module_version": "1.2.0",
            "_view_name": "LayoutView",
            "align_content": null,
            "align_items": null,
            "align_self": null,
            "border": null,
            "bottom": null,
            "display": null,
            "flex": null,
            "flex_flow": null,
            "grid_area": null,
            "grid_auto_columns": null,
            "grid_auto_flow": null,
            "grid_auto_rows": null,
            "grid_column": null,
            "grid_gap": null,
            "grid_row": null,
            "grid_template_areas": null,
            "grid_template_columns": null,
            "grid_template_rows": null,
            "height": null,
            "justify_content": null,
            "justify_items": null,
            "left": null,
            "margin": null,
            "max_height": null,
            "max_width": null,
            "min_height": null,
            "min_width": null,
            "object_fit": null,
            "object_position": null,
            "order": null,
            "overflow": null,
            "overflow_x": null,
            "overflow_y": null,
            "padding": null,
            "right": null,
            "top": null,
            "visibility": null,
            "width": null
          }
        },
        "9cc1f3ea81b84adca3f7fd1e909dc5c9": {
          "model_module": "@jupyter-widgets/controls",
          "model_name": "DescriptionStyleModel",
          "model_module_version": "1.5.0",
          "state": {
            "_model_module": "@jupyter-widgets/controls",
            "_model_module_version": "1.5.0",
            "_model_name": "DescriptionStyleModel",
            "_view_count": null,
            "_view_module": "@jupyter-widgets/base",
            "_view_module_version": "1.2.0",
            "_view_name": "StyleView",
            "description_width": ""
          }
        },
        "7b0166b786c749369f44384783fe52c2": {
          "model_module": "@jupyter-widgets/base",
          "model_name": "LayoutModel",
          "model_module_version": "1.2.0",
          "state": {
            "_model_module": "@jupyter-widgets/base",
            "_model_module_version": "1.2.0",
            "_model_name": "LayoutModel",
            "_view_count": null,
            "_view_module": "@jupyter-widgets/base",
            "_view_module_version": "1.2.0",
            "_view_name": "LayoutView",
            "align_content": null,
            "align_items": null,
            "align_self": null,
            "border": null,
            "bottom": null,
            "display": null,
            "flex": null,
            "flex_flow": null,
            "grid_area": null,
            "grid_auto_columns": null,
            "grid_auto_flow": null,
            "grid_auto_rows": null,
            "grid_column": null,
            "grid_gap": null,
            "grid_row": null,
            "grid_template_areas": null,
            "grid_template_columns": null,
            "grid_template_rows": null,
            "height": null,
            "justify_content": null,
            "justify_items": null,
            "left": null,
            "margin": null,
            "max_height": null,
            "max_width": null,
            "min_height": null,
            "min_width": null,
            "object_fit": null,
            "object_position": null,
            "order": null,
            "overflow": null,
            "overflow_x": null,
            "overflow_y": null,
            "padding": null,
            "right": null,
            "top": null,
            "visibility": null,
            "width": null
          }
        },
        "0f2aba414ca9458b8dc3b8ed92edb14d": {
          "model_module": "@jupyter-widgets/controls",
          "model_name": "ProgressStyleModel",
          "model_module_version": "1.5.0",
          "state": {
            "_model_module": "@jupyter-widgets/controls",
            "_model_module_version": "1.5.0",
            "_model_name": "ProgressStyleModel",
            "_view_count": null,
            "_view_module": "@jupyter-widgets/base",
            "_view_module_version": "1.2.0",
            "_view_name": "StyleView",
            "bar_color": null,
            "description_width": ""
          }
        },
        "09b9a885f11c4e4aacc4c6b9eb83eff9": {
          "model_module": "@jupyter-widgets/base",
          "model_name": "LayoutModel",
          "model_module_version": "1.2.0",
          "state": {
            "_model_module": "@jupyter-widgets/base",
            "_model_module_version": "1.2.0",
            "_model_name": "LayoutModel",
            "_view_count": null,
            "_view_module": "@jupyter-widgets/base",
            "_view_module_version": "1.2.0",
            "_view_name": "LayoutView",
            "align_content": null,
            "align_items": null,
            "align_self": null,
            "border": null,
            "bottom": null,
            "display": null,
            "flex": null,
            "flex_flow": null,
            "grid_area": null,
            "grid_auto_columns": null,
            "grid_auto_flow": null,
            "grid_auto_rows": null,
            "grid_column": null,
            "grid_gap": null,
            "grid_row": null,
            "grid_template_areas": null,
            "grid_template_columns": null,
            "grid_template_rows": null,
            "height": null,
            "justify_content": null,
            "justify_items": null,
            "left": null,
            "margin": null,
            "max_height": null,
            "max_width": null,
            "min_height": null,
            "min_width": null,
            "object_fit": null,
            "object_position": null,
            "order": null,
            "overflow": null,
            "overflow_x": null,
            "overflow_y": null,
            "padding": null,
            "right": null,
            "top": null,
            "visibility": null,
            "width": null
          }
        },
        "61b62b3cf76e4a238ed0cbc5821bca0d": {
          "model_module": "@jupyter-widgets/controls",
          "model_name": "DescriptionStyleModel",
          "model_module_version": "1.5.0",
          "state": {
            "_model_module": "@jupyter-widgets/controls",
            "_model_module_version": "1.5.0",
            "_model_name": "DescriptionStyleModel",
            "_view_count": null,
            "_view_module": "@jupyter-widgets/base",
            "_view_module_version": "1.2.0",
            "_view_name": "StyleView",
            "description_width": ""
          }
        },
        "ad4fb0fcde1048439e1b3fb0267c734d": {
          "model_module": "@jupyter-widgets/controls",
          "model_name": "HBoxModel",
          "model_module_version": "1.5.0",
          "state": {
            "_dom_classes": [],
            "_model_module": "@jupyter-widgets/controls",
            "_model_module_version": "1.5.0",
            "_model_name": "HBoxModel",
            "_view_count": null,
            "_view_module": "@jupyter-widgets/controls",
            "_view_module_version": "1.5.0",
            "_view_name": "HBoxView",
            "box_style": "",
            "children": [
              "IPY_MODEL_df321d6052af42b7825af8182b386044",
              "IPY_MODEL_4dc4692be5ec4455b2bcfc7a89ec52c8",
              "IPY_MODEL_c8a0d20a2fa24b99b4d4dc9bfe2455e0"
            ],
            "layout": "IPY_MODEL_fa1773cef8314eaaaf0691341e2c4ee9"
          }
        },
        "df321d6052af42b7825af8182b386044": {
          "model_module": "@jupyter-widgets/controls",
          "model_name": "HTMLModel",
          "model_module_version": "1.5.0",
          "state": {
            "_dom_classes": [],
            "_model_module": "@jupyter-widgets/controls",
            "_model_module_version": "1.5.0",
            "_model_name": "HTMLModel",
            "_view_count": null,
            "_view_module": "@jupyter-widgets/controls",
            "_view_module_version": "1.5.0",
            "_view_name": "HTMLView",
            "description": "",
            "description_tooltip": null,
            "layout": "IPY_MODEL_8a7b66b303834eb598e1dc9902305fcc",
            "placeholder": "​",
            "style": "IPY_MODEL_a5384a36204a4aa39f904e88df2d9a35",
            "value": "Downloading (…)/main/tokenizer.json: 100%"
          }
        },
        "4dc4692be5ec4455b2bcfc7a89ec52c8": {
          "model_module": "@jupyter-widgets/controls",
          "model_name": "FloatProgressModel",
          "model_module_version": "1.5.0",
          "state": {
            "_dom_classes": [],
            "_model_module": "@jupyter-widgets/controls",
            "_model_module_version": "1.5.0",
            "_model_name": "FloatProgressModel",
            "_view_count": null,
            "_view_module": "@jupyter-widgets/controls",
            "_view_module_version": "1.5.0",
            "_view_name": "ProgressView",
            "bar_style": "success",
            "description": "",
            "description_tooltip": null,
            "layout": "IPY_MODEL_dc18c90a04c042d5960c08889402e404",
            "max": 466062,
            "min": 0,
            "orientation": "horizontal",
            "style": "IPY_MODEL_a65263d1053447d19c1a40269b550df4",
            "value": 466062
          }
        },
        "c8a0d20a2fa24b99b4d4dc9bfe2455e0": {
          "model_module": "@jupyter-widgets/controls",
          "model_name": "HTMLModel",
          "model_module_version": "1.5.0",
          "state": {
            "_dom_classes": [],
            "_model_module": "@jupyter-widgets/controls",
            "_model_module_version": "1.5.0",
            "_model_name": "HTMLModel",
            "_view_count": null,
            "_view_module": "@jupyter-widgets/controls",
            "_view_module_version": "1.5.0",
            "_view_name": "HTMLView",
            "description": "",
            "description_tooltip": null,
            "layout": "IPY_MODEL_ab3d6bc0262f4849bfd5b8ccd8a6aa4c",
            "placeholder": "​",
            "style": "IPY_MODEL_0252f4eb03f74e24ba15d2ab509a5ea3",
            "value": " 466k/466k [00:00&lt;00:00, 1.13MB/s]"
          }
        },
        "fa1773cef8314eaaaf0691341e2c4ee9": {
          "model_module": "@jupyter-widgets/base",
          "model_name": "LayoutModel",
          "model_module_version": "1.2.0",
          "state": {
            "_model_module": "@jupyter-widgets/base",
            "_model_module_version": "1.2.0",
            "_model_name": "LayoutModel",
            "_view_count": null,
            "_view_module": "@jupyter-widgets/base",
            "_view_module_version": "1.2.0",
            "_view_name": "LayoutView",
            "align_content": null,
            "align_items": null,
            "align_self": null,
            "border": null,
            "bottom": null,
            "display": null,
            "flex": null,
            "flex_flow": null,
            "grid_area": null,
            "grid_auto_columns": null,
            "grid_auto_flow": null,
            "grid_auto_rows": null,
            "grid_column": null,
            "grid_gap": null,
            "grid_row": null,
            "grid_template_areas": null,
            "grid_template_columns": null,
            "grid_template_rows": null,
            "height": null,
            "justify_content": null,
            "justify_items": null,
            "left": null,
            "margin": null,
            "max_height": null,
            "max_width": null,
            "min_height": null,
            "min_width": null,
            "object_fit": null,
            "object_position": null,
            "order": null,
            "overflow": null,
            "overflow_x": null,
            "overflow_y": null,
            "padding": null,
            "right": null,
            "top": null,
            "visibility": null,
            "width": null
          }
        },
        "8a7b66b303834eb598e1dc9902305fcc": {
          "model_module": "@jupyter-widgets/base",
          "model_name": "LayoutModel",
          "model_module_version": "1.2.0",
          "state": {
            "_model_module": "@jupyter-widgets/base",
            "_model_module_version": "1.2.0",
            "_model_name": "LayoutModel",
            "_view_count": null,
            "_view_module": "@jupyter-widgets/base",
            "_view_module_version": "1.2.0",
            "_view_name": "LayoutView",
            "align_content": null,
            "align_items": null,
            "align_self": null,
            "border": null,
            "bottom": null,
            "display": null,
            "flex": null,
            "flex_flow": null,
            "grid_area": null,
            "grid_auto_columns": null,
            "grid_auto_flow": null,
            "grid_auto_rows": null,
            "grid_column": null,
            "grid_gap": null,
            "grid_row": null,
            "grid_template_areas": null,
            "grid_template_columns": null,
            "grid_template_rows": null,
            "height": null,
            "justify_content": null,
            "justify_items": null,
            "left": null,
            "margin": null,
            "max_height": null,
            "max_width": null,
            "min_height": null,
            "min_width": null,
            "object_fit": null,
            "object_position": null,
            "order": null,
            "overflow": null,
            "overflow_x": null,
            "overflow_y": null,
            "padding": null,
            "right": null,
            "top": null,
            "visibility": null,
            "width": null
          }
        },
        "a5384a36204a4aa39f904e88df2d9a35": {
          "model_module": "@jupyter-widgets/controls",
          "model_name": "DescriptionStyleModel",
          "model_module_version": "1.5.0",
          "state": {
            "_model_module": "@jupyter-widgets/controls",
            "_model_module_version": "1.5.0",
            "_model_name": "DescriptionStyleModel",
            "_view_count": null,
            "_view_module": "@jupyter-widgets/base",
            "_view_module_version": "1.2.0",
            "_view_name": "StyleView",
            "description_width": ""
          }
        },
        "dc18c90a04c042d5960c08889402e404": {
          "model_module": "@jupyter-widgets/base",
          "model_name": "LayoutModel",
          "model_module_version": "1.2.0",
          "state": {
            "_model_module": "@jupyter-widgets/base",
            "_model_module_version": "1.2.0",
            "_model_name": "LayoutModel",
            "_view_count": null,
            "_view_module": "@jupyter-widgets/base",
            "_view_module_version": "1.2.0",
            "_view_name": "LayoutView",
            "align_content": null,
            "align_items": null,
            "align_self": null,
            "border": null,
            "bottom": null,
            "display": null,
            "flex": null,
            "flex_flow": null,
            "grid_area": null,
            "grid_auto_columns": null,
            "grid_auto_flow": null,
            "grid_auto_rows": null,
            "grid_column": null,
            "grid_gap": null,
            "grid_row": null,
            "grid_template_areas": null,
            "grid_template_columns": null,
            "grid_template_rows": null,
            "height": null,
            "justify_content": null,
            "justify_items": null,
            "left": null,
            "margin": null,
            "max_height": null,
            "max_width": null,
            "min_height": null,
            "min_width": null,
            "object_fit": null,
            "object_position": null,
            "order": null,
            "overflow": null,
            "overflow_x": null,
            "overflow_y": null,
            "padding": null,
            "right": null,
            "top": null,
            "visibility": null,
            "width": null
          }
        },
        "a65263d1053447d19c1a40269b550df4": {
          "model_module": "@jupyter-widgets/controls",
          "model_name": "ProgressStyleModel",
          "model_module_version": "1.5.0",
          "state": {
            "_model_module": "@jupyter-widgets/controls",
            "_model_module_version": "1.5.0",
            "_model_name": "ProgressStyleModel",
            "_view_count": null,
            "_view_module": "@jupyter-widgets/base",
            "_view_module_version": "1.2.0",
            "_view_name": "StyleView",
            "bar_color": null,
            "description_width": ""
          }
        },
        "ab3d6bc0262f4849bfd5b8ccd8a6aa4c": {
          "model_module": "@jupyter-widgets/base",
          "model_name": "LayoutModel",
          "model_module_version": "1.2.0",
          "state": {
            "_model_module": "@jupyter-widgets/base",
            "_model_module_version": "1.2.0",
            "_model_name": "LayoutModel",
            "_view_count": null,
            "_view_module": "@jupyter-widgets/base",
            "_view_module_version": "1.2.0",
            "_view_name": "LayoutView",
            "align_content": null,
            "align_items": null,
            "align_self": null,
            "border": null,
            "bottom": null,
            "display": null,
            "flex": null,
            "flex_flow": null,
            "grid_area": null,
            "grid_auto_columns": null,
            "grid_auto_flow": null,
            "grid_auto_rows": null,
            "grid_column": null,
            "grid_gap": null,
            "grid_row": null,
            "grid_template_areas": null,
            "grid_template_columns": null,
            "grid_template_rows": null,
            "height": null,
            "justify_content": null,
            "justify_items": null,
            "left": null,
            "margin": null,
            "max_height": null,
            "max_width": null,
            "min_height": null,
            "min_width": null,
            "object_fit": null,
            "object_position": null,
            "order": null,
            "overflow": null,
            "overflow_x": null,
            "overflow_y": null,
            "padding": null,
            "right": null,
            "top": null,
            "visibility": null,
            "width": null
          }
        },
        "0252f4eb03f74e24ba15d2ab509a5ea3": {
          "model_module": "@jupyter-widgets/controls",
          "model_name": "DescriptionStyleModel",
          "model_module_version": "1.5.0",
          "state": {
            "_model_module": "@jupyter-widgets/controls",
            "_model_module_version": "1.5.0",
            "_model_name": "DescriptionStyleModel",
            "_view_count": null,
            "_view_module": "@jupyter-widgets/base",
            "_view_module_version": "1.2.0",
            "_view_name": "StyleView",
            "description_width": ""
          }
        },
        "e22f2b23dd21414988a145a12ac8bce7": {
          "model_module": "@jupyter-widgets/controls",
          "model_name": "HBoxModel",
          "model_module_version": "1.5.0",
          "state": {
            "_dom_classes": [],
            "_model_module": "@jupyter-widgets/controls",
            "_model_module_version": "1.5.0",
            "_model_name": "HBoxModel",
            "_view_count": null,
            "_view_module": "@jupyter-widgets/controls",
            "_view_module_version": "1.5.0",
            "_view_name": "HBoxView",
            "box_style": "",
            "children": [
              "IPY_MODEL_16d334e7d7194c1f85b86fdf6d52330b",
              "IPY_MODEL_96297f0b2bcb4db1b2b6b41a94efd50b",
              "IPY_MODEL_f66bb9ddee5c4732ba4cbb69bdbebaf5"
            ],
            "layout": "IPY_MODEL_d454a1a1ea5c47578dc69fd8ea63370a"
          }
        },
        "16d334e7d7194c1f85b86fdf6d52330b": {
          "model_module": "@jupyter-widgets/controls",
          "model_name": "HTMLModel",
          "model_module_version": "1.5.0",
          "state": {
            "_dom_classes": [],
            "_model_module": "@jupyter-widgets/controls",
            "_model_module_version": "1.5.0",
            "_model_name": "HTMLModel",
            "_view_count": null,
            "_view_module": "@jupyter-widgets/controls",
            "_view_module_version": "1.5.0",
            "_view_name": "HTMLView",
            "description": "",
            "description_tooltip": null,
            "layout": "IPY_MODEL_ebbd672c49f34cc194153d8ab2bb5d1f",
            "placeholder": "​",
            "style": "IPY_MODEL_2385b089702249f8bffd1aa38f65011f",
            "value": "Downloading pytorch_model.bin: 100%"
          }
        },
        "96297f0b2bcb4db1b2b6b41a94efd50b": {
          "model_module": "@jupyter-widgets/controls",
          "model_name": "FloatProgressModel",
          "model_module_version": "1.5.0",
          "state": {
            "_dom_classes": [],
            "_model_module": "@jupyter-widgets/controls",
            "_model_module_version": "1.5.0",
            "_model_name": "FloatProgressModel",
            "_view_count": null,
            "_view_module": "@jupyter-widgets/controls",
            "_view_module_version": "1.5.0",
            "_view_name": "ProgressView",
            "bar_style": "success",
            "description": "",
            "description_tooltip": null,
            "layout": "IPY_MODEL_05194eda1a43477c95bc96abbaf1772d",
            "max": 440473133,
            "min": 0,
            "orientation": "horizontal",
            "style": "IPY_MODEL_99026f8e71e5489cb3905a028403c1b7",
            "value": 440473133
          }
        },
        "f66bb9ddee5c4732ba4cbb69bdbebaf5": {
          "model_module": "@jupyter-widgets/controls",
          "model_name": "HTMLModel",
          "model_module_version": "1.5.0",
          "state": {
            "_dom_classes": [],
            "_model_module": "@jupyter-widgets/controls",
            "_model_module_version": "1.5.0",
            "_model_name": "HTMLModel",
            "_view_count": null,
            "_view_module": "@jupyter-widgets/controls",
            "_view_module_version": "1.5.0",
            "_view_name": "HTMLView",
            "description": "",
            "description_tooltip": null,
            "layout": "IPY_MODEL_ffac1df949de4e099d40cfb381859138",
            "placeholder": "​",
            "style": "IPY_MODEL_962849fe6a11450aba616d5b9253f9a6",
            "value": " 440M/440M [00:01&lt;00:00, 345MB/s]"
          }
        },
        "d454a1a1ea5c47578dc69fd8ea63370a": {
          "model_module": "@jupyter-widgets/base",
          "model_name": "LayoutModel",
          "model_module_version": "1.2.0",
          "state": {
            "_model_module": "@jupyter-widgets/base",
            "_model_module_version": "1.2.0",
            "_model_name": "LayoutModel",
            "_view_count": null,
            "_view_module": "@jupyter-widgets/base",
            "_view_module_version": "1.2.0",
            "_view_name": "LayoutView",
            "align_content": null,
            "align_items": null,
            "align_self": null,
            "border": null,
            "bottom": null,
            "display": null,
            "flex": null,
            "flex_flow": null,
            "grid_area": null,
            "grid_auto_columns": null,
            "grid_auto_flow": null,
            "grid_auto_rows": null,
            "grid_column": null,
            "grid_gap": null,
            "grid_row": null,
            "grid_template_areas": null,
            "grid_template_columns": null,
            "grid_template_rows": null,
            "height": null,
            "justify_content": null,
            "justify_items": null,
            "left": null,
            "margin": null,
            "max_height": null,
            "max_width": null,
            "min_height": null,
            "min_width": null,
            "object_fit": null,
            "object_position": null,
            "order": null,
            "overflow": null,
            "overflow_x": null,
            "overflow_y": null,
            "padding": null,
            "right": null,
            "top": null,
            "visibility": null,
            "width": null
          }
        },
        "ebbd672c49f34cc194153d8ab2bb5d1f": {
          "model_module": "@jupyter-widgets/base",
          "model_name": "LayoutModel",
          "model_module_version": "1.2.0",
          "state": {
            "_model_module": "@jupyter-widgets/base",
            "_model_module_version": "1.2.0",
            "_model_name": "LayoutModel",
            "_view_count": null,
            "_view_module": "@jupyter-widgets/base",
            "_view_module_version": "1.2.0",
            "_view_name": "LayoutView",
            "align_content": null,
            "align_items": null,
            "align_self": null,
            "border": null,
            "bottom": null,
            "display": null,
            "flex": null,
            "flex_flow": null,
            "grid_area": null,
            "grid_auto_columns": null,
            "grid_auto_flow": null,
            "grid_auto_rows": null,
            "grid_column": null,
            "grid_gap": null,
            "grid_row": null,
            "grid_template_areas": null,
            "grid_template_columns": null,
            "grid_template_rows": null,
            "height": null,
            "justify_content": null,
            "justify_items": null,
            "left": null,
            "margin": null,
            "max_height": null,
            "max_width": null,
            "min_height": null,
            "min_width": null,
            "object_fit": null,
            "object_position": null,
            "order": null,
            "overflow": null,
            "overflow_x": null,
            "overflow_y": null,
            "padding": null,
            "right": null,
            "top": null,
            "visibility": null,
            "width": null
          }
        },
        "2385b089702249f8bffd1aa38f65011f": {
          "model_module": "@jupyter-widgets/controls",
          "model_name": "DescriptionStyleModel",
          "model_module_version": "1.5.0",
          "state": {
            "_model_module": "@jupyter-widgets/controls",
            "_model_module_version": "1.5.0",
            "_model_name": "DescriptionStyleModel",
            "_view_count": null,
            "_view_module": "@jupyter-widgets/base",
            "_view_module_version": "1.2.0",
            "_view_name": "StyleView",
            "description_width": ""
          }
        },
        "05194eda1a43477c95bc96abbaf1772d": {
          "model_module": "@jupyter-widgets/base",
          "model_name": "LayoutModel",
          "model_module_version": "1.2.0",
          "state": {
            "_model_module": "@jupyter-widgets/base",
            "_model_module_version": "1.2.0",
            "_model_name": "LayoutModel",
            "_view_count": null,
            "_view_module": "@jupyter-widgets/base",
            "_view_module_version": "1.2.0",
            "_view_name": "LayoutView",
            "align_content": null,
            "align_items": null,
            "align_self": null,
            "border": null,
            "bottom": null,
            "display": null,
            "flex": null,
            "flex_flow": null,
            "grid_area": null,
            "grid_auto_columns": null,
            "grid_auto_flow": null,
            "grid_auto_rows": null,
            "grid_column": null,
            "grid_gap": null,
            "grid_row": null,
            "grid_template_areas": null,
            "grid_template_columns": null,
            "grid_template_rows": null,
            "height": null,
            "justify_content": null,
            "justify_items": null,
            "left": null,
            "margin": null,
            "max_height": null,
            "max_width": null,
            "min_height": null,
            "min_width": null,
            "object_fit": null,
            "object_position": null,
            "order": null,
            "overflow": null,
            "overflow_x": null,
            "overflow_y": null,
            "padding": null,
            "right": null,
            "top": null,
            "visibility": null,
            "width": null
          }
        },
        "99026f8e71e5489cb3905a028403c1b7": {
          "model_module": "@jupyter-widgets/controls",
          "model_name": "ProgressStyleModel",
          "model_module_version": "1.5.0",
          "state": {
            "_model_module": "@jupyter-widgets/controls",
            "_model_module_version": "1.5.0",
            "_model_name": "ProgressStyleModel",
            "_view_count": null,
            "_view_module": "@jupyter-widgets/base",
            "_view_module_version": "1.2.0",
            "_view_name": "StyleView",
            "bar_color": null,
            "description_width": ""
          }
        },
        "ffac1df949de4e099d40cfb381859138": {
          "model_module": "@jupyter-widgets/base",
          "model_name": "LayoutModel",
          "model_module_version": "1.2.0",
          "state": {
            "_model_module": "@jupyter-widgets/base",
            "_model_module_version": "1.2.0",
            "_model_name": "LayoutModel",
            "_view_count": null,
            "_view_module": "@jupyter-widgets/base",
            "_view_module_version": "1.2.0",
            "_view_name": "LayoutView",
            "align_content": null,
            "align_items": null,
            "align_self": null,
            "border": null,
            "bottom": null,
            "display": null,
            "flex": null,
            "flex_flow": null,
            "grid_area": null,
            "grid_auto_columns": null,
            "grid_auto_flow": null,
            "grid_auto_rows": null,
            "grid_column": null,
            "grid_gap": null,
            "grid_row": null,
            "grid_template_areas": null,
            "grid_template_columns": null,
            "grid_template_rows": null,
            "height": null,
            "justify_content": null,
            "justify_items": null,
            "left": null,
            "margin": null,
            "max_height": null,
            "max_width": null,
            "min_height": null,
            "min_width": null,
            "object_fit": null,
            "object_position": null,
            "order": null,
            "overflow": null,
            "overflow_x": null,
            "overflow_y": null,
            "padding": null,
            "right": null,
            "top": null,
            "visibility": null,
            "width": null
          }
        },
        "962849fe6a11450aba616d5b9253f9a6": {
          "model_module": "@jupyter-widgets/controls",
          "model_name": "DescriptionStyleModel",
          "model_module_version": "1.5.0",
          "state": {
            "_model_module": "@jupyter-widgets/controls",
            "_model_module_version": "1.5.0",
            "_model_name": "DescriptionStyleModel",
            "_view_count": null,
            "_view_module": "@jupyter-widgets/base",
            "_view_module_version": "1.2.0",
            "_view_name": "StyleView",
            "description_width": ""
          }
        }
      }
    }
  },
  "nbformat": 4,
  "nbformat_minor": 0
}